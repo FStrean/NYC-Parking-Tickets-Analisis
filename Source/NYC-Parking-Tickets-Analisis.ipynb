{
 "cells": [
  {
   "cell_type": "markdown",
   "id": "c3ca183f",
   "metadata": {},
   "source": [
    "# Развёртывание датасета"
   ]
  },
  {
   "cell_type": "markdown",
   "id": "905cd898",
   "metadata": {},
   "source": [
    "Устанавливаем pipenv и создаем виртуальную среду, затем устанавливаем необходимые библиотеки в этой среде"
   ]
  },
  {
   "cell_type": "code",
   "execution_count": 1,
   "id": "d33e40ef",
   "metadata": {
    "scrolled": true
   },
   "outputs": [
    {
     "name": "stdout",
     "output_type": "stream",
     "text": [
      "Requirement already satisfied: pipenv in c:\\users\\sandor\\appdata\\local\\programs\\python\\python39\\lib\\site-packages (2022.1.8)\n",
      "Requirement already satisfied: pip>=18.0 in c:\\users\\sandor\\appdata\\local\\programs\\python\\python39\\lib\\site-packages (from pipenv) (22.0.4)\n",
      "Requirement already satisfied: certifi in c:\\users\\sandor\\appdata\\local\\programs\\python\\python39\\lib\\site-packages (from pipenv) (2021.10.8)\n",
      "Requirement already satisfied: setuptools>=36.2.1 in c:\\users\\sandor\\appdata\\local\\programs\\python\\python39\\lib\\site-packages (from pipenv) (49.2.1)\n",
      "Requirement already satisfied: virtualenv-clone>=0.2.5 in c:\\users\\sandor\\appdata\\local\\programs\\python\\python39\\lib\\site-packages (from pipenv) (0.5.7)\n",
      "Requirement already satisfied: virtualenv in c:\\users\\sandor\\appdata\\local\\programs\\python\\python39\\lib\\site-packages (from pipenv) (20.13.0)\n",
      "Requirement already satisfied: platformdirs<3,>=2 in c:\\users\\sandor\\appdata\\local\\programs\\python\\python39\\lib\\site-packages (from virtualenv->pipenv) (2.4.1)\n",
      "Requirement already satisfied: six<2,>=1.9.0 in c:\\users\\sandor\\appdata\\roaming\\python\\python39\\site-packages (from virtualenv->pipenv) (1.15.0)\n",
      "Requirement already satisfied: filelock<4,>=3.2 in c:\\users\\sandor\\appdata\\local\\programs\\python\\python39\\lib\\site-packages (from virtualenv->pipenv) (3.4.2)\n",
      "Requirement already satisfied: distlib<1,>=0.3.1 in c:\\users\\sandor\\appdata\\local\\programs\\python\\python39\\lib\\site-packages (from virtualenv->pipenv) (0.3.4)\n",
      "Installing pandas...\n",
      "\n",
      "Installing dependencies from Pipfile.lock (5de21f)...\n",
      "To activate this project's virtualenv, run pipenv shell.\n",
      "Alternatively, run a command inside the virtualenv with pipenv run.\n"
     ]
    },
    {
     "name": "stderr",
     "output_type": "stream",
     "text": [
      "\n",
      "[    ] Installing...\b\n",
      "[=   ] Installing pandas...\b\n",
      "[==  ] Installing pandas...\b\n",
      "[=== ] Installing pandas...\b\n",
      "[ ===] Installing pandas...\b\n",
      "[  ==] Installing pandas...\b\n",
      "[   =] Installing pandas...\b\n",
      "[    ] Installing pandas...\b\n",
      "[   =] Installing pandas...\b\n",
      "[  ==] Installing pandas...\b\n",
      "[ ===] Installing pandas...\b\n",
      "[====] Installing pandas...\b\n",
      "[=== ] Installing pandas...\b\n",
      "[==  ] Installing pandas...\b\n",
      "[=   ] Installing pandas...\b\n",
      "[    ] Installing pandas...\b\n",
      "[=   ] Installing pandas...\b\n",
      "[==  ] Installing pandas...\b\n",
      "[=== ] Installing pandas...\b\n",
      "[ ===] Installing pandas...\b\n",
      "[  ==] Installing pandas...\b\n",
      "[   =] Installing pandas...\b\n",
      "[    ] Installing pandas...\n",
      "Adding pandas to Pipfile's [packages]...\n",
      "\bInstallation Succeeded \n"
     ]
    },
    {
     "name": "stdout",
     "output_type": "stream",
     "text": [
      "Installing numpy...\n",
      "\n",
      "Installing dependencies from Pipfile.lock (074cd0)...\n",
      "To activate this project's virtualenv, run pipenv shell.\n",
      "Alternatively, run a command inside the virtualenv with pipenv run.\n"
     ]
    },
    {
     "name": "stderr",
     "output_type": "stream",
     "text": [
      "\n",
      "[    ] Installing..\n",
      "[=   ] Installing numpy..\n",
      "[==  ] Installing numpy..\n",
      "[=== ] Installing numpy..\n",
      "[ ===] Installing numpy..\n",
      "[  ==] Installing numpy..\n",
      "[   =] Installing numpy..\n",
      "[    ] Installing numpy..\n",
      "[   =] Installing numpy..\n",
      "[  ==] Installing numpy..\n",
      "[ ===] Installing numpy..\n",
      "[====] Installing numpy..\n",
      "[=== ] Installing numpy..\n",
      "[==  ] Installing numpy..\n",
      "[=   ] Installing numpy..\n",
      "[    ] Installing numpy..\n",
      "[=   ] Installing numpy..\n",
      "[==  ] Installing numpy..\n",
      "[=== ] Installing numpy..\n",
      "[ ===] Installing numpy..\n",
      "[  ==] Installing numpy...\n",
      "Adding numpy to Pipfile's [packages]...\n",
      "\bInstallation Succeeded \n",
      "Pipfile.lock (5de21f) out of date, updating to (074cd0)...\n",
      "Locking [dev-packages] dependencies...\n",
      "Locking [packages] dependencies...\n",
      "\n",
      "[    ] Locking...\n",
      "Building requirements...\n",
      "\n",
      "Resolving dependencies...\n",
      "\b\n",
      "[=   ] Locking..\n",
      "[==  ] Locking..\n",
      "[=== ] Locking..\n",
      "[ ===] Locking..\n",
      "[  ==] Locking..\n",
      "[   =] Locking..\n",
      "[    ] Locking..\n",
      "[   =] Locking..\n",
      "[  ==] Locking..\n",
      "[ ===] Locking..\n",
      "[====] Locking..\n",
      "[=== ] Locking..\n",
      "[==  ] Locking..\n",
      "[=   ] Locking..\n",
      "[    ] Locking..\n",
      "[=   ] Locking..\n",
      "[==  ] Locking..\n",
      "[=== ] Locking..\n",
      "[ ===] Locking..\n",
      "[  ==] Locking..\n",
      "[   =] Locking..\n",
      "[    ] Locking..\n",
      "[   =] Locking..\n",
      "[  ==] Locking..\n",
      "[ ===] Locking..\n",
      "[====] Locking..\n",
      "[=== ] Locking..\n",
      "[==  ] Locking..\n",
      "[=   ] Locking..\n",
      "[    ] Locking..\n",
      "[=   ] Locking..\n",
      "[==  ] Locking..\n",
      "[=== ] Locking..\n",
      "[ ===] Locking..\n",
      "[  ==] Locking..\n",
      "[   =] Locking..\n",
      "[    ] Locking..\n",
      "[   =] Locking..\n",
      "[  ==] Locking..\n",
      "[ ===] Locking..\n",
      "[====] Locking..\n",
      "[=== ] Locking..\n",
      "[==  ] Locking..\n",
      "[=   ] Locking..\n",
      "[    ] Locking..\n",
      "[=   ] Locking..Success! \n",
      "Updated Pipfile.lock (074cd0)!\n"
     ]
    },
    {
     "name": "stdout",
     "output_type": "stream",
     "text": [
      "Installing matplotlib...\n",
      "\n",
      "Installing dependencies from Pipfile.lock (d69bef)...\n",
      "To activate this project's virtualenv, run pipenv shell.\n",
      "Alternatively, run a command inside the virtualenv with pipenv run.\n"
     ]
    },
    {
     "name": "stderr",
     "output_type": "stream",
     "text": [
      "\n",
      "[    ] Installing..\n",
      "[=   ] Installing matplotlib..\n",
      "[==  ] Installing matplotlib..\n",
      "[=== ] Installing matplotlib..\n",
      "[ ===] Installing matplotlib..\n",
      "[  ==] Installing matplotlib..\n",
      "[   =] Installing matplotlib..\n",
      "[    ] Installing matplotlib..\n",
      "[   =] Installing matplotlib..\n",
      "[  ==] Installing matplotlib..\n",
      "[ ===] Installing matplotlib..\n",
      "[====] Installing matplotlib..\n",
      "[=== ] Installing matplotlib..\n",
      "[==  ] Installing matplotlib..\n",
      "[=   ] Installing matplotlib..\n",
      "[    ] Installing matplotlib..\n",
      "[=   ] Installing matplotlib..\n",
      "[==  ] Installing matplotlib..\n",
      "[=== ] Installing matplotlib..\n",
      "[ ===] Installing matplotlib..\n",
      "[  ==] Installing matplotlib..\n",
      "[   =] Installing matplotlib..\n",
      "[    ] Installing matplotlib..\n",
      "[   =] Installing matplotlib..\n",
      "[  ==] Installing matplotlib..\n",
      "[ ===] Installing matplotlib..\n",
      "[====] Installing matplotlib..\n",
      "[=== ] Installing matplotlib..\n",
      "[==  ] Installing matplotlib..\n",
      "[=   ] Installing matplotlib..\n",
      "[    ] Installing matplotlib..\n",
      "[=   ] Installing matplotlib..\n",
      "[==  ] Installing matplotlib..\n",
      "[=== ] Installing matplotlib..\n",
      "[ ===] Installing matplotlib..\n",
      "[  ==] Installing matplotlib..\n",
      "[   =] Installing matplotlib..\n",
      "[    ] Installing matplotlib..\n",
      "[   =] Installing matplotlib..\n",
      "[  ==] Installing matplotlib..\n",
      "[ ===] Installing matplotlib..\n",
      "[====] Installing matplotlib..\n",
      "[=== ] Installing matplotlib..\n",
      "[==  ] Installing matplotlib..\n",
      "[=   ] Installing matplotlib..\n",
      "[    ] Installing matplotlib..\n",
      "[=   ] Installing matplotlib..\n",
      "[==  ] Installing matplotlib..\n",
      "[=== ] Installing matplotlib..\n",
      "[ ===] Installing matplotlib..\n",
      "[  ==] Installing matplotlib..\n",
      "[   =] Installing matplotlib..\n",
      "[    ] Installing matplotlib..\n",
      "[   =] Installing matplotlib..\n",
      "[  ==] Installing matplotlib..\n",
      "[ ===] Installing matplotlib..\n",
      "[====] Installing matplotlib..\n",
      "[=== ] Installing matplotlib..\n",
      "[==  ] Installing matplotlib..\n",
      "[=   ] Installing matplotlib..\n",
      "[    ] Installing matplotlib..\n",
      "[=   ] Installing matplotlib..\n",
      "[==  ] Installing matplotlib..\n",
      "[=== ] Installing matplotlib..\n",
      "[ ===] Installing matplotlib..\n",
      "[  ==] Installing matplotlib..\n",
      "[   =] Installing matplotlib..\n",
      "[    ] Installing matplotlib..\n",
      "[   =] Installing matplotlib..\n",
      "[  ==] Installing matplotlib..\n",
      "[ ===] Installing matplotlib..\n",
      "[====] Installing matplotlib..\n",
      "[=== ] Installing matplotlib..\n",
      "[==  ] Installing matplotlib..\n",
      "[=   ] Installing matplotlib...\n",
      "Adding matplotlib to Pipfile's [packages]...\n",
      "\bInstallation Succeeded \n",
      "Pipfile.lock (074cd0) out of date, updating to (d69bef)...\n",
      "Locking [dev-packages] dependencies...\n",
      "Locking [packages] dependencies...\n",
      "\n",
      "[    ] Locking...\n",
      "Building requirements...\n",
      "\n",
      "Resolving dependencies...\n",
      "\b\n",
      "[=   ] Locking..\n",
      "[==  ] Locking..\n",
      "[=== ] Locking..\n",
      "[ ===] Locking..\n",
      "[  ==] Locking..\n",
      "[   =] Locking..\n",
      "[    ] Locking..\n",
      "[   =] Locking..\n",
      "[  ==] Locking..\n",
      "[ ===] Locking..\n",
      "[====] Locking..\n",
      "[=== ] Locking..\n",
      "[==  ] Locking..\n",
      "[=   ] Locking..\n",
      "[    ] Locking..\n",
      "[=   ] Locking..\n",
      "[==  ] Locking..\n",
      "[=== ] Locking..\n",
      "[ ===] Locking..\n",
      "[  ==] Locking..\n",
      "[   =] Locking..\n",
      "[    ] Locking..\n",
      "[   =] Locking..\n",
      "[  ==] Locking..\n",
      "[ ===] Locking..\n",
      "[====] Locking..\n",
      "[=== ] Locking..\n",
      "[==  ] Locking..\n",
      "[=   ] Locking..\n",
      "[    ] Locking..\n",
      "[=   ] Locking..\n",
      "[==  ] Locking..\n",
      "[=== ] Locking..\n",
      "[ ===] Locking..\n",
      "[  ==] Locking..\n",
      "[   =] Locking..\n",
      "[    ] Locking..\n",
      "[   =] Locking..\n",
      "[  ==] Locking..\n",
      "[ ===] Locking..\n",
      "[====] Locking..\n",
      "[=== ] Locking..\n",
      "[==  ] Locking..\n",
      "[=   ] Locking..\n",
      "[    ] Locking..\n",
      "[=   ] Locking..\n",
      "[==  ] Locking..\n",
      "[=== ] Locking..\n",
      "[ ===] Locking..\n",
      "[  ==] Locking..\n",
      "[   =] Locking..\n",
      "[    ] Locking..\n",
      "[   =] Locking..\n",
      "[  ==] Locking..\n",
      "[ ===] Locking..\n",
      "[====] Locking..\n",
      "[=== ] Locking..\n",
      "[==  ] Locking..\n",
      "[=   ] Locking..\n",
      "[    ] Locking..\n",
      "[=   ] Locking..\n",
      "[==  ] Locking..\n",
      "[=== ] Locking..\n",
      "[ ===] Locking..\n",
      "[  ==] Locking..\n",
      "[   =] Locking..\n",
      "[    ] Locking..\n",
      "[   =] Locking..\n",
      "[  ==] Locking..Success! \n",
      "Updated Pipfile.lock (d69bef)!\n"
     ]
    }
   ],
   "source": [
    "! pip install --user pipenv\n",
    "! pipenv install pandas\n",
    "! pipenv install numpy\n",
    "! pipenv install matplotlib"
   ]
  },
  {
   "cell_type": "markdown",
   "id": "34ab4a46",
   "metadata": {},
   "source": [
    "Импортируем необходимые библиотеки"
   ]
  },
  {
   "cell_type": "code",
   "execution_count": 27,
   "id": "95bf2d01",
   "metadata": {},
   "outputs": [],
   "source": [
    "import numpy as np\n",
    "import pandas as pd\n",
    "\n",
    "import matplotlib.pyplot as plt\n",
    "%matplotlib inline"
   ]
  },
  {
   "cell_type": "markdown",
   "id": "b16f80d0",
   "metadata": {},
   "source": [
    "Загружаем данные, после чего удаляем пустые колонки"
   ]
  },
  {
   "cell_type": "code",
   "execution_count": 28,
   "id": "4263b10e",
   "metadata": {
    "scrolled": true
   },
   "outputs": [
    {
     "name": "stderr",
     "output_type": "stream",
     "text": [
      "c:\\users\\sandor\\appdata\\local\\programs\\python\\python39\\lib\\site-packages\\IPython\\core\\interactiveshell.py:3444: DtypeWarning: Columns (17,18,20,21,22,23,29,30,31,32,36,38,39) have mixed types.Specify dtype option on import or set low_memory=False.\n",
      "  exec(code_obj, self.user_global_ns, self.user_ns)\n"
     ]
    }
   ],
   "source": [
    "dataset = pd.read_csv('Parking_Violations_Issued_-_Fiscal_Year_2014__August_2013___June_2014_.csv', \n",
    "                   dtype={'Violation Location' : object})\n",
    "\n",
    "#Drop null columns\n",
    "dataset.drop(dataset.columns[range(40, 51)], axis=1, inplace=True)"
   ]
  },
  {
   "cell_type": "markdown",
   "id": "8a2b03b9",
   "metadata": {},
   "source": [
    "Конвертируем поле 'Issue Date' в дату, затем оставляем в датасете только те строки, в которых автомобиль одна из трёх следующих марок: 'DODGE', 'TOYOT', 'HYUND', а дата \"происшествия\" находится в периоде между 2013-01-01 и 2015-01-01."
   ]
  },
  {
   "cell_type": "code",
   "execution_count": 29,
   "id": "8db380ab",
   "metadata": {},
   "outputs": [],
   "source": [
    "dataset['Issue Date'] = dataset['Issue Date'].apply(pd.to_datetime)"
   ]
  },
  {
   "cell_type": "code",
   "execution_count": 30,
   "id": "e457b645",
   "metadata": {},
   "outputs": [],
   "source": [
    "dataset = dataset.loc[(dataset['Vehicle Make'].isin(['DODGE', 'TOYOT', 'HYUND'])) & \n",
    "                      ((dataset['Issue Date'] >= pd.Timestamp('2013-01-01')) & (dataset['Issue Date'] <= pd.Timestamp('2015-01-01'))) & \n",
    "                      ((dataset['Vehicle Year'] >= 1900.0) & (dataset['Vehicle Year'] <= 2015.0))]"
   ]
  },
  {
   "cell_type": "code",
   "execution_count": 32,
   "id": "7a62d432",
   "metadata": {},
   "outputs": [
    {
     "data": {
      "text/html": [
       "<div>\n",
       "<style scoped>\n",
       "    .dataframe tbody tr th:only-of-type {\n",
       "        vertical-align: middle;\n",
       "    }\n",
       "\n",
       "    .dataframe tbody tr th {\n",
       "        vertical-align: top;\n",
       "    }\n",
       "\n",
       "    .dataframe thead th {\n",
       "        text-align: right;\n",
       "    }\n",
       "</style>\n",
       "<table border=\"1\" class=\"dataframe\">\n",
       "  <thead>\n",
       "    <tr style=\"text-align: right;\">\n",
       "      <th></th>\n",
       "      <th>Summons Number</th>\n",
       "      <th>Plate ID</th>\n",
       "      <th>Registration State</th>\n",
       "      <th>Plate Type</th>\n",
       "      <th>Issue Date</th>\n",
       "      <th>Violation Code</th>\n",
       "      <th>Vehicle Body Type</th>\n",
       "      <th>Vehicle Make</th>\n",
       "      <th>Issuing Agency</th>\n",
       "      <th>Street Code1</th>\n",
       "      <th>...</th>\n",
       "      <th>Days Parking In Effect</th>\n",
       "      <th>From Hours In Effect</th>\n",
       "      <th>To Hours In Effect</th>\n",
       "      <th>Vehicle Color</th>\n",
       "      <th>Unregistered Vehicle?</th>\n",
       "      <th>Vehicle Year</th>\n",
       "      <th>Meter Number</th>\n",
       "      <th>Feet From Curb</th>\n",
       "      <th>Violation Post Code</th>\n",
       "      <th>Violation Description</th>\n",
       "    </tr>\n",
       "  </thead>\n",
       "  <tbody>\n",
       "    <tr>\n",
       "      <th>8</th>\n",
       "      <td>1283983631</td>\n",
       "      <td>GBH9379</td>\n",
       "      <td>NY</td>\n",
       "      <td>PAS</td>\n",
       "      <td>2013-08-07</td>\n",
       "      <td>24</td>\n",
       "      <td>SDN</td>\n",
       "      <td>TOYOT</td>\n",
       "      <td>X</td>\n",
       "      <td>63430</td>\n",
       "      <td>...</td>\n",
       "      <td>BBBBBBB</td>\n",
       "      <td>ALL</td>\n",
       "      <td>ALL</td>\n",
       "      <td>WHITE</td>\n",
       "      <td>0.0</td>\n",
       "      <td>2001.0</td>\n",
       "      <td>-</td>\n",
       "      <td>0.0</td>\n",
       "      <td>NaN</td>\n",
       "      <td>NaN</td>\n",
       "    </tr>\n",
       "    <tr>\n",
       "      <th>10</th>\n",
       "      <td>1283983679</td>\n",
       "      <td>M367CN</td>\n",
       "      <td>NY</td>\n",
       "      <td>PAS</td>\n",
       "      <td>2013-07-18</td>\n",
       "      <td>24</td>\n",
       "      <td>SDN</td>\n",
       "      <td>HYUND</td>\n",
       "      <td>H</td>\n",
       "      <td>0</td>\n",
       "      <td>...</td>\n",
       "      <td>BBBBBBB</td>\n",
       "      <td>ALL</td>\n",
       "      <td>ALL</td>\n",
       "      <td>BLUE</td>\n",
       "      <td>0.0</td>\n",
       "      <td>2010.0</td>\n",
       "      <td>-</td>\n",
       "      <td>0.0</td>\n",
       "      <td>NaN</td>\n",
       "      <td>NaN</td>\n",
       "    </tr>\n",
       "    <tr>\n",
       "      <th>11</th>\n",
       "      <td>1283983734</td>\n",
       "      <td>GAR6813</td>\n",
       "      <td>NY</td>\n",
       "      <td>PAS</td>\n",
       "      <td>2013-07-18</td>\n",
       "      <td>24</td>\n",
       "      <td>SDN</td>\n",
       "      <td>TOYOT</td>\n",
       "      <td>H</td>\n",
       "      <td>0</td>\n",
       "      <td>...</td>\n",
       "      <td>BBBBBBB</td>\n",
       "      <td>ALL</td>\n",
       "      <td>ALL</td>\n",
       "      <td>TAN</td>\n",
       "      <td>0.0</td>\n",
       "      <td>1998.0</td>\n",
       "      <td>-</td>\n",
       "      <td>0.0</td>\n",
       "      <td>NaN</td>\n",
       "      <td>NaN</td>\n",
       "    </tr>\n",
       "    <tr>\n",
       "      <th>16</th>\n",
       "      <td>1286246398</td>\n",
       "      <td>GFC5338</td>\n",
       "      <td>NY</td>\n",
       "      <td>PAS</td>\n",
       "      <td>2013-07-26</td>\n",
       "      <td>14</td>\n",
       "      <td>SDN</td>\n",
       "      <td>TOYOT</td>\n",
       "      <td>T</td>\n",
       "      <td>0</td>\n",
       "      <td>...</td>\n",
       "      <td>YYYYYYY</td>\n",
       "      <td>0800A</td>\n",
       "      <td>1000P</td>\n",
       "      <td>GRAY</td>\n",
       "      <td>0.0</td>\n",
       "      <td>2010.0</td>\n",
       "      <td>-</td>\n",
       "      <td>0.0</td>\n",
       "      <td>NaN</td>\n",
       "      <td>NaN</td>\n",
       "    </tr>\n",
       "    <tr>\n",
       "      <th>23</th>\n",
       "      <td>1286799648</td>\n",
       "      <td>GDE3973</td>\n",
       "      <td>NY</td>\n",
       "      <td>PAS</td>\n",
       "      <td>2013-07-20</td>\n",
       "      <td>40</td>\n",
       "      <td>SDN</td>\n",
       "      <td>TOYOT</td>\n",
       "      <td>T</td>\n",
       "      <td>0</td>\n",
       "      <td>...</td>\n",
       "      <td>BBBBBBB</td>\n",
       "      <td>ALL</td>\n",
       "      <td>ALL</td>\n",
       "      <td>TN</td>\n",
       "      <td>0.0</td>\n",
       "      <td>2003.0</td>\n",
       "      <td>-</td>\n",
       "      <td>9.0</td>\n",
       "      <td>NaN</td>\n",
       "      <td>NaN</td>\n",
       "    </tr>\n",
       "  </tbody>\n",
       "</table>\n",
       "<p>5 rows × 40 columns</p>\n",
       "</div>"
      ],
      "text/plain": [
       "    Summons Number Plate ID Registration State Plate Type Issue Date  \\\n",
       "8       1283983631  GBH9379                 NY        PAS 2013-08-07   \n",
       "10      1283983679   M367CN                 NY        PAS 2013-07-18   \n",
       "11      1283983734  GAR6813                 NY        PAS 2013-07-18   \n",
       "16      1286246398  GFC5338                 NY        PAS 2013-07-26   \n",
       "23      1286799648  GDE3973                 NY        PAS 2013-07-20   \n",
       "\n",
       "    Violation Code Vehicle Body Type Vehicle Make Issuing Agency  \\\n",
       "8               24               SDN        TOYOT              X   \n",
       "10              24               SDN        HYUND              H   \n",
       "11              24               SDN        TOYOT              H   \n",
       "16              14               SDN        TOYOT              T   \n",
       "23              40               SDN        TOYOT              T   \n",
       "\n",
       "    Street Code1  ...  Days Parking In Effect      From Hours In Effect  \\\n",
       "8          63430  ...                     BBBBBBB                   ALL   \n",
       "10             0  ...                     BBBBBBB                   ALL   \n",
       "11             0  ...                     BBBBBBB                   ALL   \n",
       "16             0  ...                     YYYYYYY                 0800A   \n",
       "23             0  ...                     BBBBBBB                   ALL   \n",
       "\n",
       "    To Hours In Effect Vehicle Color  Unregistered Vehicle?  Vehicle Year  \\\n",
       "8                  ALL         WHITE                    0.0        2001.0   \n",
       "10                 ALL          BLUE                    0.0        2010.0   \n",
       "11                 ALL           TAN                    0.0        1998.0   \n",
       "16               1000P          GRAY                    0.0        2010.0   \n",
       "23                 ALL            TN                    0.0        2003.0   \n",
       "\n",
       "    Meter Number Feet From Curb Violation Post Code Violation Description  \n",
       "8              -            0.0                 NaN                   NaN  \n",
       "10             -            0.0                 NaN                   NaN  \n",
       "11             -            0.0                 NaN                   NaN  \n",
       "16             -            0.0                 NaN                   NaN  \n",
       "23             -            9.0                 NaN                   NaN  \n",
       "\n",
       "[5 rows x 40 columns]"
      ]
     },
     "execution_count": 32,
     "metadata": {},
     "output_type": "execute_result"
    }
   ],
   "source": [
    "dataset.head()"
   ]
  },
  {
   "cell_type": "code",
   "execution_count": 33,
   "id": "c74e2985",
   "metadata": {},
   "outputs": [
    {
     "data": {
      "text/html": [
       "<div>\n",
       "<style scoped>\n",
       "    .dataframe tbody tr th:only-of-type {\n",
       "        vertical-align: middle;\n",
       "    }\n",
       "\n",
       "    .dataframe tbody tr th {\n",
       "        vertical-align: top;\n",
       "    }\n",
       "\n",
       "    .dataframe thead th {\n",
       "        text-align: right;\n",
       "    }\n",
       "</style>\n",
       "<table border=\"1\" class=\"dataframe\">\n",
       "  <thead>\n",
       "    <tr style=\"text-align: right;\">\n",
       "      <th></th>\n",
       "      <th>Summons Number</th>\n",
       "      <th>Plate ID</th>\n",
       "      <th>Registration State</th>\n",
       "      <th>Plate Type</th>\n",
       "      <th>Issue Date</th>\n",
       "      <th>Violation Code</th>\n",
       "      <th>Vehicle Body Type</th>\n",
       "      <th>Vehicle Make</th>\n",
       "      <th>Issuing Agency</th>\n",
       "      <th>Street Code1</th>\n",
       "      <th>...</th>\n",
       "      <th>Days Parking In Effect</th>\n",
       "      <th>From Hours In Effect</th>\n",
       "      <th>To Hours In Effect</th>\n",
       "      <th>Vehicle Color</th>\n",
       "      <th>Unregistered Vehicle?</th>\n",
       "      <th>Vehicle Year</th>\n",
       "      <th>Meter Number</th>\n",
       "      <th>Feet From Curb</th>\n",
       "      <th>Violation Post Code</th>\n",
       "      <th>Violation Description</th>\n",
       "    </tr>\n",
       "  </thead>\n",
       "  <tbody>\n",
       "    <tr>\n",
       "      <th>9100243</th>\n",
       "      <td>8006050405</td>\n",
       "      <td>APZ5782</td>\n",
       "      <td>NY</td>\n",
       "      <td>PAS</td>\n",
       "      <td>2014-06-25</td>\n",
       "      <td>20</td>\n",
       "      <td>SUBN</td>\n",
       "      <td>TOYOT</td>\n",
       "      <td>T</td>\n",
       "      <td>9140</td>\n",
       "      <td>...</td>\n",
       "      <td>YYYYY</td>\n",
       "      <td>0800A</td>\n",
       "      <td>0600P</td>\n",
       "      <td>SILVE</td>\n",
       "      <td>NaN</td>\n",
       "      <td>2007.0</td>\n",
       "      <td>NaN</td>\n",
       "      <td>0.0</td>\n",
       "      <td>06 4</td>\n",
       "      <td>20A-No Parking (Non-COM)</td>\n",
       "    </tr>\n",
       "    <tr>\n",
       "      <th>9100248</th>\n",
       "      <td>8006050491</td>\n",
       "      <td>EGX5038</td>\n",
       "      <td>NY</td>\n",
       "      <td>PAS</td>\n",
       "      <td>2014-06-25</td>\n",
       "      <td>37</td>\n",
       "      <td>SUBN</td>\n",
       "      <td>TOYOT</td>\n",
       "      <td>T</td>\n",
       "      <td>9540</td>\n",
       "      <td>...</td>\n",
       "      <td>Y</td>\n",
       "      <td>0800A</td>\n",
       "      <td>1000P</td>\n",
       "      <td>GY</td>\n",
       "      <td>NaN</td>\n",
       "      <td>2008.0</td>\n",
       "      <td>406-9426</td>\n",
       "      <td>0.0</td>\n",
       "      <td>06 4</td>\n",
       "      <td>37-Expired Muni Meter</td>\n",
       "    </tr>\n",
       "    <tr>\n",
       "      <th>9100249</th>\n",
       "      <td>8006050508</td>\n",
       "      <td>DHE4798</td>\n",
       "      <td>NY</td>\n",
       "      <td>PAS</td>\n",
       "      <td>2014-06-25</td>\n",
       "      <td>37</td>\n",
       "      <td>SUBN</td>\n",
       "      <td>TOYOT</td>\n",
       "      <td>T</td>\n",
       "      <td>9540</td>\n",
       "      <td>...</td>\n",
       "      <td>Y</td>\n",
       "      <td>0800A</td>\n",
       "      <td>1000P</td>\n",
       "      <td>GY</td>\n",
       "      <td>NaN</td>\n",
       "      <td>2005.0</td>\n",
       "      <td>406-9424</td>\n",
       "      <td>0.0</td>\n",
       "      <td>06 4</td>\n",
       "      <td>37-Expired Muni Meter</td>\n",
       "    </tr>\n",
       "    <tr>\n",
       "      <th>9100261</th>\n",
       "      <td>8006100214</td>\n",
       "      <td>FYD4422</td>\n",
       "      <td>NY</td>\n",
       "      <td>PAS</td>\n",
       "      <td>2014-06-24</td>\n",
       "      <td>21</td>\n",
       "      <td>4DSD</td>\n",
       "      <td>TOYOT</td>\n",
       "      <td>T</td>\n",
       "      <td>67530</td>\n",
       "      <td>...</td>\n",
       "      <td>Y  Y</td>\n",
       "      <td>1130A</td>\n",
       "      <td>0100P</td>\n",
       "      <td>WH</td>\n",
       "      <td>NaN</td>\n",
       "      <td>2012.0</td>\n",
       "      <td>NaN</td>\n",
       "      <td>0.0</td>\n",
       "      <td>08 3</td>\n",
       "      <td>21-No Parking (street clean)</td>\n",
       "    </tr>\n",
       "    <tr>\n",
       "      <th>9100271</th>\n",
       "      <td>8006150151</td>\n",
       "      <td>CWN4247</td>\n",
       "      <td>NY</td>\n",
       "      <td>PAS</td>\n",
       "      <td>2014-06-25</td>\n",
       "      <td>37</td>\n",
       "      <td>SUBN</td>\n",
       "      <td>TOYOT</td>\n",
       "      <td>T</td>\n",
       "      <td>0</td>\n",
       "      <td>...</td>\n",
       "      <td>YYYYYYY</td>\n",
       "      <td>NaN</td>\n",
       "      <td>NaN</td>\n",
       "      <td>GY</td>\n",
       "      <td>NaN</td>\n",
       "      <td>2004.0</td>\n",
       "      <td>373-0123</td>\n",
       "      <td>0.0</td>\n",
       "      <td>10 3</td>\n",
       "      <td>37-Expired Muni Meter</td>\n",
       "    </tr>\n",
       "  </tbody>\n",
       "</table>\n",
       "<p>5 rows × 40 columns</p>\n",
       "</div>"
      ],
      "text/plain": [
       "         Summons Number Plate ID Registration State Plate Type Issue Date  \\\n",
       "9100243      8006050405  APZ5782                 NY        PAS 2014-06-25   \n",
       "9100248      8006050491  EGX5038                 NY        PAS 2014-06-25   \n",
       "9100249      8006050508  DHE4798                 NY        PAS 2014-06-25   \n",
       "9100261      8006100214  FYD4422                 NY        PAS 2014-06-24   \n",
       "9100271      8006150151  CWN4247                 NY        PAS 2014-06-25   \n",
       "\n",
       "         Violation Code Vehicle Body Type Vehicle Make Issuing Agency  \\\n",
       "9100243              20              SUBN        TOYOT              T   \n",
       "9100248              37              SUBN        TOYOT              T   \n",
       "9100249              37              SUBN        TOYOT              T   \n",
       "9100261              21              4DSD        TOYOT              T   \n",
       "9100271              37              SUBN        TOYOT              T   \n",
       "\n",
       "         Street Code1  ...  Days Parking In Effect      From Hours In Effect  \\\n",
       "9100243          9140  ...                       YYYYY                 0800A   \n",
       "9100248          9540  ...                           Y                 0800A   \n",
       "9100249          9540  ...                           Y                 0800A   \n",
       "9100261         67530  ...                        Y  Y                 1130A   \n",
       "9100271             0  ...                     YYYYYYY                   NaN   \n",
       "\n",
       "         To Hours In Effect Vehicle Color  Unregistered Vehicle?  \\\n",
       "9100243               0600P         SILVE                    NaN   \n",
       "9100248               1000P            GY                    NaN   \n",
       "9100249               1000P            GY                    NaN   \n",
       "9100261               0100P            WH                    NaN   \n",
       "9100271                 NaN            GY                    NaN   \n",
       "\n",
       "         Vehicle Year  Meter Number Feet From Curb Violation Post Code  \\\n",
       "9100243        2007.0           NaN            0.0                06 4   \n",
       "9100248        2008.0      406-9426            0.0                06 4   \n",
       "9100249        2005.0      406-9424            0.0                06 4   \n",
       "9100261        2012.0           NaN            0.0                08 3   \n",
       "9100271        2004.0      373-0123            0.0                10 3   \n",
       "\n",
       "                Violation Description  \n",
       "9100243      20A-No Parking (Non-COM)  \n",
       "9100248         37-Expired Muni Meter  \n",
       "9100249         37-Expired Muni Meter  \n",
       "9100261  21-No Parking (street clean)  \n",
       "9100271         37-Expired Muni Meter  \n",
       "\n",
       "[5 rows x 40 columns]"
      ]
     },
     "execution_count": 33,
     "metadata": {},
     "output_type": "execute_result"
    }
   ],
   "source": [
    "dataset.tail()"
   ]
  },
  {
   "cell_type": "code",
   "execution_count": 34,
   "id": "8478d5eb",
   "metadata": {
    "scrolled": false
   },
   "outputs": [
    {
     "data": {
      "text/html": [
       "<div>\n",
       "<style scoped>\n",
       "    .dataframe tbody tr th:only-of-type {\n",
       "        vertical-align: middle;\n",
       "    }\n",
       "\n",
       "    .dataframe tbody tr th {\n",
       "        vertical-align: top;\n",
       "    }\n",
       "\n",
       "    .dataframe thead th {\n",
       "        text-align: right;\n",
       "    }\n",
       "</style>\n",
       "<table border=\"1\" class=\"dataframe\">\n",
       "  <thead>\n",
       "    <tr style=\"text-align: right;\">\n",
       "      <th></th>\n",
       "      <th>Issue Date</th>\n",
       "      <th>Vehicle Make</th>\n",
       "      <th>Violation Time</th>\n",
       "      <th>House Number</th>\n",
       "      <th>Street Name</th>\n",
       "      <th>Vehicle Year</th>\n",
       "    </tr>\n",
       "  </thead>\n",
       "  <tbody>\n",
       "    <tr>\n",
       "      <th>8</th>\n",
       "      <td>2013-08-07</td>\n",
       "      <td>TOYOT</td>\n",
       "      <td>0437A</td>\n",
       "      <td>100</td>\n",
       "      <td>N.PORTLAND AVE</td>\n",
       "      <td>2001.0</td>\n",
       "    </tr>\n",
       "    <tr>\n",
       "      <th>10</th>\n",
       "      <td>2013-07-18</td>\n",
       "      <td>HYUND</td>\n",
       "      <td>0845A</td>\n",
       "      <td>NaN</td>\n",
       "      <td>760 BROADWAY BROOKLY</td>\n",
       "      <td>2010.0</td>\n",
       "    </tr>\n",
       "    <tr>\n",
       "      <th>11</th>\n",
       "      <td>2013-07-18</td>\n",
       "      <td>TOYOT</td>\n",
       "      <td>0907A</td>\n",
       "      <td>NaN</td>\n",
       "      <td>760 BROADWAY BROOKLY</td>\n",
       "      <td>1998.0</td>\n",
       "    </tr>\n",
       "    <tr>\n",
       "      <th>16</th>\n",
       "      <td>2013-07-26</td>\n",
       "      <td>TOYOT</td>\n",
       "      <td>1142A</td>\n",
       "      <td>145</td>\n",
       "      <td>PROSPECT PKWAY</td>\n",
       "      <td>2010.0</td>\n",
       "    </tr>\n",
       "    <tr>\n",
       "      <th>23</th>\n",
       "      <td>2013-07-20</td>\n",
       "      <td>TOYOT</td>\n",
       "      <td>0324P</td>\n",
       "      <td>NaN</td>\n",
       "      <td>E/S RIVER TER.</td>\n",
       "      <td>2003.0</td>\n",
       "    </tr>\n",
       "  </tbody>\n",
       "</table>\n",
       "</div>"
      ],
      "text/plain": [
       "   Issue Date Vehicle Make Violation Time House Number           Street Name  \\\n",
       "8  2013-08-07        TOYOT          0437A          100        N.PORTLAND AVE   \n",
       "10 2013-07-18        HYUND          0845A          NaN  760 BROADWAY BROOKLY   \n",
       "11 2013-07-18        TOYOT          0907A          NaN  760 BROADWAY BROOKLY   \n",
       "16 2013-07-26        TOYOT          1142A          145        PROSPECT PKWAY   \n",
       "23 2013-07-20        TOYOT          0324P          NaN        E/S RIVER TER.   \n",
       "\n",
       "    Vehicle Year  \n",
       "8         2001.0  \n",
       "10        2010.0  \n",
       "11        1998.0  \n",
       "16        2010.0  \n",
       "23        2003.0  "
      ]
     },
     "execution_count": 34,
     "metadata": {},
     "output_type": "execute_result"
    }
   ],
   "source": [
    "dataset.drop(columns=dataset.columns.difference(['Issue Date', 'Vehicle Make', 'Violation Time', 'House Number', 'Street Name', 'Vehicle Year']), axis=1, inplace=True)\n",
    "dataset.head()"
   ]
  },
  {
   "cell_type": "code",
   "execution_count": 36,
   "id": "5078ba70",
   "metadata": {},
   "outputs": [
    {
     "data": {
      "text/html": [
       "<div>\n",
       "<style scoped>\n",
       "    .dataframe tbody tr th:only-of-type {\n",
       "        vertical-align: middle;\n",
       "    }\n",
       "\n",
       "    .dataframe tbody tr th {\n",
       "        vertical-align: top;\n",
       "    }\n",
       "\n",
       "    .dataframe thead th {\n",
       "        text-align: right;\n",
       "    }\n",
       "</style>\n",
       "<table border=\"1\" class=\"dataframe\">\n",
       "  <thead>\n",
       "    <tr style=\"text-align: right;\">\n",
       "      <th></th>\n",
       "      <th>Issue Date</th>\n",
       "      <th>Vehicle Make</th>\n",
       "      <th>Violation Time</th>\n",
       "      <th>House Number</th>\n",
       "      <th>Street Name</th>\n",
       "      <th>Vehicle Year</th>\n",
       "    </tr>\n",
       "  </thead>\n",
       "  <tbody>\n",
       "    <tr>\n",
       "      <th>9100243</th>\n",
       "      <td>2014-06-25</td>\n",
       "      <td>TOYOT</td>\n",
       "      <td>1104A</td>\n",
       "      <td>W</td>\n",
       "      <td>39th Ave</td>\n",
       "      <td>2007.0</td>\n",
       "    </tr>\n",
       "    <tr>\n",
       "      <th>9100248</th>\n",
       "      <td>2014-06-25</td>\n",
       "      <td>TOYOT</td>\n",
       "      <td>0103P</td>\n",
       "      <td>133-32</td>\n",
       "      <td>41st Ave</td>\n",
       "      <td>2008.0</td>\n",
       "    </tr>\n",
       "    <tr>\n",
       "      <th>9100249</th>\n",
       "      <td>2014-06-25</td>\n",
       "      <td>TOYOT</td>\n",
       "      <td>0105P</td>\n",
       "      <td>133-24</td>\n",
       "      <td>41st Ave</td>\n",
       "      <td>2005.0</td>\n",
       "    </tr>\n",
       "    <tr>\n",
       "      <th>9100261</th>\n",
       "      <td>2014-06-24</td>\n",
       "      <td>TOYOT</td>\n",
       "      <td>1140A</td>\n",
       "      <td>560</td>\n",
       "      <td>Ocean Ave</td>\n",
       "      <td>2012.0</td>\n",
       "    </tr>\n",
       "    <tr>\n",
       "      <th>9100271</th>\n",
       "      <td>2014-06-25</td>\n",
       "      <td>TOYOT</td>\n",
       "      <td>0115P</td>\n",
       "      <td>NaN</td>\n",
       "      <td>Other-See Comments</td>\n",
       "      <td>2004.0</td>\n",
       "    </tr>\n",
       "  </tbody>\n",
       "</table>\n",
       "</div>"
      ],
      "text/plain": [
       "        Issue Date Vehicle Make Violation Time House Number  \\\n",
       "9100243 2014-06-25        TOYOT          1104A            W   \n",
       "9100248 2014-06-25        TOYOT          0103P       133-32   \n",
       "9100249 2014-06-25        TOYOT          0105P       133-24   \n",
       "9100261 2014-06-24        TOYOT          1140A          560   \n",
       "9100271 2014-06-25        TOYOT          0115P          NaN   \n",
       "\n",
       "                Street Name  Vehicle Year  \n",
       "9100243            39th Ave        2007.0  \n",
       "9100248            41st Ave        2008.0  \n",
       "9100249            41st Ave        2005.0  \n",
       "9100261           Ocean Ave        2012.0  \n",
       "9100271  Other-See Comments        2004.0  "
      ]
     },
     "execution_count": 36,
     "metadata": {},
     "output_type": "execute_result"
    }
   ],
   "source": [
    "dataset.tail()"
   ]
  },
  {
   "cell_type": "code",
   "execution_count": 37,
   "id": "918531c5",
   "metadata": {},
   "outputs": [],
   "source": [
    "dataset.set_index('Issue Date',inplace=True)"
   ]
  },
  {
   "cell_type": "code",
   "execution_count": 38,
   "id": "7465e791",
   "metadata": {},
   "outputs": [
    {
     "data": {
      "text/html": [
       "<div>\n",
       "<style scoped>\n",
       "    .dataframe tbody tr th:only-of-type {\n",
       "        vertical-align: middle;\n",
       "    }\n",
       "\n",
       "    .dataframe tbody tr th {\n",
       "        vertical-align: top;\n",
       "    }\n",
       "\n",
       "    .dataframe thead th {\n",
       "        text-align: right;\n",
       "    }\n",
       "</style>\n",
       "<table border=\"1\" class=\"dataframe\">\n",
       "  <thead>\n",
       "    <tr style=\"text-align: right;\">\n",
       "      <th></th>\n",
       "      <th>Vehicle Make</th>\n",
       "      <th>Violation Time</th>\n",
       "      <th>House Number</th>\n",
       "      <th>Street Name</th>\n",
       "      <th>Vehicle Year</th>\n",
       "    </tr>\n",
       "    <tr>\n",
       "      <th>Issue Date</th>\n",
       "      <th></th>\n",
       "      <th></th>\n",
       "      <th></th>\n",
       "      <th></th>\n",
       "      <th></th>\n",
       "    </tr>\n",
       "  </thead>\n",
       "  <tbody>\n",
       "    <tr>\n",
       "      <th>2013-08-07</th>\n",
       "      <td>TOYOT</td>\n",
       "      <td>0437A</td>\n",
       "      <td>100</td>\n",
       "      <td>N.PORTLAND AVE</td>\n",
       "      <td>2001.0</td>\n",
       "    </tr>\n",
       "    <tr>\n",
       "      <th>2013-07-18</th>\n",
       "      <td>HYUND</td>\n",
       "      <td>0845A</td>\n",
       "      <td>NaN</td>\n",
       "      <td>760 BROADWAY BROOKLY</td>\n",
       "      <td>2010.0</td>\n",
       "    </tr>\n",
       "    <tr>\n",
       "      <th>2013-07-18</th>\n",
       "      <td>TOYOT</td>\n",
       "      <td>0907A</td>\n",
       "      <td>NaN</td>\n",
       "      <td>760 BROADWAY BROOKLY</td>\n",
       "      <td>1998.0</td>\n",
       "    </tr>\n",
       "    <tr>\n",
       "      <th>2013-07-26</th>\n",
       "      <td>TOYOT</td>\n",
       "      <td>1142A</td>\n",
       "      <td>145</td>\n",
       "      <td>PROSPECT PKWAY</td>\n",
       "      <td>2010.0</td>\n",
       "    </tr>\n",
       "    <tr>\n",
       "      <th>2013-07-20</th>\n",
       "      <td>TOYOT</td>\n",
       "      <td>0324P</td>\n",
       "      <td>NaN</td>\n",
       "      <td>E/S RIVER TER.</td>\n",
       "      <td>2003.0</td>\n",
       "    </tr>\n",
       "  </tbody>\n",
       "</table>\n",
       "</div>"
      ],
      "text/plain": [
       "           Vehicle Make Violation Time House Number           Street Name  \\\n",
       "Issue Date                                                                  \n",
       "2013-08-07        TOYOT          0437A          100        N.PORTLAND AVE   \n",
       "2013-07-18        HYUND          0845A          NaN  760 BROADWAY BROOKLY   \n",
       "2013-07-18        TOYOT          0907A          NaN  760 BROADWAY BROOKLY   \n",
       "2013-07-26        TOYOT          1142A          145        PROSPECT PKWAY   \n",
       "2013-07-20        TOYOT          0324P          NaN        E/S RIVER TER.   \n",
       "\n",
       "            Vehicle Year  \n",
       "Issue Date                \n",
       "2013-08-07        2001.0  \n",
       "2013-07-18        2010.0  \n",
       "2013-07-18        1998.0  \n",
       "2013-07-26        2010.0  \n",
       "2013-07-20        2003.0  "
      ]
     },
     "execution_count": 38,
     "metadata": {},
     "output_type": "execute_result"
    }
   ],
   "source": [
    "dataset.head()"
   ]
  },
  {
   "cell_type": "code",
   "execution_count": 39,
   "id": "82a5b9f9",
   "metadata": {},
   "outputs": [
    {
     "data": {
      "text/html": [
       "<div>\n",
       "<style scoped>\n",
       "    .dataframe tbody tr th:only-of-type {\n",
       "        vertical-align: middle;\n",
       "    }\n",
       "\n",
       "    .dataframe tbody tr th {\n",
       "        vertical-align: top;\n",
       "    }\n",
       "\n",
       "    .dataframe thead th {\n",
       "        text-align: right;\n",
       "    }\n",
       "</style>\n",
       "<table border=\"1\" class=\"dataframe\">\n",
       "  <thead>\n",
       "    <tr style=\"text-align: right;\">\n",
       "      <th></th>\n",
       "      <th>Vehicle Make</th>\n",
       "      <th>Violation Time</th>\n",
       "      <th>House Number</th>\n",
       "      <th>Street Name</th>\n",
       "      <th>Vehicle Year</th>\n",
       "    </tr>\n",
       "    <tr>\n",
       "      <th>Issue Date</th>\n",
       "      <th></th>\n",
       "      <th></th>\n",
       "      <th></th>\n",
       "      <th></th>\n",
       "      <th></th>\n",
       "    </tr>\n",
       "  </thead>\n",
       "  <tbody>\n",
       "    <tr>\n",
       "      <th>2014-06-25</th>\n",
       "      <td>TOYOT</td>\n",
       "      <td>1104A</td>\n",
       "      <td>W</td>\n",
       "      <td>39th Ave</td>\n",
       "      <td>2007.0</td>\n",
       "    </tr>\n",
       "    <tr>\n",
       "      <th>2014-06-25</th>\n",
       "      <td>TOYOT</td>\n",
       "      <td>0103P</td>\n",
       "      <td>133-32</td>\n",
       "      <td>41st Ave</td>\n",
       "      <td>2008.0</td>\n",
       "    </tr>\n",
       "    <tr>\n",
       "      <th>2014-06-25</th>\n",
       "      <td>TOYOT</td>\n",
       "      <td>0105P</td>\n",
       "      <td>133-24</td>\n",
       "      <td>41st Ave</td>\n",
       "      <td>2005.0</td>\n",
       "    </tr>\n",
       "    <tr>\n",
       "      <th>2014-06-24</th>\n",
       "      <td>TOYOT</td>\n",
       "      <td>1140A</td>\n",
       "      <td>560</td>\n",
       "      <td>Ocean Ave</td>\n",
       "      <td>2012.0</td>\n",
       "    </tr>\n",
       "    <tr>\n",
       "      <th>2014-06-25</th>\n",
       "      <td>TOYOT</td>\n",
       "      <td>0115P</td>\n",
       "      <td>NaN</td>\n",
       "      <td>Other-See Comments</td>\n",
       "      <td>2004.0</td>\n",
       "    </tr>\n",
       "  </tbody>\n",
       "</table>\n",
       "</div>"
      ],
      "text/plain": [
       "           Vehicle Make Violation Time House Number         Street Name  \\\n",
       "Issue Date                                                                \n",
       "2014-06-25        TOYOT          1104A            W            39th Ave   \n",
       "2014-06-25        TOYOT          0103P       133-32            41st Ave   \n",
       "2014-06-25        TOYOT          0105P       133-24            41st Ave   \n",
       "2014-06-24        TOYOT          1140A          560           Ocean Ave   \n",
       "2014-06-25        TOYOT          0115P          NaN  Other-See Comments   \n",
       "\n",
       "            Vehicle Year  \n",
       "Issue Date                \n",
       "2014-06-25        2007.0  \n",
       "2014-06-25        2008.0  \n",
       "2014-06-25        2005.0  \n",
       "2014-06-24        2012.0  \n",
       "2014-06-25        2004.0  "
      ]
     },
     "execution_count": 39,
     "metadata": {},
     "output_type": "execute_result"
    }
   ],
   "source": [
    "dataset.tail()"
   ]
  },
  {
   "cell_type": "code",
   "execution_count": 40,
   "id": "a0930c63",
   "metadata": {},
   "outputs": [
    {
     "data": {
      "text/html": [
       "<div>\n",
       "<style scoped>\n",
       "    .dataframe tbody tr th:only-of-type {\n",
       "        vertical-align: middle;\n",
       "    }\n",
       "\n",
       "    .dataframe tbody tr th {\n",
       "        vertical-align: top;\n",
       "    }\n",
       "\n",
       "    .dataframe thead th {\n",
       "        text-align: right;\n",
       "    }\n",
       "</style>\n",
       "<table border=\"1\" class=\"dataframe\">\n",
       "  <thead>\n",
       "    <tr style=\"text-align: right;\">\n",
       "      <th></th>\n",
       "      <th>Vehicle Year</th>\n",
       "    </tr>\n",
       "  </thead>\n",
       "  <tbody>\n",
       "    <tr>\n",
       "      <th>count</th>\n",
       "      <td>1.066655e+06</td>\n",
       "    </tr>\n",
       "    <tr>\n",
       "      <th>mean</th>\n",
       "      <td>2.007093e+03</td>\n",
       "    </tr>\n",
       "    <tr>\n",
       "      <th>std</th>\n",
       "      <td>5.155833e+00</td>\n",
       "    </tr>\n",
       "    <tr>\n",
       "      <th>min</th>\n",
       "      <td>1.970000e+03</td>\n",
       "    </tr>\n",
       "    <tr>\n",
       "      <th>25%</th>\n",
       "      <td>2.004000e+03</td>\n",
       "    </tr>\n",
       "    <tr>\n",
       "      <th>50%</th>\n",
       "      <td>2.008000e+03</td>\n",
       "    </tr>\n",
       "    <tr>\n",
       "      <th>75%</th>\n",
       "      <td>2.012000e+03</td>\n",
       "    </tr>\n",
       "    <tr>\n",
       "      <th>max</th>\n",
       "      <td>2.015000e+03</td>\n",
       "    </tr>\n",
       "  </tbody>\n",
       "</table>\n",
       "</div>"
      ],
      "text/plain": [
       "       Vehicle Year\n",
       "count  1.066655e+06\n",
       "mean   2.007093e+03\n",
       "std    5.155833e+00\n",
       "min    1.970000e+03\n",
       "25%    2.004000e+03\n",
       "50%    2.008000e+03\n",
       "75%    2.012000e+03\n",
       "max    2.015000e+03"
      ]
     },
     "execution_count": 40,
     "metadata": {},
     "output_type": "execute_result"
    }
   ],
   "source": [
    "dataset.describe()"
   ]
  },
  {
   "cell_type": "markdown",
   "id": "c7186c7b",
   "metadata": {},
   "source": [
    "# Визуализируем датасет"
   ]
  },
  {
   "cell_type": "markdown",
   "id": "b839aa14",
   "metadata": {},
   "source": [
    "### Проанализируем данные о всех штрафах"
   ]
  },
  {
   "cell_type": "code",
   "execution_count": 53,
   "id": "ce4a367a",
   "metadata": {},
   "outputs": [
    {
     "data": {
      "text/plain": [
       "<matplotlib.lines.Line2D at 0x15400f1cf40>"
      ]
     },
     "execution_count": 53,
     "metadata": {},
     "output_type": "execute_result"
    },
    {
     "data": {
      "image/png": "[encoded data removed]",
      "text/plain": [
       "<Figure size 432x288 with 1 Axes>"
      ]
     },
     "metadata": {
      "needs_background": "light"
     },
     "output_type": "display_data"
    }
   ],
   "source": [
    "ax = dataset.plot()\n",
    "ax.axhline(2000, color=\"red\", linestyle=\"--\")"
   ]
  },
  {
   "cell_type": "markdown",
   "id": "7ed4a274",
   "metadata": {},
   "source": [
    "Красная вертикальная линия отделяет штрафы, полученные машинами выпущенные до 2000 года и после.\n",
    "Как видно, больше всего штрафов приходится на период от 2013-07 до 2014-07, но машины выпущенные до 2000 года получили гораздо меньше штрафов в остальной период времени, нежели машины выпущенные после 2000 года."
   ]
  },
  {
   "cell_type": "markdown",
   "id": "cbc6aea6",
   "metadata": {},
   "source": [
    "### Рассмотрим отдельно графики для машин разных марок."
   ]
  },
  {
   "cell_type": "code",
   "execution_count": 55,
   "id": "77fa7c94",
   "metadata": {},
   "outputs": [
    {
     "data": {
      "text/plain": [
       "<matplotlib.lines.Line2D at 0x1543415c9d0>"
      ]
     },
     "execution_count": 55,
     "metadata": {},
     "output_type": "execute_result"
    },
    {
     "data": {
      "image/png": "[encoded data removed]",
      "text/plain": [
       "<Figure size 432x288 with 1 Axes>"
      ]
     },
     "metadata": {
      "needs_background": "light"
     },
     "output_type": "display_data"
    }
   ],
   "source": [
    "ax = dataset.loc[dataset['Vehicle Make']=='DODGE'].plot()\n",
    "ax.axhline(2000, color=\"red\", linestyle=\"--\")"
   ]
  },
  {
   "cell_type": "code",
   "execution_count": 56,
   "id": "7fe7300a",
   "metadata": {},
   "outputs": [
    {
     "data": {
      "text/plain": [
       "<matplotlib.lines.Line2D at 0x15435537e20>"
      ]
     },
     "execution_count": 56,
     "metadata": {},
     "output_type": "execute_result"
    },
    {
     "data": {
      "image/png": "[encoded data removed]",
      "text/plain": [
       "<Figure size 432x288 with 1 Axes>"
      ]
     },
     "metadata": {
      "needs_background": "light"
     },
     "output_type": "display_data"
    }
   ],
   "source": [
    "ax = dataset.loc[dataset['Vehicle Make']=='TOYOT'].plot()\n",
    "ax.axhline(2000, color=\"red\", linestyle=\"--\")"
   ]
  },
  {
   "cell_type": "code",
   "execution_count": 57,
   "id": "e0eda8b1",
   "metadata": {},
   "outputs": [
    {
     "data": {
      "text/plain": [
       "<matplotlib.lines.Line2D at 0x1543554c550>"
      ]
     },
     "execution_count": 57,
     "metadata": {},
     "output_type": "execute_result"
    },
    {
     "data": {
      "image/png": "[encoded data removed]",
      "text/plain": [
       "<Figure size 432x288 with 1 Axes>"
      ]
     },
     "metadata": {
      "needs_background": "light"
     },
     "output_type": "display_data"
    }
   ],
   "source": [
    "ax = dataset.loc[dataset['Vehicle Make']=='HYUND'].plot()\n",
    "ax.axhline(2000, color=\"red\", linestyle=\"--\")"
   ]
  },
  {
   "cell_type": "markdown",
   "id": "e241ed95",
   "metadata": {},
   "source": [
    "Первые два графика не сильно отличаются, но третий выделяется сильнее. Как видно машины марки \"Hyundai\" намного реже получали штрафы в период с 2013-01 до 2013-07 и с 2014-07 до 2015-01.\n",
    "При этом машины, выпущенные до 2000 года, практически не попадали в \"неприятности\", особенно это прослеживается на вышесказанном периоде времени."
   ]
  },
  {
   "cell_type": "markdown",
   "id": "fa1350a1",
   "metadata": {},
   "source": [
    "### Рассмотрим где чаще всего происходили нарушения"
   ]
  },
  {
   "cell_type": "markdown",
   "id": "fe9439ed",
   "metadata": {},
   "source": [
    "Выведем список улиц, которые находятся в топе по количеству нарушений"
   ]
  },
  {
   "cell_type": "code",
   "execution_count": 137,
   "id": "fd9e646d",
   "metadata": {},
   "outputs": [
    {
     "data": {
      "text/plain": [
       "Broadway                19464\n",
       "3rd Ave                 11780\n",
       "5th Ave                 10132\n",
       "Queens Blvd              7953\n",
       "WB FORDHAM RD @ MARI     7239\n",
       "Name: Street Name, dtype: int64"
      ]
     },
     "execution_count": 137,
     "metadata": {},
     "output_type": "execute_result"
    }
   ],
   "source": [
    "dataset['Street Name'].value_counts().head(5)"
   ]
  },
  {
   "cell_type": "markdown",
   "id": "5080aa69",
   "metadata": {},
   "source": [
    "Выведем для вышеперечисленных улиц номера домов, где чаще всего происходят нарушения"
   ]
  },
  {
   "cell_type": "code",
   "execution_count": 135,
   "id": "2aa62d0b",
   "metadata": {},
   "outputs": [
    {
     "data": {
      "text/html": [
       "<div>\n",
       "<style scoped>\n",
       "    .dataframe tbody tr th:only-of-type {\n",
       "        vertical-align: middle;\n",
       "    }\n",
       "\n",
       "    .dataframe tbody tr th {\n",
       "        vertical-align: top;\n",
       "    }\n",
       "\n",
       "    .dataframe thead th {\n",
       "        text-align: right;\n",
       "    }\n",
       "</style>\n",
       "<table border=\"1\" class=\"dataframe\">\n",
       "  <thead>\n",
       "    <tr style=\"text-align: right;\">\n",
       "      <th></th>\n",
       "      <th>Street Name</th>\n",
       "      <th>House Number</th>\n",
       "      <th>freq</th>\n",
       "    </tr>\n",
       "  </thead>\n",
       "  <tbody>\n",
       "    <tr>\n",
       "      <th>0</th>\n",
       "      <td>3rd Ave</td>\n",
       "      <td>W</td>\n",
       "      <td>578</td>\n",
       "    </tr>\n",
       "    <tr>\n",
       "      <th>1687</th>\n",
       "      <td>5th Ave</td>\n",
       "      <td>E</td>\n",
       "      <td>319</td>\n",
       "    </tr>\n",
       "    <tr>\n",
       "      <th>3185</th>\n",
       "      <td>Broadway</td>\n",
       "      <td>W</td>\n",
       "      <td>716</td>\n",
       "    </tr>\n",
       "    <tr>\n",
       "      <th>5573</th>\n",
       "      <td>Queens Blvd</td>\n",
       "      <td>N</td>\n",
       "      <td>395</td>\n",
       "    </tr>\n",
       "  </tbody>\n",
       "</table>\n",
       "</div>"
      ],
      "text/plain": [
       "      Street Name House Number  freq\n",
       "0         3rd Ave            W   578\n",
       "1687      5th Ave            E   319\n",
       "3185     Broadway            W   716\n",
       "5573  Queens Blvd            N   395"
      ]
     },
     "execution_count": 135,
     "metadata": {},
     "output_type": "execute_result"
    }
   ],
   "source": [
    "dataset.loc[dataset['Street Name'].isin(dataset['Street Name'].value_counts().head(5).index)].groupby('Street Name')['House Number'].value_counts().rename_axis(['Street Name','House Number']).reset_index(name='freq').drop_duplicates('Street Name')"
   ]
  },
  {
   "cell_type": "markdown",
   "id": "b71fab32",
   "metadata": {},
   "source": [
    "### Рассмотрим результаты отдельно для машин разных марок"
   ]
  },
  {
   "cell_type": "markdown",
   "id": "215b6da8",
   "metadata": {},
   "source": [
    "#### Dodge"
   ]
  },
  {
   "cell_type": "markdown",
   "id": "3a8c5eae",
   "metadata": {},
   "source": [
    "##### До 2000 года"
   ]
  },
  {
   "cell_type": "code",
   "execution_count": 149,
   "id": "c32cbb26",
   "metadata": {},
   "outputs": [
    {
     "data": {
      "text/plain": [
       "Broadway       358\n",
       "3rd Ave        241\n",
       "Jamaica Ave    171\n",
       "5th Ave        160\n",
       "2nd Ave        152\n",
       "Name: Street Name, dtype: int64"
      ]
     },
     "execution_count": 149,
     "metadata": {},
     "output_type": "execute_result"
    }
   ],
   "source": [
    "dataset.loc[(dataset['Vehicle Make']=='DODGE') & (dataset['Vehicle Year'] < 2000.0)]['Street Name'].value_counts().head(5)"
   ]
  },
  {
   "cell_type": "code",
   "execution_count": 155,
   "id": "85daa8d2",
   "metadata": {},
   "outputs": [
    {
     "data": {
      "text/plain": [
       "<AxesSubplot:>"
      ]
     },
     "execution_count": 155,
     "metadata": {},
     "output_type": "execute_result"
    },
    {
     "data": {
      "image/png": "[encoded data removed]",
      "text/plain": [
       "<Figure size 432x288 with 1 Axes>"
      ]
     },
     "metadata": {
      "needs_background": "light"
     },
     "output_type": "display_data"
    }
   ],
   "source": [
    "dataset.loc[(dataset['Vehicle Make']=='DODGE') & (dataset['Vehicle Year'] < 2000.0)]['Street Name'].value_counts().head(5).plot()"
   ]
  },
  {
   "cell_type": "code",
   "execution_count": 150,
   "id": "9ccb3bf5",
   "metadata": {},
   "outputs": [
    {
     "data": {
      "text/html": [
       "<div>\n",
       "<style scoped>\n",
       "    .dataframe tbody tr th:only-of-type {\n",
       "        vertical-align: middle;\n",
       "    }\n",
       "\n",
       "    .dataframe tbody tr th {\n",
       "        vertical-align: top;\n",
       "    }\n",
       "\n",
       "    .dataframe thead th {\n",
       "        text-align: right;\n",
       "    }\n",
       "</style>\n",
       "<table border=\"1\" class=\"dataframe\">\n",
       "  <thead>\n",
       "    <tr style=\"text-align: right;\">\n",
       "      <th></th>\n",
       "      <th>Street Name</th>\n",
       "      <th>House Number</th>\n",
       "      <th>freq</th>\n",
       "    </tr>\n",
       "  </thead>\n",
       "  <tbody>\n",
       "    <tr>\n",
       "      <th>0</th>\n",
       "      <td>2nd Ave</td>\n",
       "      <td>1546</td>\n",
       "      <td>17</td>\n",
       "    </tr>\n",
       "    <tr>\n",
       "      <th>80</th>\n",
       "      <td>3rd Ave</td>\n",
       "      <td>W</td>\n",
       "      <td>13</td>\n",
       "    </tr>\n",
       "    <tr>\n",
       "      <th>262</th>\n",
       "      <td>5th Ave</td>\n",
       "      <td>E</td>\n",
       "      <td>9</td>\n",
       "    </tr>\n",
       "    <tr>\n",
       "      <th>387</th>\n",
       "      <td>Broadway</td>\n",
       "      <td>W</td>\n",
       "      <td>17</td>\n",
       "    </tr>\n",
       "    <tr>\n",
       "      <th>634</th>\n",
       "      <td>Jamaica Ave</td>\n",
       "      <td>S</td>\n",
       "      <td>6</td>\n",
       "    </tr>\n",
       "  </tbody>\n",
       "</table>\n",
       "</div>"
      ],
      "text/plain": [
       "     Street Name House Number  freq\n",
       "0        2nd Ave         1546    17\n",
       "80       3rd Ave            W    13\n",
       "262      5th Ave            E     9\n",
       "387     Broadway            W    17\n",
       "634  Jamaica Ave            S     6"
      ]
     },
     "execution_count": 150,
     "metadata": {},
     "output_type": "execute_result"
    }
   ],
   "source": [
    "dataset.loc[dataset['Street Name'].isin(dataset.loc[(dataset['Vehicle Make']=='DODGE') & (dataset['Vehicle Year'] < 2000.0)]['Street Name'].value_counts().head(5).index) & (dataset['Vehicle Make']=='DODGE') & (dataset['Vehicle Year'] < 2000.0)].groupby('Street Name')['House Number'].value_counts().rename_axis(['Street Name','House Number']).reset_index(name='freq').drop_duplicates('Street Name')"
   ]
  },
  {
   "cell_type": "markdown",
   "id": "fa0ac082",
   "metadata": {},
   "source": [
    "##### После 2000 года"
   ]
  },
  {
   "cell_type": "code",
   "execution_count": 151,
   "id": "6a245e1d",
   "metadata": {},
   "outputs": [
    {
     "data": {
      "text/plain": [
       "Broadway         4509\n",
       "3rd Ave          3115\n",
       "Madison Ave      2175\n",
       "5th Ave          2063\n",
       "Lexington Ave    1622\n",
       "Name: Street Name, dtype: int64"
      ]
     },
     "execution_count": 151,
     "metadata": {},
     "output_type": "execute_result"
    }
   ],
   "source": [
    "dataset.loc[(dataset['Vehicle Make']=='DODGE') & (dataset['Vehicle Year'] >= 2000.0)]['Street Name'].value_counts().head(5)"
   ]
  },
  {
   "cell_type": "code",
   "execution_count": 156,
   "id": "b970fa4a",
   "metadata": {},
   "outputs": [
    {
     "data": {
      "text/plain": [
       "<AxesSubplot:>"
      ]
     },
     "execution_count": 156,
     "metadata": {},
     "output_type": "execute_result"
    },
    {
     "data": {
      "image/png": "[encoded data removed]",
      "text/plain": [
       "<Figure size 432x288 with 1 Axes>"
      ]
     },
     "metadata": {
      "needs_background": "light"
     },
     "output_type": "display_data"
    }
   ],
   "source": [
    "dataset.loc[(dataset['Vehicle Make']=='DODGE') & (dataset['Vehicle Year'] >= 2000.0)]['Street Name'].value_counts().head(5).plot()"
   ]
  },
  {
   "cell_type": "code",
   "execution_count": 154,
   "id": "75f61ad9",
   "metadata": {
    "scrolled": true
   },
   "outputs": [
    {
     "data": {
      "text/html": [
       "<div>\n",
       "<style scoped>\n",
       "    .dataframe tbody tr th:only-of-type {\n",
       "        vertical-align: middle;\n",
       "    }\n",
       "\n",
       "    .dataframe tbody tr th {\n",
       "        vertical-align: top;\n",
       "    }\n",
       "\n",
       "    .dataframe thead th {\n",
       "        text-align: right;\n",
       "    }\n",
       "</style>\n",
       "<table border=\"1\" class=\"dataframe\">\n",
       "  <thead>\n",
       "    <tr style=\"text-align: right;\">\n",
       "      <th></th>\n",
       "      <th>Street Name</th>\n",
       "      <th>House Number</th>\n",
       "      <th>freq</th>\n",
       "    </tr>\n",
       "  </thead>\n",
       "  <tbody>\n",
       "    <tr>\n",
       "      <th>0</th>\n",
       "      <td>3rd Ave</td>\n",
       "      <td>W</td>\n",
       "      <td>161</td>\n",
       "    </tr>\n",
       "    <tr>\n",
       "      <th>970</th>\n",
       "      <td>5th Ave</td>\n",
       "      <td>E</td>\n",
       "      <td>118</td>\n",
       "    </tr>\n",
       "    <tr>\n",
       "      <th>1776</th>\n",
       "      <td>Broadway</td>\n",
       "      <td>W</td>\n",
       "      <td>169</td>\n",
       "    </tr>\n",
       "    <tr>\n",
       "      <th>3100</th>\n",
       "      <td>Lexington Ave</td>\n",
       "      <td>E</td>\n",
       "      <td>62</td>\n",
       "    </tr>\n",
       "    <tr>\n",
       "      <th>3538</th>\n",
       "      <td>Madison Ave</td>\n",
       "      <td>W</td>\n",
       "      <td>142</td>\n",
       "    </tr>\n",
       "  </tbody>\n",
       "</table>\n",
       "</div>"
      ],
      "text/plain": [
       "        Street Name House Number  freq\n",
       "0           3rd Ave            W   161\n",
       "970         5th Ave            E   118\n",
       "1776       Broadway            W   169\n",
       "3100  Lexington Ave            E    62\n",
       "3538    Madison Ave            W   142"
      ]
     },
     "execution_count": 154,
     "metadata": {},
     "output_type": "execute_result"
    }
   ],
   "source": [
    "dataset.loc[dataset['Street Name'].isin(dataset.loc[(dataset['Vehicle Make']=='DODGE') & (dataset['Vehicle Year'] >= 2000.0)]['Street Name'].value_counts().head(5).index) & (dataset['Vehicle Make']=='DODGE') & (dataset['Vehicle Year'] >= 2000.0)].groupby('Street Name')['House Number'].value_counts().rename_axis(['Street Name','House Number']).reset_index(name='freq').drop_duplicates('Street Name')"
   ]
  },
  {
   "cell_type": "markdown",
   "id": "9286177b",
   "metadata": {},
   "source": [
    "#### Toyota"
   ]
  },
  {
   "cell_type": "markdown",
   "id": "72716293",
   "metadata": {},
   "source": [
    "##### До 2000 года"
   ]
  },
  {
   "cell_type": "code",
   "execution_count": 157,
   "id": "270d2a33",
   "metadata": {},
   "outputs": [
    {
     "data": {
      "text/plain": [
       "Broadway       989\n",
       "Jamaica Ave    737\n",
       "3rd Ave        627\n",
       "Queens Blvd    564\n",
       "5th Ave        558\n",
       "Name: Street Name, dtype: int64"
      ]
     },
     "execution_count": 157,
     "metadata": {},
     "output_type": "execute_result"
    }
   ],
   "source": [
    "dataset.loc[(dataset['Vehicle Make']=='TOYOT') & (dataset['Vehicle Year'] < 2000.0)]['Street Name'].value_counts().head(5)"
   ]
  },
  {
   "cell_type": "code",
   "execution_count": 158,
   "id": "1698f442",
   "metadata": {},
   "outputs": [
    {
     "data": {
      "text/plain": [
       "<AxesSubplot:>"
      ]
     },
     "execution_count": 158,
     "metadata": {},
     "output_type": "execute_result"
    },
    {
     "data": {
      "image/png": "[encoded data removed]",
      "text/plain": [
       "<Figure size 432x288 with 1 Axes>"
      ]
     },
     "metadata": {
      "needs_background": "light"
     },
     "output_type": "display_data"
    }
   ],
   "source": [
    "dataset.loc[(dataset['Vehicle Make']=='TOYOT') & (dataset['Vehicle Year'] < 2000.0)]['Street Name'].value_counts().head(5).plot()"
   ]
  },
  {
   "cell_type": "code",
   "execution_count": 159,
   "id": "92d98c3d",
   "metadata": {},
   "outputs": [
    {
     "data": {
      "text/html": [
       "<div>\n",
       "<style scoped>\n",
       "    .dataframe tbody tr th:only-of-type {\n",
       "        vertical-align: middle;\n",
       "    }\n",
       "\n",
       "    .dataframe tbody tr th {\n",
       "        vertical-align: top;\n",
       "    }\n",
       "\n",
       "    .dataframe thead th {\n",
       "        text-align: right;\n",
       "    }\n",
       "</style>\n",
       "<table border=\"1\" class=\"dataframe\">\n",
       "  <thead>\n",
       "    <tr style=\"text-align: right;\">\n",
       "      <th></th>\n",
       "      <th>Street Name</th>\n",
       "      <th>House Number</th>\n",
       "      <th>freq</th>\n",
       "    </tr>\n",
       "  </thead>\n",
       "  <tbody>\n",
       "    <tr>\n",
       "      <th>0</th>\n",
       "      <td>3rd Ave</td>\n",
       "      <td>W</td>\n",
       "      <td>31</td>\n",
       "    </tr>\n",
       "    <tr>\n",
       "      <th>397</th>\n",
       "      <td>5th Ave</td>\n",
       "      <td>E</td>\n",
       "      <td>13</td>\n",
       "    </tr>\n",
       "    <tr>\n",
       "      <th>781</th>\n",
       "      <td>Broadway</td>\n",
       "      <td>W</td>\n",
       "      <td>36</td>\n",
       "    </tr>\n",
       "    <tr>\n",
       "      <th>1369</th>\n",
       "      <td>Jamaica Ave</td>\n",
       "      <td>S</td>\n",
       "      <td>18</td>\n",
       "    </tr>\n",
       "    <tr>\n",
       "      <th>1859</th>\n",
       "      <td>Queens Blvd</td>\n",
       "      <td>N</td>\n",
       "      <td>29</td>\n",
       "    </tr>\n",
       "  </tbody>\n",
       "</table>\n",
       "</div>"
      ],
      "text/plain": [
       "      Street Name House Number  freq\n",
       "0         3rd Ave            W    31\n",
       "397       5th Ave            E    13\n",
       "781      Broadway            W    36\n",
       "1369  Jamaica Ave            S    18\n",
       "1859  Queens Blvd            N    29"
      ]
     },
     "execution_count": 159,
     "metadata": {},
     "output_type": "execute_result"
    }
   ],
   "source": [
    "dataset.loc[dataset['Street Name'].isin(dataset.loc[(dataset['Vehicle Make']=='TOYOT') & (dataset['Vehicle Year'] < 2000.0)]['Street Name'].value_counts().head(5).index) & (dataset['Vehicle Make']=='TOYOT') & (dataset['Vehicle Year'] < 2000.0)].groupby('Street Name')['House Number'].value_counts().rename_axis(['Street Name','House Number']).reset_index(name='freq').drop_duplicates('Street Name')"
   ]
  },
  {
   "cell_type": "markdown",
   "id": "5cf4e37b",
   "metadata": {},
   "source": [
    "##### После 2000 года"
   ]
  },
  {
   "cell_type": "code",
   "execution_count": 161,
   "id": "888d42f9",
   "metadata": {},
   "outputs": [
    {
     "data": {
      "text/plain": [
       "Broadway                11602\n",
       "3rd Ave                  6399\n",
       "5th Ave                  5907\n",
       "WB FORDHAM RD @ MARI     5490\n",
       "Queens Blvd              4728\n",
       "Name: Street Name, dtype: int64"
      ]
     },
     "execution_count": 161,
     "metadata": {},
     "output_type": "execute_result"
    }
   ],
   "source": [
    "dataset.loc[(dataset['Vehicle Make']=='TOYOT') & (dataset['Vehicle Year'] >= 2000.0)]['Street Name'].value_counts().head(5)"
   ]
  },
  {
   "cell_type": "code",
   "execution_count": 162,
   "id": "62a2cdac",
   "metadata": {},
   "outputs": [
    {
     "data": {
      "text/plain": [
       "<AxesSubplot:>"
      ]
     },
     "execution_count": 162,
     "metadata": {},
     "output_type": "execute_result"
    },
    {
     "data": {
      "image/png": "[encoded data removed]",
      "text/plain": [
       "<Figure size 432x288 with 1 Axes>"
      ]
     },
     "metadata": {
      "needs_background": "light"
     },
     "output_type": "display_data"
    }
   ],
   "source": [
    "dataset.loc[(dataset['Vehicle Make']=='TOYOT') & (dataset['Vehicle Year'] >= 2000.0)]['Street Name'].value_counts().head(5).plot()"
   ]
  },
  {
   "cell_type": "code",
   "execution_count": 160,
   "id": "b42e98c5",
   "metadata": {},
   "outputs": [
    {
     "data": {
      "text/html": [
       "<div>\n",
       "<style scoped>\n",
       "    .dataframe tbody tr th:only-of-type {\n",
       "        vertical-align: middle;\n",
       "    }\n",
       "\n",
       "    .dataframe tbody tr th {\n",
       "        vertical-align: top;\n",
       "    }\n",
       "\n",
       "    .dataframe thead th {\n",
       "        text-align: right;\n",
       "    }\n",
       "</style>\n",
       "<table border=\"1\" class=\"dataframe\">\n",
       "  <thead>\n",
       "    <tr style=\"text-align: right;\">\n",
       "      <th></th>\n",
       "      <th>Street Name</th>\n",
       "      <th>House Number</th>\n",
       "      <th>freq</th>\n",
       "    </tr>\n",
       "  </thead>\n",
       "  <tbody>\n",
       "    <tr>\n",
       "      <th>0</th>\n",
       "      <td>3rd Ave</td>\n",
       "      <td>W</td>\n",
       "      <td>323</td>\n",
       "    </tr>\n",
       "    <tr>\n",
       "      <th>1351</th>\n",
       "      <td>5th Ave</td>\n",
       "      <td>E</td>\n",
       "      <td>143</td>\n",
       "    </tr>\n",
       "    <tr>\n",
       "      <th>2645</th>\n",
       "      <td>Broadway</td>\n",
       "      <td>W</td>\n",
       "      <td>425</td>\n",
       "    </tr>\n",
       "    <tr>\n",
       "      <th>4627</th>\n",
       "      <td>Queens Blvd</td>\n",
       "      <td>N</td>\n",
       "      <td>248</td>\n",
       "    </tr>\n",
       "  </tbody>\n",
       "</table>\n",
       "</div>"
      ],
      "text/plain": [
       "      Street Name House Number  freq\n",
       "0         3rd Ave            W   323\n",
       "1351      5th Ave            E   143\n",
       "2645     Broadway            W   425\n",
       "4627  Queens Blvd            N   248"
      ]
     },
     "execution_count": 160,
     "metadata": {},
     "output_type": "execute_result"
    }
   ],
   "source": [
    "dataset.loc[dataset['Street Name'].isin(dataset.loc[(dataset['Vehicle Make']=='TOYOT') & (dataset['Vehicle Year'] >= 2000.0)]['Street Name'].value_counts().head(5).index) & (dataset['Vehicle Make']=='TOYOT') & (dataset['Vehicle Year'] >= 2000.0)].groupby('Street Name')['House Number'].value_counts().rename_axis(['Street Name','House Number']).reset_index(name='freq').drop_duplicates('Street Name')"
   ]
  },
  {
   "cell_type": "markdown",
   "id": "1316f2d3",
   "metadata": {},
   "source": [
    "#### Hyundai"
   ]
  },
  {
   "cell_type": "markdown",
   "id": "1a692881",
   "metadata": {},
   "source": [
    "##### До 2000 года"
   ]
  },
  {
   "cell_type": "code",
   "execution_count": 141,
   "id": "b5f3ab65",
   "metadata": {
    "scrolled": true
   },
   "outputs": [
    {
     "data": {
      "text/plain": [
       "Broadway                16\n",
       "5th Ave                 14\n",
       "E 3rd St                12\n",
       "HORACE HARDING EXPWY    12\n",
       "3rd Ave                 11\n",
       "Name: Street Name, dtype: int64"
      ]
     },
     "execution_count": 141,
     "metadata": {},
     "output_type": "execute_result"
    }
   ],
   "source": [
    "dataset.loc[(dataset['Vehicle Make']=='HYUND') & (dataset['Vehicle Year'] < 2000.0)]['Street Name'].value_counts().head(5)"
   ]
  },
  {
   "cell_type": "code",
   "execution_count": 164,
   "id": "ceeba587",
   "metadata": {},
   "outputs": [
    {
     "data": {
      "text/plain": [
       "<AxesSubplot:>"
      ]
     },
     "execution_count": 164,
     "metadata": {},
     "output_type": "execute_result"
    },
    {
     "data": {
      "image/png": "[encoded data removed]",
      "text/plain": [
       "<Figure size 432x288 with 1 Axes>"
      ]
     },
     "metadata": {
      "needs_background": "light"
     },
     "output_type": "display_data"
    }
   ],
   "source": [
    "dataset.loc[(dataset['Vehicle Make']=='HYUND') & (dataset['Vehicle Year'] < 2000.0)]['Street Name'].value_counts().head(5).plot()"
   ]
  },
  {
   "cell_type": "code",
   "execution_count": 146,
   "id": "84d8e39d",
   "metadata": {},
   "outputs": [
    {
     "data": {
      "text/html": [
       "<div>\n",
       "<style scoped>\n",
       "    .dataframe tbody tr th:only-of-type {\n",
       "        vertical-align: middle;\n",
       "    }\n",
       "\n",
       "    .dataframe tbody tr th {\n",
       "        vertical-align: top;\n",
       "    }\n",
       "\n",
       "    .dataframe thead th {\n",
       "        text-align: right;\n",
       "    }\n",
       "</style>\n",
       "<table border=\"1\" class=\"dataframe\">\n",
       "  <thead>\n",
       "    <tr style=\"text-align: right;\">\n",
       "      <th></th>\n",
       "      <th>Street Name</th>\n",
       "      <th>House Number</th>\n",
       "      <th>freq</th>\n",
       "    </tr>\n",
       "  </thead>\n",
       "  <tbody>\n",
       "    <tr>\n",
       "      <th>0</th>\n",
       "      <td>3rd Ave</td>\n",
       "      <td>1317</td>\n",
       "      <td>1</td>\n",
       "    </tr>\n",
       "    <tr>\n",
       "      <th>11</th>\n",
       "      <td>5th Ave</td>\n",
       "      <td>E</td>\n",
       "      <td>5</td>\n",
       "    </tr>\n",
       "    <tr>\n",
       "      <th>19</th>\n",
       "      <td>Broadway</td>\n",
       "      <td>E</td>\n",
       "      <td>2</td>\n",
       "    </tr>\n",
       "    <tr>\n",
       "      <th>34</th>\n",
       "      <td>E 3rd St</td>\n",
       "      <td>150</td>\n",
       "      <td>3</td>\n",
       "    </tr>\n",
       "  </tbody>\n",
       "</table>\n",
       "</div>"
      ],
      "text/plain": [
       "   Street Name House Number  freq\n",
       "0      3rd Ave         1317     1\n",
       "11     5th Ave            E     5\n",
       "19    Broadway            E     2\n",
       "34    E 3rd St          150     3"
      ]
     },
     "execution_count": 146,
     "metadata": {},
     "output_type": "execute_result"
    }
   ],
   "source": [
    "dataset.loc[dataset['Street Name'].isin(dataset.loc[(dataset['Vehicle Make']=='HYUND') & (dataset['Vehicle Year'] < 2000.0)]['Street Name'].value_counts().head(5).index) & (dataset['Vehicle Make']=='HYUND') & (dataset['Vehicle Year'] < 2000.0)].groupby('Street Name')['House Number'].value_counts().rename_axis(['Street Name','House Number']).reset_index(name='freq').drop_duplicates('Street Name')"
   ]
  },
  {
   "cell_type": "markdown",
   "id": "2a504b9d",
   "metadata": {},
   "source": [
    "##### После 2000 года"
   ]
  },
  {
   "cell_type": "code",
   "execution_count": 147,
   "id": "e7c896ec",
   "metadata": {},
   "outputs": [
    {
     "data": {
      "text/plain": [
       "Broadway                1990\n",
       "5th Ave                 1430\n",
       "3rd Ave                 1387\n",
       "Queens Blvd             1282\n",
       "HORACE HARDING EXPWY    1173\n",
       "Name: Street Name, dtype: int64"
      ]
     },
     "execution_count": 147,
     "metadata": {},
     "output_type": "execute_result"
    }
   ],
   "source": [
    "dataset.loc[(dataset['Vehicle Make']=='HYUND') & (dataset['Vehicle Year'] >= 2000.0)]['Street Name'].value_counts().head(5)"
   ]
  },
  {
   "cell_type": "code",
   "execution_count": 165,
   "id": "bb8c0995",
   "metadata": {},
   "outputs": [
    {
     "data": {
      "text/plain": [
       "<AxesSubplot:>"
      ]
     },
     "execution_count": 165,
     "metadata": {},
     "output_type": "execute_result"
    },
    {
     "data": {
      "image/png": "[encoded data removed]",
      "text/plain": [
       "<Figure size 432x288 with 1 Axes>"
      ]
     },
     "metadata": {
      "needs_background": "light"
     },
     "output_type": "display_data"
    }
   ],
   "source": [
    "dataset.loc[(dataset['Vehicle Make']=='HYUND') & (dataset['Vehicle Year'] >= 2000.0)]['Street Name'].value_counts().head(5).plot()"
   ]
  },
  {
   "cell_type": "code",
   "execution_count": 148,
   "id": "f2510378",
   "metadata": {},
   "outputs": [
    {
     "data": {
      "text/html": [
       "<div>\n",
       "<style scoped>\n",
       "    .dataframe tbody tr th:only-of-type {\n",
       "        vertical-align: middle;\n",
       "    }\n",
       "\n",
       "    .dataframe tbody tr th {\n",
       "        vertical-align: top;\n",
       "    }\n",
       "\n",
       "    .dataframe thead th {\n",
       "        text-align: right;\n",
       "    }\n",
       "</style>\n",
       "<table border=\"1\" class=\"dataframe\">\n",
       "  <thead>\n",
       "    <tr style=\"text-align: right;\">\n",
       "      <th></th>\n",
       "      <th>Street Name</th>\n",
       "      <th>House Number</th>\n",
       "      <th>freq</th>\n",
       "    </tr>\n",
       "  </thead>\n",
       "  <tbody>\n",
       "    <tr>\n",
       "      <th>0</th>\n",
       "      <td>3rd Ave</td>\n",
       "      <td>W</td>\n",
       "      <td>50</td>\n",
       "    </tr>\n",
       "    <tr>\n",
       "      <th>732</th>\n",
       "      <td>5th Ave</td>\n",
       "      <td>E</td>\n",
       "      <td>31</td>\n",
       "    </tr>\n",
       "    <tr>\n",
       "      <th>1384</th>\n",
       "      <td>Broadway</td>\n",
       "      <td>E</td>\n",
       "      <td>94</td>\n",
       "    </tr>\n",
       "    <tr>\n",
       "      <th>2276</th>\n",
       "      <td>HORACE HARDING EXPWY</td>\n",
       "      <td>183-20</td>\n",
       "      <td>1</td>\n",
       "    </tr>\n",
       "    <tr>\n",
       "      <th>2278</th>\n",
       "      <td>Queens Blvd</td>\n",
       "      <td>N</td>\n",
       "      <td>51</td>\n",
       "    </tr>\n",
       "  </tbody>\n",
       "</table>\n",
       "</div>"
      ],
      "text/plain": [
       "               Street Name House Number  freq\n",
       "0                  3rd Ave            W    50\n",
       "732                5th Ave            E    31\n",
       "1384              Broadway            E    94\n",
       "2276  HORACE HARDING EXPWY       183-20     1\n",
       "2278           Queens Blvd            N    51"
      ]
     },
     "execution_count": 148,
     "metadata": {},
     "output_type": "execute_result"
    }
   ],
   "source": [
    "dataset.loc[dataset['Street Name'].isin(dataset.loc[(dataset['Vehicle Make']=='HYUND') & (dataset['Vehicle Year'] >= 2000.0)]['Street Name'].value_counts().head(5).index) & (dataset['Vehicle Make']=='HYUND') & (dataset['Vehicle Year'] >= 2000.0)].groupby('Street Name')['House Number'].value_counts().rename_axis(['Street Name','House Number']).reset_index(name='freq').drop_duplicates('Street Name')"
   ]
  },
  {
   "cell_type": "markdown",
   "id": "45cdccf1",
   "metadata": {},
   "source": []
  }
 ],
 "metadata": {
  "kernelspec": {
   "display_name": "Python 3 (ipykernel)",
   "language": "python",
   "name": "python3"
  },
  "language_info": {
   "codemirror_mode": {
    "name": "ipython",
    "version": 3
   },
   "file_extension": ".py",
   "mimetype": "text/x-python",
   "name": "python",
   "nbconvert_exporter": "python",
   "pygments_lexer": "ipython3",
   "version": "3.9.1"
  }
 },
 "nbformat": 4,
 "nbformat_minor": 5
}
