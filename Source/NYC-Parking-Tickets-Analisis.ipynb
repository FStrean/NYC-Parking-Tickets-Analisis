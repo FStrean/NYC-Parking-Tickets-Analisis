{
 "cells": [
  {
   "cell_type": "markdown",
   "id": "c3ca183f",
   "metadata": {},
   "source": [
    "# Развёртывание датасета"
   ]
  },
  {
   "cell_type": "markdown",
   "id": "905cd898",
   "metadata": {},
   "source": [
    "Устанавливаем pipenv и создаем виртуальную среду, затем устанавливаем необходимые библиотеки в этой среде"
   ]
  },
  {
   "cell_type": "code",
   "execution_count": 43,
   "id": "d33e40ef",
   "metadata": {
    "scrolled": true
   },
   "outputs": [
    {
     "name": "stdout",
     "output_type": "stream",
     "text": [
      "Requirement already satisfied: pipenv in c:\\users\\sandor\\appdata\\local\\programs\\python\\python39\\lib\\site-packages (2022.1.8)\n",
      "Requirement already satisfied: virtualenv in c:\\users\\sandor\\appdata\\local\\programs\\python\\python39\\lib\\site-packages (from pipenv) (20.13.0)\n",
      "Requirement already satisfied: virtualenv-clone>=0.2.5 in c:\\users\\sandor\\appdata\\local\\programs\\python\\python39\\lib\\site-packages (from pipenv) (0.5.7)\n",
      "Requirement already satisfied: pip>=18.0 in c:\\users\\sandor\\appdata\\local\\programs\\python\\python39\\lib\\site-packages (from pipenv) (22.0.4)\n",
      "Requirement already satisfied: setuptools>=36.2.1 in c:\\users\\sandor\\appdata\\local\\programs\\python\\python39\\lib\\site-packages (from pipenv) (49.2.1)\n",
      "Requirement already satisfied: certifi in c:\\users\\sandor\\appdata\\local\\programs\\python\\python39\\lib\\site-packages (from pipenv) (2021.10.8)\n",
      "Requirement already satisfied: filelock<4,>=3.2 in c:\\users\\sandor\\appdata\\local\\programs\\python\\python39\\lib\\site-packages (from virtualenv->pipenv) (3.4.2)\n",
      "Requirement already satisfied: six<2,>=1.9.0 in c:\\users\\sandor\\appdata\\roaming\\python\\python39\\site-packages (from virtualenv->pipenv) (1.15.0)\n",
      "Requirement already satisfied: platformdirs<3,>=2 in c:\\users\\sandor\\appdata\\local\\programs\\python\\python39\\lib\\site-packages (from virtualenv->pipenv) (2.4.1)\n",
      "Requirement already satisfied: distlib<1,>=0.3.1 in c:\\users\\sandor\\appdata\\local\\programs\\python\\python39\\lib\\site-packages (from virtualenv->pipenv) (0.3.4)\n",
      "Installing pandas...\n",
      "\n",
      "Installing dependencies from Pipfile.lock (5de21f)...\n",
      "To activate this project's virtualenv, run pipenv shell.\n",
      "Alternatively, run a command inside the virtualenv with pipenv run.\n"
     ]
    },
    {
     "name": "stderr",
     "output_type": "stream",
     "text": [
      "\n",
      "[    ] Installing...\b\n",
      "[=   ] Installing pandas...\b\n",
      "[==  ] Installing pandas...\b\n",
      "[=== ] Installing pandas...\b\n",
      "[ ===] Installing pandas...\b\n",
      "[  ==] Installing pandas...\b\n",
      "[   =] Installing pandas...\b\n",
      "[    ] Installing pandas...\b\n",
      "[   =] Installing pandas...\b\n",
      "[  ==] Installing pandas...\b\n",
      "[ ===] Installing pandas...\b\n",
      "[====] Installing pandas...\b\n",
      "[=== ] Installing pandas...\b\n",
      "[==  ] Installing pandas...\b\n",
      "[=   ] Installing pandas...\b\n",
      "[    ] Installing pandas...\b\n",
      "[=   ] Installing pandas...\b\n",
      "[==  ] Installing pandas...\b\n",
      "[=== ] Installing pandas...\b\n",
      "[ ===] Installing pandas...\b\n",
      "[  ==] Installing pandas...\b\n",
      "[   =] Installing pandas...\b\n",
      "[    ] Installing pandas...\b\n",
      "[   =] Installing pandas...\b\n",
      "[  ==] Installing pandas...\n",
      "Adding pandas to Pipfile's [packages]...\n",
      "\bInstallation Succeeded \n"
     ]
    },
    {
     "name": "stdout",
     "output_type": "stream",
     "text": [
      "Installing sklearn...\n",
      "\n",
      "Installing dependencies from Pipfile.lock (5de21f)...\n",
      "To activate this project's virtualenv, run pipenv shell.\n",
      "Alternatively, run a command inside the virtualenv with pipenv run.\n"
     ]
    },
    {
     "name": "stderr",
     "output_type": "stream",
     "text": [
      "\n",
      "[    ] Installing...\b\n",
      "[=   ] Installing sklearn...\b\n",
      "[==  ] Installing sklearn...\b\n",
      "[=== ] Installing sklearn...\b\n",
      "[ ===] Installing sklearn...\b\n",
      "[  ==] Installing sklearn...\b\n",
      "[   =] Installing sklearn...\b\n",
      "[    ] Installing sklearn...\b\n",
      "[   =] Installing sklearn...\b\n",
      "[  ==] Installing sklearn...\b\n",
      "[ ===] Installing sklearn...\b\n",
      "[====] Installing sklearn...\b\n",
      "[=== ] Installing sklearn...\b\n",
      "[==  ] Installing sklearn...\b\n",
      "[=   ] Installing sklearn...\b\n",
      "[    ] Installing sklearn...\b\n",
      "[=   ] Installing sklearn...\b\n",
      "[==  ] Installing sklearn...\b\n",
      "[=== ] Installing sklearn...\n",
      "Adding sklearn to Pipfile's [packages]...\n",
      "\bInstallation Succeeded \n"
     ]
    }
   ],
   "source": [
    "! pip install --user pipenv\n",
    "! pipenv install pandas\n",
    "! pipenv install sklearn"
   ]
  },
  {
   "cell_type": "markdown",
   "id": "34ab4a46",
   "metadata": {},
   "source": [
    "Импортируем необходимые библиотеки"
   ]
  },
  {
   "cell_type": "code",
   "execution_count": 1,
   "id": "95bf2d01",
   "metadata": {},
   "outputs": [],
   "source": [
    "import pandas as pd"
   ]
  },
  {
   "cell_type": "markdown",
   "id": "b16f80d0",
   "metadata": {},
   "source": [
    "Загружаем данные, после чего удаляем пустые колонки"
   ]
  },
  {
   "cell_type": "code",
   "execution_count": 2,
   "id": "4263b10e",
   "metadata": {},
   "outputs": [
    {
     "name": "stderr",
     "output_type": "stream",
     "text": [
      "c:\\users\\sandor\\appdata\\local\\programs\\python\\python39\\lib\\site-packages\\IPython\\core\\interactiveshell.py:3444: DtypeWarning: Columns (17,18,20,21,22,23,29,30,31,32,36,38,39) have mixed types.Specify dtype option on import or set low_memory=False.\n",
      "  exec(code_obj, self.user_global_ns, self.user_ns)\n"
     ]
    }
   ],
   "source": [
    "dataset = pd.read_csv('Parking_Violations_Issued_-_Fiscal_Year_2014__August_2013___June_2014_.csv', \n",
    "                   dtype={'Violation Location' : object})\n",
    "\n",
    "#Drop null columns\n",
    "dataset.drop(dataset.columns[range(40, 51)], axis=1, inplace=True)"
   ]
  },
  {
   "cell_type": "markdown",
   "id": "e72fdee5",
   "metadata": {},
   "source": [
    "Делаем поле 'Issue Date' индексом нашего датасета"
   ]
  },
  {
   "cell_type": "code",
   "execution_count": 3,
   "id": "be37c7c2",
   "metadata": {},
   "outputs": [],
   "source": [
    "dataset['Issue Date'] = dataset['Issue Date'].apply(pd.to_datetime)"
   ]
  },
  {
   "cell_type": "code",
   "execution_count": 4,
   "id": "e457b645",
   "metadata": {},
   "outputs": [
    {
     "data": {
      "text/html": [
       "<div>\n",
       "<style scoped>\n",
       "    .dataframe tbody tr th:only-of-type {\n",
       "        vertical-align: middle;\n",
       "    }\n",
       "\n",
       "    .dataframe tbody tr th {\n",
       "        vertical-align: top;\n",
       "    }\n",
       "\n",
       "    .dataframe thead th {\n",
       "        text-align: right;\n",
       "    }\n",
       "</style>\n",
       "<table border=\"1\" class=\"dataframe\">\n",
       "  <thead>\n",
       "    <tr style=\"text-align: right;\">\n",
       "      <th></th>\n",
       "      <th>Summons Number</th>\n",
       "      <th>Plate ID</th>\n",
       "      <th>Registration State</th>\n",
       "      <th>Plate Type</th>\n",
       "      <th>Issue Date</th>\n",
       "      <th>Violation Code</th>\n",
       "      <th>Vehicle Body Type</th>\n",
       "      <th>Vehicle Make</th>\n",
       "      <th>Issuing Agency</th>\n",
       "      <th>Street Code1</th>\n",
       "      <th>...</th>\n",
       "      <th>Days Parking In Effect</th>\n",
       "      <th>From Hours In Effect</th>\n",
       "      <th>To Hours In Effect</th>\n",
       "      <th>Vehicle Color</th>\n",
       "      <th>Unregistered Vehicle?</th>\n",
       "      <th>Vehicle Year</th>\n",
       "      <th>Meter Number</th>\n",
       "      <th>Feet From Curb</th>\n",
       "      <th>Violation Post Code</th>\n",
       "      <th>Violation Description</th>\n",
       "    </tr>\n",
       "  </thead>\n",
       "  <tbody>\n",
       "    <tr>\n",
       "      <th>5</th>\n",
       "      <td>1283294217</td>\n",
       "      <td>T60DAR</td>\n",
       "      <td>NJ</td>\n",
       "      <td>PAS</td>\n",
       "      <td>2013-08-11</td>\n",
       "      <td>14</td>\n",
       "      <td>P-U</td>\n",
       "      <td>DODGE</td>\n",
       "      <td>P</td>\n",
       "      <td>37250</td>\n",
       "      <td>...</td>\n",
       "      <td>BBBBBBB</td>\n",
       "      <td>ALL</td>\n",
       "      <td>ALL</td>\n",
       "      <td>RD</td>\n",
       "      <td>0.0</td>\n",
       "      <td>0.0</td>\n",
       "      <td>-</td>\n",
       "      <td>0.0</td>\n",
       "      <td>NaN</td>\n",
       "      <td>NaN</td>\n",
       "    </tr>\n",
       "    <tr>\n",
       "      <th>8</th>\n",
       "      <td>1283983631</td>\n",
       "      <td>GBH9379</td>\n",
       "      <td>NY</td>\n",
       "      <td>PAS</td>\n",
       "      <td>2013-08-07</td>\n",
       "      <td>24</td>\n",
       "      <td>SDN</td>\n",
       "      <td>TOYOT</td>\n",
       "      <td>X</td>\n",
       "      <td>63430</td>\n",
       "      <td>...</td>\n",
       "      <td>BBBBBBB</td>\n",
       "      <td>ALL</td>\n",
       "      <td>ALL</td>\n",
       "      <td>WHITE</td>\n",
       "      <td>0.0</td>\n",
       "      <td>2001.0</td>\n",
       "      <td>-</td>\n",
       "      <td>0.0</td>\n",
       "      <td>NaN</td>\n",
       "      <td>NaN</td>\n",
       "    </tr>\n",
       "    <tr>\n",
       "      <th>10</th>\n",
       "      <td>1283983679</td>\n",
       "      <td>M367CN</td>\n",
       "      <td>NY</td>\n",
       "      <td>PAS</td>\n",
       "      <td>2013-07-18</td>\n",
       "      <td>24</td>\n",
       "      <td>SDN</td>\n",
       "      <td>HYUND</td>\n",
       "      <td>H</td>\n",
       "      <td>0</td>\n",
       "      <td>...</td>\n",
       "      <td>BBBBBBB</td>\n",
       "      <td>ALL</td>\n",
       "      <td>ALL</td>\n",
       "      <td>BLUE</td>\n",
       "      <td>0.0</td>\n",
       "      <td>2010.0</td>\n",
       "      <td>-</td>\n",
       "      <td>0.0</td>\n",
       "      <td>NaN</td>\n",
       "      <td>NaN</td>\n",
       "    </tr>\n",
       "    <tr>\n",
       "      <th>11</th>\n",
       "      <td>1283983734</td>\n",
       "      <td>GAR6813</td>\n",
       "      <td>NY</td>\n",
       "      <td>PAS</td>\n",
       "      <td>2013-07-18</td>\n",
       "      <td>24</td>\n",
       "      <td>SDN</td>\n",
       "      <td>TOYOT</td>\n",
       "      <td>H</td>\n",
       "      <td>0</td>\n",
       "      <td>...</td>\n",
       "      <td>BBBBBBB</td>\n",
       "      <td>ALL</td>\n",
       "      <td>ALL</td>\n",
       "      <td>TAN</td>\n",
       "      <td>0.0</td>\n",
       "      <td>1998.0</td>\n",
       "      <td>-</td>\n",
       "      <td>0.0</td>\n",
       "      <td>NaN</td>\n",
       "      <td>NaN</td>\n",
       "    </tr>\n",
       "    <tr>\n",
       "      <th>16</th>\n",
       "      <td>1286246398</td>\n",
       "      <td>GFC5338</td>\n",
       "      <td>NY</td>\n",
       "      <td>PAS</td>\n",
       "      <td>2013-07-26</td>\n",
       "      <td>14</td>\n",
       "      <td>SDN</td>\n",
       "      <td>TOYOT</td>\n",
       "      <td>T</td>\n",
       "      <td>0</td>\n",
       "      <td>...</td>\n",
       "      <td>YYYYYYY</td>\n",
       "      <td>0800A</td>\n",
       "      <td>1000P</td>\n",
       "      <td>GRAY</td>\n",
       "      <td>0.0</td>\n",
       "      <td>2010.0</td>\n",
       "      <td>-</td>\n",
       "      <td>0.0</td>\n",
       "      <td>NaN</td>\n",
       "      <td>NaN</td>\n",
       "    </tr>\n",
       "  </tbody>\n",
       "</table>\n",
       "<p>5 rows × 40 columns</p>\n",
       "</div>"
      ],
      "text/plain": [
       "    Summons Number Plate ID Registration State Plate Type Issue Date  \\\n",
       "5       1283294217   T60DAR                 NJ        PAS 2013-08-11   \n",
       "8       1283983631  GBH9379                 NY        PAS 2013-08-07   \n",
       "10      1283983679   M367CN                 NY        PAS 2013-07-18   \n",
       "11      1283983734  GAR6813                 NY        PAS 2013-07-18   \n",
       "16      1286246398  GFC5338                 NY        PAS 2013-07-26   \n",
       "\n",
       "    Violation Code Vehicle Body Type Vehicle Make Issuing Agency  \\\n",
       "5               14               P-U        DODGE              P   \n",
       "8               24               SDN        TOYOT              X   \n",
       "10              24               SDN        HYUND              H   \n",
       "11              24               SDN        TOYOT              H   \n",
       "16              14               SDN        TOYOT              T   \n",
       "\n",
       "    Street Code1  ...  Days Parking In Effect      From Hours In Effect  \\\n",
       "5          37250  ...                     BBBBBBB                   ALL   \n",
       "8          63430  ...                     BBBBBBB                   ALL   \n",
       "10             0  ...                     BBBBBBB                   ALL   \n",
       "11             0  ...                     BBBBBBB                   ALL   \n",
       "16             0  ...                     YYYYYYY                 0800A   \n",
       "\n",
       "    To Hours In Effect Vehicle Color  Unregistered Vehicle?  Vehicle Year  \\\n",
       "5                  ALL            RD                    0.0           0.0   \n",
       "8                  ALL         WHITE                    0.0        2001.0   \n",
       "10                 ALL          BLUE                    0.0        2010.0   \n",
       "11                 ALL           TAN                    0.0        1998.0   \n",
       "16               1000P          GRAY                    0.0        2010.0   \n",
       "\n",
       "    Meter Number Feet From Curb Violation Post Code Violation Description  \n",
       "5              -            0.0                 NaN                   NaN  \n",
       "8              -            0.0                 NaN                   NaN  \n",
       "10             -            0.0                 NaN                   NaN  \n",
       "11             -            0.0                 NaN                   NaN  \n",
       "16             -            0.0                 NaN                   NaN  \n",
       "\n",
       "[5 rows x 40 columns]"
      ]
     },
     "execution_count": 4,
     "metadata": {},
     "output_type": "execute_result"
    }
   ],
   "source": [
    "df = dataset.loc[(dataset['Vehicle Make'].isin(['DODGE', 'TOYOT', 'HYUND'])) & (dataset['Issue Date'] >= pd.Timestamp('2013-01-01')) & (dataset['Issue Date'] <= pd.Timestamp('2015-01-01'))]\n",
    "df.head()"
   ]
  },
  {
   "cell_type": "code",
   "execution_count": 55,
   "id": "a0930c63",
   "metadata": {},
   "outputs": [],
   "source": []
  }
 ],
 "metadata": {
  "kernelspec": {
   "display_name": "Python 3 (ipykernel)",
   "language": "python",
   "name": "python3"
  },
  "language_info": {
   "codemirror_mode": {
    "name": "ipython",
    "version": 3
   },
   "file_extension": ".py",
   "mimetype": "text/x-python",
   "name": "python",
   "nbconvert_exporter": "python",
   "pygments_lexer": "ipython3",
   "version": "3.9.1"
  }
 },
 "nbformat": 4,
 "nbformat_minor": 5
}
