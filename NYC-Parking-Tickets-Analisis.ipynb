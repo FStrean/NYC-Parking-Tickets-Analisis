{
 "cells": [
  {
   "cell_type": "markdown",
   "id": "c3ca183f",
   "metadata": {},
   "source": [
    "# Развёртывание датасета"
   ]
  },
  {
   "cell_type": "markdown",
   "id": "34ab4a46",
   "metadata": {},
   "source": [
    "Импортируем необходимые библиотеки"
   ]
  },
  {
   "cell_type": "code",
   "execution_count": 196,
   "id": "95bf2d01",
   "metadata": {},
   "outputs": [],
   "source": [
    "import numpy as np\n",
    "import pandas as pd\n",
    "\n",
    "import matplotlib.pyplot as plt\n",
    "%matplotlib inline\n",
    "\n",
    "from statsmodels.tsa.stattools import adfuller\n",
    "from pandas.plotting import autocorrelation_plot\n",
    "\n",
    "\n",
    "\n",
    "from statsmodels.graphics.tsaplots import plot_acf,plot_pacf\n",
    "import statsmodels.api as sm\n",
    "from pandas.tseries.offsets import DateOffset"
   ]
  },
  {
   "cell_type": "markdown",
   "id": "b16f80d0",
   "metadata": {},
   "source": [
    "Загружаем данные"
   ]
  },
  {
   "cell_type": "code",
   "execution_count": 197,
   "id": "4263b10e",
   "metadata": {
    "scrolled": true
   },
   "outputs": [],
   "source": [
    "dataset = pd.concat(map(lambda file: pd.read_csv(file, usecols=['Issue Date', 'Vehicle Make', 'House Number', 'Street Name', 'Vehicle Year'], \n",
    "                    dtype={'Issue Date' : 'object', 'Vehicle Make' : 'object', 'House Number' : 'object', 'Street Name' : 'object', 'Vehicle Year' : 'float64'}, \n",
    "                    parse_dates=['Issue Date']), \n",
    "                   ['Parking_Violations_Issued_-_Fiscal_Year_2014__August_2013___June_2014_.csv', \n",
    "                    'Parking_Violations_Issued_-_Fiscal_Year_2015.csv',\n",
    "                    'Parking_Violations_Issued_-_Fiscal_Year_2016.csv', \n",
    "                    'Parking_Violations_Issued_-_Fiscal_Year_2017.csv']))"
   ]
  },
  {
   "cell_type": "markdown",
   "id": "d6c7eba9",
   "metadata": {},
   "source": [
    "Оставляем в датасете только те строки, в которых автомобиль одна из трёх следующих марок: 'DODGE', 'TOYOT', 'HYUND', а дата \"происшествия\" находится в периоде между 2013-07-7 и 2017-03-10."
   ]
  },
  {
   "cell_type": "code",
   "execution_count": 198,
   "id": "e457b645",
   "metadata": {},
   "outputs": [],
   "source": [
    "dataset = dataset.loc[(dataset['Vehicle Make'].isin(['DODGE', 'TOYOT', 'HYUND'])) & \n",
    "                      ((dataset['Issue Date'] >= pd.Timestamp('2013-07-7')) & (dataset['Issue Date'] <= pd.Timestamp('2017-03-10'))) & \n",
    "                      ((dataset['Vehicle Year'] >= 1900.0) & (dataset['Vehicle Year'] <= 2015.0))]"
   ]
  },
  {
   "cell_type": "code",
   "execution_count": 199,
   "id": "6ec9687d",
   "metadata": {},
   "outputs": [
    {
     "data": {
      "text/html": [
       "<div>\n",
       "<style scoped>\n",
       "    .dataframe tbody tr th:only-of-type {\n",
       "        vertical-align: middle;\n",
       "    }\n",
       "\n",
       "    .dataframe tbody tr th {\n",
       "        vertical-align: top;\n",
       "    }\n",
       "\n",
       "    .dataframe thead th {\n",
       "        text-align: right;\n",
       "    }\n",
       "</style>\n",
       "<table border=\"1\" class=\"dataframe\">\n",
       "  <thead>\n",
       "    <tr style=\"text-align: right;\">\n",
       "      <th></th>\n",
       "      <th>Issue Date</th>\n",
       "      <th>Vehicle Make</th>\n",
       "      <th>House Number</th>\n",
       "      <th>Street Name</th>\n",
       "      <th>Vehicle Year</th>\n",
       "    </tr>\n",
       "  </thead>\n",
       "  <tbody>\n",
       "    <tr>\n",
       "      <th>8</th>\n",
       "      <td>2013-08-07</td>\n",
       "      <td>TOYOT</td>\n",
       "      <td>100</td>\n",
       "      <td>N.PORTLAND AVE</td>\n",
       "      <td>2001.0</td>\n",
       "    </tr>\n",
       "    <tr>\n",
       "      <th>10</th>\n",
       "      <td>2013-07-18</td>\n",
       "      <td>HYUND</td>\n",
       "      <td>NaN</td>\n",
       "      <td>760 BROADWAY BROOKLY</td>\n",
       "      <td>2010.0</td>\n",
       "    </tr>\n",
       "    <tr>\n",
       "      <th>11</th>\n",
       "      <td>2013-07-18</td>\n",
       "      <td>TOYOT</td>\n",
       "      <td>NaN</td>\n",
       "      <td>760 BROADWAY BROOKLY</td>\n",
       "      <td>1998.0</td>\n",
       "    </tr>\n",
       "    <tr>\n",
       "      <th>16</th>\n",
       "      <td>2013-07-26</td>\n",
       "      <td>TOYOT</td>\n",
       "      <td>145</td>\n",
       "      <td>PROSPECT PKWAY</td>\n",
       "      <td>2010.0</td>\n",
       "    </tr>\n",
       "    <tr>\n",
       "      <th>23</th>\n",
       "      <td>2013-07-20</td>\n",
       "      <td>TOYOT</td>\n",
       "      <td>NaN</td>\n",
       "      <td>E/S RIVER TER.</td>\n",
       "      <td>2003.0</td>\n",
       "    </tr>\n",
       "  </tbody>\n",
       "</table>\n",
       "</div>"
      ],
      "text/plain": [
       "   Issue Date Vehicle Make House Number           Street Name  Vehicle Year\n",
       "8  2013-08-07        TOYOT          100        N.PORTLAND AVE        2001.0\n",
       "10 2013-07-18        HYUND          NaN  760 BROADWAY BROOKLY        2010.0\n",
       "11 2013-07-18        TOYOT          NaN  760 BROADWAY BROOKLY        1998.0\n",
       "16 2013-07-26        TOYOT          145        PROSPECT PKWAY        2010.0\n",
       "23 2013-07-20        TOYOT          NaN        E/S RIVER TER.        2003.0"
      ]
     },
     "execution_count": 199,
     "metadata": {},
     "output_type": "execute_result"
    }
   ],
   "source": [
    "dataset.head()"
   ]
  },
  {
   "cell_type": "code",
   "execution_count": 200,
   "id": "8e9cfe9b",
   "metadata": {},
   "outputs": [
    {
     "data": {
      "text/html": [
       "<div>\n",
       "<style scoped>\n",
       "    .dataframe tbody tr th:only-of-type {\n",
       "        vertical-align: middle;\n",
       "    }\n",
       "\n",
       "    .dataframe tbody tr th {\n",
       "        vertical-align: top;\n",
       "    }\n",
       "\n",
       "    .dataframe thead th {\n",
       "        text-align: right;\n",
       "    }\n",
       "</style>\n",
       "<table border=\"1\" class=\"dataframe\">\n",
       "  <thead>\n",
       "    <tr style=\"text-align: right;\">\n",
       "      <th></th>\n",
       "      <th>Issue Date</th>\n",
       "      <th>Vehicle Make</th>\n",
       "      <th>House Number</th>\n",
       "      <th>Street Name</th>\n",
       "      <th>Vehicle Year</th>\n",
       "    </tr>\n",
       "  </thead>\n",
       "  <tbody>\n",
       "    <tr>\n",
       "      <th>10799283</th>\n",
       "      <td>2016-06-30</td>\n",
       "      <td>TOYOT</td>\n",
       "      <td>NaN</td>\n",
       "      <td>TERMINAL 8 OUTER RDW</td>\n",
       "      <td>2012.0</td>\n",
       "    </tr>\n",
       "    <tr>\n",
       "      <th>10799288</th>\n",
       "      <td>2016-06-30</td>\n",
       "      <td>TOYOT</td>\n",
       "      <td>NaN</td>\n",
       "      <td>TERMINAL 7 ARRIVALS</td>\n",
       "      <td>2015.0</td>\n",
       "    </tr>\n",
       "    <tr>\n",
       "      <th>10799294</th>\n",
       "      <td>2016-06-30</td>\n",
       "      <td>TOYOT</td>\n",
       "      <td>NaN</td>\n",
       "      <td>F/O OLD TERMINAL 6 J</td>\n",
       "      <td>2007.0</td>\n",
       "    </tr>\n",
       "    <tr>\n",
       "      <th>10799299</th>\n",
       "      <td>2016-06-30</td>\n",
       "      <td>TOYOT</td>\n",
       "      <td>1489</td>\n",
       "      <td>WEST AVE</td>\n",
       "      <td>2006.0</td>\n",
       "    </tr>\n",
       "    <tr>\n",
       "      <th>10799300</th>\n",
       "      <td>2016-06-30</td>\n",
       "      <td>TOYOT</td>\n",
       "      <td>1551</td>\n",
       "      <td>UNIONPORT RD</td>\n",
       "      <td>2001.0</td>\n",
       "    </tr>\n",
       "  </tbody>\n",
       "</table>\n",
       "</div>"
      ],
      "text/plain": [
       "         Issue Date Vehicle Make House Number           Street Name  \\\n",
       "10799283 2016-06-30        TOYOT          NaN  TERMINAL 8 OUTER RDW   \n",
       "10799288 2016-06-30        TOYOT          NaN   TERMINAL 7 ARRIVALS   \n",
       "10799294 2016-06-30        TOYOT          NaN  F/O OLD TERMINAL 6 J   \n",
       "10799299 2016-06-30        TOYOT         1489              WEST AVE   \n",
       "10799300 2016-06-30        TOYOT         1551          UNIONPORT RD   \n",
       "\n",
       "          Vehicle Year  \n",
       "10799283        2012.0  \n",
       "10799288        2015.0  \n",
       "10799294        2007.0  \n",
       "10799299        2006.0  \n",
       "10799300        2001.0  "
      ]
     },
     "execution_count": 200,
     "metadata": {},
     "output_type": "execute_result"
    }
   ],
   "source": [
    "dataset.tail()"
   ]
  },
  {
   "cell_type": "code",
   "execution_count": 201,
   "id": "01bb9910",
   "metadata": {},
   "outputs": [],
   "source": [
    "dataset.set_index('Issue Date',inplace=True)"
   ]
  },
  {
   "cell_type": "code",
   "execution_count": 202,
   "id": "10a20c7f",
   "metadata": {},
   "outputs": [
    {
     "data": {
      "text/html": [
       "<div>\n",
       "<style scoped>\n",
       "    .dataframe tbody tr th:only-of-type {\n",
       "        vertical-align: middle;\n",
       "    }\n",
       "\n",
       "    .dataframe tbody tr th {\n",
       "        vertical-align: top;\n",
       "    }\n",
       "\n",
       "    .dataframe thead th {\n",
       "        text-align: right;\n",
       "    }\n",
       "</style>\n",
       "<table border=\"1\" class=\"dataframe\">\n",
       "  <thead>\n",
       "    <tr style=\"text-align: right;\">\n",
       "      <th></th>\n",
       "      <th>Vehicle Make</th>\n",
       "      <th>House Number</th>\n",
       "      <th>Street Name</th>\n",
       "      <th>Vehicle Year</th>\n",
       "    </tr>\n",
       "    <tr>\n",
       "      <th>Issue Date</th>\n",
       "      <th></th>\n",
       "      <th></th>\n",
       "      <th></th>\n",
       "      <th></th>\n",
       "    </tr>\n",
       "  </thead>\n",
       "  <tbody>\n",
       "    <tr>\n",
       "      <th>2013-08-07</th>\n",
       "      <td>TOYOT</td>\n",
       "      <td>100</td>\n",
       "      <td>N.PORTLAND AVE</td>\n",
       "      <td>2001.0</td>\n",
       "    </tr>\n",
       "    <tr>\n",
       "      <th>2013-07-18</th>\n",
       "      <td>HYUND</td>\n",
       "      <td>NaN</td>\n",
       "      <td>760 BROADWAY BROOKLY</td>\n",
       "      <td>2010.0</td>\n",
       "    </tr>\n",
       "    <tr>\n",
       "      <th>2013-07-18</th>\n",
       "      <td>TOYOT</td>\n",
       "      <td>NaN</td>\n",
       "      <td>760 BROADWAY BROOKLY</td>\n",
       "      <td>1998.0</td>\n",
       "    </tr>\n",
       "    <tr>\n",
       "      <th>2013-07-26</th>\n",
       "      <td>TOYOT</td>\n",
       "      <td>145</td>\n",
       "      <td>PROSPECT PKWAY</td>\n",
       "      <td>2010.0</td>\n",
       "    </tr>\n",
       "    <tr>\n",
       "      <th>2013-07-20</th>\n",
       "      <td>TOYOT</td>\n",
       "      <td>NaN</td>\n",
       "      <td>E/S RIVER TER.</td>\n",
       "      <td>2003.0</td>\n",
       "    </tr>\n",
       "  </tbody>\n",
       "</table>\n",
       "</div>"
      ],
      "text/plain": [
       "           Vehicle Make House Number           Street Name  Vehicle Year\n",
       "Issue Date                                                              \n",
       "2013-08-07        TOYOT          100        N.PORTLAND AVE        2001.0\n",
       "2013-07-18        HYUND          NaN  760 BROADWAY BROOKLY        2010.0\n",
       "2013-07-18        TOYOT          NaN  760 BROADWAY BROOKLY        1998.0\n",
       "2013-07-26        TOYOT          145        PROSPECT PKWAY        2010.0\n",
       "2013-07-20        TOYOT          NaN        E/S RIVER TER.        2003.0"
      ]
     },
     "execution_count": 202,
     "metadata": {},
     "output_type": "execute_result"
    }
   ],
   "source": [
    "dataset.head()"
   ]
  },
  {
   "cell_type": "code",
   "execution_count": 203,
   "id": "49416978",
   "metadata": {},
   "outputs": [
    {
     "data": {
      "text/html": [
       "<div>\n",
       "<style scoped>\n",
       "    .dataframe tbody tr th:only-of-type {\n",
       "        vertical-align: middle;\n",
       "    }\n",
       "\n",
       "    .dataframe tbody tr th {\n",
       "        vertical-align: top;\n",
       "    }\n",
       "\n",
       "    .dataframe thead th {\n",
       "        text-align: right;\n",
       "    }\n",
       "</style>\n",
       "<table border=\"1\" class=\"dataframe\">\n",
       "  <thead>\n",
       "    <tr style=\"text-align: right;\">\n",
       "      <th></th>\n",
       "      <th>Vehicle Make</th>\n",
       "      <th>House Number</th>\n",
       "      <th>Street Name</th>\n",
       "      <th>Vehicle Year</th>\n",
       "    </tr>\n",
       "    <tr>\n",
       "      <th>Issue Date</th>\n",
       "      <th></th>\n",
       "      <th></th>\n",
       "      <th></th>\n",
       "      <th></th>\n",
       "    </tr>\n",
       "  </thead>\n",
       "  <tbody>\n",
       "    <tr>\n",
       "      <th>2016-06-30</th>\n",
       "      <td>TOYOT</td>\n",
       "      <td>NaN</td>\n",
       "      <td>TERMINAL 8 OUTER RDW</td>\n",
       "      <td>2012.0</td>\n",
       "    </tr>\n",
       "    <tr>\n",
       "      <th>2016-06-30</th>\n",
       "      <td>TOYOT</td>\n",
       "      <td>NaN</td>\n",
       "      <td>TERMINAL 7 ARRIVALS</td>\n",
       "      <td>2015.0</td>\n",
       "    </tr>\n",
       "    <tr>\n",
       "      <th>2016-06-30</th>\n",
       "      <td>TOYOT</td>\n",
       "      <td>NaN</td>\n",
       "      <td>F/O OLD TERMINAL 6 J</td>\n",
       "      <td>2007.0</td>\n",
       "    </tr>\n",
       "    <tr>\n",
       "      <th>2016-06-30</th>\n",
       "      <td>TOYOT</td>\n",
       "      <td>1489</td>\n",
       "      <td>WEST AVE</td>\n",
       "      <td>2006.0</td>\n",
       "    </tr>\n",
       "    <tr>\n",
       "      <th>2016-06-30</th>\n",
       "      <td>TOYOT</td>\n",
       "      <td>1551</td>\n",
       "      <td>UNIONPORT RD</td>\n",
       "      <td>2001.0</td>\n",
       "    </tr>\n",
       "  </tbody>\n",
       "</table>\n",
       "</div>"
      ],
      "text/plain": [
       "           Vehicle Make House Number           Street Name  Vehicle Year\n",
       "Issue Date                                                              \n",
       "2016-06-30        TOYOT          NaN  TERMINAL 8 OUTER RDW        2012.0\n",
       "2016-06-30        TOYOT          NaN   TERMINAL 7 ARRIVALS        2015.0\n",
       "2016-06-30        TOYOT          NaN  F/O OLD TERMINAL 6 J        2007.0\n",
       "2016-06-30        TOYOT         1489              WEST AVE        2006.0\n",
       "2016-06-30        TOYOT         1551          UNIONPORT RD        2001.0"
      ]
     },
     "execution_count": 203,
     "metadata": {},
     "output_type": "execute_result"
    }
   ],
   "source": [
    "dataset.tail()"
   ]
  },
  {
   "cell_type": "code",
   "execution_count": 204,
   "id": "a0930c63",
   "metadata": {},
   "outputs": [
    {
     "data": {
      "text/html": [
       "<div>\n",
       "<style scoped>\n",
       "    .dataframe tbody tr th:only-of-type {\n",
       "        vertical-align: middle;\n",
       "    }\n",
       "\n",
       "    .dataframe tbody tr th {\n",
       "        vertical-align: top;\n",
       "    }\n",
       "\n",
       "    .dataframe thead th {\n",
       "        text-align: right;\n",
       "    }\n",
       "</style>\n",
       "<table border=\"1\" class=\"dataframe\">\n",
       "  <thead>\n",
       "    <tr style=\"text-align: right;\">\n",
       "      <th></th>\n",
       "      <th>Vehicle Year</th>\n",
       "    </tr>\n",
       "  </thead>\n",
       "  <tbody>\n",
       "    <tr>\n",
       "      <th>count</th>\n",
       "      <td>4.928445e+06</td>\n",
       "    </tr>\n",
       "    <tr>\n",
       "      <th>mean</th>\n",
       "      <td>2.008461e+03</td>\n",
       "    </tr>\n",
       "    <tr>\n",
       "      <th>std</th>\n",
       "      <td>5.253493e+00</td>\n",
       "    </tr>\n",
       "    <tr>\n",
       "      <th>min</th>\n",
       "      <td>1.970000e+03</td>\n",
       "    </tr>\n",
       "    <tr>\n",
       "      <th>25%</th>\n",
       "      <td>2.005000e+03</td>\n",
       "    </tr>\n",
       "    <tr>\n",
       "      <th>50%</th>\n",
       "      <td>2.009000e+03</td>\n",
       "    </tr>\n",
       "    <tr>\n",
       "      <th>75%</th>\n",
       "      <td>2.013000e+03</td>\n",
       "    </tr>\n",
       "    <tr>\n",
       "      <th>max</th>\n",
       "      <td>2.015000e+03</td>\n",
       "    </tr>\n",
       "  </tbody>\n",
       "</table>\n",
       "</div>"
      ],
      "text/plain": [
       "       Vehicle Year\n",
       "count  4.928445e+06\n",
       "mean   2.008461e+03\n",
       "std    5.253493e+00\n",
       "min    1.970000e+03\n",
       "25%    2.005000e+03\n",
       "50%    2.009000e+03\n",
       "75%    2.013000e+03\n",
       "max    2.015000e+03"
      ]
     },
     "execution_count": 204,
     "metadata": {},
     "output_type": "execute_result"
    }
   ],
   "source": [
    "dataset.describe()"
   ]
  },
  {
   "cell_type": "markdown",
   "id": "c9f389ad",
   "metadata": {},
   "source": [
    "# Визуализируем датасет"
   ]
  },
  {
   "cell_type": "markdown",
   "id": "a01b23a0",
   "metadata": {},
   "source": [
    "### Проанализируем данные о всех штрафах"
   ]
  },
  {
   "cell_type": "code",
   "execution_count": 205,
   "id": "286d03f7",
   "metadata": {},
   "outputs": [
    {
     "data": {
      "text/plain": [
       "<matplotlib.lines.Line2D at 0x22d8fa0b040>"
      ]
     },
     "execution_count": 205,
     "metadata": {},
     "output_type": "execute_result"
    },
    {
     "data": {
      "image/png": "[encoded data removed]",
      "text/plain": [
       "<Figure size 432x288 with 1 Axes>"
      ]
     },
     "metadata": {
      "needs_background": "light"
     },
     "output_type": "display_data"
    }
   ],
   "source": [
    "ax = dataset.plot()\n",
    "ax.axhline(2000, color=\"red\", linestyle=\"--\")"
   ]
  },
  {
   "cell_type": "markdown",
   "id": "45ca7541",
   "metadata": {},
   "source": [
    "Красная вертикальная линия отделяет штрафы, полученные машинами выпущенные до 2000 года и после."
   ]
  },
  {
   "cell_type": "markdown",
   "id": "322519e1",
   "metadata": {},
   "source": [
    "### Рассмотрим отдельно графики для машин разных марок."
   ]
  },
  {
   "cell_type": "code",
   "execution_count": 206,
   "id": "1698c6b5",
   "metadata": {},
   "outputs": [
    {
     "data": {
      "text/plain": [
       "<matplotlib.lines.Line2D at 0x22cf700dbd0>"
      ]
     },
     "execution_count": 206,
     "metadata": {},
     "output_type": "execute_result"
    },
    {
     "data": {
      "image/png": "[encoded data removed]",
      "text/plain": [
       "<Figure size 432x288 with 1 Axes>"
      ]
     },
     "metadata": {
      "needs_background": "light"
     },
     "output_type": "display_data"
    }
   ],
   "source": [
    "ax = dataset.loc[dataset['Vehicle Make']=='DODGE'].plot()\n",
    "ax.axhline(2000, color=\"red\", linestyle=\"--\")"
   ]
  },
  {
   "cell_type": "code",
   "execution_count": 207,
   "id": "a6b6b761",
   "metadata": {},
   "outputs": [
    {
     "data": {
      "text/plain": [
       "<matplotlib.lines.Line2D at 0x22e0f102bc0>"
      ]
     },
     "execution_count": 207,
     "metadata": {},
     "output_type": "execute_result"
    },
    {
     "data": {
      "image/png": "[encoded data removed]",
      "text/plain": [
       "<Figure size 432x288 with 1 Axes>"
      ]
     },
     "metadata": {
      "needs_background": "light"
     },
     "output_type": "display_data"
    }
   ],
   "source": [
    "ax = dataset.loc[dataset['Vehicle Make']=='TOYOT'].plot()\n",
    "ax.axhline(2000, color=\"red\", linestyle=\"--\")"
   ]
  },
  {
   "cell_type": "code",
   "execution_count": 208,
   "id": "ec349b97",
   "metadata": {},
   "outputs": [
    {
     "data": {
      "text/plain": [
       "<matplotlib.lines.Line2D at 0x22cf6f9b1c0>"
      ]
     },
     "execution_count": 208,
     "metadata": {},
     "output_type": "execute_result"
    },
    {
     "data": {
      "image/png": "[encoded data removed]",
      "text/plain": [
       "<Figure size 432x288 with 1 Axes>"
      ]
     },
     "metadata": {
      "needs_background": "light"
     },
     "output_type": "display_data"
    }
   ],
   "source": [
    "ax = dataset.loc[dataset['Vehicle Make']=='HYUND'].plot()\n",
    "ax.axhline(2000, color=\"red\", linestyle=\"--\")"
   ]
  },
  {
   "cell_type": "markdown",
   "id": "a1c675ce",
   "metadata": {},
   "source": [
    "Первые два графика не сильно отличаются, но третий выделяется сильнее. Как видно машины марки \"Hyundai\" намного реже получали штрафы в период с 2017-06, при этом машины, выпущенные до 2000 года, гораздо реже попадали в \"неприятности\"."
   ]
  },
  {
   "cell_type": "markdown",
   "id": "03b79048",
   "metadata": {},
   "source": [
    "### Рассмотрим где чаще всего происходили нарушения"
   ]
  },
  {
   "cell_type": "markdown",
   "id": "354887d6",
   "metadata": {},
   "source": [
    "Выведем список улиц, которые находятся в топе по количеству нарушений"
   ]
  },
  {
   "cell_type": "code",
   "execution_count": 209,
   "id": "bd49cd96",
   "metadata": {},
   "outputs": [
    {
     "data": {
      "text/plain": [
       "Broadway                72568\n",
       "3rd Ave                 46703\n",
       "5th Ave                 39852\n",
       "Queens Blvd             30081\n",
       "HORACE HARDING EXPWY    27081\n",
       "Name: Street Name, dtype: int64"
      ]
     },
     "execution_count": 209,
     "metadata": {},
     "output_type": "execute_result"
    }
   ],
   "source": [
    "dataset['Street Name'].value_counts().head(5)"
   ]
  },
  {
   "cell_type": "markdown",
   "id": "4f279e7d",
   "metadata": {},
   "source": [
    "Выведем для вышеперечисленных улиц номера домов, где чаще всего происходят нарушения"
   ]
  },
  {
   "cell_type": "code",
   "execution_count": 210,
   "id": "9d8e6bb4",
   "metadata": {},
   "outputs": [
    {
     "data": {
      "text/html": [
       "<div>\n",
       "<style scoped>\n",
       "    .dataframe tbody tr th:only-of-type {\n",
       "        vertical-align: middle;\n",
       "    }\n",
       "\n",
       "    .dataframe tbody tr th {\n",
       "        vertical-align: top;\n",
       "    }\n",
       "\n",
       "    .dataframe thead th {\n",
       "        text-align: right;\n",
       "    }\n",
       "</style>\n",
       "<table border=\"1\" class=\"dataframe\">\n",
       "  <thead>\n",
       "    <tr style=\"text-align: right;\">\n",
       "      <th></th>\n",
       "      <th>Street Name</th>\n",
       "      <th>House Number</th>\n",
       "      <th>freq</th>\n",
       "    </tr>\n",
       "  </thead>\n",
       "  <tbody>\n",
       "    <tr>\n",
       "      <th>0</th>\n",
       "      <td>3rd Ave</td>\n",
       "      <td>W</td>\n",
       "      <td>2271</td>\n",
       "    </tr>\n",
       "    <tr>\n",
       "      <th>2459</th>\n",
       "      <td>5th Ave</td>\n",
       "      <td>E</td>\n",
       "      <td>1243</td>\n",
       "    </tr>\n",
       "    <tr>\n",
       "      <th>4449</th>\n",
       "      <td>Broadway</td>\n",
       "      <td>W</td>\n",
       "      <td>2570</td>\n",
       "    </tr>\n",
       "    <tr>\n",
       "      <th>8073</th>\n",
       "      <td>HORACE HARDING EXPWY</td>\n",
       "      <td>221-78</td>\n",
       "      <td>2</td>\n",
       "    </tr>\n",
       "    <tr>\n",
       "      <th>8095</th>\n",
       "      <td>Queens Blvd</td>\n",
       "      <td>N</td>\n",
       "      <td>1439</td>\n",
       "    </tr>\n",
       "  </tbody>\n",
       "</table>\n",
       "</div>"
      ],
      "text/plain": [
       "               Street Name House Number  freq\n",
       "0                  3rd Ave            W  2271\n",
       "2459               5th Ave            E  1243\n",
       "4449              Broadway            W  2570\n",
       "8073  HORACE HARDING EXPWY       221-78     2\n",
       "8095           Queens Blvd            N  1439"
      ]
     },
     "execution_count": 210,
     "metadata": {},
     "output_type": "execute_result"
    }
   ],
   "source": [
    "dataset.loc[dataset['Street Name'].isin(dataset['Street Name'].value_counts().head(5).index)].groupby('Street Name')['House Number'].value_counts().rename_axis(['Street Name','House Number']).reset_index(name='freq').drop_duplicates('Street Name')"
   ]
  },
  {
   "cell_type": "markdown",
   "id": "2b671dc7",
   "metadata": {},
   "source": [
    "### Рассмотрим результаты отдельно для машин разных марок"
   ]
  },
  {
   "cell_type": "markdown",
   "id": "329e1986",
   "metadata": {},
   "source": [
    "#### Dodge"
   ]
  },
  {
   "cell_type": "markdown",
   "id": "ee8e86cf",
   "metadata": {},
   "source": [
    "##### До 2000 года"
   ]
  },
  {
   "cell_type": "code",
   "execution_count": 211,
   "id": "41bf1ded",
   "metadata": {},
   "outputs": [
    {
     "data": {
      "text/plain": [
       "Broadway       825\n",
       "3rd Ave        598\n",
       "2nd Ave        488\n",
       "5th Ave        469\n",
       "Jamaica Ave    463\n",
       "Name: Street Name, dtype: int64"
      ]
     },
     "execution_count": 211,
     "metadata": {},
     "output_type": "execute_result"
    }
   ],
   "source": [
    "dataset.loc[(dataset['Vehicle Make']=='DODGE') & (dataset['Vehicle Year'] < 2000.0)]['Street Name'].value_counts().head(5)"
   ]
  },
  {
   "cell_type": "code",
   "execution_count": 212,
   "id": "0a6d274c",
   "metadata": {},
   "outputs": [
    {
     "data": {
      "text/plain": [
       "<AxesSubplot:>"
      ]
     },
     "execution_count": 212,
     "metadata": {},
     "output_type": "execute_result"
    },
    {
     "data": {
      "image/png": "[encoded data removed]",
      "text/plain": [
       "<Figure size 432x288 with 1 Axes>"
      ]
     },
     "metadata": {
      "needs_background": "light"
     },
     "output_type": "display_data"
    }
   ],
   "source": [
    "dataset.loc[(dataset['Vehicle Make']=='DODGE') & (dataset['Vehicle Year'] < 2000.0)]['Street Name'].value_counts().head(5).plot()"
   ]
  },
  {
   "cell_type": "code",
   "execution_count": 213,
   "id": "b9308164",
   "metadata": {},
   "outputs": [
    {
     "data": {
      "text/html": [
       "<div>\n",
       "<style scoped>\n",
       "    .dataframe tbody tr th:only-of-type {\n",
       "        vertical-align: middle;\n",
       "    }\n",
       "\n",
       "    .dataframe tbody tr th {\n",
       "        vertical-align: top;\n",
       "    }\n",
       "\n",
       "    .dataframe thead th {\n",
       "        text-align: right;\n",
       "    }\n",
       "</style>\n",
       "<table border=\"1\" class=\"dataframe\">\n",
       "  <thead>\n",
       "    <tr style=\"text-align: right;\">\n",
       "      <th></th>\n",
       "      <th>Street Name</th>\n",
       "      <th>House Number</th>\n",
       "      <th>freq</th>\n",
       "    </tr>\n",
       "  </thead>\n",
       "  <tbody>\n",
       "    <tr>\n",
       "      <th>0</th>\n",
       "      <td>2nd Ave</td>\n",
       "      <td>1546</td>\n",
       "      <td>41</td>\n",
       "    </tr>\n",
       "    <tr>\n",
       "      <th>160</th>\n",
       "      <td>3rd Ave</td>\n",
       "      <td>W</td>\n",
       "      <td>31</td>\n",
       "    </tr>\n",
       "    <tr>\n",
       "      <th>540</th>\n",
       "      <td>5th Ave</td>\n",
       "      <td>E</td>\n",
       "      <td>17</td>\n",
       "    </tr>\n",
       "    <tr>\n",
       "      <th>855</th>\n",
       "      <td>Broadway</td>\n",
       "      <td>W</td>\n",
       "      <td>33</td>\n",
       "    </tr>\n",
       "    <tr>\n",
       "      <th>1359</th>\n",
       "      <td>Jamaica Ave</td>\n",
       "      <td>216-05</td>\n",
       "      <td>11</td>\n",
       "    </tr>\n",
       "  </tbody>\n",
       "</table>\n",
       "</div>"
      ],
      "text/plain": [
       "      Street Name House Number  freq\n",
       "0         2nd Ave         1546    41\n",
       "160       3rd Ave            W    31\n",
       "540       5th Ave            E    17\n",
       "855      Broadway            W    33\n",
       "1359  Jamaica Ave       216-05    11"
      ]
     },
     "execution_count": 213,
     "metadata": {},
     "output_type": "execute_result"
    }
   ],
   "source": [
    "dataset.loc[dataset['Street Name'].isin(dataset.loc[(dataset['Vehicle Make']=='DODGE') & (dataset['Vehicle Year'] < 2000.0)]['Street Name'].value_counts().head(5).index) & (dataset['Vehicle Make']=='DODGE') & (dataset['Vehicle Year'] < 2000.0)].groupby('Street Name')['House Number'].value_counts().rename_axis(['Street Name','House Number']).reset_index(name='freq').drop_duplicates('Street Name')"
   ]
  },
  {
   "cell_type": "markdown",
   "id": "af272008",
   "metadata": {},
   "source": [
    "##### После 2000 года"
   ]
  },
  {
   "cell_type": "code",
   "execution_count": 214,
   "id": "0997f0cd",
   "metadata": {},
   "outputs": [
    {
     "data": {
      "text/plain": [
       "Broadway         17813\n",
       "3rd Ave          13563\n",
       "Madison Ave       9890\n",
       "5th Ave           8563\n",
       "Lexington Ave     7491\n",
       "Name: Street Name, dtype: int64"
      ]
     },
     "execution_count": 214,
     "metadata": {},
     "output_type": "execute_result"
    }
   ],
   "source": [
    "dataset.loc[(dataset['Vehicle Make']=='DODGE') & (dataset['Vehicle Year'] >= 2000.0)]['Street Name'].value_counts().head(5)"
   ]
  },
  {
   "cell_type": "code",
   "execution_count": 215,
   "id": "8caab048",
   "metadata": {},
   "outputs": [
    {
     "data": {
      "text/plain": [
       "<AxesSubplot:>"
      ]
     },
     "execution_count": 215,
     "metadata": {},
     "output_type": "execute_result"
    },
    {
     "data": {
      "image/png": "[encoded data removed]",
      "text/plain": [
       "<Figure size 432x288 with 1 Axes>"
      ]
     },
     "metadata": {
      "needs_background": "light"
     },
     "output_type": "display_data"
    }
   ],
   "source": [
    "dataset.loc[(dataset['Vehicle Make']=='DODGE') & (dataset['Vehicle Year'] >= 2000.0)]['Street Name'].value_counts().head(5).plot()"
   ]
  },
  {
   "cell_type": "code",
   "execution_count": 216,
   "id": "46addb9c",
   "metadata": {
    "scrolled": true
   },
   "outputs": [
    {
     "data": {
      "text/html": [
       "<div>\n",
       "<style scoped>\n",
       "    .dataframe tbody tr th:only-of-type {\n",
       "        vertical-align: middle;\n",
       "    }\n",
       "\n",
       "    .dataframe tbody tr th {\n",
       "        vertical-align: top;\n",
       "    }\n",
       "\n",
       "    .dataframe thead th {\n",
       "        text-align: right;\n",
       "    }\n",
       "</style>\n",
       "<table border=\"1\" class=\"dataframe\">\n",
       "  <thead>\n",
       "    <tr style=\"text-align: right;\">\n",
       "      <th></th>\n",
       "      <th>Street Name</th>\n",
       "      <th>House Number</th>\n",
       "      <th>freq</th>\n",
       "    </tr>\n",
       "  </thead>\n",
       "  <tbody>\n",
       "    <tr>\n",
       "      <th>0</th>\n",
       "      <td>3rd Ave</td>\n",
       "      <td>W</td>\n",
       "      <td>734</td>\n",
       "    </tr>\n",
       "    <tr>\n",
       "      <th>1658</th>\n",
       "      <td>5th Ave</td>\n",
       "      <td>E</td>\n",
       "      <td>442</td>\n",
       "    </tr>\n",
       "    <tr>\n",
       "      <th>3070</th>\n",
       "      <td>Broadway</td>\n",
       "      <td>W</td>\n",
       "      <td>681</td>\n",
       "    </tr>\n",
       "    <tr>\n",
       "      <th>5335</th>\n",
       "      <td>Lexington Ave</td>\n",
       "      <td>E</td>\n",
       "      <td>357</td>\n",
       "    </tr>\n",
       "    <tr>\n",
       "      <th>6059</th>\n",
       "      <td>Madison Ave</td>\n",
       "      <td>W</td>\n",
       "      <td>717</td>\n",
       "    </tr>\n",
       "  </tbody>\n",
       "</table>\n",
       "</div>"
      ],
      "text/plain": [
       "        Street Name House Number  freq\n",
       "0           3rd Ave            W   734\n",
       "1658        5th Ave            E   442\n",
       "3070       Broadway            W   681\n",
       "5335  Lexington Ave            E   357\n",
       "6059    Madison Ave            W   717"
      ]
     },
     "execution_count": 216,
     "metadata": {},
     "output_type": "execute_result"
    }
   ],
   "source": [
    "dataset.loc[dataset['Street Name'].isin(dataset.loc[(dataset['Vehicle Make']=='DODGE') & (dataset['Vehicle Year'] >= 2000.0)]['Street Name'].value_counts().head(5).index) & (dataset['Vehicle Make']=='DODGE') & (dataset['Vehicle Year'] >= 2000.0)].groupby('Street Name')['House Number'].value_counts().rename_axis(['Street Name','House Number']).reset_index(name='freq').drop_duplicates('Street Name')"
   ]
  },
  {
   "cell_type": "markdown",
   "id": "5d516d2f",
   "metadata": {},
   "source": [
    "#### Toyota"
   ]
  },
  {
   "cell_type": "markdown",
   "id": "39f0943c",
   "metadata": {},
   "source": [
    "##### До 2000 года"
   ]
  },
  {
   "cell_type": "code",
   "execution_count": 217,
   "id": "466690db",
   "metadata": {},
   "outputs": [
    {
     "data": {
      "text/plain": [
       "Broadway           2808\n",
       "Jamaica Ave        2165\n",
       "White Plains Rd    1718\n",
       "3rd Ave            1708\n",
       "5th Ave            1661\n",
       "Name: Street Name, dtype: int64"
      ]
     },
     "execution_count": 217,
     "metadata": {},
     "output_type": "execute_result"
    }
   ],
   "source": [
    "dataset.loc[(dataset['Vehicle Make']=='TOYOT') & (dataset['Vehicle Year'] < 2000.0)]['Street Name'].value_counts().head(5)"
   ]
  },
  {
   "cell_type": "code",
   "execution_count": 218,
   "id": "138e250a",
   "metadata": {},
   "outputs": [
    {
     "data": {
      "text/plain": [
       "<AxesSubplot:>"
      ]
     },
     "execution_count": 218,
     "metadata": {},
     "output_type": "execute_result"
    },
    {
     "data": {
      "image/png": "[encoded data removed]",
      "text/plain": [
       "<Figure size 432x288 with 1 Axes>"
      ]
     },
     "metadata": {
      "needs_background": "light"
     },
     "output_type": "display_data"
    }
   ],
   "source": [
    "dataset.loc[(dataset['Vehicle Make']=='TOYOT') & (dataset['Vehicle Year'] < 2000.0)]['Street Name'].value_counts().head(5).plot()"
   ]
  },
  {
   "cell_type": "code",
   "execution_count": 219,
   "id": "e35edcb6",
   "metadata": {},
   "outputs": [
    {
     "data": {
      "text/html": [
       "<div>\n",
       "<style scoped>\n",
       "    .dataframe tbody tr th:only-of-type {\n",
       "        vertical-align: middle;\n",
       "    }\n",
       "\n",
       "    .dataframe tbody tr th {\n",
       "        vertical-align: top;\n",
       "    }\n",
       "\n",
       "    .dataframe thead th {\n",
       "        text-align: right;\n",
       "    }\n",
       "</style>\n",
       "<table border=\"1\" class=\"dataframe\">\n",
       "  <thead>\n",
       "    <tr style=\"text-align: right;\">\n",
       "      <th></th>\n",
       "      <th>Street Name</th>\n",
       "      <th>House Number</th>\n",
       "      <th>freq</th>\n",
       "    </tr>\n",
       "  </thead>\n",
       "  <tbody>\n",
       "    <tr>\n",
       "      <th>0</th>\n",
       "      <td>3rd Ave</td>\n",
       "      <td>W</td>\n",
       "      <td>68</td>\n",
       "    </tr>\n",
       "    <tr>\n",
       "      <th>781</th>\n",
       "      <td>5th Ave</td>\n",
       "      <td>E</td>\n",
       "      <td>42</td>\n",
       "    </tr>\n",
       "    <tr>\n",
       "      <th>1550</th>\n",
       "      <td>Broadway</td>\n",
       "      <td>W</td>\n",
       "      <td>106</td>\n",
       "    </tr>\n",
       "    <tr>\n",
       "      <th>2711</th>\n",
       "      <td>Jamaica Ave</td>\n",
       "      <td>N</td>\n",
       "      <td>73</td>\n",
       "    </tr>\n",
       "    <tr>\n",
       "      <th>3693</th>\n",
       "      <td>White Plains Rd</td>\n",
       "      <td>2901</td>\n",
       "      <td>21</td>\n",
       "    </tr>\n",
       "  </tbody>\n",
       "</table>\n",
       "</div>"
      ],
      "text/plain": [
       "          Street Name House Number  freq\n",
       "0             3rd Ave            W    68\n",
       "781           5th Ave            E    42\n",
       "1550         Broadway            W   106\n",
       "2711      Jamaica Ave            N    73\n",
       "3693  White Plains Rd         2901    21"
      ]
     },
     "execution_count": 219,
     "metadata": {},
     "output_type": "execute_result"
    }
   ],
   "source": [
    "dataset.loc[dataset['Street Name'].isin(dataset.loc[(dataset['Vehicle Make']=='TOYOT') & (dataset['Vehicle Year'] < 2000.0)]['Street Name'].value_counts().head(5).index) & (dataset['Vehicle Make']=='TOYOT') & (dataset['Vehicle Year'] < 2000.0)].groupby('Street Name')['House Number'].value_counts().rename_axis(['Street Name','House Number']).reset_index(name='freq').drop_duplicates('Street Name')"
   ]
  },
  {
   "cell_type": "markdown",
   "id": "b23c1ded",
   "metadata": {},
   "source": [
    "##### После 2000 года"
   ]
  },
  {
   "cell_type": "code",
   "execution_count": 220,
   "id": "c5826b37",
   "metadata": {},
   "outputs": [
    {
     "data": {
      "text/plain": [
       "Broadway                43574\n",
       "3rd Ave                 25587\n",
       "5th Ave                 23807\n",
       "Queens Blvd             18586\n",
       "HORACE HARDING EXPWY    17621\n",
       "Name: Street Name, dtype: int64"
      ]
     },
     "execution_count": 220,
     "metadata": {},
     "output_type": "execute_result"
    }
   ],
   "source": [
    "dataset.loc[(dataset['Vehicle Make']=='TOYOT') & (dataset['Vehicle Year'] >= 2000.0)]['Street Name'].value_counts().head(5)"
   ]
  },
  {
   "cell_type": "code",
   "execution_count": 221,
   "id": "ebc12686",
   "metadata": {},
   "outputs": [
    {
     "data": {
      "text/plain": [
       "<AxesSubplot:>"
      ]
     },
     "execution_count": 221,
     "metadata": {},
     "output_type": "execute_result"
    },
    {
     "data": {
      "image/png": "[encoded data removed]",
      "text/plain": [
       "<Figure size 432x288 with 1 Axes>"
      ]
     },
     "metadata": {
      "needs_background": "light"
     },
     "output_type": "display_data"
    }
   ],
   "source": [
    "dataset.loc[(dataset['Vehicle Make']=='TOYOT') & (dataset['Vehicle Year'] >= 2000.0)]['Street Name'].value_counts().head(5).plot()"
   ]
  },
  {
   "cell_type": "code",
   "execution_count": 222,
   "id": "e0254e08",
   "metadata": {},
   "outputs": [
    {
     "data": {
      "text/html": [
       "<div>\n",
       "<style scoped>\n",
       "    .dataframe tbody tr th:only-of-type {\n",
       "        vertical-align: middle;\n",
       "    }\n",
       "\n",
       "    .dataframe tbody tr th {\n",
       "        vertical-align: top;\n",
       "    }\n",
       "\n",
       "    .dataframe thead th {\n",
       "        text-align: right;\n",
       "    }\n",
       "</style>\n",
       "<table border=\"1\" class=\"dataframe\">\n",
       "  <thead>\n",
       "    <tr style=\"text-align: right;\">\n",
       "      <th></th>\n",
       "      <th>Street Name</th>\n",
       "      <th>House Number</th>\n",
       "      <th>freq</th>\n",
       "    </tr>\n",
       "  </thead>\n",
       "  <tbody>\n",
       "    <tr>\n",
       "      <th>0</th>\n",
       "      <td>3rd Ave</td>\n",
       "      <td>W</td>\n",
       "      <td>1227</td>\n",
       "    </tr>\n",
       "    <tr>\n",
       "      <th>2115</th>\n",
       "      <td>5th Ave</td>\n",
       "      <td>E</td>\n",
       "      <td>605</td>\n",
       "    </tr>\n",
       "    <tr>\n",
       "      <th>3911</th>\n",
       "      <td>Broadway</td>\n",
       "      <td>W</td>\n",
       "      <td>1513</td>\n",
       "    </tr>\n",
       "    <tr>\n",
       "      <th>7034</th>\n",
       "      <td>HORACE HARDING EXPWY</td>\n",
       "      <td>221-78</td>\n",
       "      <td>2</td>\n",
       "    </tr>\n",
       "    <tr>\n",
       "      <th>7047</th>\n",
       "      <td>Queens Blvd</td>\n",
       "      <td>N</td>\n",
       "      <td>905</td>\n",
       "    </tr>\n",
       "  </tbody>\n",
       "</table>\n",
       "</div>"
      ],
      "text/plain": [
       "               Street Name House Number  freq\n",
       "0                  3rd Ave            W  1227\n",
       "2115               5th Ave            E   605\n",
       "3911              Broadway            W  1513\n",
       "7034  HORACE HARDING EXPWY       221-78     2\n",
       "7047           Queens Blvd            N   905"
      ]
     },
     "execution_count": 222,
     "metadata": {},
     "output_type": "execute_result"
    }
   ],
   "source": [
    "dataset.loc[dataset['Street Name'].isin(dataset.loc[(dataset['Vehicle Make']=='TOYOT') & (dataset['Vehicle Year'] >= 2000.0)]['Street Name'].value_counts().head(5).index) & (dataset['Vehicle Make']=='TOYOT') & (dataset['Vehicle Year'] >= 2000.0)].groupby('Street Name')['House Number'].value_counts().rename_axis(['Street Name','House Number']).reset_index(name='freq').drop_duplicates('Street Name')"
   ]
  },
  {
   "cell_type": "markdown",
   "id": "5c8ddff0",
   "metadata": {},
   "source": [
    "#### Hyundai"
   ]
  },
  {
   "cell_type": "markdown",
   "id": "f9695ef7",
   "metadata": {},
   "source": [
    "##### До 2000 года"
   ]
  },
  {
   "cell_type": "code",
   "execution_count": 223,
   "id": "ad06e269",
   "metadata": {
    "scrolled": true
   },
   "outputs": [
    {
     "data": {
      "text/plain": [
       "Broadway       48\n",
       "E 31st St      38\n",
       "37th St        32\n",
       "115th St       31\n",
       "Queens Blvd    25\n",
       "Name: Street Name, dtype: int64"
      ]
     },
     "execution_count": 223,
     "metadata": {},
     "output_type": "execute_result"
    }
   ],
   "source": [
    "dataset.loc[(dataset['Vehicle Make']=='HYUND') & (dataset['Vehicle Year'] < 2000.0)]['Street Name'].value_counts().head(5)"
   ]
  },
  {
   "cell_type": "code",
   "execution_count": 224,
   "id": "fbe9d8a7",
   "metadata": {},
   "outputs": [
    {
     "data": {
      "text/plain": [
       "<AxesSubplot:>"
      ]
     },
     "execution_count": 224,
     "metadata": {},
     "output_type": "execute_result"
    },
    {
     "data": {
      "image/png": "[encoded data removed]",
      "text/plain": [
       "<Figure size 432x288 with 1 Axes>"
      ]
     },
     "metadata": {
      "needs_background": "light"
     },
     "output_type": "display_data"
    }
   ],
   "source": [
    "dataset.loc[(dataset['Vehicle Make']=='HYUND') & (dataset['Vehicle Year'] < 2000.0)]['Street Name'].value_counts().head(5).plot()"
   ]
  },
  {
   "cell_type": "code",
   "execution_count": 225,
   "id": "cf18ba1d",
   "metadata": {},
   "outputs": [
    {
     "data": {
      "text/html": [
       "<div>\n",
       "<style scoped>\n",
       "    .dataframe tbody tr th:only-of-type {\n",
       "        vertical-align: middle;\n",
       "    }\n",
       "\n",
       "    .dataframe tbody tr th {\n",
       "        vertical-align: top;\n",
       "    }\n",
       "\n",
       "    .dataframe thead th {\n",
       "        text-align: right;\n",
       "    }\n",
       "</style>\n",
       "<table border=\"1\" class=\"dataframe\">\n",
       "  <thead>\n",
       "    <tr style=\"text-align: right;\">\n",
       "      <th></th>\n",
       "      <th>Street Name</th>\n",
       "      <th>House Number</th>\n",
       "      <th>freq</th>\n",
       "    </tr>\n",
       "  </thead>\n",
       "  <tbody>\n",
       "    <tr>\n",
       "      <th>0</th>\n",
       "      <td>115th St</td>\n",
       "      <td>89-14</td>\n",
       "      <td>12</td>\n",
       "    </tr>\n",
       "    <tr>\n",
       "      <th>6</th>\n",
       "      <td>37th St</td>\n",
       "      <td>25-41</td>\n",
       "      <td>10</td>\n",
       "    </tr>\n",
       "    <tr>\n",
       "      <th>19</th>\n",
       "      <td>Broadway</td>\n",
       "      <td>789</td>\n",
       "      <td>3</td>\n",
       "    </tr>\n",
       "    <tr>\n",
       "      <th>56</th>\n",
       "      <td>E 31st St</td>\n",
       "      <td>W</td>\n",
       "      <td>19</td>\n",
       "    </tr>\n",
       "    <tr>\n",
       "      <th>61</th>\n",
       "      <td>Queens Blvd</td>\n",
       "      <td>N</td>\n",
       "      <td>4</td>\n",
       "    </tr>\n",
       "  </tbody>\n",
       "</table>\n",
       "</div>"
      ],
      "text/plain": [
       "    Street Name House Number  freq\n",
       "0      115th St        89-14    12\n",
       "6       37th St        25-41    10\n",
       "19     Broadway          789     3\n",
       "56    E 31st St            W    19\n",
       "61  Queens Blvd            N     4"
      ]
     },
     "execution_count": 225,
     "metadata": {},
     "output_type": "execute_result"
    }
   ],
   "source": [
    "dataset.loc[dataset['Street Name'].isin(dataset.loc[(dataset['Vehicle Make']=='HYUND') & (dataset['Vehicle Year'] < 2000.0)]['Street Name'].value_counts().head(5).index) & (dataset['Vehicle Make']=='HYUND') & (dataset['Vehicle Year'] < 2000.0)].groupby('Street Name')['House Number'].value_counts().rename_axis(['Street Name','House Number']).reset_index(name='freq').drop_duplicates('Street Name')"
   ]
  },
  {
   "cell_type": "markdown",
   "id": "35fb96a4",
   "metadata": {},
   "source": [
    "##### После 2000 года"
   ]
  },
  {
   "cell_type": "code",
   "execution_count": 226,
   "id": "5218847e",
   "metadata": {},
   "outputs": [
    {
     "data": {
      "text/plain": [
       "Broadway                7500\n",
       "5th Ave                 5329\n",
       "3rd Ave                 5228\n",
       "Queens Blvd             5015\n",
       "EB HORACE HARDING EX    4658\n",
       "Name: Street Name, dtype: int64"
      ]
     },
     "execution_count": 226,
     "metadata": {},
     "output_type": "execute_result"
    }
   ],
   "source": [
    "dataset.loc[(dataset['Vehicle Make']=='HYUND') & (dataset['Vehicle Year'] >= 2000.0)]['Street Name'].value_counts().head(5)"
   ]
  },
  {
   "cell_type": "code",
   "execution_count": 227,
   "id": "d615f3ac",
   "metadata": {},
   "outputs": [
    {
     "data": {
      "text/plain": [
       "<AxesSubplot:>"
      ]
     },
     "execution_count": 227,
     "metadata": {},
     "output_type": "execute_result"
    },
    {
     "data": {
      "image/png": "[encoded data removed]",
      "text/plain": [
       "<Figure size 432x288 with 1 Axes>"
      ]
     },
     "metadata": {
      "needs_background": "light"
     },
     "output_type": "display_data"
    }
   ],
   "source": [
    "dataset.loc[(dataset['Vehicle Make']=='HYUND') & (dataset['Vehicle Year'] >= 2000.0)]['Street Name'].value_counts().head(5).plot()"
   ]
  },
  {
   "cell_type": "code",
   "execution_count": 228,
   "id": "e172fdbc",
   "metadata": {
    "scrolled": true
   },
   "outputs": [
    {
     "data": {
      "text/html": [
       "<div>\n",
       "<style scoped>\n",
       "    .dataframe tbody tr th:only-of-type {\n",
       "        vertical-align: middle;\n",
       "    }\n",
       "\n",
       "    .dataframe tbody tr th {\n",
       "        vertical-align: top;\n",
       "    }\n",
       "\n",
       "    .dataframe thead th {\n",
       "        text-align: right;\n",
       "    }\n",
       "</style>\n",
       "<table border=\"1\" class=\"dataframe\">\n",
       "  <thead>\n",
       "    <tr style=\"text-align: right;\">\n",
       "      <th></th>\n",
       "      <th>Street Name</th>\n",
       "      <th>House Number</th>\n",
       "      <th>freq</th>\n",
       "    </tr>\n",
       "  </thead>\n",
       "  <tbody>\n",
       "    <tr>\n",
       "      <th>0</th>\n",
       "      <td>3rd Ave</td>\n",
       "      <td>W</td>\n",
       "      <td>211</td>\n",
       "    </tr>\n",
       "    <tr>\n",
       "      <th>1345</th>\n",
       "      <td>5th Ave</td>\n",
       "      <td>E</td>\n",
       "      <td>132</td>\n",
       "    </tr>\n",
       "    <tr>\n",
       "      <th>2530</th>\n",
       "      <td>Broadway</td>\n",
       "      <td>E</td>\n",
       "      <td>245</td>\n",
       "    </tr>\n",
       "    <tr>\n",
       "      <th>4361</th>\n",
       "      <td>Queens Blvd</td>\n",
       "      <td>N</td>\n",
       "      <td>238</td>\n",
       "    </tr>\n",
       "  </tbody>\n",
       "</table>\n",
       "</div>"
      ],
      "text/plain": [
       "      Street Name House Number  freq\n",
       "0         3rd Ave            W   211\n",
       "1345      5th Ave            E   132\n",
       "2530     Broadway            E   245\n",
       "4361  Queens Blvd            N   238"
      ]
     },
     "execution_count": 228,
     "metadata": {},
     "output_type": "execute_result"
    }
   ],
   "source": [
    "dataset.loc[dataset['Street Name'].isin(dataset.loc[(dataset['Vehicle Make']=='HYUND') & (dataset['Vehicle Year'] >= 2000.0)]['Street Name'].value_counts().head(5).index) & (dataset['Vehicle Make']=='HYUND') & (dataset['Vehicle Year'] >= 2000.0)].groupby('Street Name')['House Number'].value_counts().rename_axis(['Street Name','House Number']).reset_index(name='freq').drop_duplicates('Street Name')"
   ]
  },
  {
   "cell_type": "markdown",
   "id": "6e7f101d",
   "metadata": {},
   "source": [
    "### Сгруппируем данные по дням и количеству штрафов в этот день"
   ]
  },
  {
   "cell_type": "code",
   "execution_count": 229,
   "id": "512a6b36",
   "metadata": {},
   "outputs": [
    {
     "data": {
      "text/plain": [
       "<AxesSubplot:xlabel='Issue Date'>"
      ]
     },
     "execution_count": 229,
     "metadata": {},
     "output_type": "execute_result"
    },
    {
     "data": {
      "image/png": "[encoded data removed]",
      "text/plain": [
       "<Figure size 432x288 with 1 Axes>"
      ]
     },
     "metadata": {
      "needs_background": "light"
     },
     "output_type": "display_data"
    }
   ],
   "source": [
    "finecount_bydate = pd.DataFrame(dataset.reset_index().groupby(['Issue Date'])['Issue Date'].agg('count').groupby(pd.Grouper(freq='M')).agg('sum')).rename(columns={'Issue Date' : 'Fines'})\n",
    "finecount_bydate.plot()"
   ]
  },
  {
   "cell_type": "code",
   "execution_count": 230,
   "id": "edc603bb",
   "metadata": {},
   "outputs": [],
   "source": [
    "finecount_bydate_before2000 = { 'ALL' : pd.DataFrame(dataset.loc[dataset['Vehicle Year'] < 2000.0].reset_index().groupby(['Issue Date'])['Issue Date'].agg('count').groupby(pd.Grouper(freq='M')).agg('sum')).rename(columns={'Issue Date' : 'Fines'}), \n",
    "                                'DODGE' : pd.DataFrame(dataset.loc[(dataset['Vehicle Make']=='DODGE') & (dataset['Vehicle Year'] < 2000.0)].reset_index().groupby(['Issue Date'])['Issue Date'].agg('count').groupby(pd.Grouper(freq='M')).agg('sum')).rename(columns={'Issue Date' : 'Fines'}), \n",
    "                                'TOYOT' : pd.DataFrame(dataset.loc[(dataset['Vehicle Make']=='TOYOT') & (dataset['Vehicle Year'] < 2000.0)].reset_index().groupby(['Issue Date'])['Issue Date'].agg('count').groupby(pd.Grouper(freq='M')).agg('sum')).rename(columns={'Issue Date' : 'Fines'}), \n",
    "                                'HYUND' : pd.DataFrame(dataset.loc[(dataset['Vehicle Make']=='HYUND') & (dataset['Vehicle Year'] < 2000.0)].reset_index().groupby(['Issue Date'])['Issue Date'].agg('count').groupby(pd.Grouper(freq='M')).agg('sum')).rename(columns={'Issue Date' : 'Fines'})} \n",
    "                    \n",
    "finecount_bydate_after2000 = { 'ALL' : pd.DataFrame(dataset.loc[dataset['Vehicle Year'] >= 2000.0].reset_index().groupby(['Issue Date'])['Issue Date'].agg('count').groupby(pd.Grouper(freq='M')).agg('sum')).rename(columns={'Issue Date' : 'Fines'}), \n",
    "                                'DODGE' : pd.DataFrame(dataset.loc[(dataset['Vehicle Make']=='DODGE') & (dataset['Vehicle Year'] >= 2000.0)].reset_index().groupby(['Issue Date'])['Issue Date'].agg('count').groupby(pd.Grouper(freq='M')).agg('sum')).rename(columns={'Issue Date' : 'Fines'}), \n",
    "                                'TOYOT' : pd.DataFrame(dataset.loc[(dataset['Vehicle Make']=='TOYOT') & (dataset['Vehicle Year'] >= 2000.0)].reset_index().groupby(['Issue Date'])['Issue Date'].agg('count').groupby(pd.Grouper(freq='M')).agg('sum')).rename(columns={'Issue Date' : 'Fines'}), \n",
    "                                'HYUND' : pd.DataFrame(dataset.loc[(dataset['Vehicle Make']=='HYUND') & (dataset['Vehicle Year'] >= 2000.0)].reset_index().groupby(['Issue Date'])['Issue Date'].agg('count').groupby(pd.Grouper(freq='M')).agg('sum')).rename(columns={'Issue Date' : 'Fines'})} "
   ]
  },
  {
   "cell_type": "markdown",
   "id": "980d513a",
   "metadata": {},
   "source": [
    "Рассмотрим штрафы машин выпещенных до 2000 года."
   ]
  },
  {
   "cell_type": "code",
   "execution_count": 231,
   "id": "74410a9b",
   "metadata": {},
   "outputs": [
    {
     "data": {
      "image/png": "[encoded data removed]",
      "text/plain": [
       "<Figure size 432x288 with 1 Axes>"
      ]
     },
     "metadata": {
      "needs_background": "light"
     },
     "output_type": "display_data"
    }
   ],
   "source": [
    "fig, ax = plt.subplots()\n",
    "finecount_bydate_before2000['ALL'].plot(legend=True, ax=ax)\n",
    "finecount_bydate_before2000['DODGE'].plot(legend=True, ax=ax)\n",
    "finecount_bydate_before2000['TOYOT'].plot(legend=True, ax=ax)\n",
    "finecount_bydate_before2000['HYUND'].plot(legend=True, ax=ax)\n",
    "plt.legend(['ALL', 'DODGE', 'TOYOT', 'HYUND']);"
   ]
  },
  {
   "cell_type": "markdown",
   "id": "1d9cc890",
   "metadata": {},
   "source": [
    "Как видно на графике, больше всего штрафов получают машины марки \"Toyota\", затем идут \"Dodge, ну и последними, практически с нулем штрафов идут машины марки \"Hyundai\"."
   ]
  },
  {
   "cell_type": "markdown",
   "id": "4d9c9a55",
   "metadata": {},
   "source": [
    "Рассмотрим штрафы машин выпещенных после 2000 года."
   ]
  },
  {
   "cell_type": "code",
   "execution_count": 232,
   "id": "3bbfdee8",
   "metadata": {},
   "outputs": [
    {
     "data": {
      "image/png": "[encoded data removed]",
      "text/plain": [
       "<Figure size 432x288 with 1 Axes>"
      ]
     },
     "metadata": {
      "needs_background": "light"
     },
     "output_type": "display_data"
    }
   ],
   "source": [
    "fig, ax = plt.subplots()\n",
    "finecount_bydate_after2000['ALL'].plot(legend=True, ax=ax)\n",
    "finecount_bydate_after2000['DODGE'].plot(legend=True, ax=ax)\n",
    "finecount_bydate_after2000['TOYOT'].plot(legend=True, ax=ax)\n",
    "finecount_bydate_after2000['HYUND'].plot(legend=True, ax=ax)\n",
    "plt.legend(['ALL', 'DODGE', 'TOYOT', 'HYUND']);"
   ]
  },
  {
   "cell_type": "markdown",
   "id": "10d47f1f",
   "metadata": {},
   "source": [
    "Здесь ситуация не сильно изменилась, единственное: машины марки \"Hyundai\" получили гораздно больше штрафов, практически столько же, сколько и машины марки \"Dodge\"."
   ]
  },
  {
   "cell_type": "code",
   "execution_count": 233,
   "id": "5e23e9a1",
   "metadata": {},
   "outputs": [],
   "source": [
    "#Ho: It is non stationary\n",
    "#H1: It is stationary\n",
    "\n",
    "def adfuller_test(sales):\n",
    "    result=adfuller(sales)\n",
    "    labels = ['ADF Test Statistic','p-value','#Lags Used','Number of Observations Used']\n",
    "    for value,label in zip(result,labels):\n",
    "        print(label+' : '+str(value) )\n",
    "    if result[1] <= 0.05:\n",
    "        print(\"strong evidence against the null hypothesis(Ho), reject the null hypothesis. Data has no unit root and is stationary\")\n",
    "    else:\n",
    "        print(\"weak evidence against null hypothesis, time series has a unit root, indicating it is non-stationary \")"
   ]
  },
  {
   "cell_type": "markdown",
   "id": "397e5eb1",
   "metadata": {},
   "source": [
    "### Дифференциация"
   ]
  },
  {
   "cell_type": "code",
   "execution_count": 234,
   "id": "1acb1a5d",
   "metadata": {
    "scrolled": false
   },
   "outputs": [
    {
     "name": "stdout",
     "output_type": "stream",
     "text": [
      "ADF Test Statistic : -5.539144647285208\n",
      "p-value : 1.7174215997300394e-06\n",
      "#Lags Used : 0\n",
      "Number of Observations Used : 44\n",
      "strong evidence against the null hypothesis(Ho), reject the null hypothesis. Data has no unit root and is stationary\n"
     ]
    }
   ],
   "source": [
    "adfuller_test(finecount_bydate['Fines'])"
   ]
  },
  {
   "cell_type": "markdown",
   "id": "9885c0f1",
   "metadata": {},
   "source": [
    "Посмотрим как меняется количество штрафов каждый месяц"
   ]
  },
  {
   "cell_type": "code",
   "execution_count": 235,
   "id": "26a0569f",
   "metadata": {},
   "outputs": [
    {
     "data": {
      "text/html": [
       "<div>\n",
       "<style scoped>\n",
       "    .dataframe tbody tr th:only-of-type {\n",
       "        vertical-align: middle;\n",
       "    }\n",
       "\n",
       "    .dataframe tbody tr th {\n",
       "        vertical-align: top;\n",
       "    }\n",
       "\n",
       "    .dataframe thead th {\n",
       "        text-align: right;\n",
       "    }\n",
       "</style>\n",
       "<table border=\"1\" class=\"dataframe\">\n",
       "  <thead>\n",
       "    <tr style=\"text-align: right;\">\n",
       "      <th></th>\n",
       "      <th>Fines</th>\n",
       "      <th>Fines First Difference</th>\n",
       "    </tr>\n",
       "    <tr>\n",
       "      <th>Issue Date</th>\n",
       "      <th></th>\n",
       "      <th></th>\n",
       "    </tr>\n",
       "  </thead>\n",
       "  <tbody>\n",
       "    <tr>\n",
       "      <th>2013-07-31</th>\n",
       "      <td>20374</td>\n",
       "      <td>NaN</td>\n",
       "    </tr>\n",
       "    <tr>\n",
       "      <th>2013-08-31</th>\n",
       "      <td>97301</td>\n",
       "      <td>76927.0</td>\n",
       "    </tr>\n",
       "    <tr>\n",
       "      <th>2013-09-30</th>\n",
       "      <td>94959</td>\n",
       "      <td>-2342.0</td>\n",
       "    </tr>\n",
       "    <tr>\n",
       "      <th>2013-10-31</th>\n",
       "      <td>110644</td>\n",
       "      <td>15685.0</td>\n",
       "    </tr>\n",
       "    <tr>\n",
       "      <th>2013-11-30</th>\n",
       "      <td>99855</td>\n",
       "      <td>-10789.0</td>\n",
       "    </tr>\n",
       "  </tbody>\n",
       "</table>\n",
       "</div>"
      ],
      "text/plain": [
       "             Fines  Fines First Difference\n",
       "Issue Date                                \n",
       "2013-07-31   20374                     NaN\n",
       "2013-08-31   97301                 76927.0\n",
       "2013-09-30   94959                 -2342.0\n",
       "2013-10-31  110644                 15685.0\n",
       "2013-11-30   99855                -10789.0"
      ]
     },
     "execution_count": 235,
     "metadata": {},
     "output_type": "execute_result"
    }
   ],
   "source": [
    "finecount_bydate['Fines First Difference'] = finecount_bydate['Fines'] - finecount_bydate['Fines'].shift(1)\n",
    "finecount_bydate.head()"
   ]
  },
  {
   "cell_type": "markdown",
   "id": "24fcb706",
   "metadata": {},
   "source": [
    "Посмотрим как меняется количество штрафов каждый год"
   ]
  },
  {
   "cell_type": "code",
   "execution_count": 236,
   "id": "8ff9abb3",
   "metadata": {},
   "outputs": [
    {
     "data": {
      "text/html": [
       "<div>\n",
       "<style scoped>\n",
       "    .dataframe tbody tr th:only-of-type {\n",
       "        vertical-align: middle;\n",
       "    }\n",
       "\n",
       "    .dataframe tbody tr th {\n",
       "        vertical-align: top;\n",
       "    }\n",
       "\n",
       "    .dataframe thead th {\n",
       "        text-align: right;\n",
       "    }\n",
       "</style>\n",
       "<table border=\"1\" class=\"dataframe\">\n",
       "  <thead>\n",
       "    <tr style=\"text-align: right;\">\n",
       "      <th></th>\n",
       "      <th>Fines</th>\n",
       "      <th>Fines First Difference</th>\n",
       "      <th>Seasonal First Difference</th>\n",
       "    </tr>\n",
       "    <tr>\n",
       "      <th>Issue Date</th>\n",
       "      <th></th>\n",
       "      <th></th>\n",
       "      <th></th>\n",
       "    </tr>\n",
       "  </thead>\n",
       "  <tbody>\n",
       "    <tr>\n",
       "      <th>2013-07-31</th>\n",
       "      <td>20374</td>\n",
       "      <td>NaN</td>\n",
       "      <td>NaN</td>\n",
       "    </tr>\n",
       "    <tr>\n",
       "      <th>2013-08-31</th>\n",
       "      <td>97301</td>\n",
       "      <td>76927.0</td>\n",
       "      <td>NaN</td>\n",
       "    </tr>\n",
       "    <tr>\n",
       "      <th>2013-09-30</th>\n",
       "      <td>94959</td>\n",
       "      <td>-2342.0</td>\n",
       "      <td>NaN</td>\n",
       "    </tr>\n",
       "    <tr>\n",
       "      <th>2013-10-31</th>\n",
       "      <td>110644</td>\n",
       "      <td>15685.0</td>\n",
       "      <td>NaN</td>\n",
       "    </tr>\n",
       "    <tr>\n",
       "      <th>2013-11-30</th>\n",
       "      <td>99855</td>\n",
       "      <td>-10789.0</td>\n",
       "      <td>NaN</td>\n",
       "    </tr>\n",
       "    <tr>\n",
       "      <th>2013-12-31</th>\n",
       "      <td>88307</td>\n",
       "      <td>-11548.0</td>\n",
       "      <td>NaN</td>\n",
       "    </tr>\n",
       "    <tr>\n",
       "      <th>2014-01-31</th>\n",
       "      <td>86766</td>\n",
       "      <td>-1541.0</td>\n",
       "      <td>NaN</td>\n",
       "    </tr>\n",
       "    <tr>\n",
       "      <th>2014-02-28</th>\n",
       "      <td>77942</td>\n",
       "      <td>-8824.0</td>\n",
       "      <td>NaN</td>\n",
       "    </tr>\n",
       "    <tr>\n",
       "      <th>2014-03-31</th>\n",
       "      <td>110237</td>\n",
       "      <td>32295.0</td>\n",
       "      <td>NaN</td>\n",
       "    </tr>\n",
       "    <tr>\n",
       "      <th>2014-04-30</th>\n",
       "      <td>104660</td>\n",
       "      <td>-5577.0</td>\n",
       "      <td>NaN</td>\n",
       "    </tr>\n",
       "    <tr>\n",
       "      <th>2014-05-31</th>\n",
       "      <td>115035</td>\n",
       "      <td>10375.0</td>\n",
       "      <td>NaN</td>\n",
       "    </tr>\n",
       "    <tr>\n",
       "      <th>2014-06-30</th>\n",
       "      <td>117594</td>\n",
       "      <td>2559.0</td>\n",
       "      <td>NaN</td>\n",
       "    </tr>\n",
       "    <tr>\n",
       "      <th>2014-07-31</th>\n",
       "      <td>122026</td>\n",
       "      <td>4432.0</td>\n",
       "      <td>101652.0</td>\n",
       "    </tr>\n",
       "    <tr>\n",
       "      <th>2014-08-31</th>\n",
       "      <td>109187</td>\n",
       "      <td>-12839.0</td>\n",
       "      <td>11886.0</td>\n",
       "    </tr>\n",
       "    <tr>\n",
       "      <th>2014-09-30</th>\n",
       "      <td>133176</td>\n",
       "      <td>23989.0</td>\n",
       "      <td>38217.0</td>\n",
       "    </tr>\n",
       "    <tr>\n",
       "      <th>2014-10-31</th>\n",
       "      <td>121225</td>\n",
       "      <td>-11951.0</td>\n",
       "      <td>10581.0</td>\n",
       "    </tr>\n",
       "    <tr>\n",
       "      <th>2014-11-30</th>\n",
       "      <td>102468</td>\n",
       "      <td>-18757.0</td>\n",
       "      <td>2613.0</td>\n",
       "    </tr>\n",
       "    <tr>\n",
       "      <th>2014-12-31</th>\n",
       "      <td>102906</td>\n",
       "      <td>438.0</td>\n",
       "      <td>14599.0</td>\n",
       "    </tr>\n",
       "    <tr>\n",
       "      <th>2015-01-31</th>\n",
       "      <td>181020</td>\n",
       "      <td>78114.0</td>\n",
       "      <td>94254.0</td>\n",
       "    </tr>\n",
       "    <tr>\n",
       "      <th>2015-02-28</th>\n",
       "      <td>91900</td>\n",
       "      <td>-89120.0</td>\n",
       "      <td>13958.0</td>\n",
       "    </tr>\n",
       "  </tbody>\n",
       "</table>\n",
       "</div>"
      ],
      "text/plain": [
       "             Fines  Fines First Difference  Seasonal First Difference\n",
       "Issue Date                                                           \n",
       "2013-07-31   20374                     NaN                        NaN\n",
       "2013-08-31   97301                 76927.0                        NaN\n",
       "2013-09-30   94959                 -2342.0                        NaN\n",
       "2013-10-31  110644                 15685.0                        NaN\n",
       "2013-11-30   99855                -10789.0                        NaN\n",
       "2013-12-31   88307                -11548.0                        NaN\n",
       "2014-01-31   86766                 -1541.0                        NaN\n",
       "2014-02-28   77942                 -8824.0                        NaN\n",
       "2014-03-31  110237                 32295.0                        NaN\n",
       "2014-04-30  104660                 -5577.0                        NaN\n",
       "2014-05-31  115035                 10375.0                        NaN\n",
       "2014-06-30  117594                  2559.0                        NaN\n",
       "2014-07-31  122026                  4432.0                   101652.0\n",
       "2014-08-31  109187                -12839.0                    11886.0\n",
       "2014-09-30  133176                 23989.0                    38217.0\n",
       "2014-10-31  121225                -11951.0                    10581.0\n",
       "2014-11-30  102468                -18757.0                     2613.0\n",
       "2014-12-31  102906                   438.0                    14599.0\n",
       "2015-01-31  181020                 78114.0                    94254.0\n",
       "2015-02-28   91900                -89120.0                    13958.0"
      ]
     },
     "execution_count": 236,
     "metadata": {},
     "output_type": "execute_result"
    }
   ],
   "source": [
    "finecount_bydate['Seasonal First Difference']=finecount_bydate['Fines']-finecount_bydate['Fines'].shift(12)\n",
    "finecount_bydate.head(20)"
   ]
  },
  {
   "cell_type": "code",
   "execution_count": 237,
   "id": "4e470b24",
   "metadata": {},
   "outputs": [
    {
     "name": "stdout",
     "output_type": "stream",
     "text": [
      "ADF Test Statistic : -0.3955160885063703\n",
      "p-value : 0.9108447424312499\n",
      "#Lags Used : 8\n",
      "Number of Observations Used : 24\n",
      "weak evidence against null hypothesis, time series has a unit root, indicating it is non-stationary \n"
     ]
    }
   ],
   "source": [
    "adfuller_test(finecount_bydate['Seasonal First Difference'].dropna())"
   ]
  },
  {
   "cell_type": "code",
   "execution_count": 238,
   "id": "c61f107a",
   "metadata": {},
   "outputs": [
    {
     "data": {
      "text/plain": [
       "<AxesSubplot:xlabel='Issue Date'>"
      ]
     },
     "execution_count": 238,
     "metadata": {},
     "output_type": "execute_result"
    },
    {
     "data": {
      "image/png": "[encoded data removed]",
      "text/plain": [
       "<Figure size 432x288 with 1 Axes>"
      ]
     },
     "metadata": {
      "needs_background": "light"
     },
     "output_type": "display_data"
    }
   ],
   "source": [
    "finecount_bydate['Seasonal First Difference'].plot()"
   ]
  },
  {
   "cell_type": "markdown",
   "id": "2a8c7cb1",
   "metadata": {},
   "source": [
    "#### Посмотрим как меняется количество штрафов каждый год для разных марок машин"
   ]
  },
  {
   "cell_type": "markdown",
   "id": "bc826381",
   "metadata": {},
   "source": [
    "##### До 2000 года"
   ]
  },
  {
   "cell_type": "markdown",
   "id": "4229f51c",
   "metadata": {},
   "source": [
    "###### Dodge"
   ]
  },
  {
   "cell_type": "code",
   "execution_count": 239,
   "id": "4c7f87dd",
   "metadata": {},
   "outputs": [
    {
     "name": "stdout",
     "output_type": "stream",
     "text": [
      "ADF Test Statistic : -0.7872626881959429\n",
      "p-value : 0.8228349541789248\n",
      "#Lags Used : 3\n",
      "Number of Observations Used : 41\n",
      "weak evidence against null hypothesis, time series has a unit root, indicating it is non-stationary \n"
     ]
    }
   ],
   "source": [
    "adfuller_test(finecount_bydate_before2000['DODGE']['Fines'])"
   ]
  },
  {
   "cell_type": "code",
   "execution_count": 240,
   "id": "9041f753",
   "metadata": {},
   "outputs": [
    {
     "data": {
      "text/html": [
       "<div>\n",
       "<style scoped>\n",
       "    .dataframe tbody tr th:only-of-type {\n",
       "        vertical-align: middle;\n",
       "    }\n",
       "\n",
       "    .dataframe tbody tr th {\n",
       "        vertical-align: top;\n",
       "    }\n",
       "\n",
       "    .dataframe thead th {\n",
       "        text-align: right;\n",
       "    }\n",
       "</style>\n",
       "<table border=\"1\" class=\"dataframe\">\n",
       "  <thead>\n",
       "    <tr style=\"text-align: right;\">\n",
       "      <th></th>\n",
       "      <th>Fines</th>\n",
       "      <th>Fines First Difference</th>\n",
       "    </tr>\n",
       "    <tr>\n",
       "      <th>Issue Date</th>\n",
       "      <th></th>\n",
       "      <th></th>\n",
       "    </tr>\n",
       "  </thead>\n",
       "  <tbody>\n",
       "    <tr>\n",
       "      <th>2013-07-31</th>\n",
       "      <td>548</td>\n",
       "      <td>NaN</td>\n",
       "    </tr>\n",
       "    <tr>\n",
       "      <th>2013-08-31</th>\n",
       "      <td>2549</td>\n",
       "      <td>2001.0</td>\n",
       "    </tr>\n",
       "    <tr>\n",
       "      <th>2013-09-30</th>\n",
       "      <td>2491</td>\n",
       "      <td>-58.0</td>\n",
       "    </tr>\n",
       "    <tr>\n",
       "      <th>2013-10-31</th>\n",
       "      <td>2650</td>\n",
       "      <td>159.0</td>\n",
       "    </tr>\n",
       "    <tr>\n",
       "      <th>2013-11-30</th>\n",
       "      <td>2309</td>\n",
       "      <td>-341.0</td>\n",
       "    </tr>\n",
       "  </tbody>\n",
       "</table>\n",
       "</div>"
      ],
      "text/plain": [
       "            Fines  Fines First Difference\n",
       "Issue Date                               \n",
       "2013-07-31    548                     NaN\n",
       "2013-08-31   2549                  2001.0\n",
       "2013-09-30   2491                   -58.0\n",
       "2013-10-31   2650                   159.0\n",
       "2013-11-30   2309                  -341.0"
      ]
     },
     "execution_count": 240,
     "metadata": {},
     "output_type": "execute_result"
    }
   ],
   "source": [
    "finecount_bydate_before2000['DODGE']['Fines First Difference'] = finecount_bydate_before2000['DODGE']['Fines'] - finecount_bydate_before2000['DODGE']['Fines'].shift(1)\n",
    "finecount_bydate_before2000['DODGE'].head()"
   ]
  },
  {
   "cell_type": "code",
   "execution_count": 241,
   "id": "9c02b4c6",
   "metadata": {},
   "outputs": [
    {
     "data": {
      "text/html": [
       "<div>\n",
       "<style scoped>\n",
       "    .dataframe tbody tr th:only-of-type {\n",
       "        vertical-align: middle;\n",
       "    }\n",
       "\n",
       "    .dataframe tbody tr th {\n",
       "        vertical-align: top;\n",
       "    }\n",
       "\n",
       "    .dataframe thead th {\n",
       "        text-align: right;\n",
       "    }\n",
       "</style>\n",
       "<table border=\"1\" class=\"dataframe\">\n",
       "  <thead>\n",
       "    <tr style=\"text-align: right;\">\n",
       "      <th></th>\n",
       "      <th>Fines</th>\n",
       "      <th>Fines First Difference</th>\n",
       "      <th>Seasonal First Difference</th>\n",
       "    </tr>\n",
       "    <tr>\n",
       "      <th>Issue Date</th>\n",
       "      <th></th>\n",
       "      <th></th>\n",
       "      <th></th>\n",
       "    </tr>\n",
       "  </thead>\n",
       "  <tbody>\n",
       "    <tr>\n",
       "      <th>2013-07-31</th>\n",
       "      <td>548</td>\n",
       "      <td>NaN</td>\n",
       "      <td>NaN</td>\n",
       "    </tr>\n",
       "    <tr>\n",
       "      <th>2013-08-31</th>\n",
       "      <td>2549</td>\n",
       "      <td>2001.0</td>\n",
       "      <td>NaN</td>\n",
       "    </tr>\n",
       "    <tr>\n",
       "      <th>2013-09-30</th>\n",
       "      <td>2491</td>\n",
       "      <td>-58.0</td>\n",
       "      <td>NaN</td>\n",
       "    </tr>\n",
       "    <tr>\n",
       "      <th>2013-10-31</th>\n",
       "      <td>2650</td>\n",
       "      <td>159.0</td>\n",
       "      <td>NaN</td>\n",
       "    </tr>\n",
       "    <tr>\n",
       "      <th>2013-11-30</th>\n",
       "      <td>2309</td>\n",
       "      <td>-341.0</td>\n",
       "      <td>NaN</td>\n",
       "    </tr>\n",
       "    <tr>\n",
       "      <th>2013-12-31</th>\n",
       "      <td>2005</td>\n",
       "      <td>-304.0</td>\n",
       "      <td>NaN</td>\n",
       "    </tr>\n",
       "    <tr>\n",
       "      <th>2014-01-31</th>\n",
       "      <td>1926</td>\n",
       "      <td>-79.0</td>\n",
       "      <td>NaN</td>\n",
       "    </tr>\n",
       "    <tr>\n",
       "      <th>2014-02-28</th>\n",
       "      <td>1555</td>\n",
       "      <td>-371.0</td>\n",
       "      <td>NaN</td>\n",
       "    </tr>\n",
       "    <tr>\n",
       "      <th>2014-03-31</th>\n",
       "      <td>2232</td>\n",
       "      <td>677.0</td>\n",
       "      <td>NaN</td>\n",
       "    </tr>\n",
       "    <tr>\n",
       "      <th>2014-04-30</th>\n",
       "      <td>2162</td>\n",
       "      <td>-70.0</td>\n",
       "      <td>NaN</td>\n",
       "    </tr>\n",
       "    <tr>\n",
       "      <th>2014-05-31</th>\n",
       "      <td>2184</td>\n",
       "      <td>22.0</td>\n",
       "      <td>NaN</td>\n",
       "    </tr>\n",
       "    <tr>\n",
       "      <th>2014-06-30</th>\n",
       "      <td>2025</td>\n",
       "      <td>-159.0</td>\n",
       "      <td>NaN</td>\n",
       "    </tr>\n",
       "    <tr>\n",
       "      <th>2014-07-31</th>\n",
       "      <td>2138</td>\n",
       "      <td>113.0</td>\n",
       "      <td>1590.0</td>\n",
       "    </tr>\n",
       "    <tr>\n",
       "      <th>2014-08-31</th>\n",
       "      <td>1930</td>\n",
       "      <td>-208.0</td>\n",
       "      <td>-619.0</td>\n",
       "    </tr>\n",
       "    <tr>\n",
       "      <th>2014-09-30</th>\n",
       "      <td>2149</td>\n",
       "      <td>219.0</td>\n",
       "      <td>-342.0</td>\n",
       "    </tr>\n",
       "    <tr>\n",
       "      <th>2014-10-31</th>\n",
       "      <td>2025</td>\n",
       "      <td>-124.0</td>\n",
       "      <td>-625.0</td>\n",
       "    </tr>\n",
       "    <tr>\n",
       "      <th>2014-11-30</th>\n",
       "      <td>1669</td>\n",
       "      <td>-356.0</td>\n",
       "      <td>-640.0</td>\n",
       "    </tr>\n",
       "    <tr>\n",
       "      <th>2014-12-31</th>\n",
       "      <td>1510</td>\n",
       "      <td>-159.0</td>\n",
       "      <td>-495.0</td>\n",
       "    </tr>\n",
       "    <tr>\n",
       "      <th>2015-01-31</th>\n",
       "      <td>2546</td>\n",
       "      <td>1036.0</td>\n",
       "      <td>620.0</td>\n",
       "    </tr>\n",
       "    <tr>\n",
       "      <th>2015-02-28</th>\n",
       "      <td>1223</td>\n",
       "      <td>-1323.0</td>\n",
       "      <td>-332.0</td>\n",
       "    </tr>\n",
       "  </tbody>\n",
       "</table>\n",
       "</div>"
      ],
      "text/plain": [
       "            Fines  Fines First Difference  Seasonal First Difference\n",
       "Issue Date                                                          \n",
       "2013-07-31    548                     NaN                        NaN\n",
       "2013-08-31   2549                  2001.0                        NaN\n",
       "2013-09-30   2491                   -58.0                        NaN\n",
       "2013-10-31   2650                   159.0                        NaN\n",
       "2013-11-30   2309                  -341.0                        NaN\n",
       "2013-12-31   2005                  -304.0                        NaN\n",
       "2014-01-31   1926                   -79.0                        NaN\n",
       "2014-02-28   1555                  -371.0                        NaN\n",
       "2014-03-31   2232                   677.0                        NaN\n",
       "2014-04-30   2162                   -70.0                        NaN\n",
       "2014-05-31   2184                    22.0                        NaN\n",
       "2014-06-30   2025                  -159.0                        NaN\n",
       "2014-07-31   2138                   113.0                     1590.0\n",
       "2014-08-31   1930                  -208.0                     -619.0\n",
       "2014-09-30   2149                   219.0                     -342.0\n",
       "2014-10-31   2025                  -124.0                     -625.0\n",
       "2014-11-30   1669                  -356.0                     -640.0\n",
       "2014-12-31   1510                  -159.0                     -495.0\n",
       "2015-01-31   2546                  1036.0                      620.0\n",
       "2015-02-28   1223                 -1323.0                     -332.0"
      ]
     },
     "execution_count": 241,
     "metadata": {},
     "output_type": "execute_result"
    }
   ],
   "source": [
    "finecount_bydate_before2000['DODGE']['Seasonal First Difference']=finecount_bydate_before2000['DODGE']['Fines']-finecount_bydate_before2000['DODGE']['Fines'].shift(12)\n",
    "finecount_bydate_before2000['DODGE'].head(20)"
   ]
  },
  {
   "cell_type": "code",
   "execution_count": 242,
   "id": "8ca6f273",
   "metadata": {},
   "outputs": [
    {
     "name": "stdout",
     "output_type": "stream",
     "text": [
      "ADF Test Statistic : -8.1340742386856\n",
      "p-value : 1.0708704308401971e-12\n",
      "#Lags Used : 0\n",
      "Number of Observations Used : 32\n",
      "strong evidence against the null hypothesis(Ho), reject the null hypothesis. Data has no unit root and is stationary\n"
     ]
    }
   ],
   "source": [
    "adfuller_test(finecount_bydate_before2000['DODGE']['Seasonal First Difference'].dropna())"
   ]
  },
  {
   "cell_type": "code",
   "execution_count": 243,
   "id": "638c74d7",
   "metadata": {},
   "outputs": [
    {
     "data": {
      "text/plain": [
       "<AxesSubplot:xlabel='Issue Date'>"
      ]
     },
     "execution_count": 243,
     "metadata": {},
     "output_type": "execute_result"
    },
    {
     "data": {
      "image/png": "[encoded data removed]",
      "text/plain": [
       "<Figure size 432x288 with 1 Axes>"
      ]
     },
     "metadata": {
      "needs_background": "light"
     },
     "output_type": "display_data"
    }
   ],
   "source": [
    "finecount_bydate_before2000['DODGE']['Seasonal First Difference'].plot()"
   ]
  },
  {
   "cell_type": "markdown",
   "id": "4afaed4a",
   "metadata": {},
   "source": [
    "###### Toyota"
   ]
  },
  {
   "cell_type": "code",
   "execution_count": 244,
   "id": "14034626",
   "metadata": {},
   "outputs": [
    {
     "name": "stdout",
     "output_type": "stream",
     "text": [
      "ADF Test Statistic : 0.08982949185204288\n",
      "p-value : 0.9653598069371531\n",
      "#Lags Used : 4\n",
      "Number of Observations Used : 40\n",
      "weak evidence against null hypothesis, time series has a unit root, indicating it is non-stationary \n"
     ]
    }
   ],
   "source": [
    "adfuller_test(finecount_bydate_before2000['TOYOT']['Fines'])"
   ]
  },
  {
   "cell_type": "code",
   "execution_count": 245,
   "id": "68ecf135",
   "metadata": {},
   "outputs": [
    {
     "data": {
      "text/html": [
       "<div>\n",
       "<style scoped>\n",
       "    .dataframe tbody tr th:only-of-type {\n",
       "        vertical-align: middle;\n",
       "    }\n",
       "\n",
       "    .dataframe tbody tr th {\n",
       "        vertical-align: top;\n",
       "    }\n",
       "\n",
       "    .dataframe thead th {\n",
       "        text-align: right;\n",
       "    }\n",
       "</style>\n",
       "<table border=\"1\" class=\"dataframe\">\n",
       "  <thead>\n",
       "    <tr style=\"text-align: right;\">\n",
       "      <th></th>\n",
       "      <th>Fines</th>\n",
       "      <th>Fines First Difference</th>\n",
       "    </tr>\n",
       "    <tr>\n",
       "      <th>Issue Date</th>\n",
       "      <th></th>\n",
       "      <th></th>\n",
       "    </tr>\n",
       "  </thead>\n",
       "  <tbody>\n",
       "    <tr>\n",
       "      <th>2013-07-31</th>\n",
       "      <td>1663</td>\n",
       "      <td>NaN</td>\n",
       "    </tr>\n",
       "    <tr>\n",
       "      <th>2013-08-31</th>\n",
       "      <td>8162</td>\n",
       "      <td>6499.0</td>\n",
       "    </tr>\n",
       "    <tr>\n",
       "      <th>2013-09-30</th>\n",
       "      <td>8008</td>\n",
       "      <td>-154.0</td>\n",
       "    </tr>\n",
       "    <tr>\n",
       "      <th>2013-10-31</th>\n",
       "      <td>8786</td>\n",
       "      <td>778.0</td>\n",
       "    </tr>\n",
       "    <tr>\n",
       "      <th>2013-11-30</th>\n",
       "      <td>7984</td>\n",
       "      <td>-802.0</td>\n",
       "    </tr>\n",
       "  </tbody>\n",
       "</table>\n",
       "</div>"
      ],
      "text/plain": [
       "            Fines  Fines First Difference\n",
       "Issue Date                               \n",
       "2013-07-31   1663                     NaN\n",
       "2013-08-31   8162                  6499.0\n",
       "2013-09-30   8008                  -154.0\n",
       "2013-10-31   8786                   778.0\n",
       "2013-11-30   7984                  -802.0"
      ]
     },
     "execution_count": 245,
     "metadata": {},
     "output_type": "execute_result"
    }
   ],
   "source": [
    "finecount_bydate_before2000['TOYOT']['Fines First Difference'] = finecount_bydate_before2000['TOYOT']['Fines'] - finecount_bydate_before2000['TOYOT']['Fines'].shift(1)\n",
    "finecount_bydate_before2000['TOYOT'].head()"
   ]
  },
  {
   "cell_type": "code",
   "execution_count": 246,
   "id": "bcf05182",
   "metadata": {},
   "outputs": [
    {
     "data": {
      "text/html": [
       "<div>\n",
       "<style scoped>\n",
       "    .dataframe tbody tr th:only-of-type {\n",
       "        vertical-align: middle;\n",
       "    }\n",
       "\n",
       "    .dataframe tbody tr th {\n",
       "        vertical-align: top;\n",
       "    }\n",
       "\n",
       "    .dataframe thead th {\n",
       "        text-align: right;\n",
       "    }\n",
       "</style>\n",
       "<table border=\"1\" class=\"dataframe\">\n",
       "  <thead>\n",
       "    <tr style=\"text-align: right;\">\n",
       "      <th></th>\n",
       "      <th>Fines</th>\n",
       "      <th>Fines First Difference</th>\n",
       "      <th>Seasonal First Difference</th>\n",
       "    </tr>\n",
       "    <tr>\n",
       "      <th>Issue Date</th>\n",
       "      <th></th>\n",
       "      <th></th>\n",
       "      <th></th>\n",
       "    </tr>\n",
       "  </thead>\n",
       "  <tbody>\n",
       "    <tr>\n",
       "      <th>2013-07-31</th>\n",
       "      <td>1663</td>\n",
       "      <td>NaN</td>\n",
       "      <td>NaN</td>\n",
       "    </tr>\n",
       "    <tr>\n",
       "      <th>2013-08-31</th>\n",
       "      <td>8162</td>\n",
       "      <td>6499.0</td>\n",
       "      <td>NaN</td>\n",
       "    </tr>\n",
       "    <tr>\n",
       "      <th>2013-09-30</th>\n",
       "      <td>8008</td>\n",
       "      <td>-154.0</td>\n",
       "      <td>NaN</td>\n",
       "    </tr>\n",
       "    <tr>\n",
       "      <th>2013-10-31</th>\n",
       "      <td>8786</td>\n",
       "      <td>778.0</td>\n",
       "      <td>NaN</td>\n",
       "    </tr>\n",
       "    <tr>\n",
       "      <th>2013-11-30</th>\n",
       "      <td>7984</td>\n",
       "      <td>-802.0</td>\n",
       "      <td>NaN</td>\n",
       "    </tr>\n",
       "    <tr>\n",
       "      <th>2013-12-31</th>\n",
       "      <td>7159</td>\n",
       "      <td>-825.0</td>\n",
       "      <td>NaN</td>\n",
       "    </tr>\n",
       "    <tr>\n",
       "      <th>2014-01-31</th>\n",
       "      <td>6638</td>\n",
       "      <td>-521.0</td>\n",
       "      <td>NaN</td>\n",
       "    </tr>\n",
       "    <tr>\n",
       "      <th>2014-02-28</th>\n",
       "      <td>5624</td>\n",
       "      <td>-1014.0</td>\n",
       "      <td>NaN</td>\n",
       "    </tr>\n",
       "    <tr>\n",
       "      <th>2014-03-31</th>\n",
       "      <td>8058</td>\n",
       "      <td>2434.0</td>\n",
       "      <td>NaN</td>\n",
       "    </tr>\n",
       "    <tr>\n",
       "      <th>2014-04-30</th>\n",
       "      <td>7708</td>\n",
       "      <td>-350.0</td>\n",
       "      <td>NaN</td>\n",
       "    </tr>\n",
       "    <tr>\n",
       "      <th>2014-05-31</th>\n",
       "      <td>7938</td>\n",
       "      <td>230.0</td>\n",
       "      <td>NaN</td>\n",
       "    </tr>\n",
       "    <tr>\n",
       "      <th>2014-06-30</th>\n",
       "      <td>7854</td>\n",
       "      <td>-84.0</td>\n",
       "      <td>NaN</td>\n",
       "    </tr>\n",
       "    <tr>\n",
       "      <th>2014-07-31</th>\n",
       "      <td>7954</td>\n",
       "      <td>100.0</td>\n",
       "      <td>6291.0</td>\n",
       "    </tr>\n",
       "    <tr>\n",
       "      <th>2014-08-31</th>\n",
       "      <td>7108</td>\n",
       "      <td>-846.0</td>\n",
       "      <td>-1054.0</td>\n",
       "    </tr>\n",
       "    <tr>\n",
       "      <th>2014-09-30</th>\n",
       "      <td>8315</td>\n",
       "      <td>1207.0</td>\n",
       "      <td>307.0</td>\n",
       "    </tr>\n",
       "    <tr>\n",
       "      <th>2014-10-31</th>\n",
       "      <td>7730</td>\n",
       "      <td>-585.0</td>\n",
       "      <td>-1056.0</td>\n",
       "    </tr>\n",
       "    <tr>\n",
       "      <th>2014-11-30</th>\n",
       "      <td>6482</td>\n",
       "      <td>-1248.0</td>\n",
       "      <td>-1502.0</td>\n",
       "    </tr>\n",
       "    <tr>\n",
       "      <th>2014-12-31</th>\n",
       "      <td>6140</td>\n",
       "      <td>-342.0</td>\n",
       "      <td>-1019.0</td>\n",
       "    </tr>\n",
       "    <tr>\n",
       "      <th>2015-01-31</th>\n",
       "      <td>10538</td>\n",
       "      <td>4398.0</td>\n",
       "      <td>3900.0</td>\n",
       "    </tr>\n",
       "    <tr>\n",
       "      <th>2015-02-28</th>\n",
       "      <td>4983</td>\n",
       "      <td>-5555.0</td>\n",
       "      <td>-641.0</td>\n",
       "    </tr>\n",
       "  </tbody>\n",
       "</table>\n",
       "</div>"
      ],
      "text/plain": [
       "            Fines  Fines First Difference  Seasonal First Difference\n",
       "Issue Date                                                          \n",
       "2013-07-31   1663                     NaN                        NaN\n",
       "2013-08-31   8162                  6499.0                        NaN\n",
       "2013-09-30   8008                  -154.0                        NaN\n",
       "2013-10-31   8786                   778.0                        NaN\n",
       "2013-11-30   7984                  -802.0                        NaN\n",
       "2013-12-31   7159                  -825.0                        NaN\n",
       "2014-01-31   6638                  -521.0                        NaN\n",
       "2014-02-28   5624                 -1014.0                        NaN\n",
       "2014-03-31   8058                  2434.0                        NaN\n",
       "2014-04-30   7708                  -350.0                        NaN\n",
       "2014-05-31   7938                   230.0                        NaN\n",
       "2014-06-30   7854                   -84.0                        NaN\n",
       "2014-07-31   7954                   100.0                     6291.0\n",
       "2014-08-31   7108                  -846.0                    -1054.0\n",
       "2014-09-30   8315                  1207.0                      307.0\n",
       "2014-10-31   7730                  -585.0                    -1056.0\n",
       "2014-11-30   6482                 -1248.0                    -1502.0\n",
       "2014-12-31   6140                  -342.0                    -1019.0\n",
       "2015-01-31  10538                  4398.0                     3900.0\n",
       "2015-02-28   4983                 -5555.0                     -641.0"
      ]
     },
     "execution_count": 246,
     "metadata": {},
     "output_type": "execute_result"
    }
   ],
   "source": [
    "finecount_bydate_before2000['TOYOT']['Seasonal First Difference']=finecount_bydate_before2000['TOYOT']['Fines']-finecount_bydate_before2000['TOYOT']['Fines'].shift(12)\n",
    "finecount_bydate_before2000['TOYOT'].head(20)"
   ]
  },
  {
   "cell_type": "code",
   "execution_count": 247,
   "id": "74e6bfe7",
   "metadata": {},
   "outputs": [
    {
     "name": "stdout",
     "output_type": "stream",
     "text": [
      "ADF Test Statistic : -6.584520623978227\n",
      "p-value : 7.371672833564615e-09\n",
      "#Lags Used : 0\n",
      "Number of Observations Used : 32\n",
      "strong evidence against the null hypothesis(Ho), reject the null hypothesis. Data has no unit root and is stationary\n"
     ]
    }
   ],
   "source": [
    "adfuller_test(finecount_bydate_before2000['TOYOT']['Seasonal First Difference'].dropna())"
   ]
  },
  {
   "cell_type": "code",
   "execution_count": 248,
   "id": "2ad8984a",
   "metadata": {},
   "outputs": [
    {
     "data": {
      "text/plain": [
       "<AxesSubplot:xlabel='Issue Date'>"
      ]
     },
     "execution_count": 248,
     "metadata": {},
     "output_type": "execute_result"
    },
    {
     "data": {
      "image/png": "[encoded data removed]",
      "text/plain": [
       "<Figure size 432x288 with 1 Axes>"
      ]
     },
     "metadata": {
      "needs_background": "light"
     },
     "output_type": "display_data"
    }
   ],
   "source": [
    "finecount_bydate_before2000['TOYOT']['Seasonal First Difference'].plot()"
   ]
  },
  {
   "cell_type": "markdown",
   "id": "be54eb93",
   "metadata": {},
   "source": [
    "###### Hyundai"
   ]
  },
  {
   "cell_type": "code",
   "execution_count": 249,
   "id": "e5952172",
   "metadata": {},
   "outputs": [
    {
     "name": "stdout",
     "output_type": "stream",
     "text": [
      "ADF Test Statistic : -1.4916425719384432\n",
      "p-value : 0.5376415134829555\n",
      "#Lags Used : 1\n",
      "Number of Observations Used : 43\n",
      "weak evidence against null hypothesis, time series has a unit root, indicating it is non-stationary \n"
     ]
    }
   ],
   "source": [
    "adfuller_test(finecount_bydate_before2000['HYUND']['Fines'])"
   ]
  },
  {
   "cell_type": "code",
   "execution_count": 250,
   "id": "0450e106",
   "metadata": {},
   "outputs": [
    {
     "data": {
      "text/html": [
       "<div>\n",
       "<style scoped>\n",
       "    .dataframe tbody tr th:only-of-type {\n",
       "        vertical-align: middle;\n",
       "    }\n",
       "\n",
       "    .dataframe tbody tr th {\n",
       "        vertical-align: top;\n",
       "    }\n",
       "\n",
       "    .dataframe thead th {\n",
       "        text-align: right;\n",
       "    }\n",
       "</style>\n",
       "<table border=\"1\" class=\"dataframe\">\n",
       "  <thead>\n",
       "    <tr style=\"text-align: right;\">\n",
       "      <th></th>\n",
       "      <th>Fines</th>\n",
       "      <th>Fines First Difference</th>\n",
       "    </tr>\n",
       "    <tr>\n",
       "      <th>Issue Date</th>\n",
       "      <th></th>\n",
       "      <th></th>\n",
       "    </tr>\n",
       "  </thead>\n",
       "  <tbody>\n",
       "    <tr>\n",
       "      <th>2013-07-31</th>\n",
       "      <td>32</td>\n",
       "      <td>NaN</td>\n",
       "    </tr>\n",
       "    <tr>\n",
       "      <th>2013-08-31</th>\n",
       "      <td>164</td>\n",
       "      <td>132.0</td>\n",
       "    </tr>\n",
       "    <tr>\n",
       "      <th>2013-09-30</th>\n",
       "      <td>139</td>\n",
       "      <td>-25.0</td>\n",
       "    </tr>\n",
       "    <tr>\n",
       "      <th>2013-10-31</th>\n",
       "      <td>166</td>\n",
       "      <td>27.0</td>\n",
       "    </tr>\n",
       "    <tr>\n",
       "      <th>2013-11-30</th>\n",
       "      <td>157</td>\n",
       "      <td>-9.0</td>\n",
       "    </tr>\n",
       "  </tbody>\n",
       "</table>\n",
       "</div>"
      ],
      "text/plain": [
       "            Fines  Fines First Difference\n",
       "Issue Date                               \n",
       "2013-07-31     32                     NaN\n",
       "2013-08-31    164                   132.0\n",
       "2013-09-30    139                   -25.0\n",
       "2013-10-31    166                    27.0\n",
       "2013-11-30    157                    -9.0"
      ]
     },
     "execution_count": 250,
     "metadata": {},
     "output_type": "execute_result"
    }
   ],
   "source": [
    "finecount_bydate_before2000['HYUND']['Fines First Difference'] = finecount_bydate_before2000['HYUND']['Fines'] - finecount_bydate_before2000['HYUND']['Fines'].shift(1)\n",
    "finecount_bydate_before2000['HYUND'].head()"
   ]
  },
  {
   "cell_type": "code",
   "execution_count": 251,
   "id": "7eeaff82",
   "metadata": {},
   "outputs": [
    {
     "data": {
      "text/html": [
       "<div>\n",
       "<style scoped>\n",
       "    .dataframe tbody tr th:only-of-type {\n",
       "        vertical-align: middle;\n",
       "    }\n",
       "\n",
       "    .dataframe tbody tr th {\n",
       "        vertical-align: top;\n",
       "    }\n",
       "\n",
       "    .dataframe thead th {\n",
       "        text-align: right;\n",
       "    }\n",
       "</style>\n",
       "<table border=\"1\" class=\"dataframe\">\n",
       "  <thead>\n",
       "    <tr style=\"text-align: right;\">\n",
       "      <th></th>\n",
       "      <th>Fines</th>\n",
       "      <th>Fines First Difference</th>\n",
       "      <th>Seasonal First Difference</th>\n",
       "    </tr>\n",
       "    <tr>\n",
       "      <th>Issue Date</th>\n",
       "      <th></th>\n",
       "      <th></th>\n",
       "      <th></th>\n",
       "    </tr>\n",
       "  </thead>\n",
       "  <tbody>\n",
       "    <tr>\n",
       "      <th>2013-07-31</th>\n",
       "      <td>32</td>\n",
       "      <td>NaN</td>\n",
       "      <td>NaN</td>\n",
       "    </tr>\n",
       "    <tr>\n",
       "      <th>2013-08-31</th>\n",
       "      <td>164</td>\n",
       "      <td>132.0</td>\n",
       "      <td>NaN</td>\n",
       "    </tr>\n",
       "    <tr>\n",
       "      <th>2013-09-30</th>\n",
       "      <td>139</td>\n",
       "      <td>-25.0</td>\n",
       "      <td>NaN</td>\n",
       "    </tr>\n",
       "    <tr>\n",
       "      <th>2013-10-31</th>\n",
       "      <td>166</td>\n",
       "      <td>27.0</td>\n",
       "      <td>NaN</td>\n",
       "    </tr>\n",
       "    <tr>\n",
       "      <th>2013-11-30</th>\n",
       "      <td>157</td>\n",
       "      <td>-9.0</td>\n",
       "      <td>NaN</td>\n",
       "    </tr>\n",
       "    <tr>\n",
       "      <th>2013-12-31</th>\n",
       "      <td>137</td>\n",
       "      <td>-20.0</td>\n",
       "      <td>NaN</td>\n",
       "    </tr>\n",
       "    <tr>\n",
       "      <th>2014-01-31</th>\n",
       "      <td>112</td>\n",
       "      <td>-25.0</td>\n",
       "      <td>NaN</td>\n",
       "    </tr>\n",
       "    <tr>\n",
       "      <th>2014-02-28</th>\n",
       "      <td>94</td>\n",
       "      <td>-18.0</td>\n",
       "      <td>NaN</td>\n",
       "    </tr>\n",
       "    <tr>\n",
       "      <th>2014-03-31</th>\n",
       "      <td>149</td>\n",
       "      <td>55.0</td>\n",
       "      <td>NaN</td>\n",
       "    </tr>\n",
       "    <tr>\n",
       "      <th>2014-04-30</th>\n",
       "      <td>147</td>\n",
       "      <td>-2.0</td>\n",
       "      <td>NaN</td>\n",
       "    </tr>\n",
       "    <tr>\n",
       "      <th>2014-05-31</th>\n",
       "      <td>129</td>\n",
       "      <td>-18.0</td>\n",
       "      <td>NaN</td>\n",
       "    </tr>\n",
       "    <tr>\n",
       "      <th>2014-06-30</th>\n",
       "      <td>174</td>\n",
       "      <td>45.0</td>\n",
       "      <td>NaN</td>\n",
       "    </tr>\n",
       "    <tr>\n",
       "      <th>2014-07-31</th>\n",
       "      <td>161</td>\n",
       "      <td>-13.0</td>\n",
       "      <td>129.0</td>\n",
       "    </tr>\n",
       "    <tr>\n",
       "      <th>2014-08-31</th>\n",
       "      <td>125</td>\n",
       "      <td>-36.0</td>\n",
       "      <td>-39.0</td>\n",
       "    </tr>\n",
       "    <tr>\n",
       "      <th>2014-09-30</th>\n",
       "      <td>119</td>\n",
       "      <td>-6.0</td>\n",
       "      <td>-20.0</td>\n",
       "    </tr>\n",
       "    <tr>\n",
       "      <th>2014-10-31</th>\n",
       "      <td>112</td>\n",
       "      <td>-7.0</td>\n",
       "      <td>-54.0</td>\n",
       "    </tr>\n",
       "    <tr>\n",
       "      <th>2014-11-30</th>\n",
       "      <td>114</td>\n",
       "      <td>2.0</td>\n",
       "      <td>-43.0</td>\n",
       "    </tr>\n",
       "    <tr>\n",
       "      <th>2014-12-31</th>\n",
       "      <td>102</td>\n",
       "      <td>-12.0</td>\n",
       "      <td>-35.0</td>\n",
       "    </tr>\n",
       "    <tr>\n",
       "      <th>2015-01-31</th>\n",
       "      <td>176</td>\n",
       "      <td>74.0</td>\n",
       "      <td>64.0</td>\n",
       "    </tr>\n",
       "    <tr>\n",
       "      <th>2015-02-28</th>\n",
       "      <td>67</td>\n",
       "      <td>-109.0</td>\n",
       "      <td>-27.0</td>\n",
       "    </tr>\n",
       "  </tbody>\n",
       "</table>\n",
       "</div>"
      ],
      "text/plain": [
       "            Fines  Fines First Difference  Seasonal First Difference\n",
       "Issue Date                                                          \n",
       "2013-07-31     32                     NaN                        NaN\n",
       "2013-08-31    164                   132.0                        NaN\n",
       "2013-09-30    139                   -25.0                        NaN\n",
       "2013-10-31    166                    27.0                        NaN\n",
       "2013-11-30    157                    -9.0                        NaN\n",
       "2013-12-31    137                   -20.0                        NaN\n",
       "2014-01-31    112                   -25.0                        NaN\n",
       "2014-02-28     94                   -18.0                        NaN\n",
       "2014-03-31    149                    55.0                        NaN\n",
       "2014-04-30    147                    -2.0                        NaN\n",
       "2014-05-31    129                   -18.0                        NaN\n",
       "2014-06-30    174                    45.0                        NaN\n",
       "2014-07-31    161                   -13.0                      129.0\n",
       "2014-08-31    125                   -36.0                      -39.0\n",
       "2014-09-30    119                    -6.0                      -20.0\n",
       "2014-10-31    112                    -7.0                      -54.0\n",
       "2014-11-30    114                     2.0                      -43.0\n",
       "2014-12-31    102                   -12.0                      -35.0\n",
       "2015-01-31    176                    74.0                       64.0\n",
       "2015-02-28     67                  -109.0                      -27.0"
      ]
     },
     "execution_count": 251,
     "metadata": {},
     "output_type": "execute_result"
    }
   ],
   "source": [
    "finecount_bydate_before2000['HYUND']['Seasonal First Difference']=finecount_bydate_before2000['HYUND']['Fines']-finecount_bydate_before2000['HYUND']['Fines'].shift(12)\n",
    "finecount_bydate_before2000['HYUND'].head(20)"
   ]
  },
  {
   "cell_type": "code",
   "execution_count": 252,
   "id": "1502a9bd",
   "metadata": {
    "scrolled": false
   },
   "outputs": [
    {
     "name": "stdout",
     "output_type": "stream",
     "text": [
      "ADF Test Statistic : -6.478665247492668\n",
      "p-value : 1.311636822120921e-08\n",
      "#Lags Used : 0\n",
      "Number of Observations Used : 32\n",
      "strong evidence against the null hypothesis(Ho), reject the null hypothesis. Data has no unit root and is stationary\n"
     ]
    }
   ],
   "source": [
    "adfuller_test(finecount_bydate_before2000['HYUND']['Seasonal First Difference'].dropna())"
   ]
  },
  {
   "cell_type": "code",
   "execution_count": 253,
   "id": "0877a2fa",
   "metadata": {},
   "outputs": [
    {
     "data": {
      "text/plain": [
       "<AxesSubplot:xlabel='Issue Date'>"
      ]
     },
     "execution_count": 253,
     "metadata": {},
     "output_type": "execute_result"
    },
    {
     "data": {
      "image/png": "[encoded data removed]",
      "text/plain": [
       "<Figure size 432x288 with 1 Axes>"
      ]
     },
     "metadata": {
      "needs_background": "light"
     },
     "output_type": "display_data"
    }
   ],
   "source": [
    "finecount_bydate_before2000['HYUND']['Seasonal First Difference'].plot()"
   ]
  },
  {
   "cell_type": "markdown",
   "id": "3900f4b6",
   "metadata": {},
   "source": [
    "##### После 2000 года"
   ]
  },
  {
   "cell_type": "markdown",
   "id": "53a63f9f",
   "metadata": {},
   "source": [
    "###### Dodge"
   ]
  },
  {
   "cell_type": "code",
   "execution_count": 254,
   "id": "40e8d447",
   "metadata": {},
   "outputs": [
    {
     "name": "stdout",
     "output_type": "stream",
     "text": [
      "ADF Test Statistic : -5.44759306592022\n",
      "p-value : 2.688805210425275e-06\n",
      "#Lags Used : 0\n",
      "Number of Observations Used : 44\n",
      "strong evidence against the null hypothesis(Ho), reject the null hypothesis. Data has no unit root and is stationary\n"
     ]
    }
   ],
   "source": [
    "adfuller_test(finecount_bydate_after2000['DODGE']['Fines'])"
   ]
  },
  {
   "cell_type": "code",
   "execution_count": 255,
   "id": "9401aac8",
   "metadata": {},
   "outputs": [
    {
     "data": {
      "text/html": [
       "<div>\n",
       "<style scoped>\n",
       "    .dataframe tbody tr th:only-of-type {\n",
       "        vertical-align: middle;\n",
       "    }\n",
       "\n",
       "    .dataframe tbody tr th {\n",
       "        vertical-align: top;\n",
       "    }\n",
       "\n",
       "    .dataframe thead th {\n",
       "        text-align: right;\n",
       "    }\n",
       "</style>\n",
       "<table border=\"1\" class=\"dataframe\">\n",
       "  <thead>\n",
       "    <tr style=\"text-align: right;\">\n",
       "      <th></th>\n",
       "      <th>Fines</th>\n",
       "      <th>Fines First Difference</th>\n",
       "    </tr>\n",
       "    <tr>\n",
       "      <th>Issue Date</th>\n",
       "      <th></th>\n",
       "      <th></th>\n",
       "    </tr>\n",
       "  </thead>\n",
       "  <tbody>\n",
       "    <tr>\n",
       "      <th>2013-07-31</th>\n",
       "      <td>3840</td>\n",
       "      <td>NaN</td>\n",
       "    </tr>\n",
       "    <tr>\n",
       "      <th>2013-08-31</th>\n",
       "      <td>18338</td>\n",
       "      <td>14498.0</td>\n",
       "    </tr>\n",
       "    <tr>\n",
       "      <th>2013-09-30</th>\n",
       "      <td>18537</td>\n",
       "      <td>199.0</td>\n",
       "    </tr>\n",
       "    <tr>\n",
       "      <th>2013-10-31</th>\n",
       "      <td>21389</td>\n",
       "      <td>2852.0</td>\n",
       "    </tr>\n",
       "    <tr>\n",
       "      <th>2013-11-30</th>\n",
       "      <td>18704</td>\n",
       "      <td>-2685.0</td>\n",
       "    </tr>\n",
       "  </tbody>\n",
       "</table>\n",
       "</div>"
      ],
      "text/plain": [
       "            Fines  Fines First Difference\n",
       "Issue Date                               \n",
       "2013-07-31   3840                     NaN\n",
       "2013-08-31  18338                 14498.0\n",
       "2013-09-30  18537                   199.0\n",
       "2013-10-31  21389                  2852.0\n",
       "2013-11-30  18704                 -2685.0"
      ]
     },
     "execution_count": 255,
     "metadata": {},
     "output_type": "execute_result"
    }
   ],
   "source": [
    "finecount_bydate_after2000['DODGE']['Fines First Difference'] = finecount_bydate_after2000['DODGE']['Fines'] - finecount_bydate_after2000['DODGE']['Fines'].shift(1)\n",
    "finecount_bydate_after2000['DODGE'].head()"
   ]
  },
  {
   "cell_type": "code",
   "execution_count": 256,
   "id": "60b0e8a9",
   "metadata": {},
   "outputs": [
    {
     "data": {
      "text/html": [
       "<div>\n",
       "<style scoped>\n",
       "    .dataframe tbody tr th:only-of-type {\n",
       "        vertical-align: middle;\n",
       "    }\n",
       "\n",
       "    .dataframe tbody tr th {\n",
       "        vertical-align: top;\n",
       "    }\n",
       "\n",
       "    .dataframe thead th {\n",
       "        text-align: right;\n",
       "    }\n",
       "</style>\n",
       "<table border=\"1\" class=\"dataframe\">\n",
       "  <thead>\n",
       "    <tr style=\"text-align: right;\">\n",
       "      <th></th>\n",
       "      <th>Fines</th>\n",
       "      <th>Fines First Difference</th>\n",
       "      <th>Seasonal First Difference</th>\n",
       "    </tr>\n",
       "    <tr>\n",
       "      <th>Issue Date</th>\n",
       "      <th></th>\n",
       "      <th></th>\n",
       "      <th></th>\n",
       "    </tr>\n",
       "  </thead>\n",
       "  <tbody>\n",
       "    <tr>\n",
       "      <th>2013-07-31</th>\n",
       "      <td>3840</td>\n",
       "      <td>NaN</td>\n",
       "      <td>NaN</td>\n",
       "    </tr>\n",
       "    <tr>\n",
       "      <th>2013-08-31</th>\n",
       "      <td>18338</td>\n",
       "      <td>14498.0</td>\n",
       "      <td>NaN</td>\n",
       "    </tr>\n",
       "    <tr>\n",
       "      <th>2013-09-30</th>\n",
       "      <td>18537</td>\n",
       "      <td>199.0</td>\n",
       "      <td>NaN</td>\n",
       "    </tr>\n",
       "    <tr>\n",
       "      <th>2013-10-31</th>\n",
       "      <td>21389</td>\n",
       "      <td>2852.0</td>\n",
       "      <td>NaN</td>\n",
       "    </tr>\n",
       "    <tr>\n",
       "      <th>2013-11-30</th>\n",
       "      <td>18704</td>\n",
       "      <td>-2685.0</td>\n",
       "      <td>NaN</td>\n",
       "    </tr>\n",
       "    <tr>\n",
       "      <th>2013-12-31</th>\n",
       "      <td>16237</td>\n",
       "      <td>-2467.0</td>\n",
       "      <td>NaN</td>\n",
       "    </tr>\n",
       "    <tr>\n",
       "      <th>2014-01-31</th>\n",
       "      <td>16643</td>\n",
       "      <td>406.0</td>\n",
       "      <td>NaN</td>\n",
       "    </tr>\n",
       "    <tr>\n",
       "      <th>2014-02-28</th>\n",
       "      <td>15563</td>\n",
       "      <td>-1080.0</td>\n",
       "      <td>NaN</td>\n",
       "    </tr>\n",
       "    <tr>\n",
       "      <th>2014-03-31</th>\n",
       "      <td>21291</td>\n",
       "      <td>5728.0</td>\n",
       "      <td>NaN</td>\n",
       "    </tr>\n",
       "    <tr>\n",
       "      <th>2014-04-30</th>\n",
       "      <td>20698</td>\n",
       "      <td>-593.0</td>\n",
       "      <td>NaN</td>\n",
       "    </tr>\n",
       "    <tr>\n",
       "      <th>2014-05-31</th>\n",
       "      <td>21645</td>\n",
       "      <td>947.0</td>\n",
       "      <td>NaN</td>\n",
       "    </tr>\n",
       "    <tr>\n",
       "      <th>2014-06-30</th>\n",
       "      <td>22196</td>\n",
       "      <td>551.0</td>\n",
       "      <td>NaN</td>\n",
       "    </tr>\n",
       "    <tr>\n",
       "      <th>2014-07-31</th>\n",
       "      <td>23403</td>\n",
       "      <td>1207.0</td>\n",
       "      <td>19563.0</td>\n",
       "    </tr>\n",
       "    <tr>\n",
       "      <th>2014-08-31</th>\n",
       "      <td>21263</td>\n",
       "      <td>-2140.0</td>\n",
       "      <td>2925.0</td>\n",
       "    </tr>\n",
       "    <tr>\n",
       "      <th>2014-09-30</th>\n",
       "      <td>24749</td>\n",
       "      <td>3486.0</td>\n",
       "      <td>6212.0</td>\n",
       "    </tr>\n",
       "    <tr>\n",
       "      <th>2014-10-31</th>\n",
       "      <td>23354</td>\n",
       "      <td>-1395.0</td>\n",
       "      <td>1965.0</td>\n",
       "    </tr>\n",
       "    <tr>\n",
       "      <th>2014-11-30</th>\n",
       "      <td>18875</td>\n",
       "      <td>-4479.0</td>\n",
       "      <td>171.0</td>\n",
       "    </tr>\n",
       "    <tr>\n",
       "      <th>2014-12-31</th>\n",
       "      <td>18161</td>\n",
       "      <td>-714.0</td>\n",
       "      <td>1924.0</td>\n",
       "    </tr>\n",
       "    <tr>\n",
       "      <th>2015-01-31</th>\n",
       "      <td>34094</td>\n",
       "      <td>15933.0</td>\n",
       "      <td>17451.0</td>\n",
       "    </tr>\n",
       "    <tr>\n",
       "      <th>2015-02-28</th>\n",
       "      <td>17977</td>\n",
       "      <td>-16117.0</td>\n",
       "      <td>2414.0</td>\n",
       "    </tr>\n",
       "  </tbody>\n",
       "</table>\n",
       "</div>"
      ],
      "text/plain": [
       "            Fines  Fines First Difference  Seasonal First Difference\n",
       "Issue Date                                                          \n",
       "2013-07-31   3840                     NaN                        NaN\n",
       "2013-08-31  18338                 14498.0                        NaN\n",
       "2013-09-30  18537                   199.0                        NaN\n",
       "2013-10-31  21389                  2852.0                        NaN\n",
       "2013-11-30  18704                 -2685.0                        NaN\n",
       "2013-12-31  16237                 -2467.0                        NaN\n",
       "2014-01-31  16643                   406.0                        NaN\n",
       "2014-02-28  15563                 -1080.0                        NaN\n",
       "2014-03-31  21291                  5728.0                        NaN\n",
       "2014-04-30  20698                  -593.0                        NaN\n",
       "2014-05-31  21645                   947.0                        NaN\n",
       "2014-06-30  22196                   551.0                        NaN\n",
       "2014-07-31  23403                  1207.0                    19563.0\n",
       "2014-08-31  21263                 -2140.0                     2925.0\n",
       "2014-09-30  24749                  3486.0                     6212.0\n",
       "2014-10-31  23354                 -1395.0                     1965.0\n",
       "2014-11-30  18875                 -4479.0                      171.0\n",
       "2014-12-31  18161                  -714.0                     1924.0\n",
       "2015-01-31  34094                 15933.0                    17451.0\n",
       "2015-02-28  17977                -16117.0                     2414.0"
      ]
     },
     "execution_count": 256,
     "metadata": {},
     "output_type": "execute_result"
    }
   ],
   "source": [
    "finecount_bydate_after2000['DODGE']['Seasonal First Difference']=finecount_bydate_after2000['DODGE']['Fines']-finecount_bydate_after2000['DODGE']['Fines'].shift(12)\n",
    "finecount_bydate_after2000['DODGE'].head(20)"
   ]
  },
  {
   "cell_type": "code",
   "execution_count": 257,
   "id": "9b44d236",
   "metadata": {},
   "outputs": [
    {
     "name": "stdout",
     "output_type": "stream",
     "text": [
      "ADF Test Statistic : -0.6048010972508961\n",
      "p-value : 0.8698934809668712\n",
      "#Lags Used : 8\n",
      "Number of Observations Used : 24\n",
      "weak evidence against null hypothesis, time series has a unit root, indicating it is non-stationary \n"
     ]
    }
   ],
   "source": [
    "adfuller_test(finecount_bydate_after2000['DODGE']['Seasonal First Difference'].dropna())"
   ]
  },
  {
   "cell_type": "code",
   "execution_count": 258,
   "id": "1f30414a",
   "metadata": {
    "scrolled": true
   },
   "outputs": [
    {
     "data": {
      "text/plain": [
       "<AxesSubplot:xlabel='Issue Date'>"
      ]
     },
     "execution_count": 258,
     "metadata": {},
     "output_type": "execute_result"
    },
    {
     "data": {
      "image/png": "[encoded data removed]",
      "text/plain": [
       "<Figure size 432x288 with 1 Axes>"
      ]
     },
     "metadata": {
      "needs_background": "light"
     },
     "output_type": "display_data"
    }
   ],
   "source": [
    "finecount_bydate_after2000['DODGE']['Seasonal First Difference'].plot()"
   ]
  },
  {
   "cell_type": "markdown",
   "id": "a102d0c7",
   "metadata": {},
   "source": [
    "###### Toyota"
   ]
  },
  {
   "cell_type": "code",
   "execution_count": 259,
   "id": "5866d953",
   "metadata": {},
   "outputs": [
    {
     "name": "stdout",
     "output_type": "stream",
     "text": [
      "ADF Test Statistic : -5.281936222279805\n",
      "p-value : 5.967676895018006e-06\n",
      "#Lags Used : 0\n",
      "Number of Observations Used : 44\n",
      "strong evidence against the null hypothesis(Ho), reject the null hypothesis. Data has no unit root and is stationary\n"
     ]
    }
   ],
   "source": [
    "adfuller_test(finecount_bydate_after2000['TOYOT']['Fines'])"
   ]
  },
  {
   "cell_type": "code",
   "execution_count": 260,
   "id": "d924af7b",
   "metadata": {},
   "outputs": [
    {
     "data": {
      "text/html": [
       "<div>\n",
       "<style scoped>\n",
       "    .dataframe tbody tr th:only-of-type {\n",
       "        vertical-align: middle;\n",
       "    }\n",
       "\n",
       "    .dataframe tbody tr th {\n",
       "        vertical-align: top;\n",
       "    }\n",
       "\n",
       "    .dataframe thead th {\n",
       "        text-align: right;\n",
       "    }\n",
       "</style>\n",
       "<table border=\"1\" class=\"dataframe\">\n",
       "  <thead>\n",
       "    <tr style=\"text-align: right;\">\n",
       "      <th></th>\n",
       "      <th>Fines</th>\n",
       "      <th>Fines First Difference</th>\n",
       "    </tr>\n",
       "    <tr>\n",
       "      <th>Issue Date</th>\n",
       "      <th></th>\n",
       "      <th></th>\n",
       "    </tr>\n",
       "  </thead>\n",
       "  <tbody>\n",
       "    <tr>\n",
       "      <th>2013-07-31</th>\n",
       "      <td>11401</td>\n",
       "      <td>NaN</td>\n",
       "    </tr>\n",
       "    <tr>\n",
       "      <th>2013-08-31</th>\n",
       "      <td>54756</td>\n",
       "      <td>43355.0</td>\n",
       "    </tr>\n",
       "    <tr>\n",
       "      <th>2013-09-30</th>\n",
       "      <td>52839</td>\n",
       "      <td>-1917.0</td>\n",
       "    </tr>\n",
       "    <tr>\n",
       "      <th>2013-10-31</th>\n",
       "      <td>62747</td>\n",
       "      <td>9908.0</td>\n",
       "    </tr>\n",
       "    <tr>\n",
       "      <th>2013-11-30</th>\n",
       "      <td>56761</td>\n",
       "      <td>-5986.0</td>\n",
       "    </tr>\n",
       "  </tbody>\n",
       "</table>\n",
       "</div>"
      ],
      "text/plain": [
       "            Fines  Fines First Difference\n",
       "Issue Date                               \n",
       "2013-07-31  11401                     NaN\n",
       "2013-08-31  54756                 43355.0\n",
       "2013-09-30  52839                 -1917.0\n",
       "2013-10-31  62747                  9908.0\n",
       "2013-11-30  56761                 -5986.0"
      ]
     },
     "execution_count": 260,
     "metadata": {},
     "output_type": "execute_result"
    }
   ],
   "source": [
    "finecount_bydate_after2000['TOYOT']['Fines First Difference'] = finecount_bydate_after2000['TOYOT']['Fines'] - finecount_bydate_after2000['TOYOT']['Fines'].shift(1)\n",
    "finecount_bydate_after2000['TOYOT'].head()"
   ]
  },
  {
   "cell_type": "code",
   "execution_count": 261,
   "id": "cf218640",
   "metadata": {},
   "outputs": [
    {
     "data": {
      "text/html": [
       "<div>\n",
       "<style scoped>\n",
       "    .dataframe tbody tr th:only-of-type {\n",
       "        vertical-align: middle;\n",
       "    }\n",
       "\n",
       "    .dataframe tbody tr th {\n",
       "        vertical-align: top;\n",
       "    }\n",
       "\n",
       "    .dataframe thead th {\n",
       "        text-align: right;\n",
       "    }\n",
       "</style>\n",
       "<table border=\"1\" class=\"dataframe\">\n",
       "  <thead>\n",
       "    <tr style=\"text-align: right;\">\n",
       "      <th></th>\n",
       "      <th>Fines</th>\n",
       "      <th>Fines First Difference</th>\n",
       "      <th>Seasonal First Difference</th>\n",
       "    </tr>\n",
       "    <tr>\n",
       "      <th>Issue Date</th>\n",
       "      <th></th>\n",
       "      <th></th>\n",
       "      <th></th>\n",
       "    </tr>\n",
       "  </thead>\n",
       "  <tbody>\n",
       "    <tr>\n",
       "      <th>2013-07-31</th>\n",
       "      <td>11401</td>\n",
       "      <td>NaN</td>\n",
       "      <td>NaN</td>\n",
       "    </tr>\n",
       "    <tr>\n",
       "      <th>2013-08-31</th>\n",
       "      <td>54756</td>\n",
       "      <td>43355.0</td>\n",
       "      <td>NaN</td>\n",
       "    </tr>\n",
       "    <tr>\n",
       "      <th>2013-09-30</th>\n",
       "      <td>52839</td>\n",
       "      <td>-1917.0</td>\n",
       "      <td>NaN</td>\n",
       "    </tr>\n",
       "    <tr>\n",
       "      <th>2013-10-31</th>\n",
       "      <td>62747</td>\n",
       "      <td>9908.0</td>\n",
       "      <td>NaN</td>\n",
       "    </tr>\n",
       "    <tr>\n",
       "      <th>2013-11-30</th>\n",
       "      <td>56761</td>\n",
       "      <td>-5986.0</td>\n",
       "      <td>NaN</td>\n",
       "    </tr>\n",
       "    <tr>\n",
       "      <th>2013-12-31</th>\n",
       "      <td>50629</td>\n",
       "      <td>-6132.0</td>\n",
       "      <td>NaN</td>\n",
       "    </tr>\n",
       "    <tr>\n",
       "      <th>2014-01-31</th>\n",
       "      <td>49758</td>\n",
       "      <td>-871.0</td>\n",
       "      <td>NaN</td>\n",
       "    </tr>\n",
       "    <tr>\n",
       "      <th>2014-02-28</th>\n",
       "      <td>44613</td>\n",
       "      <td>-5145.0</td>\n",
       "      <td>NaN</td>\n",
       "    </tr>\n",
       "    <tr>\n",
       "      <th>2014-03-31</th>\n",
       "      <td>63006</td>\n",
       "      <td>18393.0</td>\n",
       "      <td>NaN</td>\n",
       "    </tr>\n",
       "    <tr>\n",
       "      <th>2014-04-30</th>\n",
       "      <td>59116</td>\n",
       "      <td>-3890.0</td>\n",
       "      <td>NaN</td>\n",
       "    </tr>\n",
       "    <tr>\n",
       "      <th>2014-05-31</th>\n",
       "      <td>66583</td>\n",
       "      <td>7467.0</td>\n",
       "      <td>NaN</td>\n",
       "    </tr>\n",
       "    <tr>\n",
       "      <th>2014-06-30</th>\n",
       "      <td>68219</td>\n",
       "      <td>1636.0</td>\n",
       "      <td>NaN</td>\n",
       "    </tr>\n",
       "    <tr>\n",
       "      <th>2014-07-31</th>\n",
       "      <td>70819</td>\n",
       "      <td>2600.0</td>\n",
       "      <td>59418.0</td>\n",
       "    </tr>\n",
       "    <tr>\n",
       "      <th>2014-08-31</th>\n",
       "      <td>63039</td>\n",
       "      <td>-7780.0</td>\n",
       "      <td>8283.0</td>\n",
       "    </tr>\n",
       "    <tr>\n",
       "      <th>2014-09-30</th>\n",
       "      <td>78051</td>\n",
       "      <td>15012.0</td>\n",
       "      <td>25212.0</td>\n",
       "    </tr>\n",
       "    <tr>\n",
       "      <th>2014-10-31</th>\n",
       "      <td>70411</td>\n",
       "      <td>-7640.0</td>\n",
       "      <td>7664.0</td>\n",
       "    </tr>\n",
       "    <tr>\n",
       "      <th>2014-11-30</th>\n",
       "      <td>60605</td>\n",
       "      <td>-9806.0</td>\n",
       "      <td>3844.0</td>\n",
       "    </tr>\n",
       "    <tr>\n",
       "      <th>2014-12-31</th>\n",
       "      <td>61521</td>\n",
       "      <td>916.0</td>\n",
       "      <td>10892.0</td>\n",
       "    </tr>\n",
       "    <tr>\n",
       "      <th>2015-01-31</th>\n",
       "      <td>108126</td>\n",
       "      <td>46605.0</td>\n",
       "      <td>58368.0</td>\n",
       "    </tr>\n",
       "    <tr>\n",
       "      <th>2015-02-28</th>\n",
       "      <td>54895</td>\n",
       "      <td>-53231.0</td>\n",
       "      <td>10282.0</td>\n",
       "    </tr>\n",
       "  </tbody>\n",
       "</table>\n",
       "</div>"
      ],
      "text/plain": [
       "             Fines  Fines First Difference  Seasonal First Difference\n",
       "Issue Date                                                           \n",
       "2013-07-31   11401                     NaN                        NaN\n",
       "2013-08-31   54756                 43355.0                        NaN\n",
       "2013-09-30   52839                 -1917.0                        NaN\n",
       "2013-10-31   62747                  9908.0                        NaN\n",
       "2013-11-30   56761                 -5986.0                        NaN\n",
       "2013-12-31   50629                 -6132.0                        NaN\n",
       "2014-01-31   49758                  -871.0                        NaN\n",
       "2014-02-28   44613                 -5145.0                        NaN\n",
       "2014-03-31   63006                 18393.0                        NaN\n",
       "2014-04-30   59116                 -3890.0                        NaN\n",
       "2014-05-31   66583                  7467.0                        NaN\n",
       "2014-06-30   68219                  1636.0                        NaN\n",
       "2014-07-31   70819                  2600.0                    59418.0\n",
       "2014-08-31   63039                 -7780.0                     8283.0\n",
       "2014-09-30   78051                 15012.0                    25212.0\n",
       "2014-10-31   70411                 -7640.0                     7664.0\n",
       "2014-11-30   60605                 -9806.0                     3844.0\n",
       "2014-12-31   61521                   916.0                    10892.0\n",
       "2015-01-31  108126                 46605.0                    58368.0\n",
       "2015-02-28   54895                -53231.0                    10282.0"
      ]
     },
     "execution_count": 261,
     "metadata": {},
     "output_type": "execute_result"
    }
   ],
   "source": [
    "finecount_bydate_after2000['TOYOT']['Seasonal First Difference']=finecount_bydate_after2000['TOYOT']['Fines']-finecount_bydate_after2000['TOYOT']['Fines'].shift(12)\n",
    "finecount_bydate_after2000['TOYOT'].head(20)"
   ]
  },
  {
   "cell_type": "code",
   "execution_count": 262,
   "id": "94cabab7",
   "metadata": {},
   "outputs": [
    {
     "name": "stdout",
     "output_type": "stream",
     "text": [
      "ADF Test Statistic : -0.011989939801070815\n",
      "p-value : 0.9575292228984691\n",
      "#Lags Used : 8\n",
      "Number of Observations Used : 24\n",
      "weak evidence against null hypothesis, time series has a unit root, indicating it is non-stationary \n"
     ]
    }
   ],
   "source": [
    "adfuller_test(finecount_bydate_after2000['TOYOT']['Seasonal First Difference'].dropna())"
   ]
  },
  {
   "cell_type": "code",
   "execution_count": 263,
   "id": "b3ba9e1d",
   "metadata": {},
   "outputs": [
    {
     "data": {
      "text/plain": [
       "<AxesSubplot:xlabel='Issue Date'>"
      ]
     },
     "execution_count": 263,
     "metadata": {},
     "output_type": "execute_result"
    },
    {
     "data": {
      "image/png": "[encoded data removed]",
      "text/plain": [
       "<Figure size 432x288 with 1 Axes>"
      ]
     },
     "metadata": {
      "needs_background": "light"
     },
     "output_type": "display_data"
    }
   ],
   "source": [
    "finecount_bydate_after2000['TOYOT']['Seasonal First Difference'].plot()"
   ]
  },
  {
   "cell_type": "markdown",
   "id": "c846e5c9",
   "metadata": {},
   "source": [
    "###### Hyundai"
   ]
  },
  {
   "cell_type": "code",
   "execution_count": 264,
   "id": "90a7c1df",
   "metadata": {},
   "outputs": [
    {
     "name": "stdout",
     "output_type": "stream",
     "text": [
      "ADF Test Statistic : -5.087657071794104\n",
      "p-value : 1.4842672267244952e-05\n",
      "#Lags Used : 0\n",
      "Number of Observations Used : 44\n",
      "strong evidence against the null hypothesis(Ho), reject the null hypothesis. Data has no unit root and is stationary\n"
     ]
    }
   ],
   "source": [
    "adfuller_test(finecount_bydate_after2000['HYUND']['Fines'])"
   ]
  },
  {
   "cell_type": "code",
   "execution_count": 265,
   "id": "5394ddc5",
   "metadata": {},
   "outputs": [
    {
     "data": {
      "text/html": [
       "<div>\n",
       "<style scoped>\n",
       "    .dataframe tbody tr th:only-of-type {\n",
       "        vertical-align: middle;\n",
       "    }\n",
       "\n",
       "    .dataframe tbody tr th {\n",
       "        vertical-align: top;\n",
       "    }\n",
       "\n",
       "    .dataframe thead th {\n",
       "        text-align: right;\n",
       "    }\n",
       "</style>\n",
       "<table border=\"1\" class=\"dataframe\">\n",
       "  <thead>\n",
       "    <tr style=\"text-align: right;\">\n",
       "      <th></th>\n",
       "      <th>Fines</th>\n",
       "      <th>Fines First Difference</th>\n",
       "    </tr>\n",
       "    <tr>\n",
       "      <th>Issue Date</th>\n",
       "      <th></th>\n",
       "      <th></th>\n",
       "    </tr>\n",
       "  </thead>\n",
       "  <tbody>\n",
       "    <tr>\n",
       "      <th>2013-07-31</th>\n",
       "      <td>2890</td>\n",
       "      <td>NaN</td>\n",
       "    </tr>\n",
       "    <tr>\n",
       "      <th>2013-08-31</th>\n",
       "      <td>13332</td>\n",
       "      <td>10442.0</td>\n",
       "    </tr>\n",
       "    <tr>\n",
       "      <th>2013-09-30</th>\n",
       "      <td>12945</td>\n",
       "      <td>-387.0</td>\n",
       "    </tr>\n",
       "    <tr>\n",
       "      <th>2013-10-31</th>\n",
       "      <td>14906</td>\n",
       "      <td>1961.0</td>\n",
       "    </tr>\n",
       "    <tr>\n",
       "      <th>2013-11-30</th>\n",
       "      <td>13940</td>\n",
       "      <td>-966.0</td>\n",
       "    </tr>\n",
       "  </tbody>\n",
       "</table>\n",
       "</div>"
      ],
      "text/plain": [
       "            Fines  Fines First Difference\n",
       "Issue Date                               \n",
       "2013-07-31   2890                     NaN\n",
       "2013-08-31  13332                 10442.0\n",
       "2013-09-30  12945                  -387.0\n",
       "2013-10-31  14906                  1961.0\n",
       "2013-11-30  13940                  -966.0"
      ]
     },
     "execution_count": 265,
     "metadata": {},
     "output_type": "execute_result"
    }
   ],
   "source": [
    "finecount_bydate_after2000['HYUND']['Fines First Difference'] = finecount_bydate_after2000['HYUND']['Fines'] - finecount_bydate_after2000['HYUND']['Fines'].shift(1)\n",
    "finecount_bydate_after2000['HYUND'].head()"
   ]
  },
  {
   "cell_type": "code",
   "execution_count": 266,
   "id": "3c1c313d",
   "metadata": {},
   "outputs": [
    {
     "data": {
      "text/html": [
       "<div>\n",
       "<style scoped>\n",
       "    .dataframe tbody tr th:only-of-type {\n",
       "        vertical-align: middle;\n",
       "    }\n",
       "\n",
       "    .dataframe tbody tr th {\n",
       "        vertical-align: top;\n",
       "    }\n",
       "\n",
       "    .dataframe thead th {\n",
       "        text-align: right;\n",
       "    }\n",
       "</style>\n",
       "<table border=\"1\" class=\"dataframe\">\n",
       "  <thead>\n",
       "    <tr style=\"text-align: right;\">\n",
       "      <th></th>\n",
       "      <th>Fines</th>\n",
       "      <th>Fines First Difference</th>\n",
       "      <th>Seasonal First Difference</th>\n",
       "    </tr>\n",
       "    <tr>\n",
       "      <th>Issue Date</th>\n",
       "      <th></th>\n",
       "      <th></th>\n",
       "      <th></th>\n",
       "    </tr>\n",
       "  </thead>\n",
       "  <tbody>\n",
       "    <tr>\n",
       "      <th>2013-07-31</th>\n",
       "      <td>2890</td>\n",
       "      <td>NaN</td>\n",
       "      <td>NaN</td>\n",
       "    </tr>\n",
       "    <tr>\n",
       "      <th>2013-08-31</th>\n",
       "      <td>13332</td>\n",
       "      <td>10442.0</td>\n",
       "      <td>NaN</td>\n",
       "    </tr>\n",
       "    <tr>\n",
       "      <th>2013-09-30</th>\n",
       "      <td>12945</td>\n",
       "      <td>-387.0</td>\n",
       "      <td>NaN</td>\n",
       "    </tr>\n",
       "    <tr>\n",
       "      <th>2013-10-31</th>\n",
       "      <td>14906</td>\n",
       "      <td>1961.0</td>\n",
       "      <td>NaN</td>\n",
       "    </tr>\n",
       "    <tr>\n",
       "      <th>2013-11-30</th>\n",
       "      <td>13940</td>\n",
       "      <td>-966.0</td>\n",
       "      <td>NaN</td>\n",
       "    </tr>\n",
       "    <tr>\n",
       "      <th>2013-12-31</th>\n",
       "      <td>12140</td>\n",
       "      <td>-1800.0</td>\n",
       "      <td>NaN</td>\n",
       "    </tr>\n",
       "    <tr>\n",
       "      <th>2014-01-31</th>\n",
       "      <td>11689</td>\n",
       "      <td>-451.0</td>\n",
       "      <td>NaN</td>\n",
       "    </tr>\n",
       "    <tr>\n",
       "      <th>2014-02-28</th>\n",
       "      <td>10493</td>\n",
       "      <td>-1196.0</td>\n",
       "      <td>NaN</td>\n",
       "    </tr>\n",
       "    <tr>\n",
       "      <th>2014-03-31</th>\n",
       "      <td>15501</td>\n",
       "      <td>5008.0</td>\n",
       "      <td>NaN</td>\n",
       "    </tr>\n",
       "    <tr>\n",
       "      <th>2014-04-30</th>\n",
       "      <td>14829</td>\n",
       "      <td>-672.0</td>\n",
       "      <td>NaN</td>\n",
       "    </tr>\n",
       "    <tr>\n",
       "      <th>2014-05-31</th>\n",
       "      <td>16556</td>\n",
       "      <td>1727.0</td>\n",
       "      <td>NaN</td>\n",
       "    </tr>\n",
       "    <tr>\n",
       "      <th>2014-06-30</th>\n",
       "      <td>17126</td>\n",
       "      <td>570.0</td>\n",
       "      <td>NaN</td>\n",
       "    </tr>\n",
       "    <tr>\n",
       "      <th>2014-07-31</th>\n",
       "      <td>17551</td>\n",
       "      <td>425.0</td>\n",
       "      <td>14661.0</td>\n",
       "    </tr>\n",
       "    <tr>\n",
       "      <th>2014-08-31</th>\n",
       "      <td>15722</td>\n",
       "      <td>-1829.0</td>\n",
       "      <td>2390.0</td>\n",
       "    </tr>\n",
       "    <tr>\n",
       "      <th>2014-09-30</th>\n",
       "      <td>19793</td>\n",
       "      <td>4071.0</td>\n",
       "      <td>6848.0</td>\n",
       "    </tr>\n",
       "    <tr>\n",
       "      <th>2014-10-31</th>\n",
       "      <td>17593</td>\n",
       "      <td>-2200.0</td>\n",
       "      <td>2687.0</td>\n",
       "    </tr>\n",
       "    <tr>\n",
       "      <th>2014-11-30</th>\n",
       "      <td>14723</td>\n",
       "      <td>-2870.0</td>\n",
       "      <td>783.0</td>\n",
       "    </tr>\n",
       "    <tr>\n",
       "      <th>2014-12-31</th>\n",
       "      <td>15472</td>\n",
       "      <td>749.0</td>\n",
       "      <td>3332.0</td>\n",
       "    </tr>\n",
       "    <tr>\n",
       "      <th>2015-01-31</th>\n",
       "      <td>25540</td>\n",
       "      <td>10068.0</td>\n",
       "      <td>13851.0</td>\n",
       "    </tr>\n",
       "    <tr>\n",
       "      <th>2015-02-28</th>\n",
       "      <td>12755</td>\n",
       "      <td>-12785.0</td>\n",
       "      <td>2262.0</td>\n",
       "    </tr>\n",
       "  </tbody>\n",
       "</table>\n",
       "</div>"
      ],
      "text/plain": [
       "            Fines  Fines First Difference  Seasonal First Difference\n",
       "Issue Date                                                          \n",
       "2013-07-31   2890                     NaN                        NaN\n",
       "2013-08-31  13332                 10442.0                        NaN\n",
       "2013-09-30  12945                  -387.0                        NaN\n",
       "2013-10-31  14906                  1961.0                        NaN\n",
       "2013-11-30  13940                  -966.0                        NaN\n",
       "2013-12-31  12140                 -1800.0                        NaN\n",
       "2014-01-31  11689                  -451.0                        NaN\n",
       "2014-02-28  10493                 -1196.0                        NaN\n",
       "2014-03-31  15501                  5008.0                        NaN\n",
       "2014-04-30  14829                  -672.0                        NaN\n",
       "2014-05-31  16556                  1727.0                        NaN\n",
       "2014-06-30  17126                   570.0                        NaN\n",
       "2014-07-31  17551                   425.0                    14661.0\n",
       "2014-08-31  15722                 -1829.0                     2390.0\n",
       "2014-09-30  19793                  4071.0                     6848.0\n",
       "2014-10-31  17593                 -2200.0                     2687.0\n",
       "2014-11-30  14723                 -2870.0                      783.0\n",
       "2014-12-31  15472                   749.0                     3332.0\n",
       "2015-01-31  25540                 10068.0                    13851.0\n",
       "2015-02-28  12755                -12785.0                     2262.0"
      ]
     },
     "execution_count": 266,
     "metadata": {},
     "output_type": "execute_result"
    }
   ],
   "source": [
    "finecount_bydate_after2000['HYUND']['Seasonal First Difference']=finecount_bydate_after2000['HYUND']['Fines']-finecount_bydate_after2000['HYUND']['Fines'].shift(12)\n",
    "finecount_bydate_after2000['HYUND'].head(20)"
   ]
  },
  {
   "cell_type": "code",
   "execution_count": 267,
   "id": "aebb07ce",
   "metadata": {},
   "outputs": [
    {
     "name": "stdout",
     "output_type": "stream",
     "text": [
      "ADF Test Statistic : -0.754367217977247\n",
      "p-value : 0.8321603790866721\n",
      "#Lags Used : 8\n",
      "Number of Observations Used : 24\n",
      "weak evidence against null hypothesis, time series has a unit root, indicating it is non-stationary \n"
     ]
    }
   ],
   "source": [
    "adfuller_test(finecount_bydate_after2000['HYUND']['Seasonal First Difference'].dropna())"
   ]
  },
  {
   "cell_type": "code",
   "execution_count": 268,
   "id": "50cacc82",
   "metadata": {
    "scrolled": false
   },
   "outputs": [
    {
     "data": {
      "text/plain": [
       "<AxesSubplot:xlabel='Issue Date'>"
      ]
     },
     "execution_count": 268,
     "metadata": {},
     "output_type": "execute_result"
    },
    {
     "data": {
      "image/png": "[encoded data removed]",
      "text/plain": [
       "<Figure size 432x288 with 1 Axes>"
      ]
     },
     "metadata": {
      "needs_background": "light"
     },
     "output_type": "display_data"
    }
   ],
   "source": [
    "finecount_bydate_after2000['HYUND']['Seasonal First Difference'].plot()"
   ]
  },
  {
   "cell_type": "markdown",
   "id": "0c97c6f4",
   "metadata": {},
   "source": [
    "Как видно выше, большинство машин получают примерно одинаковое количество штрафов, независимо от марки и года выпуска. При этом большая часть приведенных выше марок получали меньше штрафов в период с 2014-02 по 2015-04 (январь - апрель) по сравнении за предыдущий год. В период с 2015-04 по 2015-06 количество штрафов было практически таким же как и год назад. В иной период, у таких марок как Dodge (До 2000 года) и Toyota (До 2000 года) количество штрафов увеличилось, но не сильно по сравнению с предыдущим годом, у Dodge(После 2000 года) и Hyundai (После 2000 года) количество штрафов увеличилось сильнее по сравнению с предыдущим годом, а у Toyota (После 2000 года) прибавилось довольно много штрафов по сравнению с предыдущем годом. В остальной период времени у всех марок количество штрафов не сильно колеблилось. У Hyundai (До 2000 года) было примерно одним и тем же на протяжении всего периода."
   ]
  },
  {
   "cell_type": "markdown",
   "id": "278342e5",
   "metadata": {},
   "source": [
    "### Авторегрессионная модель"
   ]
  },
  {
   "attachments": {
    "index.png": {
     "image/png": "[encoded data removed]"
    }
   },
   "cell_type": "markdown",
   "id": "68b83ede",
   "metadata": {},
   "source": [
    "![index.png](attachment:index.png)"
   ]
  },
  {
   "cell_type": "code",
   "execution_count": 269,
   "id": "75bf54f5",
   "metadata": {},
   "outputs": [
    {
     "data": {
      "text/plain": [
       "<AxesSubplot:xlabel='Lag', ylabel='Autocorrelation'>"
      ]
     },
     "execution_count": 269,
     "metadata": {},
     "output_type": "execute_result"
    },
    {
     "data": {
      "image/png": "[encoded data removed]",
      "text/plain": [
       "<Figure size 432x288 with 1 Axes>"
      ]
     },
     "metadata": {
      "needs_background": "light"
     },
     "output_type": "display_data"
    }
   ],
   "source": [
    "autocorrelation_plot(finecount_bydate['Fines'])"
   ]
  },
  {
   "cell_type": "code",
   "execution_count": 286,
   "id": "b9b5ed10",
   "metadata": {},
   "outputs": [
    {
     "name": "stderr",
     "output_type": "stream",
     "text": [
      "C:\\Python310\\lib\\site-packages\\statsmodels\\graphics\\tsaplots.py:348: FutureWarning: The default method 'yw' can produce PACF values outside of the [-1,1] interval. After 0.13, the default will change tounadjusted Yule-Walker ('ywm'). You can use this method now by setting method='ywm'.\n",
      "  warnings.warn(\n"
     ]
    },
    {
     "data": {
      "image/png": "[encoded data removed]",
      "text/plain": [
       "<Figure size 864x576 with 2 Axes>"
      ]
     },
     "metadata": {
      "needs_background": "light"
     },
     "output_type": "display_data"
    }
   ],
   "source": [
    "fig = plt.figure(figsize=(12,8))\n",
    "ax1 = fig.add_subplot(211)\n",
    "fig = plot_acf(finecount_bydate['Seasonal First Difference'].iloc[13:],lags=15,ax=ax1)\n",
    "ax2 = fig.add_subplot(212)\n",
    "fig = plot_pacf(finecount_bydate['Seasonal First Difference'].iloc[13:],lags=15,ax=ax2)"
   ]
  },
  {
   "cell_type": "code",
   "execution_count": 271,
   "id": "fe3c2119",
   "metadata": {},
   "outputs": [],
   "source": [
    "model=sm.tsa.arima.ARIMA(finecount_bydate['Fines'],order=(1,1,1))\n",
    "model_fit=model.fit()"
   ]
  },
  {
   "cell_type": "code",
   "execution_count": 272,
   "id": "e5534906",
   "metadata": {},
   "outputs": [
    {
     "data": {
      "text/html": [
       "<table class=\"simpletable\">\n",
       "<caption>SARIMAX Results</caption>\n",
       "<tr>\n",
       "  <th>Dep. Variable:</th>         <td>Fines</td>      <th>  No. Observations:  </th>    <td>45</td>   \n",
       "</tr>\n",
       "<tr>\n",
       "  <th>Model:</th>            <td>ARIMA(1, 1, 1)</td>  <th>  Log Likelihood     </th> <td>-511.374</td>\n",
       "</tr>\n",
       "<tr>\n",
       "  <th>Date:</th>            <td>Thu, 21 Apr 2022</td> <th>  AIC                </th> <td>1028.748</td>\n",
       "</tr>\n",
       "<tr>\n",
       "  <th>Time:</th>                <td>06:22:20</td>     <th>  BIC                </th> <td>1034.100</td>\n",
       "</tr>\n",
       "<tr>\n",
       "  <th>Sample:</th>             <td>07-31-2013</td>    <th>  HQIC               </th> <td>1030.733</td>\n",
       "</tr>\n",
       "<tr>\n",
       "  <th></th>                   <td>- 03-31-2017</td>   <th>                     </th>     <td> </td>   \n",
       "</tr>\n",
       "<tr>\n",
       "  <th>Covariance Type:</th>        <td>opg</td>       <th>                     </th>     <td> </td>   \n",
       "</tr>\n",
       "</table>\n",
       "<table class=\"simpletable\">\n",
       "<tr>\n",
       "     <td></td>       <th>coef</th>     <th>std err</th>      <th>z</th>      <th>P>|z|</th>  <th>[0.025</th>    <th>0.975]</th>  \n",
       "</tr>\n",
       "<tr>\n",
       "  <th>ar.L1</th>  <td>    0.2295</td> <td>    0.276</td> <td>    0.831</td> <td> 0.406</td> <td>   -0.312</td> <td>    0.771</td>\n",
       "</tr>\n",
       "<tr>\n",
       "  <th>ma.L1</th>  <td>   -0.6919</td> <td>    0.267</td> <td>   -2.590</td> <td> 0.010</td> <td>   -1.215</td> <td>   -0.168</td>\n",
       "</tr>\n",
       "<tr>\n",
       "  <th>sigma2</th> <td> 5.375e+08</td> <td> 5.11e-10</td> <td> 1.05e+18</td> <td> 0.000</td> <td> 5.38e+08</td> <td> 5.38e+08</td>\n",
       "</tr>\n",
       "</table>\n",
       "<table class=\"simpletable\">\n",
       "<tr>\n",
       "  <th>Ljung-Box (L1) (Q):</th>     <td>0.01</td> <th>  Jarque-Bera (JB):  </th> <td>6.72</td>\n",
       "</tr>\n",
       "<tr>\n",
       "  <th>Prob(Q):</th>                <td>0.93</td> <th>  Prob(JB):          </th> <td>0.03</td>\n",
       "</tr>\n",
       "<tr>\n",
       "  <th>Heteroskedasticity (H):</th> <td>0.60</td> <th>  Skew:              </th> <td>0.42</td>\n",
       "</tr>\n",
       "<tr>\n",
       "  <th>Prob(H) (two-sided):</th>    <td>0.33</td> <th>  Kurtosis:          </th> <td>4.72</td>\n",
       "</tr>\n",
       "</table><br/><br/>Warnings:<br/>[1] Covariance matrix calculated using the outer product of gradients (complex-step).<br/>[2] Covariance matrix is singular or near-singular, with condition number 4.3e+33. Standard errors may be unstable."
      ],
      "text/plain": [
       "<class 'statsmodels.iolib.summary.Summary'>\n",
       "\"\"\"\n",
       "                               SARIMAX Results                                \n",
       "==============================================================================\n",
       "Dep. Variable:                  Fines   No. Observations:                   45\n",
       "Model:                 ARIMA(1, 1, 1)   Log Likelihood                -511.374\n",
       "Date:                Thu, 21 Apr 2022   AIC                           1028.748\n",
       "Time:                        06:22:20   BIC                           1034.100\n",
       "Sample:                    07-31-2013   HQIC                          1030.733\n",
       "                         - 03-31-2017                                         \n",
       "Covariance Type:                  opg                                         \n",
       "==============================================================================\n",
       "                 coef    std err          z      P>|z|      [0.025      0.975]\n",
       "------------------------------------------------------------------------------\n",
       "ar.L1          0.2295      0.276      0.831      0.406      -0.312       0.771\n",
       "ma.L1         -0.6919      0.267     -2.590      0.010      -1.215      -0.168\n",
       "sigma2      5.375e+08   5.11e-10   1.05e+18      0.000    5.38e+08    5.38e+08\n",
       "===================================================================================\n",
       "Ljung-Box (L1) (Q):                   0.01   Jarque-Bera (JB):                 6.72\n",
       "Prob(Q):                              0.93   Prob(JB):                         0.03\n",
       "Heteroskedasticity (H):               0.60   Skew:                             0.42\n",
       "Prob(H) (two-sided):                  0.33   Kurtosis:                         4.72\n",
       "===================================================================================\n",
       "\n",
       "Warnings:\n",
       "[1] Covariance matrix calculated using the outer product of gradients (complex-step).\n",
       "[2] Covariance matrix is singular or near-singular, with condition number 4.3e+33. Standard errors may be unstable.\n",
       "\"\"\""
      ]
     },
     "execution_count": 272,
     "metadata": {},
     "output_type": "execute_result"
    }
   ],
   "source": [
    "model_fit.summary()"
   ]
  },
  {
   "cell_type": "code",
   "execution_count": 283,
   "id": "b232725f",
   "metadata": {},
   "outputs": [
    {
     "data": {
      "text/plain": [
       "<AxesSubplot:xlabel='Issue Date'>"
      ]
     },
     "execution_count": 283,
     "metadata": {},
     "output_type": "execute_result"
    },
    {
     "data": {
      "image/png": "[encoded data removed]",
      "text/plain": [
       "<Figure size 864x576 with 1 Axes>"
      ]
     },
     "metadata": {
      "needs_background": "light"
     },
     "output_type": "display_data"
    }
   ],
   "source": [
    "finecount_bydate['Forecast']=model_fit.predict(start=34,end=44,dynamic=True)\n",
    "finecount_bydate[['Fines','Forecast']].plot(figsize=(12,8))"
   ]
  },
  {
   "cell_type": "code",
   "execution_count": 274,
   "id": "d5231ecb",
   "metadata": {},
   "outputs": [
    {
     "name": "stderr",
     "output_type": "stream",
     "text": [
      "C:\\Python310\\lib\\site-packages\\statsmodels\\tsa\\statespace\\sarimax.py:978: UserWarning: Non-invertible starting MA parameters found. Using zeros as starting parameters.\n",
      "  warn('Non-invertible starting MA parameters found.'\n",
      "C:\\Python310\\lib\\site-packages\\statsmodels\\tsa\\statespace\\sarimax.py:866: UserWarning: Too few observations to estimate starting parameters for seasonal ARMA. All parameters except for variances will be set to zeros.\n",
      "  warn('Too few observations to estimate starting parameters%s.'\n"
     ]
    }
   ],
   "source": [
    "model=sm.tsa.statespace.SARIMAX(finecount_bydate['Fines'],order=(1, 1, 1),seasonal_order=(1,1,1,12))\n",
    "results=model.fit()"
   ]
  },
  {
   "cell_type": "code",
   "execution_count": 284,
   "id": "09bab494",
   "metadata": {},
   "outputs": [
    {
     "data": {
      "text/plain": [
       "<AxesSubplot:xlabel='Issue Date'>"
      ]
     },
     "execution_count": 284,
     "metadata": {},
     "output_type": "execute_result"
    },
    {
     "data": {
      "image/png": "[encoded data removed]",
      "text/plain": [
       "<Figure size 864x576 with 1 Axes>"
      ]
     },
     "metadata": {
      "needs_background": "light"
     },
     "output_type": "display_data"
    }
   ],
   "source": [
    "finecount_bydate['Forecast']=results.predict(start=34,end=44,dynamic=True)\n",
    "finecount_bydate[['Fines','Forecast']].plot(figsize=(12,8))"
   ]
  },
  {
   "cell_type": "code",
   "execution_count": 276,
   "id": "4a45d67c",
   "metadata": {},
   "outputs": [],
   "source": [
    "future_dates=[finecount_bydate.index[-1]+ DateOffset(months=x)for x in range(0,24)]"
   ]
  },
  {
   "cell_type": "code",
   "execution_count": 277,
   "id": "73082998",
   "metadata": {},
   "outputs": [],
   "source": [
    "future_datest_df=pd.DataFrame(index=future_dates[1:],columns=finecount_bydate.columns)"
   ]
  },
  {
   "cell_type": "code",
   "execution_count": 278,
   "id": "43f8be7b",
   "metadata": {},
   "outputs": [
    {
     "data": {
      "text/html": [
       "<div>\n",
       "<style scoped>\n",
       "    .dataframe tbody tr th:only-of-type {\n",
       "        vertical-align: middle;\n",
       "    }\n",
       "\n",
       "    .dataframe tbody tr th {\n",
       "        vertical-align: top;\n",
       "    }\n",
       "\n",
       "    .dataframe thead th {\n",
       "        text-align: right;\n",
       "    }\n",
       "</style>\n",
       "<table border=\"1\" class=\"dataframe\">\n",
       "  <thead>\n",
       "    <tr style=\"text-align: right;\">\n",
       "      <th></th>\n",
       "      <th>Fines</th>\n",
       "      <th>Fines First Difference</th>\n",
       "      <th>Seasonal First Difference</th>\n",
       "      <th>Forecast</th>\n",
       "    </tr>\n",
       "  </thead>\n",
       "  <tbody>\n",
       "    <tr>\n",
       "      <th>2018-10-31</th>\n",
       "      <td>NaN</td>\n",
       "      <td>NaN</td>\n",
       "      <td>NaN</td>\n",
       "      <td>NaN</td>\n",
       "    </tr>\n",
       "    <tr>\n",
       "      <th>2018-11-30</th>\n",
       "      <td>NaN</td>\n",
       "      <td>NaN</td>\n",
       "      <td>NaN</td>\n",
       "      <td>NaN</td>\n",
       "    </tr>\n",
       "    <tr>\n",
       "      <th>2018-12-31</th>\n",
       "      <td>NaN</td>\n",
       "      <td>NaN</td>\n",
       "      <td>NaN</td>\n",
       "      <td>NaN</td>\n",
       "    </tr>\n",
       "    <tr>\n",
       "      <th>2019-01-31</th>\n",
       "      <td>NaN</td>\n",
       "      <td>NaN</td>\n",
       "      <td>NaN</td>\n",
       "      <td>NaN</td>\n",
       "    </tr>\n",
       "    <tr>\n",
       "      <th>2019-02-28</th>\n",
       "      <td>NaN</td>\n",
       "      <td>NaN</td>\n",
       "      <td>NaN</td>\n",
       "      <td>NaN</td>\n",
       "    </tr>\n",
       "  </tbody>\n",
       "</table>\n",
       "</div>"
      ],
      "text/plain": [
       "           Fines Fines First Difference Seasonal First Difference Forecast\n",
       "2018-10-31   NaN                    NaN                       NaN      NaN\n",
       "2018-11-30   NaN                    NaN                       NaN      NaN\n",
       "2018-12-31   NaN                    NaN                       NaN      NaN\n",
       "2019-01-31   NaN                    NaN                       NaN      NaN\n",
       "2019-02-28   NaN                    NaN                       NaN      NaN"
      ]
     },
     "execution_count": 278,
     "metadata": {},
     "output_type": "execute_result"
    }
   ],
   "source": [
    "future_datest_df.tail()"
   ]
  },
  {
   "cell_type": "code",
   "execution_count": 279,
   "id": "597168eb",
   "metadata": {},
   "outputs": [],
   "source": [
    "future_df=pd.concat([finecount_bydate,future_datest_df])"
   ]
  },
  {
   "cell_type": "code",
   "execution_count": 287,
   "id": "03016006",
   "metadata": {},
   "outputs": [
    {
     "data": {
      "text/plain": [
       "<AxesSubplot:>"
      ]
     },
     "execution_count": 287,
     "metadata": {},
     "output_type": "execute_result"
    },
    {
     "data": {
      "image/png": "[encoded data removed]",
      "text/plain": [
       "<Figure size 864x576 with 1 Axes>"
      ]
     },
     "metadata": {
      "needs_background": "light"
     },
     "output_type": "display_data"
    }
   ],
   "source": [
    "future_df['Forecast'] = results.predict(start = 45, end = 66, dynamic= True)  \n",
    "future_df[['Fines', 'Forecast']].plot(figsize=(12, 8))"
   ]
  },
  {
   "cell_type": "code",
   "execution_count": null,
   "id": "db495262",
   "metadata": {},
   "outputs": [],
   "source": []
  }
 ],
 "metadata": {
  "kernelspec": {
   "display_name": "Python 3 (ipykernel)",
   "language": "python",
   "name": "python3"
  },
  "language_info": {
   "codemirror_mode": {
    "name": "ipython",
    "version": 3
   },
   "file_extension": ".py",
   "mimetype": "text/x-python",
   "name": "python",
   "nbconvert_exporter": "python",
   "pygments_lexer": "ipython3",
   "version": "3.10.4"
  }
 },
 "nbformat": 4,
 "nbformat_minor": 5
}
