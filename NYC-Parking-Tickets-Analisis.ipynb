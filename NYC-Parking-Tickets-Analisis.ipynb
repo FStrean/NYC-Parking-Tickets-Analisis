{
 "cells": [
  {
   "cell_type": "markdown",
   "id": "c3ca183f",
   "metadata": {},
   "source": [
    "# Развёртывание датасета"
   ]
  },
  {
   "cell_type": "markdown",
   "id": "34ab4a46",
   "metadata": {},
   "source": [
    "Импортируем необходимые библиотеки"
   ]
  },
  {
   "cell_type": "code",
   "execution_count": 2,
   "id": "95bf2d01",
   "metadata": {},
   "outputs": [],
   "source": [
    "import numpy as np\n",
    "import pandas as pd\n",
    "\n",
    "import matplotlib.pyplot as plt\n",
    "%matplotlib inline\n",
    "\n",
    "from statsmodels.tsa.stattools import adfuller"
   ]
  },
  {
   "cell_type": "markdown",
   "id": "b16f80d0",
   "metadata": {},
   "source": [
    "Загружаем данные, после чего удаляем пустые колонки"
   ]
  },
  {
   "cell_type": "code",
   "execution_count": 3,
   "id": "4263b10e",
   "metadata": {
    "scrolled": true
   },
   "outputs": [
    {
     "name": "stderr",
     "output_type": "stream",
     "text": [
      "C:\\Users\\Sandor\\AppData\\Local\\Temp\\ipykernel_2228\\3378627436.py:1: DtypeWarning: Columns (17,18,20,21,22,23,29,30,31,32,36,38,39) have mixed types. Specify dtype option on import or set low_memory=False.\n",
      "  dataset = pd.read_csv('Parking_Violations_Issued_-_Fiscal_Year_2014__August_2013___June_2014_.csv',\n"
     ]
    }
   ],
   "source": [
    "dataset = pd.read_csv('Parking_Violations_Issued_-_Fiscal_Year_2014__August_2013___June_2014_.csv', \n",
    "                   dtype={'Violation Location' : object})\n",
    "\n",
    "#Drop null columns\n",
    "dataset.drop(dataset.columns[range(40, 51)], axis=1, inplace=True)"
   ]
  },
  {
   "cell_type": "markdown",
   "id": "d6c7eba9",
   "metadata": {},
   "source": [
    "Конвертируем поле 'Issue Date' в дату, затем оставляем в датасете только те строки, в которых автомобиль одна из трёх следующих марок: 'DODGE', 'TOYOT', 'HYUND', а дата \"происшествия\" находится в периоде между 2013-01-01 и 2015-01-01."
   ]
  },
  {
   "cell_type": "code",
   "execution_count": 4,
   "id": "82a80421",
   "metadata": {},
   "outputs": [],
   "source": [
    "dataset['Issue Date'] = dataset['Issue Date'].apply(pd.to_datetime)"
   ]
  },
  {
   "cell_type": "code",
   "execution_count": 5,
   "id": "e457b645",
   "metadata": {},
   "outputs": [],
   "source": [
    "dataset = dataset.loc[(dataset['Vehicle Make'].isin(['DODGE', 'TOYOT', 'HYUND'])) & \n",
    "                      ((dataset['Issue Date'] >= pd.Timestamp('2013-01-01')) & (dataset['Issue Date'] <= pd.Timestamp('2015-01-01'))) & \n",
    "                      ((dataset['Vehicle Year'] >= 1900.0) & (dataset['Vehicle Year'] <= 2015.0))]"
   ]
  },
  {
   "cell_type": "code",
   "execution_count": 6,
   "id": "6ec9687d",
   "metadata": {},
   "outputs": [
    {
     "data": {
      "text/html": [
       "<div>\n",
       "<style scoped>\n",
       "    .dataframe tbody tr th:only-of-type {\n",
       "        vertical-align: middle;\n",
       "    }\n",
       "\n",
       "    .dataframe tbody tr th {\n",
       "        vertical-align: top;\n",
       "    }\n",
       "\n",
       "    .dataframe thead th {\n",
       "        text-align: right;\n",
       "    }\n",
       "</style>\n",
       "<table border=\"1\" class=\"dataframe\">\n",
       "  <thead>\n",
       "    <tr style=\"text-align: right;\">\n",
       "      <th></th>\n",
       "      <th>Summons Number</th>\n",
       "      <th>Plate ID</th>\n",
       "      <th>Registration State</th>\n",
       "      <th>Plate Type</th>\n",
       "      <th>Issue Date</th>\n",
       "      <th>Violation Code</th>\n",
       "      <th>Vehicle Body Type</th>\n",
       "      <th>Vehicle Make</th>\n",
       "      <th>Issuing Agency</th>\n",
       "      <th>Street Code1</th>\n",
       "      <th>...</th>\n",
       "      <th>Days Parking In Effect</th>\n",
       "      <th>From Hours In Effect</th>\n",
       "      <th>To Hours In Effect</th>\n",
       "      <th>Vehicle Color</th>\n",
       "      <th>Unregistered Vehicle?</th>\n",
       "      <th>Vehicle Year</th>\n",
       "      <th>Meter Number</th>\n",
       "      <th>Feet From Curb</th>\n",
       "      <th>Violation Post Code</th>\n",
       "      <th>Violation Description</th>\n",
       "    </tr>\n",
       "  </thead>\n",
       "  <tbody>\n",
       "    <tr>\n",
       "      <th>8</th>\n",
       "      <td>1283983631</td>\n",
       "      <td>GBH9379</td>\n",
       "      <td>NY</td>\n",
       "      <td>PAS</td>\n",
       "      <td>2013-08-07</td>\n",
       "      <td>24</td>\n",
       "      <td>SDN</td>\n",
       "      <td>TOYOT</td>\n",
       "      <td>X</td>\n",
       "      <td>63430</td>\n",
       "      <td>...</td>\n",
       "      <td>BBBBBBB</td>\n",
       "      <td>ALL</td>\n",
       "      <td>ALL</td>\n",
       "      <td>WHITE</td>\n",
       "      <td>0.0</td>\n",
       "      <td>2001.0</td>\n",
       "      <td>-</td>\n",
       "      <td>0.0</td>\n",
       "      <td>NaN</td>\n",
       "      <td>NaN</td>\n",
       "    </tr>\n",
       "    <tr>\n",
       "      <th>10</th>\n",
       "      <td>1283983679</td>\n",
       "      <td>M367CN</td>\n",
       "      <td>NY</td>\n",
       "      <td>PAS</td>\n",
       "      <td>2013-07-18</td>\n",
       "      <td>24</td>\n",
       "      <td>SDN</td>\n",
       "      <td>HYUND</td>\n",
       "      <td>H</td>\n",
       "      <td>0</td>\n",
       "      <td>...</td>\n",
       "      <td>BBBBBBB</td>\n",
       "      <td>ALL</td>\n",
       "      <td>ALL</td>\n",
       "      <td>BLUE</td>\n",
       "      <td>0.0</td>\n",
       "      <td>2010.0</td>\n",
       "      <td>-</td>\n",
       "      <td>0.0</td>\n",
       "      <td>NaN</td>\n",
       "      <td>NaN</td>\n",
       "    </tr>\n",
       "    <tr>\n",
       "      <th>11</th>\n",
       "      <td>1283983734</td>\n",
       "      <td>GAR6813</td>\n",
       "      <td>NY</td>\n",
       "      <td>PAS</td>\n",
       "      <td>2013-07-18</td>\n",
       "      <td>24</td>\n",
       "      <td>SDN</td>\n",
       "      <td>TOYOT</td>\n",
       "      <td>H</td>\n",
       "      <td>0</td>\n",
       "      <td>...</td>\n",
       "      <td>BBBBBBB</td>\n",
       "      <td>ALL</td>\n",
       "      <td>ALL</td>\n",
       "      <td>TAN</td>\n",
       "      <td>0.0</td>\n",
       "      <td>1998.0</td>\n",
       "      <td>-</td>\n",
       "      <td>0.0</td>\n",
       "      <td>NaN</td>\n",
       "      <td>NaN</td>\n",
       "    </tr>\n",
       "    <tr>\n",
       "      <th>16</th>\n",
       "      <td>1286246398</td>\n",
       "      <td>GFC5338</td>\n",
       "      <td>NY</td>\n",
       "      <td>PAS</td>\n",
       "      <td>2013-07-26</td>\n",
       "      <td>14</td>\n",
       "      <td>SDN</td>\n",
       "      <td>TOYOT</td>\n",
       "      <td>T</td>\n",
       "      <td>0</td>\n",
       "      <td>...</td>\n",
       "      <td>YYYYYYY</td>\n",
       "      <td>0800A</td>\n",
       "      <td>1000P</td>\n",
       "      <td>GRAY</td>\n",
       "      <td>0.0</td>\n",
       "      <td>2010.0</td>\n",
       "      <td>-</td>\n",
       "      <td>0.0</td>\n",
       "      <td>NaN</td>\n",
       "      <td>NaN</td>\n",
       "    </tr>\n",
       "    <tr>\n",
       "      <th>23</th>\n",
       "      <td>1286799648</td>\n",
       "      <td>GDE3973</td>\n",
       "      <td>NY</td>\n",
       "      <td>PAS</td>\n",
       "      <td>2013-07-20</td>\n",
       "      <td>40</td>\n",
       "      <td>SDN</td>\n",
       "      <td>TOYOT</td>\n",
       "      <td>T</td>\n",
       "      <td>0</td>\n",
       "      <td>...</td>\n",
       "      <td>BBBBBBB</td>\n",
       "      <td>ALL</td>\n",
       "      <td>ALL</td>\n",
       "      <td>TN</td>\n",
       "      <td>0.0</td>\n",
       "      <td>2003.0</td>\n",
       "      <td>-</td>\n",
       "      <td>9.0</td>\n",
       "      <td>NaN</td>\n",
       "      <td>NaN</td>\n",
       "    </tr>\n",
       "  </tbody>\n",
       "</table>\n",
       "<p>5 rows × 40 columns</p>\n",
       "</div>"
      ],
      "text/plain": [
       "    Summons Number Plate ID Registration State Plate Type Issue Date  \\\n",
       "8       1283983631  GBH9379                 NY        PAS 2013-08-07   \n",
       "10      1283983679   M367CN                 NY        PAS 2013-07-18   \n",
       "11      1283983734  GAR6813                 NY        PAS 2013-07-18   \n",
       "16      1286246398  GFC5338                 NY        PAS 2013-07-26   \n",
       "23      1286799648  GDE3973                 NY        PAS 2013-07-20   \n",
       "\n",
       "    Violation Code Vehicle Body Type Vehicle Make Issuing Agency  \\\n",
       "8               24               SDN        TOYOT              X   \n",
       "10              24               SDN        HYUND              H   \n",
       "11              24               SDN        TOYOT              H   \n",
       "16              14               SDN        TOYOT              T   \n",
       "23              40               SDN        TOYOT              T   \n",
       "\n",
       "    Street Code1  ...  Days Parking In Effect      From Hours In Effect  \\\n",
       "8          63430  ...                     BBBBBBB                   ALL   \n",
       "10             0  ...                     BBBBBBB                   ALL   \n",
       "11             0  ...                     BBBBBBB                   ALL   \n",
       "16             0  ...                     YYYYYYY                 0800A   \n",
       "23             0  ...                     BBBBBBB                   ALL   \n",
       "\n",
       "    To Hours In Effect Vehicle Color  Unregistered Vehicle?  Vehicle Year  \\\n",
       "8                  ALL         WHITE                    0.0        2001.0   \n",
       "10                 ALL          BLUE                    0.0        2010.0   \n",
       "11                 ALL           TAN                    0.0        1998.0   \n",
       "16               1000P          GRAY                    0.0        2010.0   \n",
       "23                 ALL            TN                    0.0        2003.0   \n",
       "\n",
       "    Meter Number Feet From Curb Violation Post Code Violation Description  \n",
       "8              -            0.0                 NaN                   NaN  \n",
       "10             -            0.0                 NaN                   NaN  \n",
       "11             -            0.0                 NaN                   NaN  \n",
       "16             -            0.0                 NaN                   NaN  \n",
       "23             -            9.0                 NaN                   NaN  \n",
       "\n",
       "[5 rows x 40 columns]"
      ]
     },
     "execution_count": 6,
     "metadata": {},
     "output_type": "execute_result"
    }
   ],
   "source": [
    "dataset.head()"
   ]
  },
  {
   "cell_type": "code",
   "execution_count": 7,
   "id": "8e9cfe9b",
   "metadata": {},
   "outputs": [
    {
     "data": {
      "text/html": [
       "<div>\n",
       "<style scoped>\n",
       "    .dataframe tbody tr th:only-of-type {\n",
       "        vertical-align: middle;\n",
       "    }\n",
       "\n",
       "    .dataframe tbody tr th {\n",
       "        vertical-align: top;\n",
       "    }\n",
       "\n",
       "    .dataframe thead th {\n",
       "        text-align: right;\n",
       "    }\n",
       "</style>\n",
       "<table border=\"1\" class=\"dataframe\">\n",
       "  <thead>\n",
       "    <tr style=\"text-align: right;\">\n",
       "      <th></th>\n",
       "      <th>Summons Number</th>\n",
       "      <th>Plate ID</th>\n",
       "      <th>Registration State</th>\n",
       "      <th>Plate Type</th>\n",
       "      <th>Issue Date</th>\n",
       "      <th>Violation Code</th>\n",
       "      <th>Vehicle Body Type</th>\n",
       "      <th>Vehicle Make</th>\n",
       "      <th>Issuing Agency</th>\n",
       "      <th>Street Code1</th>\n",
       "      <th>...</th>\n",
       "      <th>Days Parking In Effect</th>\n",
       "      <th>From Hours In Effect</th>\n",
       "      <th>To Hours In Effect</th>\n",
       "      <th>Vehicle Color</th>\n",
       "      <th>Unregistered Vehicle?</th>\n",
       "      <th>Vehicle Year</th>\n",
       "      <th>Meter Number</th>\n",
       "      <th>Feet From Curb</th>\n",
       "      <th>Violation Post Code</th>\n",
       "      <th>Violation Description</th>\n",
       "    </tr>\n",
       "  </thead>\n",
       "  <tbody>\n",
       "    <tr>\n",
       "      <th>9100243</th>\n",
       "      <td>8006050405</td>\n",
       "      <td>APZ5782</td>\n",
       "      <td>NY</td>\n",
       "      <td>PAS</td>\n",
       "      <td>2014-06-25</td>\n",
       "      <td>20</td>\n",
       "      <td>SUBN</td>\n",
       "      <td>TOYOT</td>\n",
       "      <td>T</td>\n",
       "      <td>9140</td>\n",
       "      <td>...</td>\n",
       "      <td>YYYYY</td>\n",
       "      <td>0800A</td>\n",
       "      <td>0600P</td>\n",
       "      <td>SILVE</td>\n",
       "      <td>NaN</td>\n",
       "      <td>2007.0</td>\n",
       "      <td>NaN</td>\n",
       "      <td>0.0</td>\n",
       "      <td>06 4</td>\n",
       "      <td>20A-No Parking (Non-COM)</td>\n",
       "    </tr>\n",
       "    <tr>\n",
       "      <th>9100248</th>\n",
       "      <td>8006050491</td>\n",
       "      <td>EGX5038</td>\n",
       "      <td>NY</td>\n",
       "      <td>PAS</td>\n",
       "      <td>2014-06-25</td>\n",
       "      <td>37</td>\n",
       "      <td>SUBN</td>\n",
       "      <td>TOYOT</td>\n",
       "      <td>T</td>\n",
       "      <td>9540</td>\n",
       "      <td>...</td>\n",
       "      <td>Y</td>\n",
       "      <td>0800A</td>\n",
       "      <td>1000P</td>\n",
       "      <td>GY</td>\n",
       "      <td>NaN</td>\n",
       "      <td>2008.0</td>\n",
       "      <td>406-9426</td>\n",
       "      <td>0.0</td>\n",
       "      <td>06 4</td>\n",
       "      <td>37-Expired Muni Meter</td>\n",
       "    </tr>\n",
       "    <tr>\n",
       "      <th>9100249</th>\n",
       "      <td>8006050508</td>\n",
       "      <td>DHE4798</td>\n",
       "      <td>NY</td>\n",
       "      <td>PAS</td>\n",
       "      <td>2014-06-25</td>\n",
       "      <td>37</td>\n",
       "      <td>SUBN</td>\n",
       "      <td>TOYOT</td>\n",
       "      <td>T</td>\n",
       "      <td>9540</td>\n",
       "      <td>...</td>\n",
       "      <td>Y</td>\n",
       "      <td>0800A</td>\n",
       "      <td>1000P</td>\n",
       "      <td>GY</td>\n",
       "      <td>NaN</td>\n",
       "      <td>2005.0</td>\n",
       "      <td>406-9424</td>\n",
       "      <td>0.0</td>\n",
       "      <td>06 4</td>\n",
       "      <td>37-Expired Muni Meter</td>\n",
       "    </tr>\n",
       "    <tr>\n",
       "      <th>9100261</th>\n",
       "      <td>8006100214</td>\n",
       "      <td>FYD4422</td>\n",
       "      <td>NY</td>\n",
       "      <td>PAS</td>\n",
       "      <td>2014-06-24</td>\n",
       "      <td>21</td>\n",
       "      <td>4DSD</td>\n",
       "      <td>TOYOT</td>\n",
       "      <td>T</td>\n",
       "      <td>67530</td>\n",
       "      <td>...</td>\n",
       "      <td>Y  Y</td>\n",
       "      <td>1130A</td>\n",
       "      <td>0100P</td>\n",
       "      <td>WH</td>\n",
       "      <td>NaN</td>\n",
       "      <td>2012.0</td>\n",
       "      <td>NaN</td>\n",
       "      <td>0.0</td>\n",
       "      <td>08 3</td>\n",
       "      <td>21-No Parking (street clean)</td>\n",
       "    </tr>\n",
       "    <tr>\n",
       "      <th>9100271</th>\n",
       "      <td>8006150151</td>\n",
       "      <td>CWN4247</td>\n",
       "      <td>NY</td>\n",
       "      <td>PAS</td>\n",
       "      <td>2014-06-25</td>\n",
       "      <td>37</td>\n",
       "      <td>SUBN</td>\n",
       "      <td>TOYOT</td>\n",
       "      <td>T</td>\n",
       "      <td>0</td>\n",
       "      <td>...</td>\n",
       "      <td>YYYYYYY</td>\n",
       "      <td>NaN</td>\n",
       "      <td>NaN</td>\n",
       "      <td>GY</td>\n",
       "      <td>NaN</td>\n",
       "      <td>2004.0</td>\n",
       "      <td>373-0123</td>\n",
       "      <td>0.0</td>\n",
       "      <td>10 3</td>\n",
       "      <td>37-Expired Muni Meter</td>\n",
       "    </tr>\n",
       "  </tbody>\n",
       "</table>\n",
       "<p>5 rows × 40 columns</p>\n",
       "</div>"
      ],
      "text/plain": [
       "         Summons Number Plate ID Registration State Plate Type Issue Date  \\\n",
       "9100243      8006050405  APZ5782                 NY        PAS 2014-06-25   \n",
       "9100248      8006050491  EGX5038                 NY        PAS 2014-06-25   \n",
       "9100249      8006050508  DHE4798                 NY        PAS 2014-06-25   \n",
       "9100261      8006100214  FYD4422                 NY        PAS 2014-06-24   \n",
       "9100271      8006150151  CWN4247                 NY        PAS 2014-06-25   \n",
       "\n",
       "         Violation Code Vehicle Body Type Vehicle Make Issuing Agency  \\\n",
       "9100243              20              SUBN        TOYOT              T   \n",
       "9100248              37              SUBN        TOYOT              T   \n",
       "9100249              37              SUBN        TOYOT              T   \n",
       "9100261              21              4DSD        TOYOT              T   \n",
       "9100271              37              SUBN        TOYOT              T   \n",
       "\n",
       "         Street Code1  ...  Days Parking In Effect      From Hours In Effect  \\\n",
       "9100243          9140  ...                       YYYYY                 0800A   \n",
       "9100248          9540  ...                           Y                 0800A   \n",
       "9100249          9540  ...                           Y                 0800A   \n",
       "9100261         67530  ...                        Y  Y                 1130A   \n",
       "9100271             0  ...                     YYYYYYY                   NaN   \n",
       "\n",
       "         To Hours In Effect Vehicle Color  Unregistered Vehicle?  \\\n",
       "9100243               0600P         SILVE                    NaN   \n",
       "9100248               1000P            GY                    NaN   \n",
       "9100249               1000P            GY                    NaN   \n",
       "9100261               0100P            WH                    NaN   \n",
       "9100271                 NaN            GY                    NaN   \n",
       "\n",
       "         Vehicle Year  Meter Number Feet From Curb Violation Post Code  \\\n",
       "9100243        2007.0           NaN            0.0                06 4   \n",
       "9100248        2008.0      406-9426            0.0                06 4   \n",
       "9100249        2005.0      406-9424            0.0                06 4   \n",
       "9100261        2012.0           NaN            0.0                08 3   \n",
       "9100271        2004.0      373-0123            0.0                10 3   \n",
       "\n",
       "                Violation Description  \n",
       "9100243      20A-No Parking (Non-COM)  \n",
       "9100248         37-Expired Muni Meter  \n",
       "9100249         37-Expired Muni Meter  \n",
       "9100261  21-No Parking (street clean)  \n",
       "9100271         37-Expired Muni Meter  \n",
       "\n",
       "[5 rows x 40 columns]"
      ]
     },
     "execution_count": 7,
     "metadata": {},
     "output_type": "execute_result"
    }
   ],
   "source": [
    "dataset.tail()"
   ]
  },
  {
   "cell_type": "code",
   "execution_count": 8,
   "id": "7d2a3faf",
   "metadata": {
    "scrolled": false
   },
   "outputs": [
    {
     "data": {
      "text/html": [
       "<div>\n",
       "<style scoped>\n",
       "    .dataframe tbody tr th:only-of-type {\n",
       "        vertical-align: middle;\n",
       "    }\n",
       "\n",
       "    .dataframe tbody tr th {\n",
       "        vertical-align: top;\n",
       "    }\n",
       "\n",
       "    .dataframe thead th {\n",
       "        text-align: right;\n",
       "    }\n",
       "</style>\n",
       "<table border=\"1\" class=\"dataframe\">\n",
       "  <thead>\n",
       "    <tr style=\"text-align: right;\">\n",
       "      <th></th>\n",
       "      <th>Issue Date</th>\n",
       "      <th>Vehicle Make</th>\n",
       "      <th>Violation Time</th>\n",
       "      <th>House Number</th>\n",
       "      <th>Street Name</th>\n",
       "      <th>Vehicle Year</th>\n",
       "    </tr>\n",
       "  </thead>\n",
       "  <tbody>\n",
       "    <tr>\n",
       "      <th>8</th>\n",
       "      <td>2013-08-07</td>\n",
       "      <td>TOYOT</td>\n",
       "      <td>0437A</td>\n",
       "      <td>100</td>\n",
       "      <td>N.PORTLAND AVE</td>\n",
       "      <td>2001.0</td>\n",
       "    </tr>\n",
       "    <tr>\n",
       "      <th>10</th>\n",
       "      <td>2013-07-18</td>\n",
       "      <td>HYUND</td>\n",
       "      <td>0845A</td>\n",
       "      <td>NaN</td>\n",
       "      <td>760 BROADWAY BROOKLY</td>\n",
       "      <td>2010.0</td>\n",
       "    </tr>\n",
       "    <tr>\n",
       "      <th>11</th>\n",
       "      <td>2013-07-18</td>\n",
       "      <td>TOYOT</td>\n",
       "      <td>0907A</td>\n",
       "      <td>NaN</td>\n",
       "      <td>760 BROADWAY BROOKLY</td>\n",
       "      <td>1998.0</td>\n",
       "    </tr>\n",
       "    <tr>\n",
       "      <th>16</th>\n",
       "      <td>2013-07-26</td>\n",
       "      <td>TOYOT</td>\n",
       "      <td>1142A</td>\n",
       "      <td>145</td>\n",
       "      <td>PROSPECT PKWAY</td>\n",
       "      <td>2010.0</td>\n",
       "    </tr>\n",
       "    <tr>\n",
       "      <th>23</th>\n",
       "      <td>2013-07-20</td>\n",
       "      <td>TOYOT</td>\n",
       "      <td>0324P</td>\n",
       "      <td>NaN</td>\n",
       "      <td>E/S RIVER TER.</td>\n",
       "      <td>2003.0</td>\n",
       "    </tr>\n",
       "  </tbody>\n",
       "</table>\n",
       "</div>"
      ],
      "text/plain": [
       "   Issue Date Vehicle Make Violation Time House Number           Street Name  \\\n",
       "8  2013-08-07        TOYOT          0437A          100        N.PORTLAND AVE   \n",
       "10 2013-07-18        HYUND          0845A          NaN  760 BROADWAY BROOKLY   \n",
       "11 2013-07-18        TOYOT          0907A          NaN  760 BROADWAY BROOKLY   \n",
       "16 2013-07-26        TOYOT          1142A          145        PROSPECT PKWAY   \n",
       "23 2013-07-20        TOYOT          0324P          NaN        E/S RIVER TER.   \n",
       "\n",
       "    Vehicle Year  \n",
       "8         2001.0  \n",
       "10        2010.0  \n",
       "11        1998.0  \n",
       "16        2010.0  \n",
       "23        2003.0  "
      ]
     },
     "execution_count": 8,
     "metadata": {},
     "output_type": "execute_result"
    }
   ],
   "source": [
    "dataset.drop(columns=dataset.columns.difference(['Issue Date', 'Vehicle Make', 'Violation Time', 'House Number', 'Street Name', 'Vehicle Year']), axis=1, inplace=True)\n",
    "dataset.head()"
   ]
  },
  {
   "cell_type": "code",
   "execution_count": 9,
   "id": "b56ae7d4",
   "metadata": {},
   "outputs": [
    {
     "data": {
      "text/html": [
       "<div>\n",
       "<style scoped>\n",
       "    .dataframe tbody tr th:only-of-type {\n",
       "        vertical-align: middle;\n",
       "    }\n",
       "\n",
       "    .dataframe tbody tr th {\n",
       "        vertical-align: top;\n",
       "    }\n",
       "\n",
       "    .dataframe thead th {\n",
       "        text-align: right;\n",
       "    }\n",
       "</style>\n",
       "<table border=\"1\" class=\"dataframe\">\n",
       "  <thead>\n",
       "    <tr style=\"text-align: right;\">\n",
       "      <th></th>\n",
       "      <th>Issue Date</th>\n",
       "      <th>Vehicle Make</th>\n",
       "      <th>Violation Time</th>\n",
       "      <th>House Number</th>\n",
       "      <th>Street Name</th>\n",
       "      <th>Vehicle Year</th>\n",
       "    </tr>\n",
       "  </thead>\n",
       "  <tbody>\n",
       "    <tr>\n",
       "      <th>9100243</th>\n",
       "      <td>2014-06-25</td>\n",
       "      <td>TOYOT</td>\n",
       "      <td>1104A</td>\n",
       "      <td>W</td>\n",
       "      <td>39th Ave</td>\n",
       "      <td>2007.0</td>\n",
       "    </tr>\n",
       "    <tr>\n",
       "      <th>9100248</th>\n",
       "      <td>2014-06-25</td>\n",
       "      <td>TOYOT</td>\n",
       "      <td>0103P</td>\n",
       "      <td>133-32</td>\n",
       "      <td>41st Ave</td>\n",
       "      <td>2008.0</td>\n",
       "    </tr>\n",
       "    <tr>\n",
       "      <th>9100249</th>\n",
       "      <td>2014-06-25</td>\n",
       "      <td>TOYOT</td>\n",
       "      <td>0105P</td>\n",
       "      <td>133-24</td>\n",
       "      <td>41st Ave</td>\n",
       "      <td>2005.0</td>\n",
       "    </tr>\n",
       "    <tr>\n",
       "      <th>9100261</th>\n",
       "      <td>2014-06-24</td>\n",
       "      <td>TOYOT</td>\n",
       "      <td>1140A</td>\n",
       "      <td>560</td>\n",
       "      <td>Ocean Ave</td>\n",
       "      <td>2012.0</td>\n",
       "    </tr>\n",
       "    <tr>\n",
       "      <th>9100271</th>\n",
       "      <td>2014-06-25</td>\n",
       "      <td>TOYOT</td>\n",
       "      <td>0115P</td>\n",
       "      <td>NaN</td>\n",
       "      <td>Other-See Comments</td>\n",
       "      <td>2004.0</td>\n",
       "    </tr>\n",
       "  </tbody>\n",
       "</table>\n",
       "</div>"
      ],
      "text/plain": [
       "        Issue Date Vehicle Make Violation Time House Number  \\\n",
       "9100243 2014-06-25        TOYOT          1104A            W   \n",
       "9100248 2014-06-25        TOYOT          0103P       133-32   \n",
       "9100249 2014-06-25        TOYOT          0105P       133-24   \n",
       "9100261 2014-06-24        TOYOT          1140A          560   \n",
       "9100271 2014-06-25        TOYOT          0115P          NaN   \n",
       "\n",
       "                Street Name  Vehicle Year  \n",
       "9100243            39th Ave        2007.0  \n",
       "9100248            41st Ave        2008.0  \n",
       "9100249            41st Ave        2005.0  \n",
       "9100261           Ocean Ave        2012.0  \n",
       "9100271  Other-See Comments        2004.0  "
      ]
     },
     "execution_count": 9,
     "metadata": {},
     "output_type": "execute_result"
    }
   ],
   "source": [
    "dataset.tail()"
   ]
  },
  {
   "cell_type": "code",
   "execution_count": 53,
   "id": "01bb9910",
   "metadata": {},
   "outputs": [],
   "source": [
    "dataset.set_index('Issue Date',inplace=True)"
   ]
  },
  {
   "cell_type": "code",
   "execution_count": 11,
   "id": "10a20c7f",
   "metadata": {},
   "outputs": [
    {
     "data": {
      "text/html": [
       "<div>\n",
       "<style scoped>\n",
       "    .dataframe tbody tr th:only-of-type {\n",
       "        vertical-align: middle;\n",
       "    }\n",
       "\n",
       "    .dataframe tbody tr th {\n",
       "        vertical-align: top;\n",
       "    }\n",
       "\n",
       "    .dataframe thead th {\n",
       "        text-align: right;\n",
       "    }\n",
       "</style>\n",
       "<table border=\"1\" class=\"dataframe\">\n",
       "  <thead>\n",
       "    <tr style=\"text-align: right;\">\n",
       "      <th></th>\n",
       "      <th>Vehicle Make</th>\n",
       "      <th>Violation Time</th>\n",
       "      <th>House Number</th>\n",
       "      <th>Street Name</th>\n",
       "      <th>Vehicle Year</th>\n",
       "    </tr>\n",
       "    <tr>\n",
       "      <th>Issue Date</th>\n",
       "      <th></th>\n",
       "      <th></th>\n",
       "      <th></th>\n",
       "      <th></th>\n",
       "      <th></th>\n",
       "    </tr>\n",
       "  </thead>\n",
       "  <tbody>\n",
       "    <tr>\n",
       "      <th>2013-08-07</th>\n",
       "      <td>TOYOT</td>\n",
       "      <td>0437A</td>\n",
       "      <td>100</td>\n",
       "      <td>N.PORTLAND AVE</td>\n",
       "      <td>2001.0</td>\n",
       "    </tr>\n",
       "    <tr>\n",
       "      <th>2013-07-18</th>\n",
       "      <td>HYUND</td>\n",
       "      <td>0845A</td>\n",
       "      <td>NaN</td>\n",
       "      <td>760 BROADWAY BROOKLY</td>\n",
       "      <td>2010.0</td>\n",
       "    </tr>\n",
       "    <tr>\n",
       "      <th>2013-07-18</th>\n",
       "      <td>TOYOT</td>\n",
       "      <td>0907A</td>\n",
       "      <td>NaN</td>\n",
       "      <td>760 BROADWAY BROOKLY</td>\n",
       "      <td>1998.0</td>\n",
       "    </tr>\n",
       "    <tr>\n",
       "      <th>2013-07-26</th>\n",
       "      <td>TOYOT</td>\n",
       "      <td>1142A</td>\n",
       "      <td>145</td>\n",
       "      <td>PROSPECT PKWAY</td>\n",
       "      <td>2010.0</td>\n",
       "    </tr>\n",
       "    <tr>\n",
       "      <th>2013-07-20</th>\n",
       "      <td>TOYOT</td>\n",
       "      <td>0324P</td>\n",
       "      <td>NaN</td>\n",
       "      <td>E/S RIVER TER.</td>\n",
       "      <td>2003.0</td>\n",
       "    </tr>\n",
       "  </tbody>\n",
       "</table>\n",
       "</div>"
      ],
      "text/plain": [
       "           Vehicle Make Violation Time House Number           Street Name  \\\n",
       "Issue Date                                                                  \n",
       "2013-08-07        TOYOT          0437A          100        N.PORTLAND AVE   \n",
       "2013-07-18        HYUND          0845A          NaN  760 BROADWAY BROOKLY   \n",
       "2013-07-18        TOYOT          0907A          NaN  760 BROADWAY BROOKLY   \n",
       "2013-07-26        TOYOT          1142A          145        PROSPECT PKWAY   \n",
       "2013-07-20        TOYOT          0324P          NaN        E/S RIVER TER.   \n",
       "\n",
       "            Vehicle Year  \n",
       "Issue Date                \n",
       "2013-08-07        2001.0  \n",
       "2013-07-18        2010.0  \n",
       "2013-07-18        1998.0  \n",
       "2013-07-26        2010.0  \n",
       "2013-07-20        2003.0  "
      ]
     },
     "execution_count": 11,
     "metadata": {},
     "output_type": "execute_result"
    }
   ],
   "source": [
    "dataset.head()"
   ]
  },
  {
   "cell_type": "code",
   "execution_count": 12,
   "id": "49416978",
   "metadata": {},
   "outputs": [
    {
     "data": {
      "text/html": [
       "<div>\n",
       "<style scoped>\n",
       "    .dataframe tbody tr th:only-of-type {\n",
       "        vertical-align: middle;\n",
       "    }\n",
       "\n",
       "    .dataframe tbody tr th {\n",
       "        vertical-align: top;\n",
       "    }\n",
       "\n",
       "    .dataframe thead th {\n",
       "        text-align: right;\n",
       "    }\n",
       "</style>\n",
       "<table border=\"1\" class=\"dataframe\">\n",
       "  <thead>\n",
       "    <tr style=\"text-align: right;\">\n",
       "      <th></th>\n",
       "      <th>Vehicle Make</th>\n",
       "      <th>Violation Time</th>\n",
       "      <th>House Number</th>\n",
       "      <th>Street Name</th>\n",
       "      <th>Vehicle Year</th>\n",
       "    </tr>\n",
       "    <tr>\n",
       "      <th>Issue Date</th>\n",
       "      <th></th>\n",
       "      <th></th>\n",
       "      <th></th>\n",
       "      <th></th>\n",
       "      <th></th>\n",
       "    </tr>\n",
       "  </thead>\n",
       "  <tbody>\n",
       "    <tr>\n",
       "      <th>2014-06-25</th>\n",
       "      <td>TOYOT</td>\n",
       "      <td>1104A</td>\n",
       "      <td>W</td>\n",
       "      <td>39th Ave</td>\n",
       "      <td>2007.0</td>\n",
       "    </tr>\n",
       "    <tr>\n",
       "      <th>2014-06-25</th>\n",
       "      <td>TOYOT</td>\n",
       "      <td>0103P</td>\n",
       "      <td>133-32</td>\n",
       "      <td>41st Ave</td>\n",
       "      <td>2008.0</td>\n",
       "    </tr>\n",
       "    <tr>\n",
       "      <th>2014-06-25</th>\n",
       "      <td>TOYOT</td>\n",
       "      <td>0105P</td>\n",
       "      <td>133-24</td>\n",
       "      <td>41st Ave</td>\n",
       "      <td>2005.0</td>\n",
       "    </tr>\n",
       "    <tr>\n",
       "      <th>2014-06-24</th>\n",
       "      <td>TOYOT</td>\n",
       "      <td>1140A</td>\n",
       "      <td>560</td>\n",
       "      <td>Ocean Ave</td>\n",
       "      <td>2012.0</td>\n",
       "    </tr>\n",
       "    <tr>\n",
       "      <th>2014-06-25</th>\n",
       "      <td>TOYOT</td>\n",
       "      <td>0115P</td>\n",
       "      <td>NaN</td>\n",
       "      <td>Other-See Comments</td>\n",
       "      <td>2004.0</td>\n",
       "    </tr>\n",
       "  </tbody>\n",
       "</table>\n",
       "</div>"
      ],
      "text/plain": [
       "           Vehicle Make Violation Time House Number         Street Name  \\\n",
       "Issue Date                                                                \n",
       "2014-06-25        TOYOT          1104A            W            39th Ave   \n",
       "2014-06-25        TOYOT          0103P       133-32            41st Ave   \n",
       "2014-06-25        TOYOT          0105P       133-24            41st Ave   \n",
       "2014-06-24        TOYOT          1140A          560           Ocean Ave   \n",
       "2014-06-25        TOYOT          0115P          NaN  Other-See Comments   \n",
       "\n",
       "            Vehicle Year  \n",
       "Issue Date                \n",
       "2014-06-25        2007.0  \n",
       "2014-06-25        2008.0  \n",
       "2014-06-25        2005.0  \n",
       "2014-06-24        2012.0  \n",
       "2014-06-25        2004.0  "
      ]
     },
     "execution_count": 12,
     "metadata": {},
     "output_type": "execute_result"
    }
   ],
   "source": [
    "dataset.tail()"
   ]
  },
  {
   "cell_type": "code",
   "execution_count": 13,
   "id": "a0930c63",
   "metadata": {},
   "outputs": [
    {
     "data": {
      "text/html": [
       "<div>\n",
       "<style scoped>\n",
       "    .dataframe tbody tr th:only-of-type {\n",
       "        vertical-align: middle;\n",
       "    }\n",
       "\n",
       "    .dataframe tbody tr th {\n",
       "        vertical-align: top;\n",
       "    }\n",
       "\n",
       "    .dataframe thead th {\n",
       "        text-align: right;\n",
       "    }\n",
       "</style>\n",
       "<table border=\"1\" class=\"dataframe\">\n",
       "  <thead>\n",
       "    <tr style=\"text-align: right;\">\n",
       "      <th></th>\n",
       "      <th>Vehicle Year</th>\n",
       "    </tr>\n",
       "  </thead>\n",
       "  <tbody>\n",
       "    <tr>\n",
       "      <th>count</th>\n",
       "      <td>1.066655e+06</td>\n",
       "    </tr>\n",
       "    <tr>\n",
       "      <th>mean</th>\n",
       "      <td>2.007093e+03</td>\n",
       "    </tr>\n",
       "    <tr>\n",
       "      <th>std</th>\n",
       "      <td>5.155833e+00</td>\n",
       "    </tr>\n",
       "    <tr>\n",
       "      <th>min</th>\n",
       "      <td>1.970000e+03</td>\n",
       "    </tr>\n",
       "    <tr>\n",
       "      <th>25%</th>\n",
       "      <td>2.004000e+03</td>\n",
       "    </tr>\n",
       "    <tr>\n",
       "      <th>50%</th>\n",
       "      <td>2.008000e+03</td>\n",
       "    </tr>\n",
       "    <tr>\n",
       "      <th>75%</th>\n",
       "      <td>2.012000e+03</td>\n",
       "    </tr>\n",
       "    <tr>\n",
       "      <th>max</th>\n",
       "      <td>2.015000e+03</td>\n",
       "    </tr>\n",
       "  </tbody>\n",
       "</table>\n",
       "</div>"
      ],
      "text/plain": [
       "       Vehicle Year\n",
       "count  1.066655e+06\n",
       "mean   2.007093e+03\n",
       "std    5.155833e+00\n",
       "min    1.970000e+03\n",
       "25%    2.004000e+03\n",
       "50%    2.008000e+03\n",
       "75%    2.012000e+03\n",
       "max    2.015000e+03"
      ]
     },
     "execution_count": 13,
     "metadata": {},
     "output_type": "execute_result"
    }
   ],
   "source": [
    "dataset.describe()"
   ]
  },
  {
   "cell_type": "markdown",
   "id": "c9f389ad",
   "metadata": {},
   "source": [
    "# Визуализируем датасет"
   ]
  },
  {
   "cell_type": "markdown",
   "id": "a01b23a0",
   "metadata": {},
   "source": [
    "### Проанализируем данные о всех штрафах"
   ]
  },
  {
   "cell_type": "code",
   "execution_count": 14,
   "id": "286d03f7",
   "metadata": {},
   "outputs": [
    {
     "data": {
      "text/plain": [
       "<matplotlib.lines.Line2D at 0x1bd91d27c40>"
      ]
     },
     "execution_count": 14,
     "metadata": {},
     "output_type": "execute_result"
    },
    {
     "data": {
      "image/png": "[encoded data removed]",
      "text/plain": [
       "<Figure size 432x288 with 1 Axes>"
      ]
     },
     "metadata": {
      "needs_background": "light"
     },
     "output_type": "display_data"
    }
   ],
   "source": [
    "ax = dataset.plot()\n",
    "ax.axhline(2000, color=\"red\", linestyle=\"--\")"
   ]
  },
  {
   "cell_type": "markdown",
   "id": "45ca7541",
   "metadata": {},
   "source": [
    "Красная вертикальная линия отделяет штрафы, полученные машинами выпущенные до 2000 года и после.\n",
    "Как видно, больше всего штрафов приходится на период от 2013-07 до 2014-07, но машины выпущенные до 2000 года получили гораздо меньше штрафов в остальной период времени, нежели машины выпущенные после 2000 года."
   ]
  },
  {
   "cell_type": "markdown",
   "id": "322519e1",
   "metadata": {},
   "source": [
    "### Рассмотрим отдельно графики для машин разных марок."
   ]
  },
  {
   "cell_type": "code",
   "execution_count": 15,
   "id": "1698c6b5",
   "metadata": {},
   "outputs": [
    {
     "data": {
      "text/plain": [
       "<matplotlib.lines.Line2D at 0x1bef561e3b0>"
      ]
     },
     "execution_count": 15,
     "metadata": {},
     "output_type": "execute_result"
    },
    {
     "data": {
      "image/png": "[encoded data removed]",
      "text/plain": [
       "<Figure size 432x288 with 1 Axes>"
      ]
     },
     "metadata": {
      "needs_background": "light"
     },
     "output_type": "display_data"
    }
   ],
   "source": [
    "ax = dataset.loc[dataset['Vehicle Make']=='DODGE'].plot()\n",
    "ax.axhline(2000, color=\"red\", linestyle=\"--\")"
   ]
  },
  {
   "cell_type": "code",
   "execution_count": 16,
   "id": "a6b6b761",
   "metadata": {},
   "outputs": [
    {
     "data": {
      "text/plain": [
       "<matplotlib.lines.Line2D at 0x1bd91d27d90>"
      ]
     },
     "execution_count": 16,
     "metadata": {},
     "output_type": "execute_result"
    },
    {
     "data": {
      "image/png": "[encoded data removed]",
      "text/plain": [
       "<Figure size 432x288 with 1 Axes>"
      ]
     },
     "metadata": {
      "needs_background": "light"
     },
     "output_type": "display_data"
    }
   ],
   "source": [
    "ax = dataset.loc[dataset['Vehicle Make']=='TOYOT'].plot()\n",
    "ax.axhline(2000, color=\"red\", linestyle=\"--\")"
   ]
  },
  {
   "cell_type": "code",
   "execution_count": 17,
   "id": "ec349b97",
   "metadata": {},
   "outputs": [
    {
     "data": {
      "text/plain": [
       "<matplotlib.lines.Line2D at 0x1bef561e380>"
      ]
     },
     "execution_count": 17,
     "metadata": {},
     "output_type": "execute_result"
    },
    {
     "data": {
      "image/png": "[encoded data removed]",
      "text/plain": [
       "<Figure size 432x288 with 1 Axes>"
      ]
     },
     "metadata": {
      "needs_background": "light"
     },
     "output_type": "display_data"
    }
   ],
   "source": [
    "ax = dataset.loc[dataset['Vehicle Make']=='HYUND'].plot()\n",
    "ax.axhline(2000, color=\"red\", linestyle=\"--\")"
   ]
  },
  {
   "cell_type": "markdown",
   "id": "a1c675ce",
   "metadata": {},
   "source": [
    "Первые два графика не сильно отличаются, но третий выделяется сильнее. Как видно машины марки \"Hyundai\" намного реже получали штрафы в период с 2013-01 до 2013-07 и с 2014-07 до 2015-01.\n",
    "При этом машины, выпущенные до 2000 года, практически не попадали в \"неприятности\", особенно это прослеживается на вышесказанном периоде времени."
   ]
  },
  {
   "cell_type": "markdown",
   "id": "03b79048",
   "metadata": {},
   "source": [
    "### Рассмотрим где чаще всего происходили нарушения"
   ]
  },
  {
   "cell_type": "markdown",
   "id": "354887d6",
   "metadata": {},
   "source": [
    "Выведем список улиц, которые находятся в топе по количеству нарушений"
   ]
  },
  {
   "cell_type": "code",
   "execution_count": 18,
   "id": "bd49cd96",
   "metadata": {},
   "outputs": [
    {
     "data": {
      "text/plain": [
       "Broadway                19464\n",
       "3rd Ave                 11780\n",
       "5th Ave                 10132\n",
       "Queens Blvd              7953\n",
       "WB FORDHAM RD @ MARI     7239\n",
       "Name: Street Name, dtype: int64"
      ]
     },
     "execution_count": 18,
     "metadata": {},
     "output_type": "execute_result"
    }
   ],
   "source": [
    "dataset['Street Name'].value_counts().head(5)"
   ]
  },
  {
   "cell_type": "markdown",
   "id": "4f279e7d",
   "metadata": {},
   "source": [
    "Выведем для вышеперечисленных улиц номера домов, где чаще всего происходят нарушения"
   ]
  },
  {
   "cell_type": "code",
   "execution_count": 19,
   "id": "9d8e6bb4",
   "metadata": {},
   "outputs": [
    {
     "data": {
      "text/html": [
       "<div>\n",
       "<style scoped>\n",
       "    .dataframe tbody tr th:only-of-type {\n",
       "        vertical-align: middle;\n",
       "    }\n",
       "\n",
       "    .dataframe tbody tr th {\n",
       "        vertical-align: top;\n",
       "    }\n",
       "\n",
       "    .dataframe thead th {\n",
       "        text-align: right;\n",
       "    }\n",
       "</style>\n",
       "<table border=\"1\" class=\"dataframe\">\n",
       "  <thead>\n",
       "    <tr style=\"text-align: right;\">\n",
       "      <th></th>\n",
       "      <th>Street Name</th>\n",
       "      <th>House Number</th>\n",
       "      <th>freq</th>\n",
       "    </tr>\n",
       "  </thead>\n",
       "  <tbody>\n",
       "    <tr>\n",
       "      <th>0</th>\n",
       "      <td>3rd Ave</td>\n",
       "      <td>W</td>\n",
       "      <td>578</td>\n",
       "    </tr>\n",
       "    <tr>\n",
       "      <th>1687</th>\n",
       "      <td>5th Ave</td>\n",
       "      <td>E</td>\n",
       "      <td>319</td>\n",
       "    </tr>\n",
       "    <tr>\n",
       "      <th>3185</th>\n",
       "      <td>Broadway</td>\n",
       "      <td>W</td>\n",
       "      <td>716</td>\n",
       "    </tr>\n",
       "    <tr>\n",
       "      <th>5573</th>\n",
       "      <td>Queens Blvd</td>\n",
       "      <td>N</td>\n",
       "      <td>395</td>\n",
       "    </tr>\n",
       "  </tbody>\n",
       "</table>\n",
       "</div>"
      ],
      "text/plain": [
       "      Street Name House Number  freq\n",
       "0         3rd Ave            W   578\n",
       "1687      5th Ave            E   319\n",
       "3185     Broadway            W   716\n",
       "5573  Queens Blvd            N   395"
      ]
     },
     "execution_count": 19,
     "metadata": {},
     "output_type": "execute_result"
    }
   ],
   "source": [
    "dataset.loc[dataset['Street Name'].isin(dataset['Street Name'].value_counts().head(5).index)].groupby('Street Name')['House Number'].value_counts().rename_axis(['Street Name','House Number']).reset_index(name='freq').drop_duplicates('Street Name')"
   ]
  },
  {
   "cell_type": "markdown",
   "id": "2b671dc7",
   "metadata": {},
   "source": [
    "### Рассмотрим результаты отдельно для машин разных марок"
   ]
  },
  {
   "cell_type": "markdown",
   "id": "329e1986",
   "metadata": {},
   "source": [
    "#### Dodge"
   ]
  },
  {
   "cell_type": "markdown",
   "id": "ee8e86cf",
   "metadata": {},
   "source": [
    "##### До 2000 года"
   ]
  },
  {
   "cell_type": "code",
   "execution_count": 20,
   "id": "41bf1ded",
   "metadata": {},
   "outputs": [
    {
     "data": {
      "text/plain": [
       "Broadway       358\n",
       "3rd Ave        241\n",
       "Jamaica Ave    171\n",
       "5th Ave        160\n",
       "2nd Ave        152\n",
       "Name: Street Name, dtype: int64"
      ]
     },
     "execution_count": 20,
     "metadata": {},
     "output_type": "execute_result"
    }
   ],
   "source": [
    "dataset.loc[(dataset['Vehicle Make']=='DODGE') & (dataset['Vehicle Year'] < 2000.0)]['Street Name'].value_counts().head(5)"
   ]
  },
  {
   "cell_type": "code",
   "execution_count": 21,
   "id": "0a6d274c",
   "metadata": {},
   "outputs": [
    {
     "data": {
      "text/plain": [
       "<AxesSubplot:>"
      ]
     },
     "execution_count": 21,
     "metadata": {},
     "output_type": "execute_result"
    },
    {
     "data": {
      "image/png": "[encoded data removed]",
      "text/plain": [
       "<Figure size 432x288 with 1 Axes>"
      ]
     },
     "metadata": {
      "needs_background": "light"
     },
     "output_type": "display_data"
    }
   ],
   "source": [
    "dataset.loc[(dataset['Vehicle Make']=='DODGE') & (dataset['Vehicle Year'] < 2000.0)]['Street Name'].value_counts().head(5).plot()"
   ]
  },
  {
   "cell_type": "code",
   "execution_count": 22,
   "id": "b9308164",
   "metadata": {},
   "outputs": [
    {
     "data": {
      "text/html": [
       "<div>\n",
       "<style scoped>\n",
       "    .dataframe tbody tr th:only-of-type {\n",
       "        vertical-align: middle;\n",
       "    }\n",
       "\n",
       "    .dataframe tbody tr th {\n",
       "        vertical-align: top;\n",
       "    }\n",
       "\n",
       "    .dataframe thead th {\n",
       "        text-align: right;\n",
       "    }\n",
       "</style>\n",
       "<table border=\"1\" class=\"dataframe\">\n",
       "  <thead>\n",
       "    <tr style=\"text-align: right;\">\n",
       "      <th></th>\n",
       "      <th>Street Name</th>\n",
       "      <th>House Number</th>\n",
       "      <th>freq</th>\n",
       "    </tr>\n",
       "  </thead>\n",
       "  <tbody>\n",
       "    <tr>\n",
       "      <th>0</th>\n",
       "      <td>2nd Ave</td>\n",
       "      <td>1546</td>\n",
       "      <td>17</td>\n",
       "    </tr>\n",
       "    <tr>\n",
       "      <th>80</th>\n",
       "      <td>3rd Ave</td>\n",
       "      <td>W</td>\n",
       "      <td>13</td>\n",
       "    </tr>\n",
       "    <tr>\n",
       "      <th>262</th>\n",
       "      <td>5th Ave</td>\n",
       "      <td>E</td>\n",
       "      <td>9</td>\n",
       "    </tr>\n",
       "    <tr>\n",
       "      <th>387</th>\n",
       "      <td>Broadway</td>\n",
       "      <td>W</td>\n",
       "      <td>17</td>\n",
       "    </tr>\n",
       "    <tr>\n",
       "      <th>634</th>\n",
       "      <td>Jamaica Ave</td>\n",
       "      <td>S</td>\n",
       "      <td>6</td>\n",
       "    </tr>\n",
       "  </tbody>\n",
       "</table>\n",
       "</div>"
      ],
      "text/plain": [
       "     Street Name House Number  freq\n",
       "0        2nd Ave         1546    17\n",
       "80       3rd Ave            W    13\n",
       "262      5th Ave            E     9\n",
       "387     Broadway            W    17\n",
       "634  Jamaica Ave            S     6"
      ]
     },
     "execution_count": 22,
     "metadata": {},
     "output_type": "execute_result"
    }
   ],
   "source": [
    "dataset.loc[dataset['Street Name'].isin(dataset.loc[(dataset['Vehicle Make']=='DODGE') & (dataset['Vehicle Year'] < 2000.0)]['Street Name'].value_counts().head(5).index) & (dataset['Vehicle Make']=='DODGE') & (dataset['Vehicle Year'] < 2000.0)].groupby('Street Name')['House Number'].value_counts().rename_axis(['Street Name','House Number']).reset_index(name='freq').drop_duplicates('Street Name')"
   ]
  },
  {
   "cell_type": "markdown",
   "id": "af272008",
   "metadata": {},
   "source": [
    "##### После 2000 года"
   ]
  },
  {
   "cell_type": "code",
   "execution_count": 23,
   "id": "0997f0cd",
   "metadata": {},
   "outputs": [
    {
     "data": {
      "text/plain": [
       "Broadway         4509\n",
       "3rd Ave          3115\n",
       "Madison Ave      2175\n",
       "5th Ave          2063\n",
       "Lexington Ave    1622\n",
       "Name: Street Name, dtype: int64"
      ]
     },
     "execution_count": 23,
     "metadata": {},
     "output_type": "execute_result"
    }
   ],
   "source": [
    "dataset.loc[(dataset['Vehicle Make']=='DODGE') & (dataset['Vehicle Year'] >= 2000.0)]['Street Name'].value_counts().head(5)"
   ]
  },
  {
   "cell_type": "code",
   "execution_count": 24,
   "id": "8caab048",
   "metadata": {},
   "outputs": [
    {
     "data": {
      "text/plain": [
       "<AxesSubplot:>"
      ]
     },
     "execution_count": 24,
     "metadata": {},
     "output_type": "execute_result"
    },
    {
     "data": {
      "image/png": "[encoded data removed]",
      "text/plain": [
       "<Figure size 432x288 with 1 Axes>"
      ]
     },
     "metadata": {
      "needs_background": "light"
     },
     "output_type": "display_data"
    }
   ],
   "source": [
    "dataset.loc[(dataset['Vehicle Make']=='DODGE') & (dataset['Vehicle Year'] >= 2000.0)]['Street Name'].value_counts().head(5).plot()"
   ]
  },
  {
   "cell_type": "code",
   "execution_count": 25,
   "id": "46addb9c",
   "metadata": {
    "scrolled": true
   },
   "outputs": [
    {
     "data": {
      "text/html": [
       "<div>\n",
       "<style scoped>\n",
       "    .dataframe tbody tr th:only-of-type {\n",
       "        vertical-align: middle;\n",
       "    }\n",
       "\n",
       "    .dataframe tbody tr th {\n",
       "        vertical-align: top;\n",
       "    }\n",
       "\n",
       "    .dataframe thead th {\n",
       "        text-align: right;\n",
       "    }\n",
       "</style>\n",
       "<table border=\"1\" class=\"dataframe\">\n",
       "  <thead>\n",
       "    <tr style=\"text-align: right;\">\n",
       "      <th></th>\n",
       "      <th>Street Name</th>\n",
       "      <th>House Number</th>\n",
       "      <th>freq</th>\n",
       "    </tr>\n",
       "  </thead>\n",
       "  <tbody>\n",
       "    <tr>\n",
       "      <th>0</th>\n",
       "      <td>3rd Ave</td>\n",
       "      <td>W</td>\n",
       "      <td>161</td>\n",
       "    </tr>\n",
       "    <tr>\n",
       "      <th>970</th>\n",
       "      <td>5th Ave</td>\n",
       "      <td>E</td>\n",
       "      <td>118</td>\n",
       "    </tr>\n",
       "    <tr>\n",
       "      <th>1776</th>\n",
       "      <td>Broadway</td>\n",
       "      <td>W</td>\n",
       "      <td>169</td>\n",
       "    </tr>\n",
       "    <tr>\n",
       "      <th>3100</th>\n",
       "      <td>Lexington Ave</td>\n",
       "      <td>E</td>\n",
       "      <td>62</td>\n",
       "    </tr>\n",
       "    <tr>\n",
       "      <th>3538</th>\n",
       "      <td>Madison Ave</td>\n",
       "      <td>W</td>\n",
       "      <td>142</td>\n",
       "    </tr>\n",
       "  </tbody>\n",
       "</table>\n",
       "</div>"
      ],
      "text/plain": [
       "        Street Name House Number  freq\n",
       "0           3rd Ave            W   161\n",
       "970         5th Ave            E   118\n",
       "1776       Broadway            W   169\n",
       "3100  Lexington Ave            E    62\n",
       "3538    Madison Ave            W   142"
      ]
     },
     "execution_count": 25,
     "metadata": {},
     "output_type": "execute_result"
    }
   ],
   "source": [
    "dataset.loc[dataset['Street Name'].isin(dataset.loc[(dataset['Vehicle Make']=='DODGE') & (dataset['Vehicle Year'] >= 2000.0)]['Street Name'].value_counts().head(5).index) & (dataset['Vehicle Make']=='DODGE') & (dataset['Vehicle Year'] >= 2000.0)].groupby('Street Name')['House Number'].value_counts().rename_axis(['Street Name','House Number']).reset_index(name='freq').drop_duplicates('Street Name')"
   ]
  },
  {
   "cell_type": "markdown",
   "id": "5d516d2f",
   "metadata": {},
   "source": [
    "#### Toyota"
   ]
  },
  {
   "cell_type": "markdown",
   "id": "39f0943c",
   "metadata": {},
   "source": [
    "##### До 2000 года"
   ]
  },
  {
   "cell_type": "code",
   "execution_count": 26,
   "id": "466690db",
   "metadata": {},
   "outputs": [
    {
     "data": {
      "text/plain": [
       "Broadway       989\n",
       "Jamaica Ave    737\n",
       "3rd Ave        627\n",
       "Queens Blvd    564\n",
       "5th Ave        558\n",
       "Name: Street Name, dtype: int64"
      ]
     },
     "execution_count": 26,
     "metadata": {},
     "output_type": "execute_result"
    }
   ],
   "source": [
    "dataset.loc[(dataset['Vehicle Make']=='TOYOT') & (dataset['Vehicle Year'] < 2000.0)]['Street Name'].value_counts().head(5)"
   ]
  },
  {
   "cell_type": "code",
   "execution_count": 27,
   "id": "138e250a",
   "metadata": {},
   "outputs": [
    {
     "data": {
      "text/plain": [
       "<AxesSubplot:>"
      ]
     },
     "execution_count": 27,
     "metadata": {},
     "output_type": "execute_result"
    },
    {
     "data": {
      "image/png": "[encoded data removed]",
      "text/plain": [
       "<Figure size 432x288 with 1 Axes>"
      ]
     },
     "metadata": {
      "needs_background": "light"
     },
     "output_type": "display_data"
    }
   ],
   "source": [
    "dataset.loc[(dataset['Vehicle Make']=='TOYOT') & (dataset['Vehicle Year'] < 2000.0)]['Street Name'].value_counts().head(5).plot()"
   ]
  },
  {
   "cell_type": "code",
   "execution_count": 28,
   "id": "e35edcb6",
   "metadata": {},
   "outputs": [
    {
     "data": {
      "text/html": [
       "<div>\n",
       "<style scoped>\n",
       "    .dataframe tbody tr th:only-of-type {\n",
       "        vertical-align: middle;\n",
       "    }\n",
       "\n",
       "    .dataframe tbody tr th {\n",
       "        vertical-align: top;\n",
       "    }\n",
       "\n",
       "    .dataframe thead th {\n",
       "        text-align: right;\n",
       "    }\n",
       "</style>\n",
       "<table border=\"1\" class=\"dataframe\">\n",
       "  <thead>\n",
       "    <tr style=\"text-align: right;\">\n",
       "      <th></th>\n",
       "      <th>Street Name</th>\n",
       "      <th>House Number</th>\n",
       "      <th>freq</th>\n",
       "    </tr>\n",
       "  </thead>\n",
       "  <tbody>\n",
       "    <tr>\n",
       "      <th>0</th>\n",
       "      <td>3rd Ave</td>\n",
       "      <td>W</td>\n",
       "      <td>31</td>\n",
       "    </tr>\n",
       "    <tr>\n",
       "      <th>397</th>\n",
       "      <td>5th Ave</td>\n",
       "      <td>E</td>\n",
       "      <td>13</td>\n",
       "    </tr>\n",
       "    <tr>\n",
       "      <th>781</th>\n",
       "      <td>Broadway</td>\n",
       "      <td>W</td>\n",
       "      <td>36</td>\n",
       "    </tr>\n",
       "    <tr>\n",
       "      <th>1369</th>\n",
       "      <td>Jamaica Ave</td>\n",
       "      <td>S</td>\n",
       "      <td>18</td>\n",
       "    </tr>\n",
       "    <tr>\n",
       "      <th>1859</th>\n",
       "      <td>Queens Blvd</td>\n",
       "      <td>N</td>\n",
       "      <td>29</td>\n",
       "    </tr>\n",
       "  </tbody>\n",
       "</table>\n",
       "</div>"
      ],
      "text/plain": [
       "      Street Name House Number  freq\n",
       "0         3rd Ave            W    31\n",
       "397       5th Ave            E    13\n",
       "781      Broadway            W    36\n",
       "1369  Jamaica Ave            S    18\n",
       "1859  Queens Blvd            N    29"
      ]
     },
     "execution_count": 28,
     "metadata": {},
     "output_type": "execute_result"
    }
   ],
   "source": [
    "dataset.loc[dataset['Street Name'].isin(dataset.loc[(dataset['Vehicle Make']=='TOYOT') & (dataset['Vehicle Year'] < 2000.0)]['Street Name'].value_counts().head(5).index) & (dataset['Vehicle Make']=='TOYOT') & (dataset['Vehicle Year'] < 2000.0)].groupby('Street Name')['House Number'].value_counts().rename_axis(['Street Name','House Number']).reset_index(name='freq').drop_duplicates('Street Name')"
   ]
  },
  {
   "cell_type": "markdown",
   "id": "b23c1ded",
   "metadata": {},
   "source": [
    "##### После 2000 года"
   ]
  },
  {
   "cell_type": "code",
   "execution_count": 29,
   "id": "c5826b37",
   "metadata": {},
   "outputs": [
    {
     "data": {
      "text/plain": [
       "Broadway                11602\n",
       "3rd Ave                  6399\n",
       "5th Ave                  5907\n",
       "WB FORDHAM RD @ MARI     5490\n",
       "Queens Blvd              4728\n",
       "Name: Street Name, dtype: int64"
      ]
     },
     "execution_count": 29,
     "metadata": {},
     "output_type": "execute_result"
    }
   ],
   "source": [
    "dataset.loc[(dataset['Vehicle Make']=='TOYOT') & (dataset['Vehicle Year'] >= 2000.0)]['Street Name'].value_counts().head(5)"
   ]
  },
  {
   "cell_type": "code",
   "execution_count": 30,
   "id": "ebc12686",
   "metadata": {},
   "outputs": [
    {
     "data": {
      "text/plain": [
       "<AxesSubplot:>"
      ]
     },
     "execution_count": 30,
     "metadata": {},
     "output_type": "execute_result"
    },
    {
     "data": {
      "image/png": "[encoded data removed]",
      "text/plain": [
       "<Figure size 432x288 with 1 Axes>"
      ]
     },
     "metadata": {
      "needs_background": "light"
     },
     "output_type": "display_data"
    }
   ],
   "source": [
    "dataset.loc[(dataset['Vehicle Make']=='TOYOT') & (dataset['Vehicle Year'] >= 2000.0)]['Street Name'].value_counts().head(5).plot()"
   ]
  },
  {
   "cell_type": "code",
   "execution_count": 31,
   "id": "e0254e08",
   "metadata": {},
   "outputs": [
    {
     "data": {
      "text/html": [
       "<div>\n",
       "<style scoped>\n",
       "    .dataframe tbody tr th:only-of-type {\n",
       "        vertical-align: middle;\n",
       "    }\n",
       "\n",
       "    .dataframe tbody tr th {\n",
       "        vertical-align: top;\n",
       "    }\n",
       "\n",
       "    .dataframe thead th {\n",
       "        text-align: right;\n",
       "    }\n",
       "</style>\n",
       "<table border=\"1\" class=\"dataframe\">\n",
       "  <thead>\n",
       "    <tr style=\"text-align: right;\">\n",
       "      <th></th>\n",
       "      <th>Street Name</th>\n",
       "      <th>House Number</th>\n",
       "      <th>freq</th>\n",
       "    </tr>\n",
       "  </thead>\n",
       "  <tbody>\n",
       "    <tr>\n",
       "      <th>0</th>\n",
       "      <td>3rd Ave</td>\n",
       "      <td>W</td>\n",
       "      <td>323</td>\n",
       "    </tr>\n",
       "    <tr>\n",
       "      <th>1351</th>\n",
       "      <td>5th Ave</td>\n",
       "      <td>E</td>\n",
       "      <td>143</td>\n",
       "    </tr>\n",
       "    <tr>\n",
       "      <th>2645</th>\n",
       "      <td>Broadway</td>\n",
       "      <td>W</td>\n",
       "      <td>425</td>\n",
       "    </tr>\n",
       "    <tr>\n",
       "      <th>4627</th>\n",
       "      <td>Queens Blvd</td>\n",
       "      <td>N</td>\n",
       "      <td>248</td>\n",
       "    </tr>\n",
       "  </tbody>\n",
       "</table>\n",
       "</div>"
      ],
      "text/plain": [
       "      Street Name House Number  freq\n",
       "0         3rd Ave            W   323\n",
       "1351      5th Ave            E   143\n",
       "2645     Broadway            W   425\n",
       "4627  Queens Blvd            N   248"
      ]
     },
     "execution_count": 31,
     "metadata": {},
     "output_type": "execute_result"
    }
   ],
   "source": [
    "dataset.loc[dataset['Street Name'].isin(dataset.loc[(dataset['Vehicle Make']=='TOYOT') & (dataset['Vehicle Year'] >= 2000.0)]['Street Name'].value_counts().head(5).index) & (dataset['Vehicle Make']=='TOYOT') & (dataset['Vehicle Year'] >= 2000.0)].groupby('Street Name')['House Number'].value_counts().rename_axis(['Street Name','House Number']).reset_index(name='freq').drop_duplicates('Street Name')"
   ]
  },
  {
   "cell_type": "markdown",
   "id": "5c8ddff0",
   "metadata": {},
   "source": [
    "#### Hyundai"
   ]
  },
  {
   "cell_type": "markdown",
   "id": "f9695ef7",
   "metadata": {},
   "source": [
    "##### До 2000 года"
   ]
  },
  {
   "cell_type": "code",
   "execution_count": 32,
   "id": "ad06e269",
   "metadata": {
    "scrolled": true
   },
   "outputs": [
    {
     "data": {
      "text/plain": [
       "Broadway                16\n",
       "5th Ave                 14\n",
       "E 3rd St                12\n",
       "HORACE HARDING EXPWY    12\n",
       "3rd Ave                 11\n",
       "Name: Street Name, dtype: int64"
      ]
     },
     "execution_count": 32,
     "metadata": {},
     "output_type": "execute_result"
    }
   ],
   "source": [
    "dataset.loc[(dataset['Vehicle Make']=='HYUND') & (dataset['Vehicle Year'] < 2000.0)]['Street Name'].value_counts().head(5)"
   ]
  },
  {
   "cell_type": "code",
   "execution_count": 33,
   "id": "fbe9d8a7",
   "metadata": {},
   "outputs": [
    {
     "data": {
      "text/plain": [
       "<AxesSubplot:>"
      ]
     },
     "execution_count": 33,
     "metadata": {},
     "output_type": "execute_result"
    },
    {
     "data": {
      "image/png": "[encoded data removed]",
      "text/plain": [
       "<Figure size 432x288 with 1 Axes>"
      ]
     },
     "metadata": {
      "needs_background": "light"
     },
     "output_type": "display_data"
    }
   ],
   "source": [
    "dataset.loc[(dataset['Vehicle Make']=='HYUND') & (dataset['Vehicle Year'] < 2000.0)]['Street Name'].value_counts().head(5).plot()"
   ]
  },
  {
   "cell_type": "code",
   "execution_count": 34,
   "id": "cf18ba1d",
   "metadata": {},
   "outputs": [
    {
     "data": {
      "text/html": [
       "<div>\n",
       "<style scoped>\n",
       "    .dataframe tbody tr th:only-of-type {\n",
       "        vertical-align: middle;\n",
       "    }\n",
       "\n",
       "    .dataframe tbody tr th {\n",
       "        vertical-align: top;\n",
       "    }\n",
       "\n",
       "    .dataframe thead th {\n",
       "        text-align: right;\n",
       "    }\n",
       "</style>\n",
       "<table border=\"1\" class=\"dataframe\">\n",
       "  <thead>\n",
       "    <tr style=\"text-align: right;\">\n",
       "      <th></th>\n",
       "      <th>Street Name</th>\n",
       "      <th>House Number</th>\n",
       "      <th>freq</th>\n",
       "    </tr>\n",
       "  </thead>\n",
       "  <tbody>\n",
       "    <tr>\n",
       "      <th>0</th>\n",
       "      <td>3rd Ave</td>\n",
       "      <td>1317</td>\n",
       "      <td>1</td>\n",
       "    </tr>\n",
       "    <tr>\n",
       "      <th>11</th>\n",
       "      <td>5th Ave</td>\n",
       "      <td>E</td>\n",
       "      <td>5</td>\n",
       "    </tr>\n",
       "    <tr>\n",
       "      <th>19</th>\n",
       "      <td>Broadway</td>\n",
       "      <td>E</td>\n",
       "      <td>2</td>\n",
       "    </tr>\n",
       "    <tr>\n",
       "      <th>34</th>\n",
       "      <td>E 3rd St</td>\n",
       "      <td>150</td>\n",
       "      <td>3</td>\n",
       "    </tr>\n",
       "  </tbody>\n",
       "</table>\n",
       "</div>"
      ],
      "text/plain": [
       "   Street Name House Number  freq\n",
       "0      3rd Ave         1317     1\n",
       "11     5th Ave            E     5\n",
       "19    Broadway            E     2\n",
       "34    E 3rd St          150     3"
      ]
     },
     "execution_count": 34,
     "metadata": {},
     "output_type": "execute_result"
    }
   ],
   "source": [
    "dataset.loc[dataset['Street Name'].isin(dataset.loc[(dataset['Vehicle Make']=='HYUND') & (dataset['Vehicle Year'] < 2000.0)]['Street Name'].value_counts().head(5).index) & (dataset['Vehicle Make']=='HYUND') & (dataset['Vehicle Year'] < 2000.0)].groupby('Street Name')['House Number'].value_counts().rename_axis(['Street Name','House Number']).reset_index(name='freq').drop_duplicates('Street Name')"
   ]
  },
  {
   "cell_type": "markdown",
   "id": "35fb96a4",
   "metadata": {},
   "source": [
    "##### После 2000 года"
   ]
  },
  {
   "cell_type": "code",
   "execution_count": 35,
   "id": "5218847e",
   "metadata": {},
   "outputs": [
    {
     "data": {
      "text/plain": [
       "Broadway                1990\n",
       "5th Ave                 1430\n",
       "3rd Ave                 1387\n",
       "Queens Blvd             1282\n",
       "HORACE HARDING EXPWY    1173\n",
       "Name: Street Name, dtype: int64"
      ]
     },
     "execution_count": 35,
     "metadata": {},
     "output_type": "execute_result"
    }
   ],
   "source": [
    "dataset.loc[(dataset['Vehicle Make']=='HYUND') & (dataset['Vehicle Year'] >= 2000.0)]['Street Name'].value_counts().head(5)"
   ]
  },
  {
   "cell_type": "code",
   "execution_count": 36,
   "id": "d615f3ac",
   "metadata": {},
   "outputs": [
    {
     "data": {
      "text/plain": [
       "<AxesSubplot:>"
      ]
     },
     "execution_count": 36,
     "metadata": {},
     "output_type": "execute_result"
    },
    {
     "data": {
      "image/png": "[encoded data removed]",
      "text/plain": [
       "<Figure size 432x288 with 1 Axes>"
      ]
     },
     "metadata": {
      "needs_background": "light"
     },
     "output_type": "display_data"
    }
   ],
   "source": [
    "dataset.loc[(dataset['Vehicle Make']=='HYUND') & (dataset['Vehicle Year'] >= 2000.0)]['Street Name'].value_counts().head(5).plot()"
   ]
  },
  {
   "cell_type": "code",
   "execution_count": 37,
   "id": "e172fdbc",
   "metadata": {
    "scrolled": true
   },
   "outputs": [
    {
     "data": {
      "text/html": [
       "<div>\n",
       "<style scoped>\n",
       "    .dataframe tbody tr th:only-of-type {\n",
       "        vertical-align: middle;\n",
       "    }\n",
       "\n",
       "    .dataframe tbody tr th {\n",
       "        vertical-align: top;\n",
       "    }\n",
       "\n",
       "    .dataframe thead th {\n",
       "        text-align: right;\n",
       "    }\n",
       "</style>\n",
       "<table border=\"1\" class=\"dataframe\">\n",
       "  <thead>\n",
       "    <tr style=\"text-align: right;\">\n",
       "      <th></th>\n",
       "      <th>Street Name</th>\n",
       "      <th>House Number</th>\n",
       "      <th>freq</th>\n",
       "    </tr>\n",
       "  </thead>\n",
       "  <tbody>\n",
       "    <tr>\n",
       "      <th>0</th>\n",
       "      <td>3rd Ave</td>\n",
       "      <td>W</td>\n",
       "      <td>50</td>\n",
       "    </tr>\n",
       "    <tr>\n",
       "      <th>732</th>\n",
       "      <td>5th Ave</td>\n",
       "      <td>E</td>\n",
       "      <td>31</td>\n",
       "    </tr>\n",
       "    <tr>\n",
       "      <th>1384</th>\n",
       "      <td>Broadway</td>\n",
       "      <td>E</td>\n",
       "      <td>94</td>\n",
       "    </tr>\n",
       "    <tr>\n",
       "      <th>2276</th>\n",
       "      <td>HORACE HARDING EXPWY</td>\n",
       "      <td>183-20</td>\n",
       "      <td>1</td>\n",
       "    </tr>\n",
       "    <tr>\n",
       "      <th>2278</th>\n",
       "      <td>Queens Blvd</td>\n",
       "      <td>N</td>\n",
       "      <td>51</td>\n",
       "    </tr>\n",
       "  </tbody>\n",
       "</table>\n",
       "</div>"
      ],
      "text/plain": [
       "               Street Name House Number  freq\n",
       "0                  3rd Ave            W    50\n",
       "732                5th Ave            E    31\n",
       "1384              Broadway            E    94\n",
       "2276  HORACE HARDING EXPWY       183-20     1\n",
       "2278           Queens Blvd            N    51"
      ]
     },
     "execution_count": 37,
     "metadata": {},
     "output_type": "execute_result"
    }
   ],
   "source": [
    "dataset.loc[dataset['Street Name'].isin(dataset.loc[(dataset['Vehicle Make']=='HYUND') & (dataset['Vehicle Year'] >= 2000.0)]['Street Name'].value_counts().head(5).index) & (dataset['Vehicle Make']=='HYUND') & (dataset['Vehicle Year'] >= 2000.0)].groupby('Street Name')['House Number'].value_counts().rename_axis(['Street Name','House Number']).reset_index(name='freq').drop_duplicates('Street Name')"
   ]
  },
  {
   "cell_type": "markdown",
   "id": "172371c0",
   "metadata": {},
   "source": [
    "### Сгруппируем данные по дням и количеству штрафов в этот день"
   ]
  },
  {
   "cell_type": "code",
   "execution_count": 325,
   "id": "50450e64",
   "metadata": {},
   "outputs": [
    {
     "data": {
      "text/plain": [
       "<AxesSubplot:xlabel='Issue Date'>"
      ]
     },
     "execution_count": 325,
     "metadata": {},
     "output_type": "execute_result"
    },
    {
     "data": {
      "image/png": "[encoded data removed]",
      "text/plain": [
       "<Figure size 432x288 with 1 Axes>"
      ]
     },
     "metadata": {
      "needs_background": "light"
     },
     "output_type": "display_data"
    }
   ],
   "source": [
    "finecount_bydate = pd.DataFrame(dataset.reset_index().groupby(['Issue Date'])['Issue Date'].agg('count').groupby(pd.Grouper(freq='M')).agg('sum')).rename(columns={'Issue Date' : 'Fines'})\n",
    "finecount_bydate.plot()"
   ]
  },
  {
   "cell_type": "code",
   "execution_count": 326,
   "id": "edc603bb",
   "metadata": {},
   "outputs": [],
   "source": [
    "finecount_bydate_before2000 = { 'ALL' : pd.DataFrame(dataset.loc[dataset['Vehicle Year'] < 2000.0].reset_index().groupby(['Issue Date'])['Issue Date'].agg('count').groupby(pd.Grouper(freq='M')).agg('sum')).rename(columns={'Issue Date' : 'Fines'}), \n",
    "                                'DODGE' : pd.DataFrame(dataset.loc[(dataset['Vehicle Make']=='DODGE') & (dataset['Vehicle Year'] < 2000.0)].reset_index().groupby(['Issue Date'])['Issue Date'].agg('count').groupby(pd.Grouper(freq='M')).agg('sum')).rename(columns={'Issue Date' : 'Fines'}), \n",
    "                                'TOYOT' : pd.DataFrame(dataset.loc[(dataset['Vehicle Make']=='TOYOT') & (dataset['Vehicle Year'] < 2000.0)].reset_index().groupby(['Issue Date'])['Issue Date'].agg('count').groupby(pd.Grouper(freq='M')).agg('sum')).rename(columns={'Issue Date' : 'Fines'}), \n",
    "                                'HYUND' : pd.DataFrame(dataset.loc[(dataset['Vehicle Make']=='HYUND') & (dataset['Vehicle Year'] < 2000.0)].reset_index().groupby(['Issue Date'])['Issue Date'].agg('count').groupby(pd.Grouper(freq='M')).agg('sum')).rename(columns={'Issue Date' : 'Fines'})} \n",
    "                    \n",
    "finecount_bydate_after2000 = { 'ALL' : pd.DataFrame(dataset.loc[dataset['Vehicle Year'] >= 2000.0].reset_index().groupby(['Issue Date'])['Issue Date'].agg('count').groupby(pd.Grouper(freq='M')).agg('sum')).rename(columns={'Issue Date' : 'Fines'}), \n",
    "                                'DODGE' : pd.DataFrame(dataset.loc[(dataset['Vehicle Make']=='DODGE') & (dataset['Vehicle Year'] >= 2000.0)].reset_index().groupby(['Issue Date'])['Issue Date'].agg('count').groupby(pd.Grouper(freq='M')).agg('sum')).rename(columns={'Issue Date' : 'Fines'}), \n",
    "                                'TOYOT' : pd.DataFrame(dataset.loc[(dataset['Vehicle Make']=='TOYOT') & (dataset['Vehicle Year'] >= 2000.0)].reset_index().groupby(['Issue Date'])['Issue Date'].agg('count').groupby(pd.Grouper(freq='M')).agg('sum')).rename(columns={'Issue Date' : 'Fines'}), \n",
    "                                'HYUND' : pd.DataFrame(dataset.loc[(dataset['Vehicle Make']=='HYUND') & (dataset['Vehicle Year'] >= 2000.0)].reset_index().groupby(['Issue Date'])['Issue Date'].agg('count').groupby(pd.Grouper(freq='M')).agg('sum')).rename(columns={'Issue Date' : 'Fines'})} "
   ]
  },
  {
   "cell_type": "markdown",
   "id": "bc00af6f",
   "metadata": {},
   "source": [
    "Рассмотрим штрафы машин выпещенных до 2000 года."
   ]
  },
  {
   "cell_type": "code",
   "execution_count": 327,
   "id": "f0d538c0",
   "metadata": {},
   "outputs": [
    {
     "data": {
      "image/png": "[encoded data removed]",
      "text/plain": [
       "<Figure size 432x288 with 1 Axes>"
      ]
     },
     "metadata": {
      "needs_background": "light"
     },
     "output_type": "display_data"
    }
   ],
   "source": [
    "fig, ax = plt.subplots()\n",
    "finecount_bydate_before2000['ALL'].plot(legend=True, ax=ax)\n",
    "finecount_bydate_before2000['DODGE'].plot(legend=True, ax=ax)\n",
    "finecount_bydate_before2000['TOYOT'].plot(legend=True, ax=ax)\n",
    "finecount_bydate_before2000['HYUND'].plot(legend=True, ax=ax)\n",
    "plt.legend(['ALL', 'DODGE', 'TOYOT', 'HYUND']);"
   ]
  },
  {
   "cell_type": "markdown",
   "id": "8375dce9",
   "metadata": {},
   "source": [
    "Как видно на графике, больше всего штрафов получают машины марки \"Toyota\", затем идут \"Dodge, ну и последними, практически с нулем штрафов идут машины марки \"Hyundai\"."
   ]
  },
  {
   "cell_type": "markdown",
   "id": "1a94d60c",
   "metadata": {},
   "source": [
    "Рассмотрим штрафы машин выпещенных после 2000 года."
   ]
  },
  {
   "cell_type": "code",
   "execution_count": 328,
   "id": "fad67b45",
   "metadata": {},
   "outputs": [
    {
     "data": {
      "image/png": "[encoded data removed]",
      "text/plain": [
       "<Figure size 432x288 with 1 Axes>"
      ]
     },
     "metadata": {
      "needs_background": "light"
     },
     "output_type": "display_data"
    }
   ],
   "source": [
    "fig, ax = plt.subplots()\n",
    "finecount_bydate_after2000['ALL'].plot(legend=True, ax=ax)\n",
    "finecount_bydate_after2000['DODGE'].plot(legend=True, ax=ax)\n",
    "finecount_bydate_after2000['TOYOT'].plot(legend=True, ax=ax)\n",
    "finecount_bydate_after2000['HYUND'].plot(legend=True, ax=ax)\n",
    "plt.legend(['ALL', 'DODGE', 'TOYOT', 'HYUND']);"
   ]
  },
  {
   "cell_type": "markdown",
   "id": "c3ca11a4",
   "metadata": {},
   "source": [
    "Здесь ситуация не сильно изменилась, единственное: машины марки \"Hyundai\" получили гораздно больше штрафов, практически столько же, сколько и машины марки \"Dodge\"."
   ]
  },
  {
   "cell_type": "code",
   "execution_count": 329,
   "id": "5e23e9a1",
   "metadata": {},
   "outputs": [],
   "source": [
    "#Ho: It is non stationary\n",
    "#H1: It is stationary\n",
    "\n",
    "def adfuller_test(sales):\n",
    "    result=adfuller(sales)\n",
    "    labels = ['ADF Test Statistic','p-value','#Lags Used','Number of Observations Used']\n",
    "    for value,label in zip(result,labels):\n",
    "        print(label+' : '+str(value) )\n",
    "    if result[1] <= 0.05:\n",
    "        print(\"strong evidence against the null hypothesis(Ho), reject the null hypothesis. Data has no unit root and is stationary\")\n",
    "    else:\n",
    "        print(\"weak evidence against null hypothesis, time series has a unit root, indicating it is non-stationary \")"
   ]
  },
  {
   "cell_type": "markdown",
   "id": "b78b9daa",
   "metadata": {},
   "source": [
    "### Дифференциация"
   ]
  },
  {
   "cell_type": "code",
   "execution_count": 330,
   "id": "27ce9851",
   "metadata": {
    "scrolled": false
   },
   "outputs": [
    {
     "name": "stdout",
     "output_type": "stream",
     "text": [
      "ADF Test Statistic : -1.8661294870672636\n",
      "p-value : 0.34815871150642486\n",
      "#Lags Used : 9\n",
      "Number of Observations Used : 14\n",
      "weak evidence against null hypothesis, time series has a unit root, indicating it is non-stationary \n"
     ]
    }
   ],
   "source": [
    "adfuller_test(finecount_bydate['Fines'])"
   ]
  },
  {
   "cell_type": "markdown",
   "id": "d8f9ad6c",
   "metadata": {},
   "source": [
    "Посмотрим как меняется количество штрафов каждый месяц"
   ]
  },
  {
   "cell_type": "code",
   "execution_count": 332,
   "id": "b247c891",
   "metadata": {},
   "outputs": [
    {
     "data": {
      "text/html": [
       "<div>\n",
       "<style scoped>\n",
       "    .dataframe tbody tr th:only-of-type {\n",
       "        vertical-align: middle;\n",
       "    }\n",
       "\n",
       "    .dataframe tbody tr th {\n",
       "        vertical-align: top;\n",
       "    }\n",
       "\n",
       "    .dataframe thead th {\n",
       "        text-align: right;\n",
       "    }\n",
       "</style>\n",
       "<table border=\"1\" class=\"dataframe\">\n",
       "  <thead>\n",
       "    <tr style=\"text-align: right;\">\n",
       "      <th></th>\n",
       "      <th>Fines</th>\n",
       "      <th>Fines First Difference</th>\n",
       "    </tr>\n",
       "    <tr>\n",
       "      <th>Issue Date</th>\n",
       "      <th></th>\n",
       "      <th></th>\n",
       "    </tr>\n",
       "  </thead>\n",
       "  <tbody>\n",
       "    <tr>\n",
       "      <th>2013-01-31</th>\n",
       "      <td>146</td>\n",
       "      <td>NaN</td>\n",
       "    </tr>\n",
       "    <tr>\n",
       "      <th>2013-02-28</th>\n",
       "      <td>30</td>\n",
       "      <td>-116.0</td>\n",
       "    </tr>\n",
       "    <tr>\n",
       "      <th>2013-03-31</th>\n",
       "      <td>52</td>\n",
       "      <td>22.0</td>\n",
       "    </tr>\n",
       "    <tr>\n",
       "      <th>2013-04-30</th>\n",
       "      <td>79</td>\n",
       "      <td>27.0</td>\n",
       "    </tr>\n",
       "    <tr>\n",
       "      <th>2013-05-31</th>\n",
       "      <td>23</td>\n",
       "      <td>-56.0</td>\n",
       "    </tr>\n",
       "  </tbody>\n",
       "</table>\n",
       "</div>"
      ],
      "text/plain": [
       "            Fines  Fines First Difference\n",
       "Issue Date                               \n",
       "2013-01-31    146                     NaN\n",
       "2013-02-28     30                  -116.0\n",
       "2013-03-31     52                    22.0\n",
       "2013-04-30     79                    27.0\n",
       "2013-05-31     23                   -56.0"
      ]
     },
     "execution_count": 332,
     "metadata": {},
     "output_type": "execute_result"
    }
   ],
   "source": [
    "finecount_bydate['Fines First Difference'] = finecount_bydate['Fines'] - finecount_bydate['Fines'].shift(1)\n",
    "finecount_bydate.head()"
   ]
  },
  {
   "cell_type": "markdown",
   "id": "d030d16d",
   "metadata": {},
   "source": [
    "Посмотрим как меняется количество штрафов каждый год"
   ]
  },
  {
   "cell_type": "code",
   "execution_count": 335,
   "id": "79c21925",
   "metadata": {},
   "outputs": [
    {
     "data": {
      "text/html": [
       "<div>\n",
       "<style scoped>\n",
       "    .dataframe tbody tr th:only-of-type {\n",
       "        vertical-align: middle;\n",
       "    }\n",
       "\n",
       "    .dataframe tbody tr th {\n",
       "        vertical-align: top;\n",
       "    }\n",
       "\n",
       "    .dataframe thead th {\n",
       "        text-align: right;\n",
       "    }\n",
       "</style>\n",
       "<table border=\"1\" class=\"dataframe\">\n",
       "  <thead>\n",
       "    <tr style=\"text-align: right;\">\n",
       "      <th></th>\n",
       "      <th>Fines</th>\n",
       "      <th>Fines First Difference</th>\n",
       "      <th>Seasonal First Difference</th>\n",
       "    </tr>\n",
       "    <tr>\n",
       "      <th>Issue Date</th>\n",
       "      <th></th>\n",
       "      <th></th>\n",
       "      <th></th>\n",
       "    </tr>\n",
       "  </thead>\n",
       "  <tbody>\n",
       "    <tr>\n",
       "      <th>2013-01-31</th>\n",
       "      <td>146</td>\n",
       "      <td>NaN</td>\n",
       "      <td>NaN</td>\n",
       "    </tr>\n",
       "    <tr>\n",
       "      <th>2013-02-28</th>\n",
       "      <td>30</td>\n",
       "      <td>-116.0</td>\n",
       "      <td>NaN</td>\n",
       "    </tr>\n",
       "    <tr>\n",
       "      <th>2013-03-31</th>\n",
       "      <td>52</td>\n",
       "      <td>22.0</td>\n",
       "      <td>NaN</td>\n",
       "    </tr>\n",
       "    <tr>\n",
       "      <th>2013-04-30</th>\n",
       "      <td>79</td>\n",
       "      <td>27.0</td>\n",
       "      <td>NaN</td>\n",
       "    </tr>\n",
       "    <tr>\n",
       "      <th>2013-05-31</th>\n",
       "      <td>23</td>\n",
       "      <td>-56.0</td>\n",
       "      <td>NaN</td>\n",
       "    </tr>\n",
       "    <tr>\n",
       "      <th>2013-06-30</th>\n",
       "      <td>315</td>\n",
       "      <td>292.0</td>\n",
       "      <td>NaN</td>\n",
       "    </tr>\n",
       "    <tr>\n",
       "      <th>2013-07-31</th>\n",
       "      <td>20471</td>\n",
       "      <td>20156.0</td>\n",
       "      <td>NaN</td>\n",
       "    </tr>\n",
       "    <tr>\n",
       "      <th>2013-08-31</th>\n",
       "      <td>97285</td>\n",
       "      <td>76814.0</td>\n",
       "      <td>NaN</td>\n",
       "    </tr>\n",
       "    <tr>\n",
       "      <th>2013-09-30</th>\n",
       "      <td>94944</td>\n",
       "      <td>-2341.0</td>\n",
       "      <td>NaN</td>\n",
       "    </tr>\n",
       "    <tr>\n",
       "      <th>2013-10-31</th>\n",
       "      <td>110638</td>\n",
       "      <td>15694.0</td>\n",
       "      <td>NaN</td>\n",
       "    </tr>\n",
       "    <tr>\n",
       "      <th>2013-11-30</th>\n",
       "      <td>99849</td>\n",
       "      <td>-10789.0</td>\n",
       "      <td>NaN</td>\n",
       "    </tr>\n",
       "    <tr>\n",
       "      <th>2013-12-31</th>\n",
       "      <td>88303</td>\n",
       "      <td>-11546.0</td>\n",
       "      <td>NaN</td>\n",
       "    </tr>\n",
       "    <tr>\n",
       "      <th>2014-01-31</th>\n",
       "      <td>86479</td>\n",
       "      <td>-1824.0</td>\n",
       "      <td>86333.0</td>\n",
       "    </tr>\n",
       "    <tr>\n",
       "      <th>2014-02-28</th>\n",
       "      <td>77859</td>\n",
       "      <td>-8620.0</td>\n",
       "      <td>77829.0</td>\n",
       "    </tr>\n",
       "    <tr>\n",
       "      <th>2014-03-31</th>\n",
       "      <td>108858</td>\n",
       "      <td>30999.0</td>\n",
       "      <td>108806.0</td>\n",
       "    </tr>\n",
       "    <tr>\n",
       "      <th>2014-04-30</th>\n",
       "      <td>98156</td>\n",
       "      <td>-10702.0</td>\n",
       "      <td>98077.0</td>\n",
       "    </tr>\n",
       "    <tr>\n",
       "      <th>2014-05-31</th>\n",
       "      <td>104058</td>\n",
       "      <td>5902.0</td>\n",
       "      <td>104035.0</td>\n",
       "    </tr>\n",
       "    <tr>\n",
       "      <th>2014-06-30</th>\n",
       "      <td>78953</td>\n",
       "      <td>-25105.0</td>\n",
       "      <td>78638.0</td>\n",
       "    </tr>\n",
       "    <tr>\n",
       "      <th>2014-07-31</th>\n",
       "      <td>16</td>\n",
       "      <td>-78937.0</td>\n",
       "      <td>-20455.0</td>\n",
       "    </tr>\n",
       "    <tr>\n",
       "      <th>2014-08-31</th>\n",
       "      <td>34</td>\n",
       "      <td>18.0</td>\n",
       "      <td>-97251.0</td>\n",
       "    </tr>\n",
       "  </tbody>\n",
       "</table>\n",
       "</div>"
      ],
      "text/plain": [
       "             Fines  Fines First Difference  Seasonal First Difference\n",
       "Issue Date                                                           \n",
       "2013-01-31     146                     NaN                        NaN\n",
       "2013-02-28      30                  -116.0                        NaN\n",
       "2013-03-31      52                    22.0                        NaN\n",
       "2013-04-30      79                    27.0                        NaN\n",
       "2013-05-31      23                   -56.0                        NaN\n",
       "2013-06-30     315                   292.0                        NaN\n",
       "2013-07-31   20471                 20156.0                        NaN\n",
       "2013-08-31   97285                 76814.0                        NaN\n",
       "2013-09-30   94944                 -2341.0                        NaN\n",
       "2013-10-31  110638                 15694.0                        NaN\n",
       "2013-11-30   99849                -10789.0                        NaN\n",
       "2013-12-31   88303                -11546.0                        NaN\n",
       "2014-01-31   86479                 -1824.0                    86333.0\n",
       "2014-02-28   77859                 -8620.0                    77829.0\n",
       "2014-03-31  108858                 30999.0                   108806.0\n",
       "2014-04-30   98156                -10702.0                    98077.0\n",
       "2014-05-31  104058                  5902.0                   104035.0\n",
       "2014-06-30   78953                -25105.0                    78638.0\n",
       "2014-07-31      16                -78937.0                   -20455.0\n",
       "2014-08-31      34                    18.0                   -97251.0"
      ]
     },
     "execution_count": 335,
     "metadata": {},
     "output_type": "execute_result"
    }
   ],
   "source": [
    "finecount_bydate['Seasonal First Difference']=finecount_bydate['Fines']-finecount_bydate['Fines'].shift(12)\n",
    "finecount_bydate.head(20)"
   ]
  },
  {
   "cell_type": "code",
   "execution_count": 336,
   "id": "b7079510",
   "metadata": {},
   "outputs": [
    {
     "name": "stdout",
     "output_type": "stream",
     "text": [
      "ADF Test Statistic : 0.2327911176361024\n",
      "p-value : 0.9740419290505016\n",
      "#Lags Used : 4\n",
      "Number of Observations Used : 7\n",
      "weak evidence against null hypothesis, time series has a unit root, indicating it is non-stationary \n"
     ]
    }
   ],
   "source": [
    "adfuller_test(finecount_bydate['Seasonal First Difference'].dropna())"
   ]
  },
  {
   "cell_type": "code",
   "execution_count": 337,
   "id": "a61decae",
   "metadata": {},
   "outputs": [
    {
     "data": {
      "text/plain": [
       "<AxesSubplot:xlabel='Issue Date'>"
      ]
     },
     "execution_count": 337,
     "metadata": {},
     "output_type": "execute_result"
    },
    {
     "data": {
      "image/png": "[encoded data removed]",
      "text/plain": [
       "<Figure size 432x288 with 1 Axes>"
      ]
     },
     "metadata": {
      "needs_background": "light"
     },
     "output_type": "display_data"
    }
   ],
   "source": [
    "finecount_bydate['Seasonal First Difference'].plot()"
   ]
  },
  {
   "cell_type": "markdown",
   "id": "bb2268af",
   "metadata": {},
   "source": [
    "#### Посмотрим как меняется количество штрафов каждый год для разных марок машин"
   ]
  },
  {
   "cell_type": "markdown",
   "id": "7120e3b9",
   "metadata": {},
   "source": [
    "##### До 2000 года"
   ]
  },
  {
   "cell_type": "markdown",
   "id": "30f88efa",
   "metadata": {},
   "source": [
    "###### Dodge"
   ]
  },
  {
   "cell_type": "code",
   "execution_count": 338,
   "id": "f1a18886",
   "metadata": {},
   "outputs": [
    {
     "name": "stdout",
     "output_type": "stream",
     "text": [
      "ADF Test Statistic : -1.6260738138629365\n",
      "p-value : 0.46954649539680676\n",
      "#Lags Used : 9\n",
      "Number of Observations Used : 13\n",
      "weak evidence against null hypothesis, time series has a unit root, indicating it is non-stationary \n"
     ]
    }
   ],
   "source": [
    "adfuller_test(finecount_bydate_before2000['DODGE']['Fines'])"
   ]
  },
  {
   "cell_type": "code",
   "execution_count": 341,
   "id": "5f3339f7",
   "metadata": {},
   "outputs": [
    {
     "data": {
      "text/html": [
       "<div>\n",
       "<style scoped>\n",
       "    .dataframe tbody tr th:only-of-type {\n",
       "        vertical-align: middle;\n",
       "    }\n",
       "\n",
       "    .dataframe tbody tr th {\n",
       "        vertical-align: top;\n",
       "    }\n",
       "\n",
       "    .dataframe thead th {\n",
       "        text-align: right;\n",
       "    }\n",
       "</style>\n",
       "<table border=\"1\" class=\"dataframe\">\n",
       "  <thead>\n",
       "    <tr style=\"text-align: right;\">\n",
       "      <th></th>\n",
       "      <th>Fines</th>\n",
       "      <th>Fines First Difference</th>\n",
       "    </tr>\n",
       "    <tr>\n",
       "      <th>Issue Date</th>\n",
       "      <th></th>\n",
       "      <th></th>\n",
       "    </tr>\n",
       "  </thead>\n",
       "  <tbody>\n",
       "    <tr>\n",
       "      <th>2013-01-31</th>\n",
       "      <td>4</td>\n",
       "      <td>NaN</td>\n",
       "    </tr>\n",
       "    <tr>\n",
       "      <th>2013-02-28</th>\n",
       "      <td>1</td>\n",
       "      <td>-3.0</td>\n",
       "    </tr>\n",
       "    <tr>\n",
       "      <th>2013-03-31</th>\n",
       "      <td>1</td>\n",
       "      <td>0.0</td>\n",
       "    </tr>\n",
       "    <tr>\n",
       "      <th>2013-04-30</th>\n",
       "      <td>3</td>\n",
       "      <td>2.0</td>\n",
       "    </tr>\n",
       "    <tr>\n",
       "      <th>2013-05-31</th>\n",
       "      <td>0</td>\n",
       "      <td>-3.0</td>\n",
       "    </tr>\n",
       "  </tbody>\n",
       "</table>\n",
       "</div>"
      ],
      "text/plain": [
       "            Fines  Fines First Difference\n",
       "Issue Date                               \n",
       "2013-01-31      4                     NaN\n",
       "2013-02-28      1                    -3.0\n",
       "2013-03-31      1                     0.0\n",
       "2013-04-30      3                     2.0\n",
       "2013-05-31      0                    -3.0"
      ]
     },
     "execution_count": 341,
     "metadata": {},
     "output_type": "execute_result"
    }
   ],
   "source": [
    "finecount_bydate_before2000['DODGE']['Fines First Difference'] = finecount_bydate_before2000['DODGE']['Fines'] - finecount_bydate_before2000['DODGE']['Fines'].shift(1)\n",
    "finecount_bydate_before2000['DODGE'].head()"
   ]
  },
  {
   "cell_type": "code",
   "execution_count": 343,
   "id": "e3004f59",
   "metadata": {},
   "outputs": [
    {
     "data": {
      "text/html": [
       "<div>\n",
       "<style scoped>\n",
       "    .dataframe tbody tr th:only-of-type {\n",
       "        vertical-align: middle;\n",
       "    }\n",
       "\n",
       "    .dataframe tbody tr th {\n",
       "        vertical-align: top;\n",
       "    }\n",
       "\n",
       "    .dataframe thead th {\n",
       "        text-align: right;\n",
       "    }\n",
       "</style>\n",
       "<table border=\"1\" class=\"dataframe\">\n",
       "  <thead>\n",
       "    <tr style=\"text-align: right;\">\n",
       "      <th></th>\n",
       "      <th>Fines</th>\n",
       "      <th>Fines First Difference</th>\n",
       "      <th>Seasonal First Difference</th>\n",
       "    </tr>\n",
       "    <tr>\n",
       "      <th>Issue Date</th>\n",
       "      <th></th>\n",
       "      <th></th>\n",
       "      <th></th>\n",
       "    </tr>\n",
       "  </thead>\n",
       "  <tbody>\n",
       "    <tr>\n",
       "      <th>2013-01-31</th>\n",
       "      <td>4</td>\n",
       "      <td>NaN</td>\n",
       "      <td>NaN</td>\n",
       "    </tr>\n",
       "    <tr>\n",
       "      <th>2013-02-28</th>\n",
       "      <td>1</td>\n",
       "      <td>-3.0</td>\n",
       "      <td>NaN</td>\n",
       "    </tr>\n",
       "    <tr>\n",
       "      <th>2013-03-31</th>\n",
       "      <td>1</td>\n",
       "      <td>0.0</td>\n",
       "      <td>NaN</td>\n",
       "    </tr>\n",
       "    <tr>\n",
       "      <th>2013-04-30</th>\n",
       "      <td>3</td>\n",
       "      <td>2.0</td>\n",
       "      <td>NaN</td>\n",
       "    </tr>\n",
       "    <tr>\n",
       "      <th>2013-05-31</th>\n",
       "      <td>0</td>\n",
       "      <td>-3.0</td>\n",
       "      <td>NaN</td>\n",
       "    </tr>\n",
       "    <tr>\n",
       "      <th>2013-06-30</th>\n",
       "      <td>9</td>\n",
       "      <td>9.0</td>\n",
       "      <td>NaN</td>\n",
       "    </tr>\n",
       "    <tr>\n",
       "      <th>2013-07-31</th>\n",
       "      <td>553</td>\n",
       "      <td>544.0</td>\n",
       "      <td>NaN</td>\n",
       "    </tr>\n",
       "    <tr>\n",
       "      <th>2013-08-31</th>\n",
       "      <td>2549</td>\n",
       "      <td>1996.0</td>\n",
       "      <td>NaN</td>\n",
       "    </tr>\n",
       "    <tr>\n",
       "      <th>2013-09-30</th>\n",
       "      <td>2491</td>\n",
       "      <td>-58.0</td>\n",
       "      <td>NaN</td>\n",
       "    </tr>\n",
       "    <tr>\n",
       "      <th>2013-10-31</th>\n",
       "      <td>2650</td>\n",
       "      <td>159.0</td>\n",
       "      <td>NaN</td>\n",
       "    </tr>\n",
       "    <tr>\n",
       "      <th>2013-11-30</th>\n",
       "      <td>2309</td>\n",
       "      <td>-341.0</td>\n",
       "      <td>NaN</td>\n",
       "    </tr>\n",
       "    <tr>\n",
       "      <th>2013-12-31</th>\n",
       "      <td>2005</td>\n",
       "      <td>-304.0</td>\n",
       "      <td>NaN</td>\n",
       "    </tr>\n",
       "    <tr>\n",
       "      <th>2014-01-31</th>\n",
       "      <td>1909</td>\n",
       "      <td>-96.0</td>\n",
       "      <td>1905.0</td>\n",
       "    </tr>\n",
       "    <tr>\n",
       "      <th>2014-02-28</th>\n",
       "      <td>1552</td>\n",
       "      <td>-357.0</td>\n",
       "      <td>1551.0</td>\n",
       "    </tr>\n",
       "    <tr>\n",
       "      <th>2014-03-31</th>\n",
       "      <td>2220</td>\n",
       "      <td>668.0</td>\n",
       "      <td>2219.0</td>\n",
       "    </tr>\n",
       "    <tr>\n",
       "      <th>2014-04-30</th>\n",
       "      <td>2066</td>\n",
       "      <td>-154.0</td>\n",
       "      <td>2063.0</td>\n",
       "    </tr>\n",
       "    <tr>\n",
       "      <th>2014-05-31</th>\n",
       "      <td>2045</td>\n",
       "      <td>-21.0</td>\n",
       "      <td>2045.0</td>\n",
       "    </tr>\n",
       "    <tr>\n",
       "      <th>2014-06-30</th>\n",
       "      <td>1408</td>\n",
       "      <td>-637.0</td>\n",
       "      <td>1399.0</td>\n",
       "    </tr>\n",
       "    <tr>\n",
       "      <th>2014-07-31</th>\n",
       "      <td>1</td>\n",
       "      <td>-1407.0</td>\n",
       "      <td>-552.0</td>\n",
       "    </tr>\n",
       "    <tr>\n",
       "      <th>2014-08-31</th>\n",
       "      <td>0</td>\n",
       "      <td>-1.0</td>\n",
       "      <td>-2549.0</td>\n",
       "    </tr>\n",
       "  </tbody>\n",
       "</table>\n",
       "</div>"
      ],
      "text/plain": [
       "            Fines  Fines First Difference  Seasonal First Difference\n",
       "Issue Date                                                          \n",
       "2013-01-31      4                     NaN                        NaN\n",
       "2013-02-28      1                    -3.0                        NaN\n",
       "2013-03-31      1                     0.0                        NaN\n",
       "2013-04-30      3                     2.0                        NaN\n",
       "2013-05-31      0                    -3.0                        NaN\n",
       "2013-06-30      9                     9.0                        NaN\n",
       "2013-07-31    553                   544.0                        NaN\n",
       "2013-08-31   2549                  1996.0                        NaN\n",
       "2013-09-30   2491                   -58.0                        NaN\n",
       "2013-10-31   2650                   159.0                        NaN\n",
       "2013-11-30   2309                  -341.0                        NaN\n",
       "2013-12-31   2005                  -304.0                        NaN\n",
       "2014-01-31   1909                   -96.0                     1905.0\n",
       "2014-02-28   1552                  -357.0                     1551.0\n",
       "2014-03-31   2220                   668.0                     2219.0\n",
       "2014-04-30   2066                  -154.0                     2063.0\n",
       "2014-05-31   2045                   -21.0                     2045.0\n",
       "2014-06-30   1408                  -637.0                     1399.0\n",
       "2014-07-31      1                 -1407.0                     -552.0\n",
       "2014-08-31      0                    -1.0                    -2549.0"
      ]
     },
     "execution_count": 343,
     "metadata": {},
     "output_type": "execute_result"
    }
   ],
   "source": [
    "finecount_bydate_before2000['DODGE']['Seasonal First Difference']=finecount_bydate_before2000['DODGE']['Fines']-finecount_bydate_before2000['DODGE']['Fines'].shift(12)\n",
    "finecount_bydate_before2000['DODGE'].head(20)"
   ]
  },
  {
   "cell_type": "code",
   "execution_count": 344,
   "id": "25ac7bf0",
   "metadata": {},
   "outputs": [
    {
     "name": "stdout",
     "output_type": "stream",
     "text": [
      "ADF Test Statistic : -1.0175277030046914\n",
      "p-value : 0.7468179148196714\n",
      "#Lags Used : 1\n",
      "Number of Observations Used : 9\n",
      "weak evidence against null hypothesis, time series has a unit root, indicating it is non-stationary \n"
     ]
    }
   ],
   "source": [
    "adfuller_test(finecount_bydate_before2000['DODGE']['Seasonal First Difference'].dropna())"
   ]
  },
  {
   "cell_type": "code",
   "execution_count": 345,
   "id": "ad34667a",
   "metadata": {},
   "outputs": [
    {
     "data": {
      "text/plain": [
       "<AxesSubplot:xlabel='Issue Date'>"
      ]
     },
     "execution_count": 345,
     "metadata": {},
     "output_type": "execute_result"
    },
    {
     "data": {
      "image/png": "[encoded data removed]",
      "text/plain": [
       "<Figure size 432x288 with 1 Axes>"
      ]
     },
     "metadata": {
      "needs_background": "light"
     },
     "output_type": "display_data"
    }
   ],
   "source": [
    "finecount_bydate_before2000['DODGE']['Seasonal First Difference'].plot()"
   ]
  },
  {
   "cell_type": "markdown",
   "id": "481629c4",
   "metadata": {},
   "source": [
    "###### Toyota"
   ]
  },
  {
   "cell_type": "code",
   "execution_count": 346,
   "id": "41a62349",
   "metadata": {},
   "outputs": [
    {
     "name": "stdout",
     "output_type": "stream",
     "text": [
      "ADF Test Statistic : -2.022623252878811\n",
      "p-value : 0.2767425241024694\n",
      "#Lags Used : 9\n",
      "Number of Observations Used : 14\n",
      "weak evidence against null hypothesis, time series has a unit root, indicating it is non-stationary \n"
     ]
    }
   ],
   "source": [
    "adfuller_test(finecount_bydate_before2000['TOYOT']['Fines'])"
   ]
  },
  {
   "cell_type": "code",
   "execution_count": 348,
   "id": "3b96612e",
   "metadata": {},
   "outputs": [
    {
     "data": {
      "text/html": [
       "<div>\n",
       "<style scoped>\n",
       "    .dataframe tbody tr th:only-of-type {\n",
       "        vertical-align: middle;\n",
       "    }\n",
       "\n",
       "    .dataframe tbody tr th {\n",
       "        vertical-align: top;\n",
       "    }\n",
       "\n",
       "    .dataframe thead th {\n",
       "        text-align: right;\n",
       "    }\n",
       "</style>\n",
       "<table border=\"1\" class=\"dataframe\">\n",
       "  <thead>\n",
       "    <tr style=\"text-align: right;\">\n",
       "      <th></th>\n",
       "      <th>Fines</th>\n",
       "      <th>Fines First Difference</th>\n",
       "    </tr>\n",
       "    <tr>\n",
       "      <th>Issue Date</th>\n",
       "      <th></th>\n",
       "      <th></th>\n",
       "    </tr>\n",
       "  </thead>\n",
       "  <tbody>\n",
       "    <tr>\n",
       "      <th>2013-01-31</th>\n",
       "      <td>14</td>\n",
       "      <td>NaN</td>\n",
       "    </tr>\n",
       "    <tr>\n",
       "      <th>2013-02-28</th>\n",
       "      <td>3</td>\n",
       "      <td>-11.0</td>\n",
       "    </tr>\n",
       "    <tr>\n",
       "      <th>2013-03-31</th>\n",
       "      <td>1</td>\n",
       "      <td>-2.0</td>\n",
       "    </tr>\n",
       "    <tr>\n",
       "      <th>2013-04-30</th>\n",
       "      <td>6</td>\n",
       "      <td>5.0</td>\n",
       "    </tr>\n",
       "    <tr>\n",
       "      <th>2013-05-31</th>\n",
       "      <td>2</td>\n",
       "      <td>-4.0</td>\n",
       "    </tr>\n",
       "  </tbody>\n",
       "</table>\n",
       "</div>"
      ],
      "text/plain": [
       "            Fines  Fines First Difference\n",
       "Issue Date                               \n",
       "2013-01-31     14                     NaN\n",
       "2013-02-28      3                   -11.0\n",
       "2013-03-31      1                    -2.0\n",
       "2013-04-30      6                     5.0\n",
       "2013-05-31      2                    -4.0"
      ]
     },
     "execution_count": 348,
     "metadata": {},
     "output_type": "execute_result"
    }
   ],
   "source": [
    "finecount_bydate_before2000['TOYOT']['Fines First Difference'] = finecount_bydate_before2000['TOYOT']['Fines'] - finecount_bydate_before2000['TOYOT']['Fines'].shift(1)\n",
    "finecount_bydate_before2000['TOYOT'].head()"
   ]
  },
  {
   "cell_type": "code",
   "execution_count": 349,
   "id": "ad81e366",
   "metadata": {},
   "outputs": [
    {
     "data": {
      "text/html": [
       "<div>\n",
       "<style scoped>\n",
       "    .dataframe tbody tr th:only-of-type {\n",
       "        vertical-align: middle;\n",
       "    }\n",
       "\n",
       "    .dataframe tbody tr th {\n",
       "        vertical-align: top;\n",
       "    }\n",
       "\n",
       "    .dataframe thead th {\n",
       "        text-align: right;\n",
       "    }\n",
       "</style>\n",
       "<table border=\"1\" class=\"dataframe\">\n",
       "  <thead>\n",
       "    <tr style=\"text-align: right;\">\n",
       "      <th></th>\n",
       "      <th>Fines</th>\n",
       "      <th>Fines First Difference</th>\n",
       "      <th>Seasonal First Difference</th>\n",
       "    </tr>\n",
       "    <tr>\n",
       "      <th>Issue Date</th>\n",
       "      <th></th>\n",
       "      <th></th>\n",
       "      <th></th>\n",
       "    </tr>\n",
       "  </thead>\n",
       "  <tbody>\n",
       "    <tr>\n",
       "      <th>2013-01-31</th>\n",
       "      <td>14</td>\n",
       "      <td>NaN</td>\n",
       "      <td>NaN</td>\n",
       "    </tr>\n",
       "    <tr>\n",
       "      <th>2013-02-28</th>\n",
       "      <td>3</td>\n",
       "      <td>-11.0</td>\n",
       "      <td>NaN</td>\n",
       "    </tr>\n",
       "    <tr>\n",
       "      <th>2013-03-31</th>\n",
       "      <td>1</td>\n",
       "      <td>-2.0</td>\n",
       "      <td>NaN</td>\n",
       "    </tr>\n",
       "    <tr>\n",
       "      <th>2013-04-30</th>\n",
       "      <td>6</td>\n",
       "      <td>5.0</td>\n",
       "      <td>NaN</td>\n",
       "    </tr>\n",
       "    <tr>\n",
       "      <th>2013-05-31</th>\n",
       "      <td>2</td>\n",
       "      <td>-4.0</td>\n",
       "      <td>NaN</td>\n",
       "    </tr>\n",
       "    <tr>\n",
       "      <th>2013-06-30</th>\n",
       "      <td>15</td>\n",
       "      <td>13.0</td>\n",
       "      <td>NaN</td>\n",
       "    </tr>\n",
       "    <tr>\n",
       "      <th>2013-07-31</th>\n",
       "      <td>1671</td>\n",
       "      <td>1656.0</td>\n",
       "      <td>NaN</td>\n",
       "    </tr>\n",
       "    <tr>\n",
       "      <th>2013-08-31</th>\n",
       "      <td>8161</td>\n",
       "      <td>6490.0</td>\n",
       "      <td>NaN</td>\n",
       "    </tr>\n",
       "    <tr>\n",
       "      <th>2013-09-30</th>\n",
       "      <td>8008</td>\n",
       "      <td>-153.0</td>\n",
       "      <td>NaN</td>\n",
       "    </tr>\n",
       "    <tr>\n",
       "      <th>2013-10-31</th>\n",
       "      <td>8785</td>\n",
       "      <td>777.0</td>\n",
       "      <td>NaN</td>\n",
       "    </tr>\n",
       "    <tr>\n",
       "      <th>2013-11-30</th>\n",
       "      <td>7983</td>\n",
       "      <td>-802.0</td>\n",
       "      <td>NaN</td>\n",
       "    </tr>\n",
       "    <tr>\n",
       "      <th>2013-12-31</th>\n",
       "      <td>7158</td>\n",
       "      <td>-825.0</td>\n",
       "      <td>NaN</td>\n",
       "    </tr>\n",
       "    <tr>\n",
       "      <th>2014-01-31</th>\n",
       "      <td>6626</td>\n",
       "      <td>-532.0</td>\n",
       "      <td>6612.0</td>\n",
       "    </tr>\n",
       "    <tr>\n",
       "      <th>2014-02-28</th>\n",
       "      <td>5620</td>\n",
       "      <td>-1006.0</td>\n",
       "      <td>5617.0</td>\n",
       "    </tr>\n",
       "    <tr>\n",
       "      <th>2014-03-31</th>\n",
       "      <td>7945</td>\n",
       "      <td>2325.0</td>\n",
       "      <td>7944.0</td>\n",
       "    </tr>\n",
       "    <tr>\n",
       "      <th>2014-04-30</th>\n",
       "      <td>7190</td>\n",
       "      <td>-755.0</td>\n",
       "      <td>7184.0</td>\n",
       "    </tr>\n",
       "    <tr>\n",
       "      <th>2014-05-31</th>\n",
       "      <td>7241</td>\n",
       "      <td>51.0</td>\n",
       "      <td>7239.0</td>\n",
       "    </tr>\n",
       "    <tr>\n",
       "      <th>2014-06-30</th>\n",
       "      <td>5218</td>\n",
       "      <td>-2023.0</td>\n",
       "      <td>5203.0</td>\n",
       "    </tr>\n",
       "    <tr>\n",
       "      <th>2014-07-31</th>\n",
       "      <td>3</td>\n",
       "      <td>-5215.0</td>\n",
       "      <td>-1668.0</td>\n",
       "    </tr>\n",
       "    <tr>\n",
       "      <th>2014-08-31</th>\n",
       "      <td>5</td>\n",
       "      <td>2.0</td>\n",
       "      <td>-8156.0</td>\n",
       "    </tr>\n",
       "  </tbody>\n",
       "</table>\n",
       "</div>"
      ],
      "text/plain": [
       "            Fines  Fines First Difference  Seasonal First Difference\n",
       "Issue Date                                                          \n",
       "2013-01-31     14                     NaN                        NaN\n",
       "2013-02-28      3                   -11.0                        NaN\n",
       "2013-03-31      1                    -2.0                        NaN\n",
       "2013-04-30      6                     5.0                        NaN\n",
       "2013-05-31      2                    -4.0                        NaN\n",
       "2013-06-30     15                    13.0                        NaN\n",
       "2013-07-31   1671                  1656.0                        NaN\n",
       "2013-08-31   8161                  6490.0                        NaN\n",
       "2013-09-30   8008                  -153.0                        NaN\n",
       "2013-10-31   8785                   777.0                        NaN\n",
       "2013-11-30   7983                  -802.0                        NaN\n",
       "2013-12-31   7158                  -825.0                        NaN\n",
       "2014-01-31   6626                  -532.0                     6612.0\n",
       "2014-02-28   5620                 -1006.0                     5617.0\n",
       "2014-03-31   7945                  2325.0                     7944.0\n",
       "2014-04-30   7190                  -755.0                     7184.0\n",
       "2014-05-31   7241                    51.0                     7239.0\n",
       "2014-06-30   5218                 -2023.0                     5203.0\n",
       "2014-07-31      3                 -5215.0                    -1668.0\n",
       "2014-08-31      5                     2.0                    -8156.0"
      ]
     },
     "execution_count": 349,
     "metadata": {},
     "output_type": "execute_result"
    }
   ],
   "source": [
    "finecount_bydate_before2000['TOYOT']['Seasonal First Difference']=finecount_bydate_before2000['TOYOT']['Fines']-finecount_bydate_before2000['TOYOT']['Fines'].shift(12)\n",
    "finecount_bydate_before2000['TOYOT'].head(20)"
   ]
  },
  {
   "cell_type": "code",
   "execution_count": 350,
   "id": "ca847093",
   "metadata": {},
   "outputs": [
    {
     "name": "stdout",
     "output_type": "stream",
     "text": [
      "ADF Test Statistic : -1.0861611085989757\n",
      "p-value : 0.7205590250965523\n",
      "#Lags Used : 1\n",
      "Number of Observations Used : 10\n",
      "weak evidence against null hypothesis, time series has a unit root, indicating it is non-stationary \n"
     ]
    }
   ],
   "source": [
    "adfuller_test(finecount_bydate_before2000['TOYOT']['Seasonal First Difference'].dropna())"
   ]
  },
  {
   "cell_type": "code",
   "execution_count": 351,
   "id": "628a6fd3",
   "metadata": {},
   "outputs": [
    {
     "data": {
      "text/plain": [
       "<AxesSubplot:xlabel='Issue Date'>"
      ]
     },
     "execution_count": 351,
     "metadata": {},
     "output_type": "execute_result"
    },
    {
     "data": {
      "image/png": "[encoded data removed]",
      "text/plain": [
       "<Figure size 432x288 with 1 Axes>"
      ]
     },
     "metadata": {
      "needs_background": "light"
     },
     "output_type": "display_data"
    }
   ],
   "source": [
    "finecount_bydate_before2000['TOYOT']['Seasonal First Difference'].plot()"
   ]
  },
  {
   "cell_type": "markdown",
   "id": "021de61d",
   "metadata": {},
   "source": [
    "###### Hyundai"
   ]
  },
  {
   "cell_type": "code",
   "execution_count": 352,
   "id": "0ae2085e",
   "metadata": {},
   "outputs": [
    {
     "name": "stdout",
     "output_type": "stream",
     "text": [
      "ADF Test Statistic : -5.753771985945948\n",
      "p-value : 5.883926947423704e-07\n",
      "#Lags Used : 5\n",
      "Number of Observations Used : 9\n",
      "strong evidence against the null hypothesis(Ho), reject the null hypothesis. Data has no unit root and is stationary\n"
     ]
    }
   ],
   "source": [
    "adfuller_test(finecount_bydate_before2000['HYUND']['Fines'])"
   ]
  },
  {
   "cell_type": "code",
   "execution_count": 353,
   "id": "1eb24fb8",
   "metadata": {},
   "outputs": [
    {
     "data": {
      "text/html": [
       "<div>\n",
       "<style scoped>\n",
       "    .dataframe tbody tr th:only-of-type {\n",
       "        vertical-align: middle;\n",
       "    }\n",
       "\n",
       "    .dataframe tbody tr th {\n",
       "        vertical-align: top;\n",
       "    }\n",
       "\n",
       "    .dataframe thead th {\n",
       "        text-align: right;\n",
       "    }\n",
       "</style>\n",
       "<table border=\"1\" class=\"dataframe\">\n",
       "  <thead>\n",
       "    <tr style=\"text-align: right;\">\n",
       "      <th></th>\n",
       "      <th>Fines</th>\n",
       "      <th>Fines First Difference</th>\n",
       "    </tr>\n",
       "    <tr>\n",
       "      <th>Issue Date</th>\n",
       "      <th></th>\n",
       "      <th></th>\n",
       "    </tr>\n",
       "  </thead>\n",
       "  <tbody>\n",
       "    <tr>\n",
       "      <th>2013-04-30</th>\n",
       "      <td>1</td>\n",
       "      <td>NaN</td>\n",
       "    </tr>\n",
       "    <tr>\n",
       "      <th>2013-05-31</th>\n",
       "      <td>0</td>\n",
       "      <td>-1.0</td>\n",
       "    </tr>\n",
       "    <tr>\n",
       "      <th>2013-06-30</th>\n",
       "      <td>0</td>\n",
       "      <td>0.0</td>\n",
       "    </tr>\n",
       "    <tr>\n",
       "      <th>2013-07-31</th>\n",
       "      <td>32</td>\n",
       "      <td>32.0</td>\n",
       "    </tr>\n",
       "    <tr>\n",
       "      <th>2013-08-31</th>\n",
       "      <td>164</td>\n",
       "      <td>132.0</td>\n",
       "    </tr>\n",
       "  </tbody>\n",
       "</table>\n",
       "</div>"
      ],
      "text/plain": [
       "            Fines  Fines First Difference\n",
       "Issue Date                               \n",
       "2013-04-30      1                     NaN\n",
       "2013-05-31      0                    -1.0\n",
       "2013-06-30      0                     0.0\n",
       "2013-07-31     32                    32.0\n",
       "2013-08-31    164                   132.0"
      ]
     },
     "execution_count": 353,
     "metadata": {},
     "output_type": "execute_result"
    }
   ],
   "source": [
    "finecount_bydate_before2000['HYUND']['Fines First Difference'] = finecount_bydate_before2000['HYUND']['Fines'] - finecount_bydate_before2000['HYUND']['Fines'].shift(1)\n",
    "finecount_bydate_before2000['HYUND'].head()"
   ]
  },
  {
   "cell_type": "code",
   "execution_count": 354,
   "id": "9b1ef2d4",
   "metadata": {},
   "outputs": [
    {
     "data": {
      "text/html": [
       "<div>\n",
       "<style scoped>\n",
       "    .dataframe tbody tr th:only-of-type {\n",
       "        vertical-align: middle;\n",
       "    }\n",
       "\n",
       "    .dataframe tbody tr th {\n",
       "        vertical-align: top;\n",
       "    }\n",
       "\n",
       "    .dataframe thead th {\n",
       "        text-align: right;\n",
       "    }\n",
       "</style>\n",
       "<table border=\"1\" class=\"dataframe\">\n",
       "  <thead>\n",
       "    <tr style=\"text-align: right;\">\n",
       "      <th></th>\n",
       "      <th>Fines</th>\n",
       "      <th>Fines First Difference</th>\n",
       "      <th>Seasonal First Difference</th>\n",
       "    </tr>\n",
       "    <tr>\n",
       "      <th>Issue Date</th>\n",
       "      <th></th>\n",
       "      <th></th>\n",
       "      <th></th>\n",
       "    </tr>\n",
       "  </thead>\n",
       "  <tbody>\n",
       "    <tr>\n",
       "      <th>2013-04-30</th>\n",
       "      <td>1</td>\n",
       "      <td>NaN</td>\n",
       "      <td>NaN</td>\n",
       "    </tr>\n",
       "    <tr>\n",
       "      <th>2013-05-31</th>\n",
       "      <td>0</td>\n",
       "      <td>-1.0</td>\n",
       "      <td>NaN</td>\n",
       "    </tr>\n",
       "    <tr>\n",
       "      <th>2013-06-30</th>\n",
       "      <td>0</td>\n",
       "      <td>0.0</td>\n",
       "      <td>NaN</td>\n",
       "    </tr>\n",
       "    <tr>\n",
       "      <th>2013-07-31</th>\n",
       "      <td>32</td>\n",
       "      <td>32.0</td>\n",
       "      <td>NaN</td>\n",
       "    </tr>\n",
       "    <tr>\n",
       "      <th>2013-08-31</th>\n",
       "      <td>164</td>\n",
       "      <td>132.0</td>\n",
       "      <td>NaN</td>\n",
       "    </tr>\n",
       "    <tr>\n",
       "      <th>2013-09-30</th>\n",
       "      <td>139</td>\n",
       "      <td>-25.0</td>\n",
       "      <td>NaN</td>\n",
       "    </tr>\n",
       "    <tr>\n",
       "      <th>2013-10-31</th>\n",
       "      <td>166</td>\n",
       "      <td>27.0</td>\n",
       "      <td>NaN</td>\n",
       "    </tr>\n",
       "    <tr>\n",
       "      <th>2013-11-30</th>\n",
       "      <td>157</td>\n",
       "      <td>-9.0</td>\n",
       "      <td>NaN</td>\n",
       "    </tr>\n",
       "    <tr>\n",
       "      <th>2013-12-31</th>\n",
       "      <td>137</td>\n",
       "      <td>-20.0</td>\n",
       "      <td>NaN</td>\n",
       "    </tr>\n",
       "    <tr>\n",
       "      <th>2014-01-31</th>\n",
       "      <td>112</td>\n",
       "      <td>-25.0</td>\n",
       "      <td>NaN</td>\n",
       "    </tr>\n",
       "    <tr>\n",
       "      <th>2014-02-28</th>\n",
       "      <td>94</td>\n",
       "      <td>-18.0</td>\n",
       "      <td>NaN</td>\n",
       "    </tr>\n",
       "    <tr>\n",
       "      <th>2014-03-31</th>\n",
       "      <td>149</td>\n",
       "      <td>55.0</td>\n",
       "      <td>NaN</td>\n",
       "    </tr>\n",
       "    <tr>\n",
       "      <th>2014-04-30</th>\n",
       "      <td>146</td>\n",
       "      <td>-3.0</td>\n",
       "      <td>145.0</td>\n",
       "    </tr>\n",
       "    <tr>\n",
       "      <th>2014-05-31</th>\n",
       "      <td>114</td>\n",
       "      <td>-32.0</td>\n",
       "      <td>114.0</td>\n",
       "    </tr>\n",
       "    <tr>\n",
       "      <th>2014-06-30</th>\n",
       "      <td>116</td>\n",
       "      <td>2.0</td>\n",
       "      <td>116.0</td>\n",
       "    </tr>\n",
       "  </tbody>\n",
       "</table>\n",
       "</div>"
      ],
      "text/plain": [
       "            Fines  Fines First Difference  Seasonal First Difference\n",
       "Issue Date                                                          \n",
       "2013-04-30      1                     NaN                        NaN\n",
       "2013-05-31      0                    -1.0                        NaN\n",
       "2013-06-30      0                     0.0                        NaN\n",
       "2013-07-31     32                    32.0                        NaN\n",
       "2013-08-31    164                   132.0                        NaN\n",
       "2013-09-30    139                   -25.0                        NaN\n",
       "2013-10-31    166                    27.0                        NaN\n",
       "2013-11-30    157                    -9.0                        NaN\n",
       "2013-12-31    137                   -20.0                        NaN\n",
       "2014-01-31    112                   -25.0                        NaN\n",
       "2014-02-28     94                   -18.0                        NaN\n",
       "2014-03-31    149                    55.0                        NaN\n",
       "2014-04-30    146                    -3.0                      145.0\n",
       "2014-05-31    114                   -32.0                      114.0\n",
       "2014-06-30    116                     2.0                      116.0"
      ]
     },
     "execution_count": 354,
     "metadata": {},
     "output_type": "execute_result"
    }
   ],
   "source": [
    "finecount_bydate_before2000['HYUND']['Seasonal First Difference']=finecount_bydate_before2000['HYUND']['Fines']-finecount_bydate_before2000['HYUND']['Fines'].shift(12)\n",
    "finecount_bydate_before2000['HYUND'].head(20)"
   ]
  },
  {
   "cell_type": "code",
   "execution_count": 372,
   "id": "1c1b1ce1",
   "metadata": {},
   "outputs": [
    {
     "name": "stdout",
     "output_type": "stream",
     "text": [
      "ADF Test Statistic : -0.27034286953423037\n",
      "p-value : 0.9296009086542498\n",
      "#Lags Used : 0\n",
      "Number of Observations Used : 10\n",
      "weak evidence against null hypothesis, time series has a unit root, indicating it is non-stationary \n"
     ]
    }
   ],
   "source": [
    "adfuller_test(finecount_bydate_before2000['HYUND']['Seasonal First Difference'].dropna())"
   ]
  },
  {
   "cell_type": "code",
   "execution_count": 374,
   "id": "431d5a88",
   "metadata": {},
   "outputs": [
    {
     "data": {
      "text/plain": [
       "<AxesSubplot:xlabel='Issue Date'>"
      ]
     },
     "execution_count": 374,
     "metadata": {},
     "output_type": "execute_result"
    },
    {
     "data": {
      "image/png": "[encoded data removed]",
      "text/plain": [
       "<Figure size 432x288 with 1 Axes>"
      ]
     },
     "metadata": {
      "needs_background": "light"
     },
     "output_type": "display_data"
    }
   ],
   "source": [
    "finecount_bydate_before2000['HYUND']['Seasonal First Difference'].plot()"
   ]
  },
  {
   "cell_type": "markdown",
   "id": "1a5a5f60",
   "metadata": {},
   "source": [
    "##### После 2000 года"
   ]
  },
  {
   "cell_type": "markdown",
   "id": "a961fb0a",
   "metadata": {},
   "source": [
    "###### Dodge"
   ]
  },
  {
   "cell_type": "code",
   "execution_count": 355,
   "id": "aac3a6b0",
   "metadata": {},
   "outputs": [
    {
     "name": "stdout",
     "output_type": "stream",
     "text": [
      "ADF Test Statistic : -1.8641445916684725\n",
      "p-value : 0.3491119713287373\n",
      "#Lags Used : 9\n",
      "Number of Observations Used : 14\n",
      "weak evidence against null hypothesis, time series has a unit root, indicating it is non-stationary \n"
     ]
    }
   ],
   "source": [
    "adfuller_test(finecount_bydate_after2000['DODGE']['Fines'])"
   ]
  },
  {
   "cell_type": "code",
   "execution_count": 356,
   "id": "aad37860",
   "metadata": {},
   "outputs": [
    {
     "data": {
      "text/html": [
       "<div>\n",
       "<style scoped>\n",
       "    .dataframe tbody tr th:only-of-type {\n",
       "        vertical-align: middle;\n",
       "    }\n",
       "\n",
       "    .dataframe tbody tr th {\n",
       "        vertical-align: top;\n",
       "    }\n",
       "\n",
       "    .dataframe thead th {\n",
       "        text-align: right;\n",
       "    }\n",
       "</style>\n",
       "<table border=\"1\" class=\"dataframe\">\n",
       "  <thead>\n",
       "    <tr style=\"text-align: right;\">\n",
       "      <th></th>\n",
       "      <th>Fines</th>\n",
       "      <th>Fines First Difference</th>\n",
       "    </tr>\n",
       "    <tr>\n",
       "      <th>Issue Date</th>\n",
       "      <th></th>\n",
       "      <th></th>\n",
       "    </tr>\n",
       "  </thead>\n",
       "  <tbody>\n",
       "    <tr>\n",
       "      <th>2013-01-31</th>\n",
       "      <td>35</td>\n",
       "      <td>NaN</td>\n",
       "    </tr>\n",
       "    <tr>\n",
       "      <th>2013-02-28</th>\n",
       "      <td>7</td>\n",
       "      <td>-28.0</td>\n",
       "    </tr>\n",
       "    <tr>\n",
       "      <th>2013-03-31</th>\n",
       "      <td>17</td>\n",
       "      <td>10.0</td>\n",
       "    </tr>\n",
       "    <tr>\n",
       "      <th>2013-04-30</th>\n",
       "      <td>20</td>\n",
       "      <td>3.0</td>\n",
       "    </tr>\n",
       "    <tr>\n",
       "      <th>2013-05-31</th>\n",
       "      <td>4</td>\n",
       "      <td>-16.0</td>\n",
       "    </tr>\n",
       "  </tbody>\n",
       "</table>\n",
       "</div>"
      ],
      "text/plain": [
       "            Fines  Fines First Difference\n",
       "Issue Date                               \n",
       "2013-01-31     35                     NaN\n",
       "2013-02-28      7                   -28.0\n",
       "2013-03-31     17                    10.0\n",
       "2013-04-30     20                     3.0\n",
       "2013-05-31      4                   -16.0"
      ]
     },
     "execution_count": 356,
     "metadata": {},
     "output_type": "execute_result"
    }
   ],
   "source": [
    "finecount_bydate_after2000['DODGE']['Fines First Difference'] = finecount_bydate_after2000['DODGE']['Fines'] - finecount_bydate_after2000['DODGE']['Fines'].shift(1)\n",
    "finecount_bydate_after2000['DODGE'].head()"
   ]
  },
  {
   "cell_type": "code",
   "execution_count": 357,
   "id": "95f7b17b",
   "metadata": {},
   "outputs": [
    {
     "data": {
      "text/html": [
       "<div>\n",
       "<style scoped>\n",
       "    .dataframe tbody tr th:only-of-type {\n",
       "        vertical-align: middle;\n",
       "    }\n",
       "\n",
       "    .dataframe tbody tr th {\n",
       "        vertical-align: top;\n",
       "    }\n",
       "\n",
       "    .dataframe thead th {\n",
       "        text-align: right;\n",
       "    }\n",
       "</style>\n",
       "<table border=\"1\" class=\"dataframe\">\n",
       "  <thead>\n",
       "    <tr style=\"text-align: right;\">\n",
       "      <th></th>\n",
       "      <th>Fines</th>\n",
       "      <th>Fines First Difference</th>\n",
       "      <th>Seasonal First Difference</th>\n",
       "    </tr>\n",
       "    <tr>\n",
       "      <th>Issue Date</th>\n",
       "      <th></th>\n",
       "      <th></th>\n",
       "      <th></th>\n",
       "    </tr>\n",
       "  </thead>\n",
       "  <tbody>\n",
       "    <tr>\n",
       "      <th>2013-01-31</th>\n",
       "      <td>35</td>\n",
       "      <td>NaN</td>\n",
       "      <td>NaN</td>\n",
       "    </tr>\n",
       "    <tr>\n",
       "      <th>2013-02-28</th>\n",
       "      <td>7</td>\n",
       "      <td>-28.0</td>\n",
       "      <td>NaN</td>\n",
       "    </tr>\n",
       "    <tr>\n",
       "      <th>2013-03-31</th>\n",
       "      <td>17</td>\n",
       "      <td>10.0</td>\n",
       "      <td>NaN</td>\n",
       "    </tr>\n",
       "    <tr>\n",
       "      <th>2013-04-30</th>\n",
       "      <td>20</td>\n",
       "      <td>3.0</td>\n",
       "      <td>NaN</td>\n",
       "    </tr>\n",
       "    <tr>\n",
       "      <th>2013-05-31</th>\n",
       "      <td>4</td>\n",
       "      <td>-16.0</td>\n",
       "      <td>NaN</td>\n",
       "    </tr>\n",
       "    <tr>\n",
       "      <th>2013-06-30</th>\n",
       "      <td>68</td>\n",
       "      <td>64.0</td>\n",
       "      <td>NaN</td>\n",
       "    </tr>\n",
       "    <tr>\n",
       "      <th>2013-07-31</th>\n",
       "      <td>3870</td>\n",
       "      <td>3802.0</td>\n",
       "      <td>NaN</td>\n",
       "    </tr>\n",
       "    <tr>\n",
       "      <th>2013-08-31</th>\n",
       "      <td>18332</td>\n",
       "      <td>14462.0</td>\n",
       "      <td>NaN</td>\n",
       "    </tr>\n",
       "    <tr>\n",
       "      <th>2013-09-30</th>\n",
       "      <td>18532</td>\n",
       "      <td>200.0</td>\n",
       "      <td>NaN</td>\n",
       "    </tr>\n",
       "    <tr>\n",
       "      <th>2013-10-31</th>\n",
       "      <td>21389</td>\n",
       "      <td>2857.0</td>\n",
       "      <td>NaN</td>\n",
       "    </tr>\n",
       "    <tr>\n",
       "      <th>2013-11-30</th>\n",
       "      <td>18704</td>\n",
       "      <td>-2685.0</td>\n",
       "      <td>NaN</td>\n",
       "    </tr>\n",
       "    <tr>\n",
       "      <th>2013-12-31</th>\n",
       "      <td>16237</td>\n",
       "      <td>-2467.0</td>\n",
       "      <td>NaN</td>\n",
       "    </tr>\n",
       "    <tr>\n",
       "      <th>2014-01-31</th>\n",
       "      <td>16575</td>\n",
       "      <td>338.0</td>\n",
       "      <td>16540.0</td>\n",
       "    </tr>\n",
       "    <tr>\n",
       "      <th>2014-02-28</th>\n",
       "      <td>15543</td>\n",
       "      <td>-1032.0</td>\n",
       "      <td>15536.0</td>\n",
       "    </tr>\n",
       "    <tr>\n",
       "      <th>2014-03-31</th>\n",
       "      <td>21098</td>\n",
       "      <td>5555.0</td>\n",
       "      <td>21081.0</td>\n",
       "    </tr>\n",
       "    <tr>\n",
       "      <th>2014-04-30</th>\n",
       "      <td>19730</td>\n",
       "      <td>-1368.0</td>\n",
       "      <td>19710.0</td>\n",
       "    </tr>\n",
       "    <tr>\n",
       "      <th>2014-05-31</th>\n",
       "      <td>20048</td>\n",
       "      <td>318.0</td>\n",
       "      <td>20044.0</td>\n",
       "    </tr>\n",
       "    <tr>\n",
       "      <th>2014-06-30</th>\n",
       "      <td>15600</td>\n",
       "      <td>-4448.0</td>\n",
       "      <td>15532.0</td>\n",
       "    </tr>\n",
       "    <tr>\n",
       "      <th>2014-07-31</th>\n",
       "      <td>1</td>\n",
       "      <td>-15599.0</td>\n",
       "      <td>-3869.0</td>\n",
       "    </tr>\n",
       "    <tr>\n",
       "      <th>2014-08-31</th>\n",
       "      <td>10</td>\n",
       "      <td>9.0</td>\n",
       "      <td>-18322.0</td>\n",
       "    </tr>\n",
       "  </tbody>\n",
       "</table>\n",
       "</div>"
      ],
      "text/plain": [
       "            Fines  Fines First Difference  Seasonal First Difference\n",
       "Issue Date                                                          \n",
       "2013-01-31     35                     NaN                        NaN\n",
       "2013-02-28      7                   -28.0                        NaN\n",
       "2013-03-31     17                    10.0                        NaN\n",
       "2013-04-30     20                     3.0                        NaN\n",
       "2013-05-31      4                   -16.0                        NaN\n",
       "2013-06-30     68                    64.0                        NaN\n",
       "2013-07-31   3870                  3802.0                        NaN\n",
       "2013-08-31  18332                 14462.0                        NaN\n",
       "2013-09-30  18532                   200.0                        NaN\n",
       "2013-10-31  21389                  2857.0                        NaN\n",
       "2013-11-30  18704                 -2685.0                        NaN\n",
       "2013-12-31  16237                 -2467.0                        NaN\n",
       "2014-01-31  16575                   338.0                    16540.0\n",
       "2014-02-28  15543                 -1032.0                    15536.0\n",
       "2014-03-31  21098                  5555.0                    21081.0\n",
       "2014-04-30  19730                 -1368.0                    19710.0\n",
       "2014-05-31  20048                   318.0                    20044.0\n",
       "2014-06-30  15600                 -4448.0                    15532.0\n",
       "2014-07-31      1                -15599.0                    -3869.0\n",
       "2014-08-31     10                     9.0                   -18322.0"
      ]
     },
     "execution_count": 357,
     "metadata": {},
     "output_type": "execute_result"
    }
   ],
   "source": [
    "finecount_bydate_after2000['DODGE']['Seasonal First Difference']=finecount_bydate_after2000['DODGE']['Fines']-finecount_bydate_after2000['DODGE']['Fines'].shift(12)\n",
    "finecount_bydate_after2000['DODGE'].head(20)"
   ]
  },
  {
   "cell_type": "code",
   "execution_count": 358,
   "id": "035a822d",
   "metadata": {},
   "outputs": [
    {
     "name": "stdout",
     "output_type": "stream",
     "text": [
      "ADF Test Statistic : 1.5306505847660705\n",
      "p-value : 0.9976338603941726\n",
      "#Lags Used : 4\n",
      "Number of Observations Used : 7\n",
      "weak evidence against null hypothesis, time series has a unit root, indicating it is non-stationary \n"
     ]
    }
   ],
   "source": [
    "adfuller_test(finecount_bydate_after2000['DODGE']['Seasonal First Difference'].dropna())"
   ]
  },
  {
   "cell_type": "code",
   "execution_count": 359,
   "id": "04f9adac",
   "metadata": {
    "scrolled": true
   },
   "outputs": [
    {
     "data": {
      "text/plain": [
       "<AxesSubplot:xlabel='Issue Date'>"
      ]
     },
     "execution_count": 359,
     "metadata": {},
     "output_type": "execute_result"
    },
    {
     "data": {
      "image/png": "[encoded data removed]",
      "text/plain": [
       "<Figure size 432x288 with 1 Axes>"
      ]
     },
     "metadata": {
      "needs_background": "light"
     },
     "output_type": "display_data"
    }
   ],
   "source": [
    "finecount_bydate_after2000['DODGE']['Seasonal First Difference'].plot()"
   ]
  },
  {
   "cell_type": "markdown",
   "id": "5c2fc965",
   "metadata": {},
   "source": [
    "###### Toyota"
   ]
  },
  {
   "cell_type": "code",
   "execution_count": 360,
   "id": "0193fe3e",
   "metadata": {},
   "outputs": [
    {
     "name": "stdout",
     "output_type": "stream",
     "text": [
      "ADF Test Statistic : -1.8282968842937473\n",
      "p-value : 0.36650630253396327\n",
      "#Lags Used : 9\n",
      "Number of Observations Used : 14\n",
      "weak evidence against null hypothesis, time series has a unit root, indicating it is non-stationary \n"
     ]
    }
   ],
   "source": [
    "adfuller_test(finecount_bydate_after2000['TOYOT']['Fines'])"
   ]
  },
  {
   "cell_type": "code",
   "execution_count": 361,
   "id": "65b55764",
   "metadata": {},
   "outputs": [
    {
     "data": {
      "text/html": [
       "<div>\n",
       "<style scoped>\n",
       "    .dataframe tbody tr th:only-of-type {\n",
       "        vertical-align: middle;\n",
       "    }\n",
       "\n",
       "    .dataframe tbody tr th {\n",
       "        vertical-align: top;\n",
       "    }\n",
       "\n",
       "    .dataframe thead th {\n",
       "        text-align: right;\n",
       "    }\n",
       "</style>\n",
       "<table border=\"1\" class=\"dataframe\">\n",
       "  <thead>\n",
       "    <tr style=\"text-align: right;\">\n",
       "      <th></th>\n",
       "      <th>Fines</th>\n",
       "      <th>Fines First Difference</th>\n",
       "    </tr>\n",
       "    <tr>\n",
       "      <th>Issue Date</th>\n",
       "      <th></th>\n",
       "      <th></th>\n",
       "    </tr>\n",
       "  </thead>\n",
       "  <tbody>\n",
       "    <tr>\n",
       "      <th>2013-01-31</th>\n",
       "      <td>71</td>\n",
       "      <td>NaN</td>\n",
       "    </tr>\n",
       "    <tr>\n",
       "      <th>2013-02-28</th>\n",
       "      <td>19</td>\n",
       "      <td>-52.0</td>\n",
       "    </tr>\n",
       "    <tr>\n",
       "      <th>2013-03-31</th>\n",
       "      <td>23</td>\n",
       "      <td>4.0</td>\n",
       "    </tr>\n",
       "    <tr>\n",
       "      <th>2013-04-30</th>\n",
       "      <td>33</td>\n",
       "      <td>10.0</td>\n",
       "    </tr>\n",
       "    <tr>\n",
       "      <th>2013-05-31</th>\n",
       "      <td>11</td>\n",
       "      <td>-22.0</td>\n",
       "    </tr>\n",
       "  </tbody>\n",
       "</table>\n",
       "</div>"
      ],
      "text/plain": [
       "            Fines  Fines First Difference\n",
       "Issue Date                               \n",
       "2013-01-31     71                     NaN\n",
       "2013-02-28     19                   -52.0\n",
       "2013-03-31     23                     4.0\n",
       "2013-04-30     33                    10.0\n",
       "2013-05-31     11                   -22.0"
      ]
     },
     "execution_count": 361,
     "metadata": {},
     "output_type": "execute_result"
    }
   ],
   "source": [
    "finecount_bydate_after2000['TOYOT']['Fines First Difference'] = finecount_bydate_after2000['TOYOT']['Fines'] - finecount_bydate_after2000['TOYOT']['Fines'].shift(1)\n",
    "finecount_bydate_after2000['TOYOT'].head()"
   ]
  },
  {
   "cell_type": "code",
   "execution_count": 371,
   "id": "7bae6a22",
   "metadata": {},
   "outputs": [
    {
     "data": {
      "text/html": [
       "<div>\n",
       "<style scoped>\n",
       "    .dataframe tbody tr th:only-of-type {\n",
       "        vertical-align: middle;\n",
       "    }\n",
       "\n",
       "    .dataframe tbody tr th {\n",
       "        vertical-align: top;\n",
       "    }\n",
       "\n",
       "    .dataframe thead th {\n",
       "        text-align: right;\n",
       "    }\n",
       "</style>\n",
       "<table border=\"1\" class=\"dataframe\">\n",
       "  <thead>\n",
       "    <tr style=\"text-align: right;\">\n",
       "      <th></th>\n",
       "      <th>Fines</th>\n",
       "      <th>Fines First Difference</th>\n",
       "      <th>Seasonal First Difference</th>\n",
       "    </tr>\n",
       "    <tr>\n",
       "      <th>Issue Date</th>\n",
       "      <th></th>\n",
       "      <th></th>\n",
       "      <th></th>\n",
       "    </tr>\n",
       "  </thead>\n",
       "  <tbody>\n",
       "    <tr>\n",
       "      <th>2013-01-31</th>\n",
       "      <td>71</td>\n",
       "      <td>NaN</td>\n",
       "      <td>NaN</td>\n",
       "    </tr>\n",
       "    <tr>\n",
       "      <th>2013-02-28</th>\n",
       "      <td>19</td>\n",
       "      <td>-52.0</td>\n",
       "      <td>NaN</td>\n",
       "    </tr>\n",
       "    <tr>\n",
       "      <th>2013-03-31</th>\n",
       "      <td>23</td>\n",
       "      <td>4.0</td>\n",
       "      <td>NaN</td>\n",
       "    </tr>\n",
       "    <tr>\n",
       "      <th>2013-04-30</th>\n",
       "      <td>33</td>\n",
       "      <td>10.0</td>\n",
       "      <td>NaN</td>\n",
       "    </tr>\n",
       "    <tr>\n",
       "      <th>2013-05-31</th>\n",
       "      <td>11</td>\n",
       "      <td>-22.0</td>\n",
       "      <td>NaN</td>\n",
       "    </tr>\n",
       "    <tr>\n",
       "      <th>2013-06-30</th>\n",
       "      <td>188</td>\n",
       "      <td>177.0</td>\n",
       "      <td>NaN</td>\n",
       "    </tr>\n",
       "    <tr>\n",
       "      <th>2013-07-31</th>\n",
       "      <td>11442</td>\n",
       "      <td>11254.0</td>\n",
       "      <td>NaN</td>\n",
       "    </tr>\n",
       "    <tr>\n",
       "      <th>2013-08-31</th>\n",
       "      <td>54748</td>\n",
       "      <td>43306.0</td>\n",
       "      <td>NaN</td>\n",
       "    </tr>\n",
       "    <tr>\n",
       "      <th>2013-09-30</th>\n",
       "      <td>52830</td>\n",
       "      <td>-1918.0</td>\n",
       "      <td>NaN</td>\n",
       "    </tr>\n",
       "    <tr>\n",
       "      <th>2013-10-31</th>\n",
       "      <td>62742</td>\n",
       "      <td>9912.0</td>\n",
       "      <td>NaN</td>\n",
       "    </tr>\n",
       "    <tr>\n",
       "      <th>2013-11-30</th>\n",
       "      <td>56760</td>\n",
       "      <td>-5982.0</td>\n",
       "      <td>NaN</td>\n",
       "    </tr>\n",
       "    <tr>\n",
       "      <th>2013-12-31</th>\n",
       "      <td>50627</td>\n",
       "      <td>-6133.0</td>\n",
       "      <td>NaN</td>\n",
       "    </tr>\n",
       "    <tr>\n",
       "      <th>2014-01-31</th>\n",
       "      <td>49612</td>\n",
       "      <td>-1015.0</td>\n",
       "      <td>49541.0</td>\n",
       "    </tr>\n",
       "    <tr>\n",
       "      <th>2014-02-28</th>\n",
       "      <td>44566</td>\n",
       "      <td>-5046.0</td>\n",
       "      <td>44547.0</td>\n",
       "    </tr>\n",
       "    <tr>\n",
       "      <th>2014-03-31</th>\n",
       "      <td>62144</td>\n",
       "      <td>17578.0</td>\n",
       "      <td>62121.0</td>\n",
       "    </tr>\n",
       "    <tr>\n",
       "      <th>2014-04-30</th>\n",
       "      <td>54963</td>\n",
       "      <td>-7181.0</td>\n",
       "      <td>54930.0</td>\n",
       "    </tr>\n",
       "    <tr>\n",
       "      <th>2014-05-31</th>\n",
       "      <td>59786</td>\n",
       "      <td>4823.0</td>\n",
       "      <td>59775.0</td>\n",
       "    </tr>\n",
       "    <tr>\n",
       "      <th>2014-06-30</th>\n",
       "      <td>45209</td>\n",
       "      <td>-14577.0</td>\n",
       "      <td>45021.0</td>\n",
       "    </tr>\n",
       "    <tr>\n",
       "      <th>2014-07-31</th>\n",
       "      <td>9</td>\n",
       "      <td>-45200.0</td>\n",
       "      <td>-11433.0</td>\n",
       "    </tr>\n",
       "    <tr>\n",
       "      <th>2014-08-31</th>\n",
       "      <td>13</td>\n",
       "      <td>4.0</td>\n",
       "      <td>-54735.0</td>\n",
       "    </tr>\n",
       "  </tbody>\n",
       "</table>\n",
       "</div>"
      ],
      "text/plain": [
       "            Fines  Fines First Difference  Seasonal First Difference\n",
       "Issue Date                                                          \n",
       "2013-01-31     71                     NaN                        NaN\n",
       "2013-02-28     19                   -52.0                        NaN\n",
       "2013-03-31     23                     4.0                        NaN\n",
       "2013-04-30     33                    10.0                        NaN\n",
       "2013-05-31     11                   -22.0                        NaN\n",
       "2013-06-30    188                   177.0                        NaN\n",
       "2013-07-31  11442                 11254.0                        NaN\n",
       "2013-08-31  54748                 43306.0                        NaN\n",
       "2013-09-30  52830                 -1918.0                        NaN\n",
       "2013-10-31  62742                  9912.0                        NaN\n",
       "2013-11-30  56760                 -5982.0                        NaN\n",
       "2013-12-31  50627                 -6133.0                        NaN\n",
       "2014-01-31  49612                 -1015.0                    49541.0\n",
       "2014-02-28  44566                 -5046.0                    44547.0\n",
       "2014-03-31  62144                 17578.0                    62121.0\n",
       "2014-04-30  54963                 -7181.0                    54930.0\n",
       "2014-05-31  59786                  4823.0                    59775.0\n",
       "2014-06-30  45209                -14577.0                    45021.0\n",
       "2014-07-31      9                -45200.0                   -11433.0\n",
       "2014-08-31     13                     4.0                   -54735.0"
      ]
     },
     "execution_count": 371,
     "metadata": {},
     "output_type": "execute_result"
    }
   ],
   "source": [
    "finecount_bydate_after2000['TOYOT']['Seasonal First Difference']=finecount_bydate_after2000['TOYOT']['Fines']-finecount_bydate_after2000['TOYOT']['Fines'].shift(12)\n",
    "finecount_bydate_after2000['TOYOT'].head(20)"
   ]
  },
  {
   "cell_type": "code",
   "execution_count": 363,
   "id": "9b18a939",
   "metadata": {},
   "outputs": [
    {
     "name": "stdout",
     "output_type": "stream",
     "text": [
      "ADF Test Statistic : 0.08316228626064116\n",
      "p-value : 0.9648925242036938\n",
      "#Lags Used : 4\n",
      "Number of Observations Used : 7\n",
      "weak evidence against null hypothesis, time series has a unit root, indicating it is non-stationary \n"
     ]
    }
   ],
   "source": [
    "adfuller_test(finecount_bydate_after2000['TOYOT']['Seasonal First Difference'].dropna())"
   ]
  },
  {
   "cell_type": "code",
   "execution_count": 364,
   "id": "c6f49f0b",
   "metadata": {},
   "outputs": [
    {
     "data": {
      "text/plain": [
       "<AxesSubplot:xlabel='Issue Date'>"
      ]
     },
     "execution_count": 364,
     "metadata": {},
     "output_type": "execute_result"
    },
    {
     "data": {
      "image/png": "[encoded data removed]",
      "text/plain": [
       "<Figure size 432x288 with 1 Axes>"
      ]
     },
     "metadata": {
      "needs_background": "light"
     },
     "output_type": "display_data"
    }
   ],
   "source": [
    "finecount_bydate_after2000['TOYOT']['Seasonal First Difference'].plot()"
   ]
  },
  {
   "cell_type": "markdown",
   "id": "948defc5",
   "metadata": {},
   "source": [
    "###### Hyundai"
   ]
  },
  {
   "cell_type": "code",
   "execution_count": 365,
   "id": "583d1cca",
   "metadata": {},
   "outputs": [
    {
     "name": "stdout",
     "output_type": "stream",
     "text": [
      "ADF Test Statistic : -1.4248557874650958\n",
      "p-value : 0.5703036518286068\n",
      "#Lags Used : 9\n",
      "Number of Observations Used : 13\n",
      "weak evidence against null hypothesis, time series has a unit root, indicating it is non-stationary \n"
     ]
    }
   ],
   "source": [
    "adfuller_test(finecount_bydate_after2000['HYUND']['Fines'])"
   ]
  },
  {
   "cell_type": "code",
   "execution_count": 366,
   "id": "6e30280f",
   "metadata": {},
   "outputs": [
    {
     "data": {
      "text/html": [
       "<div>\n",
       "<style scoped>\n",
       "    .dataframe tbody tr th:only-of-type {\n",
       "        vertical-align: middle;\n",
       "    }\n",
       "\n",
       "    .dataframe tbody tr th {\n",
       "        vertical-align: top;\n",
       "    }\n",
       "\n",
       "    .dataframe thead th {\n",
       "        text-align: right;\n",
       "    }\n",
       "</style>\n",
       "<table border=\"1\" class=\"dataframe\">\n",
       "  <thead>\n",
       "    <tr style=\"text-align: right;\">\n",
       "      <th></th>\n",
       "      <th>Fines</th>\n",
       "      <th>Fines First Difference</th>\n",
       "    </tr>\n",
       "    <tr>\n",
       "      <th>Issue Date</th>\n",
       "      <th></th>\n",
       "      <th></th>\n",
       "    </tr>\n",
       "  </thead>\n",
       "  <tbody>\n",
       "    <tr>\n",
       "      <th>2013-01-31</th>\n",
       "      <td>22</td>\n",
       "      <td>NaN</td>\n",
       "    </tr>\n",
       "    <tr>\n",
       "      <th>2013-02-28</th>\n",
       "      <td>0</td>\n",
       "      <td>-22.0</td>\n",
       "    </tr>\n",
       "    <tr>\n",
       "      <th>2013-03-31</th>\n",
       "      <td>10</td>\n",
       "      <td>10.0</td>\n",
       "    </tr>\n",
       "    <tr>\n",
       "      <th>2013-04-30</th>\n",
       "      <td>16</td>\n",
       "      <td>6.0</td>\n",
       "    </tr>\n",
       "    <tr>\n",
       "      <th>2013-05-31</th>\n",
       "      <td>6</td>\n",
       "      <td>-10.0</td>\n",
       "    </tr>\n",
       "  </tbody>\n",
       "</table>\n",
       "</div>"
      ],
      "text/plain": [
       "            Fines  Fines First Difference\n",
       "Issue Date                               \n",
       "2013-01-31     22                     NaN\n",
       "2013-02-28      0                   -22.0\n",
       "2013-03-31     10                    10.0\n",
       "2013-04-30     16                     6.0\n",
       "2013-05-31      6                   -10.0"
      ]
     },
     "execution_count": 366,
     "metadata": {},
     "output_type": "execute_result"
    }
   ],
   "source": [
    "finecount_bydate_after2000['HYUND']['Fines First Difference'] = finecount_bydate_after2000['HYUND']['Fines'] - finecount_bydate_after2000['HYUND']['Fines'].shift(1)\n",
    "finecount_bydate_after2000['HYUND'].head()"
   ]
  },
  {
   "cell_type": "code",
   "execution_count": 367,
   "id": "9c98db22",
   "metadata": {},
   "outputs": [
    {
     "data": {
      "text/html": [
       "<div>\n",
       "<style scoped>\n",
       "    .dataframe tbody tr th:only-of-type {\n",
       "        vertical-align: middle;\n",
       "    }\n",
       "\n",
       "    .dataframe tbody tr th {\n",
       "        vertical-align: top;\n",
       "    }\n",
       "\n",
       "    .dataframe thead th {\n",
       "        text-align: right;\n",
       "    }\n",
       "</style>\n",
       "<table border=\"1\" class=\"dataframe\">\n",
       "  <thead>\n",
       "    <tr style=\"text-align: right;\">\n",
       "      <th></th>\n",
       "      <th>Fines</th>\n",
       "      <th>Fines First Difference</th>\n",
       "      <th>Seasonal First Difference</th>\n",
       "    </tr>\n",
       "    <tr>\n",
       "      <th>Issue Date</th>\n",
       "      <th></th>\n",
       "      <th></th>\n",
       "      <th></th>\n",
       "    </tr>\n",
       "  </thead>\n",
       "  <tbody>\n",
       "    <tr>\n",
       "      <th>2013-01-31</th>\n",
       "      <td>22</td>\n",
       "      <td>NaN</td>\n",
       "      <td>NaN</td>\n",
       "    </tr>\n",
       "    <tr>\n",
       "      <th>2013-02-28</th>\n",
       "      <td>0</td>\n",
       "      <td>-22.0</td>\n",
       "      <td>NaN</td>\n",
       "    </tr>\n",
       "    <tr>\n",
       "      <th>2013-03-31</th>\n",
       "      <td>10</td>\n",
       "      <td>10.0</td>\n",
       "      <td>NaN</td>\n",
       "    </tr>\n",
       "    <tr>\n",
       "      <th>2013-04-30</th>\n",
       "      <td>16</td>\n",
       "      <td>6.0</td>\n",
       "      <td>NaN</td>\n",
       "    </tr>\n",
       "    <tr>\n",
       "      <th>2013-05-31</th>\n",
       "      <td>6</td>\n",
       "      <td>-10.0</td>\n",
       "      <td>NaN</td>\n",
       "    </tr>\n",
       "    <tr>\n",
       "      <th>2013-06-30</th>\n",
       "      <td>35</td>\n",
       "      <td>29.0</td>\n",
       "      <td>NaN</td>\n",
       "    </tr>\n",
       "    <tr>\n",
       "      <th>2013-07-31</th>\n",
       "      <td>2903</td>\n",
       "      <td>2868.0</td>\n",
       "      <td>NaN</td>\n",
       "    </tr>\n",
       "    <tr>\n",
       "      <th>2013-08-31</th>\n",
       "      <td>13331</td>\n",
       "      <td>10428.0</td>\n",
       "      <td>NaN</td>\n",
       "    </tr>\n",
       "    <tr>\n",
       "      <th>2013-09-30</th>\n",
       "      <td>12944</td>\n",
       "      <td>-387.0</td>\n",
       "      <td>NaN</td>\n",
       "    </tr>\n",
       "    <tr>\n",
       "      <th>2013-10-31</th>\n",
       "      <td>14906</td>\n",
       "      <td>1962.0</td>\n",
       "      <td>NaN</td>\n",
       "    </tr>\n",
       "    <tr>\n",
       "      <th>2013-11-30</th>\n",
       "      <td>13936</td>\n",
       "      <td>-970.0</td>\n",
       "      <td>NaN</td>\n",
       "    </tr>\n",
       "    <tr>\n",
       "      <th>2013-12-31</th>\n",
       "      <td>12139</td>\n",
       "      <td>-1797.0</td>\n",
       "      <td>NaN</td>\n",
       "    </tr>\n",
       "    <tr>\n",
       "      <th>2014-01-31</th>\n",
       "      <td>11645</td>\n",
       "      <td>-494.0</td>\n",
       "      <td>11623.0</td>\n",
       "    </tr>\n",
       "    <tr>\n",
       "      <th>2014-02-28</th>\n",
       "      <td>10484</td>\n",
       "      <td>-1161.0</td>\n",
       "      <td>10484.0</td>\n",
       "    </tr>\n",
       "    <tr>\n",
       "      <th>2014-03-31</th>\n",
       "      <td>15302</td>\n",
       "      <td>4818.0</td>\n",
       "      <td>15292.0</td>\n",
       "    </tr>\n",
       "    <tr>\n",
       "      <th>2014-04-30</th>\n",
       "      <td>14061</td>\n",
       "      <td>-1241.0</td>\n",
       "      <td>14045.0</td>\n",
       "    </tr>\n",
       "    <tr>\n",
       "      <th>2014-05-31</th>\n",
       "      <td>14824</td>\n",
       "      <td>763.0</td>\n",
       "      <td>14818.0</td>\n",
       "    </tr>\n",
       "    <tr>\n",
       "      <th>2014-06-30</th>\n",
       "      <td>11402</td>\n",
       "      <td>-3422.0</td>\n",
       "      <td>11367.0</td>\n",
       "    </tr>\n",
       "    <tr>\n",
       "      <th>2014-07-31</th>\n",
       "      <td>2</td>\n",
       "      <td>-11400.0</td>\n",
       "      <td>-2901.0</td>\n",
       "    </tr>\n",
       "    <tr>\n",
       "      <th>2014-08-31</th>\n",
       "      <td>6</td>\n",
       "      <td>4.0</td>\n",
       "      <td>-13325.0</td>\n",
       "    </tr>\n",
       "  </tbody>\n",
       "</table>\n",
       "</div>"
      ],
      "text/plain": [
       "            Fines  Fines First Difference  Seasonal First Difference\n",
       "Issue Date                                                          \n",
       "2013-01-31     22                     NaN                        NaN\n",
       "2013-02-28      0                   -22.0                        NaN\n",
       "2013-03-31     10                    10.0                        NaN\n",
       "2013-04-30     16                     6.0                        NaN\n",
       "2013-05-31      6                   -10.0                        NaN\n",
       "2013-06-30     35                    29.0                        NaN\n",
       "2013-07-31   2903                  2868.0                        NaN\n",
       "2013-08-31  13331                 10428.0                        NaN\n",
       "2013-09-30  12944                  -387.0                        NaN\n",
       "2013-10-31  14906                  1962.0                        NaN\n",
       "2013-11-30  13936                  -970.0                        NaN\n",
       "2013-12-31  12139                 -1797.0                        NaN\n",
       "2014-01-31  11645                  -494.0                    11623.0\n",
       "2014-02-28  10484                 -1161.0                    10484.0\n",
       "2014-03-31  15302                  4818.0                    15292.0\n",
       "2014-04-30  14061                 -1241.0                    14045.0\n",
       "2014-05-31  14824                   763.0                    14818.0\n",
       "2014-06-30  11402                 -3422.0                    11367.0\n",
       "2014-07-31      2                -11400.0                    -2901.0\n",
       "2014-08-31      6                     4.0                   -13325.0"
      ]
     },
     "execution_count": 367,
     "metadata": {},
     "output_type": "execute_result"
    }
   ],
   "source": [
    "finecount_bydate_after2000['HYUND']['Seasonal First Difference']=finecount_bydate_after2000['HYUND']['Fines']-finecount_bydate_after2000['HYUND']['Fines'].shift(12)\n",
    "finecount_bydate_after2000['HYUND'].head(20)"
   ]
  },
  {
   "cell_type": "code",
   "execution_count": 368,
   "id": "1526310a",
   "metadata": {},
   "outputs": [
    {
     "name": "stdout",
     "output_type": "stream",
     "text": [
      "ADF Test Statistic : -0.27034286953423037\n",
      "p-value : 0.9296009086542498\n",
      "#Lags Used : 0\n",
      "Number of Observations Used : 10\n",
      "weak evidence against null hypothesis, time series has a unit root, indicating it is non-stationary \n"
     ]
    }
   ],
   "source": [
    "adfuller_test(finecount_bydate_after2000['HYUND']['Seasonal First Difference'].dropna())"
   ]
  },
  {
   "cell_type": "code",
   "execution_count": 369,
   "id": "895b49a3",
   "metadata": {
    "scrolled": false
   },
   "outputs": [
    {
     "data": {
      "text/plain": [
       "<AxesSubplot:xlabel='Issue Date'>"
      ]
     },
     "execution_count": 369,
     "metadata": {},
     "output_type": "execute_result"
    },
    {
     "data": {
      "image/png": "[encoded data removed]",
      "text/plain": [
       "<Figure size 432x288 with 1 Axes>"
      ]
     },
     "metadata": {
      "needs_background": "light"
     },
     "output_type": "display_data"
    }
   ],
   "source": [
    "finecount_bydate_after2000['HYUND']['Seasonal First Difference'].plot()"
   ]
  },
  {
   "cell_type": "markdown",
   "id": "36c8ea03",
   "metadata": {},
   "source": [
    "Как видно выше, большинство машин получают примерно одинаковое количество штрафов, независимо от марки и года выпуска. При этом большая часть приведенных выше марок получали меньше штрафов в период с 2014-02 по 2014-07 (январь - июль) по сравнении за предыдущий год. В период с 2014-07 по 2014-09 количество штрафов было практически таким же как и год назад. В остально период, у таких марок как Dodge (До 2000 года) и Toyota (До 2000 года) количество штрафов увеличилось, но не сильно по сравнению с предыдущим годом, у Dodge(После 2000 года) и Hyundai (После 2000 года) количество штрафов увеличилось сильнее по сравнению с предыдущим годом, а у Toyota (После 2000 года) и штрафов прибавилось аж на 60000 по сравнении с предыдущем годом. У Hyundai (До 2000 года) количество штрафов уменьшалось на протяжении всего времени в соответствии с полученными данными."
   ]
  },
  {
   "cell_type": "code",
   "execution_count": null,
   "id": "c0166d57",
   "metadata": {},
   "outputs": [],
   "source": []
  }
 ],
 "metadata": {
  "kernelspec": {
   "display_name": "Python 3 (ipykernel)",
   "language": "python",
   "name": "python3"
  },
  "language_info": {
   "codemirror_mode": {
    "name": "ipython",
    "version": 3
   },
   "file_extension": ".py",
   "mimetype": "text/x-python",
   "name": "python",
   "nbconvert_exporter": "python",
   "pygments_lexer": "ipython3",
   "version": "3.10.4"
  }
 },
 "nbformat": 4,
 "nbformat_minor": 5
}
